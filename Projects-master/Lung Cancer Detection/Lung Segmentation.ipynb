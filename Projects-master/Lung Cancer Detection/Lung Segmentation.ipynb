{
 "cells": [
  {
   "cell_type": "code",
   "execution_count": null,
   "metadata": {},
   "outputs": [],
   "source": [
    "def lung_segmentation_opencv(patient):\n",
    "    segmented = []\n",
    "    for each_slice in patient:\n",
    "        img = each_slice.copy()\n",
    "        \n",
    "        img[img>-300] = 255\n",
    "        img[img<-300] = 0\n",
    "        img = np.uint8(img)\n",
    "\n",
    "        # find surrounding torso from the threshold and make a mask\n",
    "        im2, contours, _ = cv2.findContours(img,cv2.RETR_LIST,cv2.CHAIN_APPROX_SIMPLE)\n",
    "        largest_contour = max(contours, key=cv2.contourArea)\n",
    "        mask = np.zeros(img.shape, np.uint8)\n",
    "        cv2.fillPoly(mask, [largest_contour], 255)\n",
    "\n",
    "        # apply mask to threshold image to remove outside. this is our new mask\n",
    "        img = ~img\n",
    "        img[(mask == 0)] = 0 # <-- Larger than threshold value\n",
    "\n",
    "        # apply closing to the mask\n",
    "        kernel = cv2.getStructuringElement(cv2.MORPH_ELLIPSE,( 7,7))\n",
    "        img = cv2.morphologyEx(img, cv2.MORPH_OPEN, kernel)  # <- to remove speckles...\n",
    "        img = cv2.morphologyEx(img, cv2.MORPH_DILATE, kernel)\n",
    "        img = cv2.morphologyEx(img, cv2.MORPH_DILATE, kernel)\n",
    "        img = cv2.morphologyEx(img, cv2.MORPH_CLOSE, kernel)\n",
    "        img = cv2.morphologyEx(img, cv2.MORPH_CLOSE, kernel)\n",
    "        img = cv2.morphologyEx(img, cv2.MORPH_ERODE, kernel)\n",
    "        img = cv2.morphologyEx(img, cv2.MORPH_ERODE, kernel)\n",
    "\n",
    "        # apply mask to image\n",
    "        img2 = each_slice.copy()\n",
    "        img2[(img == 0)] = -2000 # <-- Larger than threshold value\n",
    "        segmented.append(img2)\n",
    "    return np.array(segmented)"
   ]
  }
 ],
 "metadata": {
  "kernelspec": {
   "display_name": "Python 3",
   "language": "python",
   "name": "python3"
  },
  "language_info": {
   "codemirror_mode": {
    "name": "ipython",
    "version": 3
   },
   "file_extension": ".py",
   "mimetype": "text/x-python",
   "name": "python",
   "nbconvert_exporter": "python",
   "pygments_lexer": "ipython3",
   "version": "3.5.2"
  }
 },
 "nbformat": 4,
 "nbformat_minor": 2
}

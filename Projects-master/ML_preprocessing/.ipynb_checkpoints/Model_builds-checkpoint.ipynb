{
 "cells": [
  {
   "cell_type": "code",
   "execution_count": 1,
   "metadata": {},
   "outputs": [],
   "source": [
    "###Import Necessary libraries \n",
    "\n",
    "\n"
   ]
  },
  {
   "cell_type": "code",
   "execution_count": 3,
   "metadata": {},
   "outputs": [],
   "source": [
    "\n",
    "# models = [\n",
    "#     RandomForestClassifier(n_estimators=100, max_depth=10, random_state=0),\n",
    "#     LinearSVC(),\n",
    "#     MultinomialNB(),\n",
    "#     LogisticRegression(random_state=0),\n",
    "# ]\n",
    "\n",
    "# # 10 Cross-validation\n",
    "# CV = 10\n",
    "# cv_df = pd.DataFrame(index=range(CV * len(models)))\n",
    "\n",
    "# entries = []\n",
    "# for model in models:\n",
    "#     model_name = model.__class__.__name__\n",
    "#     accuracies = cross_val_score(model, features, labels, scoring='accuracy', cv=CV)\n",
    "#     for fold_idx, accuracy in enumerate(accuracies):\n",
    "#         entries.append((model_name, fold_idx, accuracy))\n",
    "    \n",
    "# cv_df = pd.DataFrame(entries, columns=['model_name', 'fold_idx', 'accuracy'])\n",
    "\n",
    "# mean_accuracy = cv_df.groupby('model_name').accuracy.mean()\n",
    "# std_accuracy = cv_df.groupby('model_name').accuracy.std()\n",
    "\n",
    "# acc = pd.concat([mean_accuracy, std_accuracy], axis= 1, \n",
    "#           ignore_index=True)\n",
    "# acc.columns = ['Mean Accuracy', 'Standard deviation']\n",
    "# acc"
   ]
  },
  {
   "cell_type": "code",
   "execution_count": null,
   "metadata": {},
   "outputs": [],
   "source": []
  }
 ],
 "metadata": {
  "kernelspec": {
   "display_name": "Python 3",
   "language": "python",
   "name": "python3"
  },
  "language_info": {
   "codemirror_mode": {
    "name": "ipython",
    "version": 3
   },
   "file_extension": ".py",
   "mimetype": "text/x-python",
   "name": "python",
   "nbconvert_exporter": "python",
   "pygments_lexer": "ipython3",
   "version": "3.8.5"
  }
 },
 "nbformat": 4,
 "nbformat_minor": 4
}

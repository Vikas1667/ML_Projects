{
 "cells": [
  {
   "cell_type": "code",
   "execution_count": 1,
   "id": "d38b7b31-8fd5-4d65-b836-e29d49a9a62f",
   "metadata": {},
   "outputs": [
    {
     "data": {
      "text/plain": [
       "80"
      ]
     },
     "execution_count": 1,
     "metadata": {},
     "output_type": "execute_result"
    }
   ],
   "source": [
    "# https://medium.com/@prasadmahamulkar/fine-tuning-phi-2-a-step-by-step-guide-e672e7f1d009\n",
    "# Install and import the necessary libraries\n",
    "# !pip install torch peft==0.4.0 bitsandbytes==0.40.2 transformers==4.31.0 \n",
    "#  trl==0.4.7 accelerate einops \n",
    "## Issue with cuda size\n",
    "\n",
    "# https://blog.gopenai.com/how-to-resolve-runtimeerror-cuda-out-of-memory-d48995452a0\n",
    "# https://iamholumeedey007.medium.com/memory-management-using-pytorch-cuda-alloc-conf-dabe7adec130\n",
    "# https://iamholumeedey007.medium.com/how-can-i-set-max-split-size-mb-to-avoid-fragmentation-in-pytorch-ff0a6c641098\n",
    "\n",
    "# nvidia-smi\n",
    "# taskkill /pid <pid> /f\n",
    "\n",
    "## finally reducing batch size and gradient accumation steps from 4 to 1 \n",
    "import os\n",
    "import torch\n",
    "from datasets import load_dataset\n",
    "from transformers import (\n",
    "    AutoModelForCausalLM,\n",
    "    AutoTokenizer,\n",
    "    BitsAndBytesConfig,\n",
    "    AutoTokenizer,\n",
    "    TrainingArguments,\n",
    "    pipeline,\n",
    ")\n",
    "from peft import LoraConfig, PeftModel, prepare_model_for_kbit_training\n",
    "from trl import SFTTrainer\n",
    "from torch import cuda\n",
    "cuda.is_available()\n",
    "torch.cuda.empty_cache()\n",
    "import gc\n",
    "# del variables\n",
    "gc.collect()"
   ]
  },
  {
   "cell_type": "code",
   "execution_count": 2,
   "id": "bde1ac52-436b-4a4c-b6e2-dfc6bef67b8b",
   "metadata": {},
   "outputs": [
    {
     "name": "stderr",
     "output_type": "stream",
     "text": [
      "Special tokens have been added in the vocabulary, make sure the associated word embeddings are fine-tuned or trained.\n"
     ]
    }
   ],
   "source": [
    "# Model\n",
    "base_model = \"microsoft/phi-2\"\n",
    "new_model = \"phi-2-medquad\"\n",
    "\n",
    "# Dataset\n",
    "dataset = load_dataset(\"prsdm/medquad-phi2-1k\", split=\"train\")\n",
    "\n",
    "# Tokenizer\n",
    "tokenizer = AutoTokenizer.from_pretrained(base_model, use_fast=True)\n",
    "tokenizer.pad_token = tokenizer.unk_token\n",
    "tokenizer.padding_side = \"right\"\n",
    "\n"
   ]
  },
  {
   "cell_type": "code",
   "execution_count": 3,
   "id": "8104ddac-bebb-4752-86d1-699dbcd0e5eb",
   "metadata": {},
   "outputs": [
    {
     "data": {
      "application/vnd.jupyter.widget-view+json": {
       "model_id": "dde54856f11a4785844f67a879fb8e03",
       "version_major": 2,
       "version_minor": 0
      },
      "text/plain": [
       "Loading checkpoint shards:   0%|          | 0/2 [00:00<?, ?it/s]"
      ]
     },
     "metadata": {},
     "output_type": "display_data"
    }
   ],
   "source": [
    "# Quantization configuration\n",
    "bnb_config = BitsAndBytesConfig(\n",
    "    load_in_4bit=True,\n",
    "    bnb_4bit_quant_type=\"nf4\",\n",
    "    bnb_4bit_compute_dtype=torch.float16,\n",
    "    bnb_4bit_use_double_quant=False,\n",
    ")\n",
    "\n",
    "# Load base moodel\n",
    "model = AutoModelForCausalLM.from_pretrained(\n",
    "    base_model,\n",
    "    quantization_config=bnb_config,\n",
    "    trust_remote_code=True,\n",
    "    device_map={\"\": 0}\n",
    ")\n",
    "\n",
    "model.config.use_cache = False\n",
    "model.config.pretraining_tp = 1\n"
   ]
  },
  {
   "cell_type": "code",
   "execution_count": 4,
   "id": "762a8594-b718-441c-8035-1a3002ef6ccc",
   "metadata": {},
   "outputs": [],
   "source": [
    "# LoRA configuration\n",
    "peft_config = LoraConfig(\n",
    "    r= 64,          \n",
    "    lora_alpha= 16,\n",
    "    lora_dropout=0.1, #0.05\n",
    "    bias=\"none\",\n",
    "    task_type=\"CAUSAL_LM\",\n",
    "   #target_modules= [\"Wqkv\", \"out_proj\"] #[\"Wqkv\", \"fc1\", \"fc2\" ] # [\"Wqkv\", \"out_proj\", \"fc1\", \"fc2\" ]\n",
    ")"
   ]
  },
  {
   "cell_type": "code",
   "execution_count": 6,
   "id": "398c4b9d-0f79-46a7-8a0b-e5f20e25ca76",
   "metadata": {},
   "outputs": [],
   "source": [
    "# Set training arguments\n",
    "training_arguments = TrainingArguments(\n",
    "    output_dir = \"./results\",\n",
    "    num_train_epochs = 1,\n",
    "    fp16 = False,\n",
    "    bf16 = False,\n",
    "    per_device_train_batch_size = 2, #4\n",
    "    per_device_eval_batch_size = 2,  #4\n",
    "    gradient_accumulation_steps = 2, #4\n",
    "    gradient_checkpointing = True,\n",
    "    max_grad_norm = 0.3,\n",
    "    learning_rate = 2e-4,\n",
    "    weight_decay = 0.001,\n",
    "    optim = \"paged_adamw_32bit\",\n",
    "    lr_scheduler_type = \"cosine\",\n",
    "    max_steps = -1,\n",
    "    warmup_ratio = 0.03,\n",
    "    group_by_length = True,\n",
    "    save_steps = 0,\n",
    "    logging_steps = 25,\n",
    ")\n",
    "# max_split_size_mb = 200\n",
    "# allocator = torch.cuda.memory._get_memory_allocator()\n",
    "# allocator.set_max_split_size(max_split_size_mb * 1024 * 1024)\n",
    "\n",
    "max_split_size_mb = 180\n",
    "allocator = torch.cuda.memory.max_memory_allocated()\n",
    "# allocator.to_bytes()\n",
    "# set 'PYTORCH_CUDA_ALLOC_CONF=max_split_size_mb:1024'\n",
    "# os.environ[\"PYTORCH_CUDA_ALLOC_CONF\"] = \"max_split_size_mb:200\"\n",
    "os.environ[\"PYTORCH_CUDA_ALLOC_CONF\"] = \"caching_allocator\""
   ]
  },
  {
   "cell_type": "code",
   "execution_count": null,
   "id": "31f50290-6c7c-4a54-bd76-2c8c2abffd19",
   "metadata": {},
   "outputs": [
    {
     "name": "stderr",
     "output_type": "stream",
     "text": [
      "C:\\Users\\HP\\anaconda3\\envs\\kalichat\\Lib\\site-packages\\trl\\trainer\\sft_trainer.py:225: UserWarning: You didn't pass a `max_seq_length` argument to the SFTTrainer, this will default to 1024\n",
      "  warnings.warn(\n",
      "C:\\Users\\HP\\anaconda3\\envs\\kalichat\\Lib\\site-packages\\torch\\utils\\checkpoint.py:429: UserWarning: torch.utils.checkpoint: please pass in use_reentrant=True or use_reentrant=False explicitly. The default value of use_reentrant will be updated to be False in the future. To maintain current behavior, pass use_reentrant=True. It is recommended that you use use_reentrant=False. Refer to docs for more details on the differences between the two variants.\n",
      "  warnings.warn(\n"
     ]
    },
    {
     "data": {
      "text/html": [
       "\n",
       "    <div>\n",
       "      \n",
       "      <progress value='7' max='250' style='width:300px; height:20px; vertical-align: middle;'></progress>\n",
       "      [  7/250 24:36 < 19:55:53, 0.00 it/s, Epoch 0.02/1]\n",
       "    </div>\n",
       "    <table border=\"1\" class=\"dataframe\">\n",
       "  <thead>\n",
       " <tr style=\"text-align: left;\">\n",
       "      <th>Step</th>\n",
       "      <th>Training Loss</th>\n",
       "    </tr>\n",
       "  </thead>\n",
       "  <tbody>\n",
       "  </tbody>\n",
       "</table><p>"
      ],
      "text/plain": [
       "<IPython.core.display.HTML object>"
      ]
     },
     "metadata": {},
     "output_type": "display_data"
    }
   ],
   "source": [
    "# Set supervised fine-tuning parameters\n",
    "trainer = SFTTrainer(\n",
    "    model=model,\n",
    "    train_dataset=dataset,\n",
    "    peft_config=peft_config,\n",
    "    dataset_text_field=\"text\",\n",
    "    max_seq_length= None,\n",
    "    tokenizer=tokenizer,\n",
    "    args=training_arguments,\n",
    ")\n",
    "\n",
    "# Train model\n",
    "trainer.train()"
   ]
  },
  {
   "cell_type": "code",
   "execution_count": null,
   "id": "02549802-bba7-40f2-b605-6f10867a62cc",
   "metadata": {},
   "outputs": [],
   "source": []
  }
 ],
 "metadata": {
  "kernelspec": {
   "display_name": "Python 3 (ipykernel)",
   "language": "python",
   "name": "python3"
  },
  "language_info": {
   "codemirror_mode": {
    "name": "ipython",
    "version": 3
   },
   "file_extension": ".py",
   "mimetype": "text/x-python",
   "name": "python",
   "nbconvert_exporter": "python",
   "pygments_lexer": "ipython3",
   "version": "3.11.7"
  }
 },
 "nbformat": 4,
 "nbformat_minor": 5
}

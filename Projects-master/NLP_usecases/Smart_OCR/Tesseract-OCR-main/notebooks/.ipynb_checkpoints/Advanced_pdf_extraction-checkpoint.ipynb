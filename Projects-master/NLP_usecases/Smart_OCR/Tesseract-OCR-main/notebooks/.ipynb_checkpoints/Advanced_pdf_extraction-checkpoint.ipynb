{
 "cells": [
  {
   "cell_type": "code",
   "execution_count": 16,
   "metadata": {},
   "outputs": [],
   "source": [
    "import pandas as pd\n",
    "# !pip install tabula-py"
   ]
  },
  {
   "cell_type": "code",
   "execution_count": 11,
   "metadata": {},
   "outputs": [],
   "source": [
    "import tabula.io as tb"
   ]
  },
  {
   "cell_type": "code",
   "execution_count": 59,
   "metadata": {},
   "outputs": [],
   "source": [
    "# final_IM=tb.read_pdf('../input_pdf/Final Signed Information Memorandum.pdf',pages='all')\n",
    "# final_IM"
   ]
  },
  {
   "cell_type": "markdown",
   "metadata": {},
   "source": [
    "![imge](../input_pdf/table1.JPG)"
   ]
  },
  {
   "cell_type": "code",
   "execution_count": 107,
   "metadata": {},
   "outputs": [
    {
     "data": {
      "text/plain": [
       "[                  Security Name  \\\n",
       " 0                        Issuer   \n",
       " 1                           NaN   \n",
       " 2            Type of Instrument   \n",
       " 3                           NaN   \n",
       " 4      Nature of the Instrument   \n",
       " 5                     Seniority   \n",
       " 6                 Mode of Issue   \n",
       " 7                           NaN   \n",
       " 8      Objects & Details of the   \n",
       " 9                           NaN   \n",
       " 10  utilization of the Proceeds   \n",
       " 11                          NaN   \n",
       " \n",
       "                                    10.58%VFPL25012024  \n",
       " 0   Veritas Finance Private Limited (Veritas/Issue...  \n",
       " 1   Secured Senior Rated Listed Redeemable Non-Con...  \n",
       " 2                                                 NaN  \n",
       " 3                       Debentures (NCDs/ Debentures)  \n",
       " 4                                             Secured  \n",
       " 5                                              Senior  \n",
       " 6                                   Private placement  \n",
       " 7    The Issue proceeds will be utilized to meet ...  \n",
       " 8                                                 NaN  \n",
       " 9   requirements of the Issuer for on-lending purp...  \n",
       " 10                                                NaN  \n",
       " 11  general corporate purposes including refinanci...  ]"
      ]
     },
     "execution_count": 107,
     "metadata": {},
     "output_type": "execute_result"
    }
   ],
   "source": [
    "final_IM_pages=tb.read_pdf('../input_pdf/Final Signed Information Memorandum.pdf',pages='44',stream=True,multiple_tables=False)\n",
    "final_IM_pages"
   ]
  },
  {
   "cell_type": "code",
   "execution_count": 108,
   "metadata": {},
   "outputs": [
    {
     "data": {
      "text/plain": [
       "[                  Security Name  \\\n",
       " 0                        Issuer   \n",
       " 1                           NaN   \n",
       " 2            Type of Instrument   \n",
       " 3                           NaN   \n",
       " 4      Nature of the Instrument   \n",
       " 5                     Seniority   \n",
       " 6                 Mode of Issue   \n",
       " 7                           NaN   \n",
       " 8      Objects & Details of the   \n",
       " 9                           NaN   \n",
       " 10  utilization of the Proceeds   \n",
       " 11                          NaN   \n",
       " \n",
       "                                    10.58%VFPL25012024  \n",
       " 0   Veritas Finance Private Limited (Veritas/Issue...  \n",
       " 1   Secured Senior Rated Listed Redeemable Non-Con...  \n",
       " 2                                                 NaN  \n",
       " 3                       Debentures (NCDs/ Debentures)  \n",
       " 4                                             Secured  \n",
       " 5                                              Senior  \n",
       " 6                                   Private placement  \n",
       " 7    The Issue proceeds will be utilized to meet ...  \n",
       " 8                                                 NaN  \n",
       " 9   requirements of the Issuer for on-lending purp...  \n",
       " 10                                                NaN  \n",
       " 11  general corporate purposes including refinanci...  ]"
      ]
     },
     "execution_count": 108,
     "metadata": {},
     "output_type": "execute_result"
    }
   ],
   "source": [
    "final_IM_pages"
   ]
  },
  {
   "cell_type": "code",
   "execution_count": null,
   "metadata": {},
   "outputs": [],
   "source": []
  },
  {
   "cell_type": "code",
   "execution_count": 99,
   "metadata": {},
   "outputs": [
    {
     "data": {
      "text/html": [
       "<div>\n",
       "<style scoped>\n",
       "    .dataframe tbody tr th:only-of-type {\n",
       "        vertical-align: middle;\n",
       "    }\n",
       "\n",
       "    .dataframe tbody tr th {\n",
       "        vertical-align: top;\n",
       "    }\n",
       "\n",
       "    .dataframe thead th {\n",
       "        text-align: right;\n",
       "    }\n",
       "</style>\n",
       "<table border=\"1\" class=\"dataframe\">\n",
       "  <thead>\n",
       "    <tr style=\"text-align: right;\">\n",
       "      <th></th>\n",
       "      <th>Security Name</th>\n",
       "      <th>10.58%VFPL25012024</th>\n",
       "    </tr>\n",
       "  </thead>\n",
       "  <tbody>\n",
       "    <tr>\n",
       "      <th>0</th>\n",
       "      <td>Issuer</td>\n",
       "      <td>Veritas Finance Private Limited (Veritas/Issue...</td>\n",
       "    </tr>\n",
       "    <tr>\n",
       "      <th>1</th>\n",
       "      <td>NaN</td>\n",
       "      <td>Secured Senior Rated Listed Redeemable Non-Con...</td>\n",
       "    </tr>\n",
       "    <tr>\n",
       "      <th>2</th>\n",
       "      <td>Type of Instrument</td>\n",
       "      <td>NaN</td>\n",
       "    </tr>\n",
       "    <tr>\n",
       "      <th>3</th>\n",
       "      <td>NaN</td>\n",
       "      <td>Debentures (NCDs/ Debentures)</td>\n",
       "    </tr>\n",
       "    <tr>\n",
       "      <th>4</th>\n",
       "      <td>Nature of the Instrument</td>\n",
       "      <td>Secured</td>\n",
       "    </tr>\n",
       "    <tr>\n",
       "      <th>5</th>\n",
       "      <td>Seniority</td>\n",
       "      <td>Senior</td>\n",
       "    </tr>\n",
       "    <tr>\n",
       "      <th>6</th>\n",
       "      <td>Mode of Issue</td>\n",
       "      <td>Private placement</td>\n",
       "    </tr>\n",
       "    <tr>\n",
       "      <th>7</th>\n",
       "      <td>NaN</td>\n",
       "      <td> The Issue proceeds will be utilized to meet ...</td>\n",
       "    </tr>\n",
       "    <tr>\n",
       "      <th>8</th>\n",
       "      <td>Objects &amp; Details of the</td>\n",
       "      <td>NaN</td>\n",
       "    </tr>\n",
       "    <tr>\n",
       "      <th>9</th>\n",
       "      <td>NaN</td>\n",
       "      <td>requirements of the Issuer for on-lending purp...</td>\n",
       "    </tr>\n",
       "    <tr>\n",
       "      <th>10</th>\n",
       "      <td>utilization of the Proceeds</td>\n",
       "      <td>NaN</td>\n",
       "    </tr>\n",
       "    <tr>\n",
       "      <th>11</th>\n",
       "      <td>NaN</td>\n",
       "      <td>general corporate purposes including refinanci...</td>\n",
       "    </tr>\n",
       "  </tbody>\n",
       "</table>\n",
       "</div>"
      ],
      "text/plain": [
       "                  Security Name  \\\n",
       "0                        Issuer   \n",
       "1                           NaN   \n",
       "2            Type of Instrument   \n",
       "3                           NaN   \n",
       "4      Nature of the Instrument   \n",
       "5                     Seniority   \n",
       "6                 Mode of Issue   \n",
       "7                           NaN   \n",
       "8      Objects & Details of the   \n",
       "9                           NaN   \n",
       "10  utilization of the Proceeds   \n",
       "11                          NaN   \n",
       "\n",
       "                                   10.58%VFPL25012024  \n",
       "0   Veritas Finance Private Limited (Veritas/Issue...  \n",
       "1   Secured Senior Rated Listed Redeemable Non-Con...  \n",
       "2                                                 NaN  \n",
       "3                       Debentures (NCDs/ Debentures)  \n",
       "4                                             Secured  \n",
       "5                                              Senior  \n",
       "6                                   Private placement  \n",
       "7    The Issue proceeds will be utilized to meet ...  \n",
       "8                                                 NaN  \n",
       "9   requirements of the Issuer for on-lending purp...  \n",
       "10                                                NaN  \n",
       "11  general corporate purposes including refinanci...  "
      ]
     },
     "execution_count": 99,
     "metadata": {},
     "output_type": "execute_result"
    }
   ],
   "source": [
    "final_IM_pages_concated=pd.concat(final_IM_pages)\n",
    "final_IM_pages_concated"
   ]
  },
  {
   "cell_type": "markdown",
   "metadata": {},
   "source": [
    "![imge](../input_pdf/table1.JPG)"
   ]
  },
  {
   "cell_type": "code",
   "execution_count": 100,
   "metadata": {},
   "outputs": [
    {
     "data": {
      "text/html": [
       "<div>\n",
       "<style scoped>\n",
       "    .dataframe tbody tr th:only-of-type {\n",
       "        vertical-align: middle;\n",
       "    }\n",
       "\n",
       "    .dataframe tbody tr th {\n",
       "        vertical-align: top;\n",
       "    }\n",
       "\n",
       "    .dataframe thead th {\n",
       "        text-align: right;\n",
       "    }\n",
       "</style>\n",
       "<table border=\"1\" class=\"dataframe\">\n",
       "  <thead>\n",
       "    <tr style=\"text-align: right;\">\n",
       "      <th></th>\n",
       "      <th>Security Name</th>\n",
       "      <th>10.58%VFPL25012024</th>\n",
       "    </tr>\n",
       "  </thead>\n",
       "  <tbody>\n",
       "    <tr>\n",
       "      <th>0</th>\n",
       "      <td>Issuer</td>\n",
       "      <td>Veritas Finance Private Limited (Veritas/Issue...</td>\n",
       "    </tr>\n",
       "    <tr>\n",
       "      <th>1</th>\n",
       "      <td>Type of Instrument</td>\n",
       "      <td>Secured Senior Rated Listed Redeemable Non-Con...</td>\n",
       "    </tr>\n",
       "    <tr>\n",
       "      <th>2</th>\n",
       "      <td>Nature of the Instrument</td>\n",
       "      <td>Debentures (NCDs/ Debentures)</td>\n",
       "    </tr>\n",
       "    <tr>\n",
       "      <th>3</th>\n",
       "      <td>Seniority</td>\n",
       "      <td>Secured</td>\n",
       "    </tr>\n",
       "    <tr>\n",
       "      <th>4</th>\n",
       "      <td>Mode of Issue</td>\n",
       "      <td>Senior</td>\n",
       "    </tr>\n",
       "    <tr>\n",
       "      <th>5</th>\n",
       "      <td>Objects &amp; Details of the</td>\n",
       "      <td>Private placement</td>\n",
       "    </tr>\n",
       "    <tr>\n",
       "      <th>6</th>\n",
       "      <td>utilization of the Proceeds</td>\n",
       "      <td> The Issue proceeds will be utilized to meet ...</td>\n",
       "    </tr>\n",
       "    <tr>\n",
       "      <th>7</th>\n",
       "      <td>NaN</td>\n",
       "      <td>requirements of the Issuer for on-lending purp...</td>\n",
       "    </tr>\n",
       "    <tr>\n",
       "      <th>8</th>\n",
       "      <td>NaN</td>\n",
       "      <td>general corporate purposes including refinanci...</td>\n",
       "    </tr>\n",
       "  </tbody>\n",
       "</table>\n",
       "</div>"
      ],
      "text/plain": [
       "                 Security Name  \\\n",
       "0                       Issuer   \n",
       "1           Type of Instrument   \n",
       "2     Nature of the Instrument   \n",
       "3                    Seniority   \n",
       "4                Mode of Issue   \n",
       "5     Objects & Details of the   \n",
       "6  utilization of the Proceeds   \n",
       "7                          NaN   \n",
       "8                          NaN   \n",
       "\n",
       "                                  10.58%VFPL25012024  \n",
       "0  Veritas Finance Private Limited (Veritas/Issue...  \n",
       "1  Secured Senior Rated Listed Redeemable Non-Con...  \n",
       "2                      Debentures (NCDs/ Debentures)  \n",
       "3                                            Secured  \n",
       "4                                             Senior  \n",
       "5                                  Private placement  \n",
       "6   The Issue proceeds will be utilized to meet ...  \n",
       "7  requirements of the Issuer for on-lending purp...  \n",
       "8  general corporate purposes including refinanci...  "
      ]
     },
     "execution_count": 100,
     "metadata": {},
     "output_type": "execute_result"
    }
   ],
   "source": [
    "final_IM_pages_concated_df=final_IM_pages_concated.apply(lambda x: pd.Series( .values))\n"
   ]
  },
  {
   "cell_type": "code",
   "execution_count": 104,
   "metadata": {},
   "outputs": [
    {
     "data": {
      "text/html": [
       "<div>\n",
       "<style scoped>\n",
       "    .dataframe tbody tr th:only-of-type {\n",
       "        vertical-align: middle;\n",
       "    }\n",
       "\n",
       "    .dataframe tbody tr th {\n",
       "        vertical-align: top;\n",
       "    }\n",
       "\n",
       "    .dataframe thead th {\n",
       "        text-align: right;\n",
       "    }\n",
       "</style>\n",
       "<table border=\"1\" class=\"dataframe\">\n",
       "  <thead>\n",
       "    <tr style=\"text-align: right;\">\n",
       "      <th></th>\n",
       "      <th>Security Name</th>\n",
       "      <th>10.58%VFPL25012024</th>\n",
       "    </tr>\n",
       "  </thead>\n",
       "  <tbody>\n",
       "    <tr>\n",
       "      <th>0</th>\n",
       "      <td>Issuer</td>\n",
       "      <td>Veritas Finance Private Limited (Veritas/Issuer/ Company)</td>\n",
       "    </tr>\n",
       "    <tr>\n",
       "      <th>1</th>\n",
       "      <td>NaN</td>\n",
       "      <td>Secured Senior Rated Listed Redeemable Non-Convertible</td>\n",
       "    </tr>\n",
       "    <tr>\n",
       "      <th>2</th>\n",
       "      <td>Type of Instrument</td>\n",
       "      <td>NaN</td>\n",
       "    </tr>\n",
       "    <tr>\n",
       "      <th>3</th>\n",
       "      <td>NaN</td>\n",
       "      <td>Debentures (NCDs/ Debentures)</td>\n",
       "    </tr>\n",
       "    <tr>\n",
       "      <th>4</th>\n",
       "      <td>Nature of the Instrument</td>\n",
       "      <td>Secured</td>\n",
       "    </tr>\n",
       "    <tr>\n",
       "      <th>5</th>\n",
       "      <td>Seniority</td>\n",
       "      <td>Senior</td>\n",
       "    </tr>\n",
       "    <tr>\n",
       "      <th>6</th>\n",
       "      <td>Mode of Issue</td>\n",
       "      <td>Private placement</td>\n",
       "    </tr>\n",
       "    <tr>\n",
       "      <th>7</th>\n",
       "      <td>NaN</td>\n",
       "      <td> The Issue proceeds will be utilized to meet funding</td>\n",
       "    </tr>\n",
       "    <tr>\n",
       "      <th>8</th>\n",
       "      <td>Objects &amp; Details of the</td>\n",
       "      <td>NaN</td>\n",
       "    </tr>\n",
       "    <tr>\n",
       "      <th>9</th>\n",
       "      <td>NaN</td>\n",
       "      <td>requirements of the Issuer for on-lending purposes and other</td>\n",
       "    </tr>\n",
       "    <tr>\n",
       "      <th>10</th>\n",
       "      <td>utilization of the Proceeds</td>\n",
       "      <td>NaN</td>\n",
       "    </tr>\n",
       "    <tr>\n",
       "      <th>11</th>\n",
       "      <td>NaN</td>\n",
       "      <td>general corporate purposes including refinancing of existing</td>\n",
       "    </tr>\n",
       "  </tbody>\n",
       "</table>\n",
       "</div>"
      ],
      "text/plain": [
       "                  Security Name  \\\n",
       "0                        Issuer   \n",
       "1                           NaN   \n",
       "2            Type of Instrument   \n",
       "3                           NaN   \n",
       "4      Nature of the Instrument   \n",
       "5                     Seniority   \n",
       "6                 Mode of Issue   \n",
       "7                           NaN   \n",
       "8      Objects & Details of the   \n",
       "9                           NaN   \n",
       "10  utilization of the Proceeds   \n",
       "11                          NaN   \n",
       "\n",
       "                                              10.58%VFPL25012024  \n",
       "0      Veritas Finance Private Limited (Veritas/Issuer/ Company)  \n",
       "1         Secured Senior Rated Listed Redeemable Non-Convertible  \n",
       "2                                                            NaN  \n",
       "3                                  Debentures (NCDs/ Debentures)  \n",
       "4                                                        Secured  \n",
       "5                                                         Senior  \n",
       "6                                              Private placement  \n",
       "7           The Issue proceeds will be utilized to meet funding  \n",
       "8                                                            NaN  \n",
       "9   requirements of the Issuer for on-lending purposes and other  \n",
       "10                                                           NaN  \n",
       "11  general corporate purposes including refinancing of existing  "
      ]
     },
     "metadata": {},
     "output_type": "display_data"
    }
   ],
   "source": [
    "with pd.option_context('display.max_colwidth', None):\n",
    "      display(final_IM_pages_concated)"
   ]
  },
  {
   "cell_type": "code",
   "execution_count": 136,
   "metadata": {},
   "outputs": [
    {
     "name": "stdout",
     "output_type": "stream",
     "text": [
      "<re.Match object; span=(0, 5), match='Komal'>\n"
     ]
    }
   ],
   "source": [
    "import re \n",
    "text='Komal pachupate and live in pune'\n",
    "\n",
    "print(re.search('^K[a-z]+',text))"
   ]
  },
  {
   "cell_type": "code",
   "execution_count": 145,
   "metadata": {},
   "outputs": [
    {
     "name": "stdout",
     "output_type": "stream",
     "text": [
      "['pachupate', 'pune']\n"
     ]
    }
   ],
   "source": [
    "print(re.findall(r'\\bp\\w+',text))\n"
   ]
  },
  {
   "cell_type": "code",
   "execution_count": null,
   "metadata": {},
   "outputs": [],
   "source": []
  }
 ],
 "metadata": {
  "kernelspec": {
   "display_name": "Python 3",
   "language": "python",
   "name": "python3"
  },
  "language_info": {
   "codemirror_mode": {
    "name": "ipython",
    "version": 3
   },
   "file_extension": ".py",
   "mimetype": "text/x-python",
   "name": "python",
   "nbconvert_exporter": "python",
   "pygments_lexer": "ipython3",
   "version": "3.8.3"
  }
 },
 "nbformat": 4,
 "nbformat_minor": 4
}

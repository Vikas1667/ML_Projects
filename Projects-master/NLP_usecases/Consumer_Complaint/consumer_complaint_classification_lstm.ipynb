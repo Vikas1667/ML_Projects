{
 "cells": [
  {
   "cell_type": "code",
   "execution_count": 1,
   "metadata": {},
   "outputs": [
    {
     "name": "stderr",
     "output_type": "stream",
     "text": [
      "C:\\Users\\HP\\anaconda3\\lib\\site-packages\\numpy\\_distributor_init.py:30: UserWarning: loaded more than 1 DLL from .libs:\n",
      "C:\\Users\\HP\\anaconda3\\lib\\site-packages\\numpy\\.libs\\libopenblas.EL2C6PLE4ZYW3ECEVIV3OXXGRN2NRFM2.gfortran-win_amd64.dll\n",
      "C:\\Users\\HP\\anaconda3\\lib\\site-packages\\numpy\\.libs\\libopenblas.QVLO2T66WEPI7JZ63PS3HMOHFEY472BC.gfortran-win_amd64.dll\n",
      "  warnings.warn(\"loaded more than 1 DLL from .libs:\"\n"
     ]
    },
    {
     "data": {
      "text/html": [
       "        <script type=\"text/javascript\">\n",
       "        window.PlotlyConfig = {MathJaxConfig: 'local'};\n",
       "        if (window.MathJax) {MathJax.Hub.Config({SVG: {font: \"STIX-Web\"}});}\n",
       "        if (typeof require !== 'undefined') {\n",
       "        require.undef(\"plotly\");\n",
       "        requirejs.config({\n",
       "            paths: {\n",
       "                'plotly': ['https://cdn.plot.ly/plotly-latest.min']\n",
       "            }\n",
       "        });\n",
       "        require(['plotly'], function(Plotly) {\n",
       "            window._Plotly = Plotly;\n",
       "        });\n",
       "        }\n",
       "        </script>\n",
       "        "
      ]
     },
     "metadata": {},
     "output_type": "display_data"
    },
    {
     "name": "stderr",
     "output_type": "stream",
     "text": [
      "WARNING: Ignoring invalid distribution -umpy (c:\\users\\hp\\anaconda3\\lib\\site-packages)\n",
      "WARNING: Ignoring invalid distribution -umpy (c:\\users\\hp\\anaconda3\\lib\\site-packages)\n",
      "WARNING: Ignoring invalid distribution -umpy (c:\\users\\hp\\anaconda3\\lib\\site-packages)\n",
      "WARNING: Ignoring invalid distribution -umpy (c:\\users\\hp\\anaconda3\\lib\\site-packages)\n",
      "WARNING: Ignoring invalid distribution -umpy (c:\\users\\hp\\anaconda3\\lib\\site-packages)\n",
      "WARNING: Ignoring invalid distribution -umpy (c:\\users\\hp\\anaconda3\\lib\\site-packages)\n",
      "WARNING: You are using pip version 21.3.1; however, version 22.1 is available.\n",
      "You should consider upgrading via the 'C:\\Users\\HP\\anaconda3\\python.exe -m pip install --upgrade pip' command.\n"
     ]
    },
    {
     "name": "stdout",
     "output_type": "stream",
     "text": [
      "Looking in indexes: https://pypi.org/simple, https://pypi.ngc.nvidia.com\n",
      "Requirement already satisfied: xgboost in c:\\users\\hp\\anaconda3\\lib\\site-packages (1.3.3)\n",
      "Requirement already satisfied: numpy in c:\\users\\hp\\anaconda3\\lib\\site-packages (from xgboost) (1.22.3)\n",
      "Requirement already satisfied: scipy in c:\\users\\hp\\anaconda3\\lib\\site-packages (from xgboost) (1.7.3)\n"
     ]
    }
   ],
   "source": [
    "import numpy as np\n",
    "import pandas as pd\n",
    "# !pip install plotly\n",
    "# !pip install cufflinks\n",
    "# !pip install nltk\n",
    "import cufflinks as cf\n",
    "cf.go_offline()\n",
    "cf.set_config_file(offline=False, world_readable=True)\n",
    "\n",
    "%config Completer.use_jedi = False\n",
    "\n",
    "import seaborn as sns\n",
    "import matplotlib.pyplot as plt\n",
    "!pip install xgboost\n",
    "from xgboost import XGBClassifier"
   ]
  },
  {
   "cell_type": "code",
   "execution_count": 2,
   "metadata": {},
   "outputs": [],
   "source": [
    "import zipfile\n"
   ]
  },
  {
   "cell_type": "code",
   "execution_count": 3,
   "metadata": {},
   "outputs": [
    {
     "name": "stderr",
     "output_type": "stream",
     "text": [
      "C:\\Users\\HP\\anaconda3\\lib\\site-packages\\IPython\\core\\interactiveshell.py:3343: DtypeWarning:\n",
      "\n",
      "Columns (5,11) have mixed types.Specify dtype option on import or set low_memory=False.\n",
      "\n"
     ]
    }
   ],
   "source": [
    "zf = zipfile.ZipFile('./Dataset/consumer_complaints.csv.zip')\n",
    "df = pd.read_csv(zf.open('consumer_complaints.csv'))\n",
    "# df=pd.read_csv('../Consumer_Complaint/Dataset/complaints.csv')\n",
    "# df.shape"
   ]
  },
  {
   "cell_type": "code",
   "execution_count": 4,
   "metadata": {},
   "outputs": [
    {
     "data": {
      "text/html": [
       "<div>\n",
       "<style scoped>\n",
       "    .dataframe tbody tr th:only-of-type {\n",
       "        vertical-align: middle;\n",
       "    }\n",
       "\n",
       "    .dataframe tbody tr th {\n",
       "        vertical-align: top;\n",
       "    }\n",
       "\n",
       "    .dataframe thead th {\n",
       "        text-align: right;\n",
       "    }\n",
       "</style>\n",
       "<table border=\"1\" class=\"dataframe\">\n",
       "  <thead>\n",
       "    <tr style=\"text-align: right;\">\n",
       "      <th></th>\n",
       "      <th>date_received</th>\n",
       "      <th>product</th>\n",
       "      <th>sub_product</th>\n",
       "      <th>issue</th>\n",
       "      <th>sub_issue</th>\n",
       "      <th>consumer_complaint_narrative</th>\n",
       "      <th>company_public_response</th>\n",
       "      <th>company</th>\n",
       "      <th>state</th>\n",
       "      <th>zipcode</th>\n",
       "      <th>tags</th>\n",
       "      <th>consumer_consent_provided</th>\n",
       "      <th>submitted_via</th>\n",
       "      <th>date_sent_to_company</th>\n",
       "      <th>company_response_to_consumer</th>\n",
       "      <th>timely_response</th>\n",
       "      <th>consumer_disputed?</th>\n",
       "      <th>complaint_id</th>\n",
       "    </tr>\n",
       "  </thead>\n",
       "  <tbody>\n",
       "    <tr>\n",
       "      <th>0</th>\n",
       "      <td>08/30/2013</td>\n",
       "      <td>Mortgage</td>\n",
       "      <td>Other mortgage</td>\n",
       "      <td>Loan modification,collection,foreclosure</td>\n",
       "      <td>NaN</td>\n",
       "      <td>NaN</td>\n",
       "      <td>NaN</td>\n",
       "      <td>U.S. Bancorp</td>\n",
       "      <td>CA</td>\n",
       "      <td>95993</td>\n",
       "      <td>NaN</td>\n",
       "      <td>NaN</td>\n",
       "      <td>Referral</td>\n",
       "      <td>09/03/2013</td>\n",
       "      <td>Closed with explanation</td>\n",
       "      <td>Yes</td>\n",
       "      <td>Yes</td>\n",
       "      <td>511074</td>\n",
       "    </tr>\n",
       "    <tr>\n",
       "      <th>1</th>\n",
       "      <td>08/30/2013</td>\n",
       "      <td>Mortgage</td>\n",
       "      <td>Other mortgage</td>\n",
       "      <td>Loan servicing, payments, escrow account</td>\n",
       "      <td>NaN</td>\n",
       "      <td>NaN</td>\n",
       "      <td>NaN</td>\n",
       "      <td>Wells Fargo &amp; Company</td>\n",
       "      <td>CA</td>\n",
       "      <td>91104</td>\n",
       "      <td>NaN</td>\n",
       "      <td>NaN</td>\n",
       "      <td>Referral</td>\n",
       "      <td>09/03/2013</td>\n",
       "      <td>Closed with explanation</td>\n",
       "      <td>Yes</td>\n",
       "      <td>Yes</td>\n",
       "      <td>511080</td>\n",
       "    </tr>\n",
       "    <tr>\n",
       "      <th>2</th>\n",
       "      <td>08/30/2013</td>\n",
       "      <td>Credit reporting</td>\n",
       "      <td>NaN</td>\n",
       "      <td>Incorrect information on credit report</td>\n",
       "      <td>Account status</td>\n",
       "      <td>NaN</td>\n",
       "      <td>NaN</td>\n",
       "      <td>Wells Fargo &amp; Company</td>\n",
       "      <td>NY</td>\n",
       "      <td>11764</td>\n",
       "      <td>NaN</td>\n",
       "      <td>NaN</td>\n",
       "      <td>Postal mail</td>\n",
       "      <td>09/18/2013</td>\n",
       "      <td>Closed with explanation</td>\n",
       "      <td>Yes</td>\n",
       "      <td>No</td>\n",
       "      <td>510473</td>\n",
       "    </tr>\n",
       "    <tr>\n",
       "      <th>3</th>\n",
       "      <td>08/30/2013</td>\n",
       "      <td>Student loan</td>\n",
       "      <td>Non-federal student loan</td>\n",
       "      <td>Repaying your loan</td>\n",
       "      <td>Repaying your loan</td>\n",
       "      <td>NaN</td>\n",
       "      <td>NaN</td>\n",
       "      <td>Navient Solutions, Inc.</td>\n",
       "      <td>MD</td>\n",
       "      <td>21402</td>\n",
       "      <td>NaN</td>\n",
       "      <td>NaN</td>\n",
       "      <td>Email</td>\n",
       "      <td>08/30/2013</td>\n",
       "      <td>Closed with explanation</td>\n",
       "      <td>Yes</td>\n",
       "      <td>Yes</td>\n",
       "      <td>510326</td>\n",
       "    </tr>\n",
       "    <tr>\n",
       "      <th>4</th>\n",
       "      <td>08/30/2013</td>\n",
       "      <td>Debt collection</td>\n",
       "      <td>Credit card</td>\n",
       "      <td>False statements or representation</td>\n",
       "      <td>Attempted to collect wrong amount</td>\n",
       "      <td>NaN</td>\n",
       "      <td>NaN</td>\n",
       "      <td>Resurgent Capital Services L.P.</td>\n",
       "      <td>GA</td>\n",
       "      <td>30106</td>\n",
       "      <td>NaN</td>\n",
       "      <td>NaN</td>\n",
       "      <td>Web</td>\n",
       "      <td>08/30/2013</td>\n",
       "      <td>Closed with explanation</td>\n",
       "      <td>Yes</td>\n",
       "      <td>Yes</td>\n",
       "      <td>511067</td>\n",
       "    </tr>\n",
       "  </tbody>\n",
       "</table>\n",
       "</div>"
      ],
      "text/plain": [
       "  date_received           product               sub_product  \\\n",
       "0    08/30/2013          Mortgage            Other mortgage   \n",
       "1    08/30/2013          Mortgage            Other mortgage   \n",
       "2    08/30/2013  Credit reporting                       NaN   \n",
       "3    08/30/2013      Student loan  Non-federal student loan   \n",
       "4    08/30/2013   Debt collection               Credit card   \n",
       "\n",
       "                                      issue  \\\n",
       "0  Loan modification,collection,foreclosure   \n",
       "1  Loan servicing, payments, escrow account   \n",
       "2    Incorrect information on credit report   \n",
       "3                        Repaying your loan   \n",
       "4        False statements or representation   \n",
       "\n",
       "                           sub_issue consumer_complaint_narrative  \\\n",
       "0                                NaN                          NaN   \n",
       "1                                NaN                          NaN   \n",
       "2                     Account status                          NaN   \n",
       "3                 Repaying your loan                          NaN   \n",
       "4  Attempted to collect wrong amount                          NaN   \n",
       "\n",
       "  company_public_response                          company state zipcode tags  \\\n",
       "0                     NaN                     U.S. Bancorp    CA   95993  NaN   \n",
       "1                     NaN            Wells Fargo & Company    CA   91104  NaN   \n",
       "2                     NaN            Wells Fargo & Company    NY   11764  NaN   \n",
       "3                     NaN          Navient Solutions, Inc.    MD   21402  NaN   \n",
       "4                     NaN  Resurgent Capital Services L.P.    GA   30106  NaN   \n",
       "\n",
       "  consumer_consent_provided submitted_via date_sent_to_company  \\\n",
       "0                       NaN      Referral           09/03/2013   \n",
       "1                       NaN      Referral           09/03/2013   \n",
       "2                       NaN   Postal mail           09/18/2013   \n",
       "3                       NaN         Email           08/30/2013   \n",
       "4                       NaN           Web           08/30/2013   \n",
       "\n",
       "  company_response_to_consumer timely_response consumer_disputed?  \\\n",
       "0      Closed with explanation             Yes                Yes   \n",
       "1      Closed with explanation             Yes                Yes   \n",
       "2      Closed with explanation             Yes                 No   \n",
       "3      Closed with explanation             Yes                Yes   \n",
       "4      Closed with explanation             Yes                Yes   \n",
       "\n",
       "   complaint_id  \n",
       "0        511074  \n",
       "1        511080  \n",
       "2        510473  \n",
       "3        510326  \n",
       "4        511067  "
      ]
     },
     "execution_count": 4,
     "metadata": {},
     "output_type": "execute_result"
    }
   ],
   "source": [
    "df.head()"
   ]
  },
  {
   "cell_type": "code",
   "execution_count": 5,
   "metadata": {},
   "outputs": [
    {
     "name": "stdout",
     "output_type": "stream",
     "text": [
      "<class 'pandas.core.frame.DataFrame'>\n",
      "RangeIndex: 555957 entries, 0 to 555956\n",
      "Data columns (total 18 columns):\n",
      " #   Column                        Non-Null Count   Dtype \n",
      "---  ------                        --------------   ----- \n",
      " 0   date_received                 555957 non-null  object\n",
      " 1   product                       555957 non-null  object\n",
      " 2   sub_product                   397635 non-null  object\n",
      " 3   issue                         555957 non-null  object\n",
      " 4   sub_issue                     212622 non-null  object\n",
      " 5   consumer_complaint_narrative  66806 non-null   object\n",
      " 6   company_public_response       85124 non-null   object\n",
      " 7   company                       555957 non-null  object\n",
      " 8   state                         551070 non-null  object\n",
      " 9   zipcode                       551452 non-null  object\n",
      " 10  tags                          77959 non-null   object\n",
      " 11  consumer_consent_provided     123458 non-null  object\n",
      " 12  submitted_via                 555957 non-null  object\n",
      " 13  date_sent_to_company          555957 non-null  object\n",
      " 14  company_response_to_consumer  555957 non-null  object\n",
      " 15  timely_response               555957 non-null  object\n",
      " 16  consumer_disputed?            555957 non-null  object\n",
      " 17  complaint_id                  555957 non-null  int64 \n",
      "dtypes: int64(1), object(17)\n",
      "memory usage: 76.3+ MB\n"
     ]
    }
   ],
   "source": [
    "df.info()"
   ]
  },
  {
   "cell_type": "code",
   "execution_count": 7,
   "metadata": {},
   "outputs": [
    {
     "data": {
      "text/plain": [
       "Mortgage                   186475\n",
       "Debt collection            101052\n",
       "Credit reporting            91854\n",
       "Credit card                 66468\n",
       "Bank account or service     62563\n",
       "Consumer Loan               20990\n",
       "Student loan                15839\n",
       "Payday loan                  3877\n",
       "Money transfers              3812\n",
       "Prepaid card                 2470\n",
       "Other financial service       557\n",
       "Name: product, dtype: int64"
      ]
     },
     "execution_count": 7,
     "metadata": {},
     "output_type": "execute_result"
    }
   ],
   "source": [
    "df['product'].value_counts()"
   ]
  },
  {
   "cell_type": "code",
   "execution_count": 6,
   "metadata": {
    "scrolled": true
   },
   "outputs": [
    {
     "data": {
      "application/vnd.plotly.v1+json": {
       "config": {
        "linkText": "Export to plot.ly",
        "plotlyServerURL": "https://plot.ly",
        "showLink": true
       },
       "data": [
        {
         "marker": {
          "color": "rgba(255, 153, 51, 0.6)",
          "line": {
           "color": "rgba(255, 153, 51, 1.0)",
           "width": 1
          }
         },
         "name": "product",
         "orientation": "v",
         "text": "",
         "type": "bar",
         "x": [
          "Mortgage",
          "Debt collection",
          "Credit reporting",
          "Credit card",
          "Bank account or service",
          "Consumer Loan",
          "Student loan",
          "Payday loan",
          "Money transfers",
          "Prepaid card",
          "Other financial service"
         ],
         "y": [
          186475,
          101052,
          91854,
          66468,
          62563,
          20990,
          15839,
          3877,
          3812,
          2470,
          557
         ]
        }
       ],
       "layout": {
        "legend": {
         "bgcolor": "#F5F6F9",
         "font": {
          "color": "#4D5663"
         }
        },
        "paper_bgcolor": "#F5F6F9",
        "plot_bgcolor": "#F5F6F9",
        "template": {
         "data": {
          "bar": [
           {
            "error_x": {
             "color": "#2a3f5f"
            },
            "error_y": {
             "color": "#2a3f5f"
            },
            "marker": {
             "line": {
              "color": "#E5ECF6",
              "width": 0.5
             }
            },
            "type": "bar"
           }
          ],
          "barpolar": [
           {
            "marker": {
             "line": {
              "color": "#E5ECF6",
              "width": 0.5
             }
            },
            "type": "barpolar"
           }
          ],
          "carpet": [
           {
            "aaxis": {
             "endlinecolor": "#2a3f5f",
             "gridcolor": "white",
             "linecolor": "white",
             "minorgridcolor": "white",
             "startlinecolor": "#2a3f5f"
            },
            "baxis": {
             "endlinecolor": "#2a3f5f",
             "gridcolor": "white",
             "linecolor": "white",
             "minorgridcolor": "white",
             "startlinecolor": "#2a3f5f"
            },
            "type": "carpet"
           }
          ],
          "choropleth": [
           {
            "colorbar": {
             "outlinewidth": 0,
             "ticks": ""
            },
            "type": "choropleth"
           }
          ],
          "contour": [
           {
            "colorbar": {
             "outlinewidth": 0,
             "ticks": ""
            },
            "colorscale": [
             [
              0,
              "#0d0887"
             ],
             [
              0.1111111111111111,
              "#46039f"
             ],
             [
              0.2222222222222222,
              "#7201a8"
             ],
             [
              0.3333333333333333,
              "#9c179e"
             ],
             [
              0.4444444444444444,
              "#bd3786"
             ],
             [
              0.5555555555555556,
              "#d8576b"
             ],
             [
              0.6666666666666666,
              "#ed7953"
             ],
             [
              0.7777777777777778,
              "#fb9f3a"
             ],
             [
              0.8888888888888888,
              "#fdca26"
             ],
             [
              1,
              "#f0f921"
             ]
            ],
            "type": "contour"
           }
          ],
          "contourcarpet": [
           {
            "colorbar": {
             "outlinewidth": 0,
             "ticks": ""
            },
            "type": "contourcarpet"
           }
          ],
          "heatmap": [
           {
            "colorbar": {
             "outlinewidth": 0,
             "ticks": ""
            },
            "colorscale": [
             [
              0,
              "#0d0887"
             ],
             [
              0.1111111111111111,
              "#46039f"
             ],
             [
              0.2222222222222222,
              "#7201a8"
             ],
             [
              0.3333333333333333,
              "#9c179e"
             ],
             [
              0.4444444444444444,
              "#bd3786"
             ],
             [
              0.5555555555555556,
              "#d8576b"
             ],
             [
              0.6666666666666666,
              "#ed7953"
             ],
             [
              0.7777777777777778,
              "#fb9f3a"
             ],
             [
              0.8888888888888888,
              "#fdca26"
             ],
             [
              1,
              "#f0f921"
             ]
            ],
            "type": "heatmap"
           }
          ],
          "heatmapgl": [
           {
            "colorbar": {
             "outlinewidth": 0,
             "ticks": ""
            },
            "colorscale": [
             [
              0,
              "#0d0887"
             ],
             [
              0.1111111111111111,
              "#46039f"
             ],
             [
              0.2222222222222222,
              "#7201a8"
             ],
             [
              0.3333333333333333,
              "#9c179e"
             ],
             [
              0.4444444444444444,
              "#bd3786"
             ],
             [
              0.5555555555555556,
              "#d8576b"
             ],
             [
              0.6666666666666666,
              "#ed7953"
             ],
             [
              0.7777777777777778,
              "#fb9f3a"
             ],
             [
              0.8888888888888888,
              "#fdca26"
             ],
             [
              1,
              "#f0f921"
             ]
            ],
            "type": "heatmapgl"
           }
          ],
          "histogram": [
           {
            "marker": {
             "colorbar": {
              "outlinewidth": 0,
              "ticks": ""
             }
            },
            "type": "histogram"
           }
          ],
          "histogram2d": [
           {
            "colorbar": {
             "outlinewidth": 0,
             "ticks": ""
            },
            "colorscale": [
             [
              0,
              "#0d0887"
             ],
             [
              0.1111111111111111,
              "#46039f"
             ],
             [
              0.2222222222222222,
              "#7201a8"
             ],
             [
              0.3333333333333333,
              "#9c179e"
             ],
             [
              0.4444444444444444,
              "#bd3786"
             ],
             [
              0.5555555555555556,
              "#d8576b"
             ],
             [
              0.6666666666666666,
              "#ed7953"
             ],
             [
              0.7777777777777778,
              "#fb9f3a"
             ],
             [
              0.8888888888888888,
              "#fdca26"
             ],
             [
              1,
              "#f0f921"
             ]
            ],
            "type": "histogram2d"
           }
          ],
          "histogram2dcontour": [
           {
            "colorbar": {
             "outlinewidth": 0,
             "ticks": ""
            },
            "colorscale": [
             [
              0,
              "#0d0887"
             ],
             [
              0.1111111111111111,
              "#46039f"
             ],
             [
              0.2222222222222222,
              "#7201a8"
             ],
             [
              0.3333333333333333,
              "#9c179e"
             ],
             [
              0.4444444444444444,
              "#bd3786"
             ],
             [
              0.5555555555555556,
              "#d8576b"
             ],
             [
              0.6666666666666666,
              "#ed7953"
             ],
             [
              0.7777777777777778,
              "#fb9f3a"
             ],
             [
              0.8888888888888888,
              "#fdca26"
             ],
             [
              1,
              "#f0f921"
             ]
            ],
            "type": "histogram2dcontour"
           }
          ],
          "mesh3d": [
           {
            "colorbar": {
             "outlinewidth": 0,
             "ticks": ""
            },
            "type": "mesh3d"
           }
          ],
          "parcoords": [
           {
            "line": {
             "colorbar": {
              "outlinewidth": 0,
              "ticks": ""
             }
            },
            "type": "parcoords"
           }
          ],
          "pie": [
           {
            "automargin": true,
            "type": "pie"
           }
          ],
          "scatter": [
           {
            "marker": {
             "colorbar": {
              "outlinewidth": 0,
              "ticks": ""
             }
            },
            "type": "scatter"
           }
          ],
          "scatter3d": [
           {
            "line": {
             "colorbar": {
              "outlinewidth": 0,
              "ticks": ""
             }
            },
            "marker": {
             "colorbar": {
              "outlinewidth": 0,
              "ticks": ""
             }
            },
            "type": "scatter3d"
           }
          ],
          "scattercarpet": [
           {
            "marker": {
             "colorbar": {
              "outlinewidth": 0,
              "ticks": ""
             }
            },
            "type": "scattercarpet"
           }
          ],
          "scattergeo": [
           {
            "marker": {
             "colorbar": {
              "outlinewidth": 0,
              "ticks": ""
             }
            },
            "type": "scattergeo"
           }
          ],
          "scattergl": [
           {
            "marker": {
             "colorbar": {
              "outlinewidth": 0,
              "ticks": ""
             }
            },
            "type": "scattergl"
           }
          ],
          "scattermapbox": [
           {
            "marker": {
             "colorbar": {
              "outlinewidth": 0,
              "ticks": ""
             }
            },
            "type": "scattermapbox"
           }
          ],
          "scatterpolar": [
           {
            "marker": {
             "colorbar": {
              "outlinewidth": 0,
              "ticks": ""
             }
            },
            "type": "scatterpolar"
           }
          ],
          "scatterpolargl": [
           {
            "marker": {
             "colorbar": {
              "outlinewidth": 0,
              "ticks": ""
             }
            },
            "type": "scatterpolargl"
           }
          ],
          "scatterternary": [
           {
            "marker": {
             "colorbar": {
              "outlinewidth": 0,
              "ticks": ""
             }
            },
            "type": "scatterternary"
           }
          ],
          "surface": [
           {
            "colorbar": {
             "outlinewidth": 0,
             "ticks": ""
            },
            "colorscale": [
             [
              0,
              "#0d0887"
             ],
             [
              0.1111111111111111,
              "#46039f"
             ],
             [
              0.2222222222222222,
              "#7201a8"
             ],
             [
              0.3333333333333333,
              "#9c179e"
             ],
             [
              0.4444444444444444,
              "#bd3786"
             ],
             [
              0.5555555555555556,
              "#d8576b"
             ],
             [
              0.6666666666666666,
              "#ed7953"
             ],
             [
              0.7777777777777778,
              "#fb9f3a"
             ],
             [
              0.8888888888888888,
              "#fdca26"
             ],
             [
              1,
              "#f0f921"
             ]
            ],
            "type": "surface"
           }
          ],
          "table": [
           {
            "cells": {
             "fill": {
              "color": "#EBF0F8"
             },
             "line": {
              "color": "white"
             }
            },
            "header": {
             "fill": {
              "color": "#C8D4E3"
             },
             "line": {
              "color": "white"
             }
            },
            "type": "table"
           }
          ]
         },
         "layout": {
          "annotationdefaults": {
           "arrowcolor": "#2a3f5f",
           "arrowhead": 0,
           "arrowwidth": 1
          },
          "autotypenumbers": "strict",
          "coloraxis": {
           "colorbar": {
            "outlinewidth": 0,
            "ticks": ""
           }
          },
          "colorscale": {
           "diverging": [
            [
             0,
             "#8e0152"
            ],
            [
             0.1,
             "#c51b7d"
            ],
            [
             0.2,
             "#de77ae"
            ],
            [
             0.3,
             "#f1b6da"
            ],
            [
             0.4,
             "#fde0ef"
            ],
            [
             0.5,
             "#f7f7f7"
            ],
            [
             0.6,
             "#e6f5d0"
            ],
            [
             0.7,
             "#b8e186"
            ],
            [
             0.8,
             "#7fbc41"
            ],
            [
             0.9,
             "#4d9221"
            ],
            [
             1,
             "#276419"
            ]
           ],
           "sequential": [
            [
             0,
             "#0d0887"
            ],
            [
             0.1111111111111111,
             "#46039f"
            ],
            [
             0.2222222222222222,
             "#7201a8"
            ],
            [
             0.3333333333333333,
             "#9c179e"
            ],
            [
             0.4444444444444444,
             "#bd3786"
            ],
            [
             0.5555555555555556,
             "#d8576b"
            ],
            [
             0.6666666666666666,
             "#ed7953"
            ],
            [
             0.7777777777777778,
             "#fb9f3a"
            ],
            [
             0.8888888888888888,
             "#fdca26"
            ],
            [
             1,
             "#f0f921"
            ]
           ],
           "sequentialminus": [
            [
             0,
             "#0d0887"
            ],
            [
             0.1111111111111111,
             "#46039f"
            ],
            [
             0.2222222222222222,
             "#7201a8"
            ],
            [
             0.3333333333333333,
             "#9c179e"
            ],
            [
             0.4444444444444444,
             "#bd3786"
            ],
            [
             0.5555555555555556,
             "#d8576b"
            ],
            [
             0.6666666666666666,
             "#ed7953"
            ],
            [
             0.7777777777777778,
             "#fb9f3a"
            ],
            [
             0.8888888888888888,
             "#fdca26"
            ],
            [
             1,
             "#f0f921"
            ]
           ]
          },
          "colorway": [
           "#636efa",
           "#EF553B",
           "#00cc96",
           "#ab63fa",
           "#FFA15A",
           "#19d3f3",
           "#FF6692",
           "#B6E880",
           "#FF97FF",
           "#FECB52"
          ],
          "font": {
           "color": "#2a3f5f"
          },
          "geo": {
           "bgcolor": "white",
           "lakecolor": "white",
           "landcolor": "#E5ECF6",
           "showlakes": true,
           "showland": true,
           "subunitcolor": "white"
          },
          "hoverlabel": {
           "align": "left"
          },
          "hovermode": "closest",
          "mapbox": {
           "style": "light"
          },
          "paper_bgcolor": "white",
          "plot_bgcolor": "#E5ECF6",
          "polar": {
           "angularaxis": {
            "gridcolor": "white",
            "linecolor": "white",
            "ticks": ""
           },
           "bgcolor": "#E5ECF6",
           "radialaxis": {
            "gridcolor": "white",
            "linecolor": "white",
            "ticks": ""
           }
          },
          "scene": {
           "xaxis": {
            "backgroundcolor": "#E5ECF6",
            "gridcolor": "white",
            "gridwidth": 2,
            "linecolor": "white",
            "showbackground": true,
            "ticks": "",
            "zerolinecolor": "white"
           },
           "yaxis": {
            "backgroundcolor": "#E5ECF6",
            "gridcolor": "white",
            "gridwidth": 2,
            "linecolor": "white",
            "showbackground": true,
            "ticks": "",
            "zerolinecolor": "white"
           },
           "zaxis": {
            "backgroundcolor": "#E5ECF6",
            "gridcolor": "white",
            "gridwidth": 2,
            "linecolor": "white",
            "showbackground": true,
            "ticks": "",
            "zerolinecolor": "white"
           }
          },
          "shapedefaults": {
           "line": {
            "color": "#2a3f5f"
           }
          },
          "ternary": {
           "aaxis": {
            "gridcolor": "white",
            "linecolor": "white",
            "ticks": ""
           },
           "baxis": {
            "gridcolor": "white",
            "linecolor": "white",
            "ticks": ""
           },
           "bgcolor": "#E5ECF6",
           "caxis": {
            "gridcolor": "white",
            "linecolor": "white",
            "ticks": ""
           }
          },
          "title": {
           "x": 0.05
          },
          "xaxis": {
           "automargin": true,
           "gridcolor": "white",
           "linecolor": "white",
           "ticks": "",
           "title": {
            "standoff": 15
           },
           "zerolinecolor": "white",
           "zerolinewidth": 2
          },
          "yaxis": {
           "automargin": true,
           "gridcolor": "white",
           "linecolor": "white",
           "ticks": "",
           "title": {
            "standoff": 15
           },
           "zerolinecolor": "white",
           "zerolinewidth": 2
          }
         }
        },
        "title": {
         "font": {
          "color": "#4D5663"
         },
         "text": "Number complaints in each product"
        },
        "xaxis": {
         "gridcolor": "#E1E5ED",
         "showgrid": true,
         "tickfont": {
          "color": "#4D5663"
         },
         "title": {
          "font": {
           "color": "#4D5663"
          },
          "text": ""
         },
         "zerolinecolor": "#E1E5ED"
        },
        "yaxis": {
         "gridcolor": "#E1E5ED",
         "showgrid": true,
         "tickfont": {
          "color": "#4D5663"
         },
         "title": {
          "font": {
           "color": "#4D5663"
          },
          "text": "Number of Complaints"
         },
         "zerolinecolor": "#E1E5ED"
        }
       }
      },
      "text/html": [
       "<div>                            <div id=\"621fc2ee-3033-4c6a-b358-a73c96ad2a5a\" class=\"plotly-graph-div\" style=\"height:525px; width:100%;\"></div>            <script type=\"text/javascript\">                require([\"plotly\"], function(Plotly) {                    window.PLOTLYENV=window.PLOTLYENV || {};\n",
       "                    window.PLOTLYENV.BASE_URL='https://plot.ly';                                    if (document.getElementById(\"621fc2ee-3033-4c6a-b358-a73c96ad2a5a\")) {                    Plotly.newPlot(                        \"621fc2ee-3033-4c6a-b358-a73c96ad2a5a\",                        [{\"marker\": {\"color\": \"rgba(255, 153, 51, 0.6)\", \"line\": {\"color\": \"rgba(255, 153, 51, 1.0)\", \"width\": 1}}, \"name\": \"product\", \"orientation\": \"v\", \"text\": \"\", \"type\": \"bar\", \"x\": [\"Mortgage\", \"Debt collection\", \"Credit reporting\", \"Credit card\", \"Bank account or service\", \"Consumer Loan\", \"Student loan\", \"Payday loan\", \"Money transfers\", \"Prepaid card\", \"Other financial service\"], \"y\": [186475, 101052, 91854, 66468, 62563, 20990, 15839, 3877, 3812, 2470, 557]}],                        {\"legend\": {\"bgcolor\": \"#F5F6F9\", \"font\": {\"color\": \"#4D5663\"}}, \"paper_bgcolor\": \"#F5F6F9\", \"plot_bgcolor\": \"#F5F6F9\", \"template\": {\"data\": {\"bar\": [{\"error_x\": {\"color\": \"#2a3f5f\"}, \"error_y\": {\"color\": \"#2a3f5f\"}, \"marker\": {\"line\": {\"color\": \"#E5ECF6\", \"width\": 0.5}}, \"type\": \"bar\"}], \"barpolar\": [{\"marker\": {\"line\": {\"color\": \"#E5ECF6\", \"width\": 0.5}}, \"type\": \"barpolar\"}], \"carpet\": [{\"aaxis\": {\"endlinecolor\": \"#2a3f5f\", \"gridcolor\": \"white\", \"linecolor\": \"white\", \"minorgridcolor\": \"white\", \"startlinecolor\": \"#2a3f5f\"}, \"baxis\": {\"endlinecolor\": \"#2a3f5f\", \"gridcolor\": \"white\", \"linecolor\": \"white\", \"minorgridcolor\": \"white\", \"startlinecolor\": \"#2a3f5f\"}, \"type\": \"carpet\"}], \"choropleth\": [{\"colorbar\": {\"outlinewidth\": 0, \"ticks\": \"\"}, \"type\": \"choropleth\"}], \"contour\": [{\"colorbar\": {\"outlinewidth\": 0, \"ticks\": \"\"}, \"colorscale\": [[0.0, \"#0d0887\"], [0.1111111111111111, \"#46039f\"], [0.2222222222222222, \"#7201a8\"], [0.3333333333333333, \"#9c179e\"], [0.4444444444444444, \"#bd3786\"], [0.5555555555555556, \"#d8576b\"], [0.6666666666666666, \"#ed7953\"], [0.7777777777777778, \"#fb9f3a\"], [0.8888888888888888, \"#fdca26\"], [1.0, \"#f0f921\"]], \"type\": \"contour\"}], \"contourcarpet\": [{\"colorbar\": {\"outlinewidth\": 0, \"ticks\": \"\"}, \"type\": \"contourcarpet\"}], \"heatmap\": [{\"colorbar\": {\"outlinewidth\": 0, \"ticks\": \"\"}, \"colorscale\": [[0.0, \"#0d0887\"], [0.1111111111111111, \"#46039f\"], [0.2222222222222222, \"#7201a8\"], [0.3333333333333333, \"#9c179e\"], [0.4444444444444444, \"#bd3786\"], [0.5555555555555556, \"#d8576b\"], [0.6666666666666666, \"#ed7953\"], [0.7777777777777778, \"#fb9f3a\"], [0.8888888888888888, \"#fdca26\"], [1.0, \"#f0f921\"]], \"type\": \"heatmap\"}], \"heatmapgl\": [{\"colorbar\": {\"outlinewidth\": 0, \"ticks\": \"\"}, \"colorscale\": [[0.0, \"#0d0887\"], [0.1111111111111111, \"#46039f\"], [0.2222222222222222, \"#7201a8\"], [0.3333333333333333, \"#9c179e\"], [0.4444444444444444, \"#bd3786\"], [0.5555555555555556, \"#d8576b\"], [0.6666666666666666, \"#ed7953\"], [0.7777777777777778, \"#fb9f3a\"], [0.8888888888888888, \"#fdca26\"], [1.0, \"#f0f921\"]], \"type\": \"heatmapgl\"}], \"histogram\": [{\"marker\": {\"colorbar\": {\"outlinewidth\": 0, \"ticks\": \"\"}}, \"type\": \"histogram\"}], \"histogram2d\": [{\"colorbar\": {\"outlinewidth\": 0, \"ticks\": \"\"}, \"colorscale\": [[0.0, \"#0d0887\"], [0.1111111111111111, \"#46039f\"], [0.2222222222222222, \"#7201a8\"], [0.3333333333333333, \"#9c179e\"], [0.4444444444444444, \"#bd3786\"], [0.5555555555555556, \"#d8576b\"], [0.6666666666666666, \"#ed7953\"], [0.7777777777777778, \"#fb9f3a\"], [0.8888888888888888, \"#fdca26\"], [1.0, \"#f0f921\"]], \"type\": \"histogram2d\"}], \"histogram2dcontour\": [{\"colorbar\": {\"outlinewidth\": 0, \"ticks\": \"\"}, \"colorscale\": [[0.0, \"#0d0887\"], [0.1111111111111111, \"#46039f\"], [0.2222222222222222, \"#7201a8\"], [0.3333333333333333, \"#9c179e\"], [0.4444444444444444, \"#bd3786\"], [0.5555555555555556, \"#d8576b\"], [0.6666666666666666, \"#ed7953\"], [0.7777777777777778, \"#fb9f3a\"], [0.8888888888888888, \"#fdca26\"], [1.0, \"#f0f921\"]], \"type\": \"histogram2dcontour\"}], \"mesh3d\": [{\"colorbar\": {\"outlinewidth\": 0, \"ticks\": \"\"}, \"type\": \"mesh3d\"}], \"parcoords\": [{\"line\": {\"colorbar\": {\"outlinewidth\": 0, \"ticks\": \"\"}}, \"type\": \"parcoords\"}], \"pie\": [{\"automargin\": true, \"type\": \"pie\"}], \"scatter\": [{\"marker\": {\"colorbar\": {\"outlinewidth\": 0, \"ticks\": \"\"}}, \"type\": \"scatter\"}], \"scatter3d\": [{\"line\": {\"colorbar\": {\"outlinewidth\": 0, \"ticks\": \"\"}}, \"marker\": {\"colorbar\": {\"outlinewidth\": 0, \"ticks\": \"\"}}, \"type\": \"scatter3d\"}], \"scattercarpet\": [{\"marker\": {\"colorbar\": {\"outlinewidth\": 0, \"ticks\": \"\"}}, \"type\": \"scattercarpet\"}], \"scattergeo\": [{\"marker\": {\"colorbar\": {\"outlinewidth\": 0, \"ticks\": \"\"}}, \"type\": \"scattergeo\"}], \"scattergl\": [{\"marker\": {\"colorbar\": {\"outlinewidth\": 0, \"ticks\": \"\"}}, \"type\": \"scattergl\"}], \"scattermapbox\": [{\"marker\": {\"colorbar\": {\"outlinewidth\": 0, \"ticks\": \"\"}}, \"type\": \"scattermapbox\"}], \"scatterpolar\": [{\"marker\": {\"colorbar\": {\"outlinewidth\": 0, \"ticks\": \"\"}}, \"type\": \"scatterpolar\"}], \"scatterpolargl\": [{\"marker\": {\"colorbar\": {\"outlinewidth\": 0, \"ticks\": \"\"}}, \"type\": \"scatterpolargl\"}], \"scatterternary\": [{\"marker\": {\"colorbar\": {\"outlinewidth\": 0, \"ticks\": \"\"}}, \"type\": \"scatterternary\"}], \"surface\": [{\"colorbar\": {\"outlinewidth\": 0, \"ticks\": \"\"}, \"colorscale\": [[0.0, \"#0d0887\"], [0.1111111111111111, \"#46039f\"], [0.2222222222222222, \"#7201a8\"], [0.3333333333333333, \"#9c179e\"], [0.4444444444444444, \"#bd3786\"], [0.5555555555555556, \"#d8576b\"], [0.6666666666666666, \"#ed7953\"], [0.7777777777777778, \"#fb9f3a\"], [0.8888888888888888, \"#fdca26\"], [1.0, \"#f0f921\"]], \"type\": \"surface\"}], \"table\": [{\"cells\": {\"fill\": {\"color\": \"#EBF0F8\"}, \"line\": {\"color\": \"white\"}}, \"header\": {\"fill\": {\"color\": \"#C8D4E3\"}, \"line\": {\"color\": \"white\"}}, \"type\": \"table\"}]}, \"layout\": {\"annotationdefaults\": {\"arrowcolor\": \"#2a3f5f\", \"arrowhead\": 0, \"arrowwidth\": 1}, \"autotypenumbers\": \"strict\", \"coloraxis\": {\"colorbar\": {\"outlinewidth\": 0, \"ticks\": \"\"}}, \"colorscale\": {\"diverging\": [[0, \"#8e0152\"], [0.1, \"#c51b7d\"], [0.2, \"#de77ae\"], [0.3, \"#f1b6da\"], [0.4, \"#fde0ef\"], [0.5, \"#f7f7f7\"], [0.6, \"#e6f5d0\"], [0.7, \"#b8e186\"], [0.8, \"#7fbc41\"], [0.9, \"#4d9221\"], [1, \"#276419\"]], \"sequential\": [[0.0, \"#0d0887\"], [0.1111111111111111, \"#46039f\"], [0.2222222222222222, \"#7201a8\"], [0.3333333333333333, \"#9c179e\"], [0.4444444444444444, \"#bd3786\"], [0.5555555555555556, \"#d8576b\"], [0.6666666666666666, \"#ed7953\"], [0.7777777777777778, \"#fb9f3a\"], [0.8888888888888888, \"#fdca26\"], [1.0, \"#f0f921\"]], \"sequentialminus\": [[0.0, \"#0d0887\"], [0.1111111111111111, \"#46039f\"], [0.2222222222222222, \"#7201a8\"], [0.3333333333333333, \"#9c179e\"], [0.4444444444444444, \"#bd3786\"], [0.5555555555555556, \"#d8576b\"], [0.6666666666666666, \"#ed7953\"], [0.7777777777777778, \"#fb9f3a\"], [0.8888888888888888, \"#fdca26\"], [1.0, \"#f0f921\"]]}, \"colorway\": [\"#636efa\", \"#EF553B\", \"#00cc96\", \"#ab63fa\", \"#FFA15A\", \"#19d3f3\", \"#FF6692\", \"#B6E880\", \"#FF97FF\", \"#FECB52\"], \"font\": {\"color\": \"#2a3f5f\"}, \"geo\": {\"bgcolor\": \"white\", \"lakecolor\": \"white\", \"landcolor\": \"#E5ECF6\", \"showlakes\": true, \"showland\": true, \"subunitcolor\": \"white\"}, \"hoverlabel\": {\"align\": \"left\"}, \"hovermode\": \"closest\", \"mapbox\": {\"style\": \"light\"}, \"paper_bgcolor\": \"white\", \"plot_bgcolor\": \"#E5ECF6\", \"polar\": {\"angularaxis\": {\"gridcolor\": \"white\", \"linecolor\": \"white\", \"ticks\": \"\"}, \"bgcolor\": \"#E5ECF6\", \"radialaxis\": {\"gridcolor\": \"white\", \"linecolor\": \"white\", \"ticks\": \"\"}}, \"scene\": {\"xaxis\": {\"backgroundcolor\": \"#E5ECF6\", \"gridcolor\": \"white\", \"gridwidth\": 2, \"linecolor\": \"white\", \"showbackground\": true, \"ticks\": \"\", \"zerolinecolor\": \"white\"}, \"yaxis\": {\"backgroundcolor\": \"#E5ECF6\", \"gridcolor\": \"white\", \"gridwidth\": 2, \"linecolor\": \"white\", \"showbackground\": true, \"ticks\": \"\", \"zerolinecolor\": \"white\"}, \"zaxis\": {\"backgroundcolor\": \"#E5ECF6\", \"gridcolor\": \"white\", \"gridwidth\": 2, \"linecolor\": \"white\", \"showbackground\": true, \"ticks\": \"\", \"zerolinecolor\": \"white\"}}, \"shapedefaults\": {\"line\": {\"color\": \"#2a3f5f\"}}, \"ternary\": {\"aaxis\": {\"gridcolor\": \"white\", \"linecolor\": \"white\", \"ticks\": \"\"}, \"baxis\": {\"gridcolor\": \"white\", \"linecolor\": \"white\", \"ticks\": \"\"}, \"bgcolor\": \"#E5ECF6\", \"caxis\": {\"gridcolor\": \"white\", \"linecolor\": \"white\", \"ticks\": \"\"}}, \"title\": {\"x\": 0.05}, \"xaxis\": {\"automargin\": true, \"gridcolor\": \"white\", \"linecolor\": \"white\", \"ticks\": \"\", \"title\": {\"standoff\": 15}, \"zerolinecolor\": \"white\", \"zerolinewidth\": 2}, \"yaxis\": {\"automargin\": true, \"gridcolor\": \"white\", \"linecolor\": \"white\", \"ticks\": \"\", \"title\": {\"standoff\": 15}, \"zerolinecolor\": \"white\", \"zerolinewidth\": 2}}}, \"title\": {\"font\": {\"color\": \"#4D5663\"}, \"text\": \"Number complaints in each product\"}, \"xaxis\": {\"gridcolor\": \"#E1E5ED\", \"showgrid\": true, \"tickfont\": {\"color\": \"#4D5663\"}, \"title\": {\"font\": {\"color\": \"#4D5663\"}, \"text\": \"\"}, \"zerolinecolor\": \"#E1E5ED\"}, \"yaxis\": {\"gridcolor\": \"#E1E5ED\", \"showgrid\": true, \"tickfont\": {\"color\": \"#4D5663\"}, \"title\": {\"font\": {\"color\": \"#4D5663\"}, \"text\": \"Number of Complaints\"}, \"zerolinecolor\": \"#E1E5ED\"}},                        {\"showLink\": true, \"linkText\": \"Export to plot.ly\", \"plotlyServerURL\": \"https://plot.ly\", \"responsive\": true}                    ).then(function(){\n",
       "                            \n",
       "var gd = document.getElementById('621fc2ee-3033-4c6a-b358-a73c96ad2a5a');\n",
       "var x = new MutationObserver(function (mutations, observer) {{\n",
       "        var display = window.getComputedStyle(gd).display;\n",
       "        if (!display || display === 'none') {{\n",
       "            console.log([gd, 'removed!']);\n",
       "            Plotly.purge(gd);\n",
       "            observer.disconnect();\n",
       "        }}\n",
       "}});\n",
       "\n",
       "// Listen for the removal of the full notebook cells\n",
       "var notebookContainer = gd.closest('#notebook-container');\n",
       "if (notebookContainer) {{\n",
       "    x.observe(notebookContainer, {childList: true});\n",
       "}}\n",
       "\n",
       "// Listen for the clearing of the current output cell\n",
       "var outputEl = gd.closest('.output');\n",
       "if (outputEl) {{\n",
       "    x.observe(outputEl, {childList: true});\n",
       "}}\n",
       "\n",
       "                        })                };                });            </script>        </div>"
      ]
     },
     "metadata": {},
     "output_type": "display_data"
    }
   ],
   "source": [
    "df['product'].value_counts().sort_values(ascending=False).iplot(kind='bar', yTitle='Number of Complaints', \n",
    "                                                                title='Number complaints in each product')\n"
   ]
  },
  {
   "cell_type": "code",
   "execution_count": 12,
   "metadata": {},
   "outputs": [
    {
     "data": {
      "image/png": "[encoded data removed]",
      "text/plain": [
       "<Figure size 1296x216 with 6 Axes>"
      ]
     },
     "metadata": {
      "needs_background": "light"
     },
     "output_type": "display_data"
    }
   ],
   "source": [
    "g=sns.FacetGrid(df,col='submitted_via')"
   ]
  },
  {
   "cell_type": "code",
   "execution_count": 39,
   "metadata": {},
   "outputs": [
    {
     "data": {
      "text/plain": [
       "<seaborn.axisgrid.FacetGrid at 0x1f1974ab100>"
      ]
     },
     "execution_count": 39,
     "metadata": {},
     "output_type": "execute_result"
    },
    {
     "data": {
      "image/png": "[encoded data removed]",
      "text/plain": [
       "<Figure size 1512x504 with 1 Axes>"
      ]
     },
     "metadata": {},
     "output_type": "display_data"
    }
   ],
   "source": [
    "# plt.figure(figsize=(16, 6))\n",
    "# from matplotlib import pyplot\n",
    "# a4_dims = (11.7, 8.27)\n",
    "# fig, ax = pyplot.subplots(figsize=a4_dims)\n",
    "\n",
    "# sns.set(rc = {'figure.figsize':(15,8)})\n",
    "g=sns.FacetGrid(df,hue='product',height=7,aspect=3)\n",
    "g.map(plt.hist,'submitted_via',bins=22,alpha=0.6)\n"
   ]
  },
  {
   "cell_type": "code",
   "execution_count": 10,
   "metadata": {
    "scrolled": true
   },
   "outputs": [
    {
     "data": {
      "text/plain": [
       "False    489151\n",
       "True      66806\n",
       "Name: consumer_complaint_narrative, dtype: int64"
      ]
     },
     "execution_count": 10,
     "metadata": {},
     "output_type": "execute_result"
    }
   ],
   "source": [
    "pd.notnull(df['consumer_complaint_narrative']).value_counts()"
   ]
  },
  {
   "cell_type": "code",
   "execution_count": 12,
   "metadata": {
    "scrolled": true
   },
   "outputs": [
    {
     "data": {
      "text/html": [
       "<div>\n",
       "<style scoped>\n",
       "    .dataframe tbody tr th:only-of-type {\n",
       "        vertical-align: middle;\n",
       "    }\n",
       "\n",
       "    .dataframe tbody tr th {\n",
       "        vertical-align: top;\n",
       "    }\n",
       "\n",
       "    .dataframe thead th {\n",
       "        text-align: right;\n",
       "    }\n",
       "</style>\n",
       "<table border=\"1\" class=\"dataframe\">\n",
       "  <thead>\n",
       "    <tr style=\"text-align: right;\">\n",
       "      <th></th>\n",
       "      <th>product</th>\n",
       "      <th>consumer_complaint_narrative</th>\n",
       "    </tr>\n",
       "  </thead>\n",
       "  <tbody>\n",
       "    <tr>\n",
       "      <th>190126</th>\n",
       "      <td>Debt collection</td>\n",
       "      <td>XXXX has claimed I owe them {$27.00} for XXXX ...</td>\n",
       "    </tr>\n",
       "    <tr>\n",
       "      <th>190135</th>\n",
       "      <td>Consumer Loan</td>\n",
       "      <td>Due to inconsistencies in the amount owed that...</td>\n",
       "    </tr>\n",
       "    <tr>\n",
       "      <th>190155</th>\n",
       "      <td>Mortgage</td>\n",
       "      <td>In XX/XX/XXXX my wages that I earned at my job...</td>\n",
       "    </tr>\n",
       "    <tr>\n",
       "      <th>190207</th>\n",
       "      <td>Mortgage</td>\n",
       "      <td>I have an open and current mortgage with Chase...</td>\n",
       "    </tr>\n",
       "    <tr>\n",
       "      <th>190208</th>\n",
       "      <td>Mortgage</td>\n",
       "      <td>XXXX was submitted XX/XX/XXXX. At the time I s...</td>\n",
       "    </tr>\n",
       "    <tr>\n",
       "      <th>...</th>\n",
       "      <td>...</td>\n",
       "      <td>...</td>\n",
       "    </tr>\n",
       "    <tr>\n",
       "      <th>553084</th>\n",
       "      <td>Credit reporting</td>\n",
       "      <td>XXXX XXXX is reporting incorrectly, payments h...</td>\n",
       "    </tr>\n",
       "    <tr>\n",
       "      <th>553085</th>\n",
       "      <td>Credit reporting</td>\n",
       "      <td>Reflecting incorrect payment status. Have been...</td>\n",
       "    </tr>\n",
       "    <tr>\n",
       "      <th>553086</th>\n",
       "      <td>Payday loan</td>\n",
       "      <td>I have been paying {$180.00} a month through d...</td>\n",
       "    </tr>\n",
       "    <tr>\n",
       "      <th>553090</th>\n",
       "      <td>Mortgage</td>\n",
       "      <td>I recently became aware that Amerisave Mortgag...</td>\n",
       "    </tr>\n",
       "    <tr>\n",
       "      <th>553096</th>\n",
       "      <td>Mortgage</td>\n",
       "      <td>Bank of America has demonstrated an on-going l...</td>\n",
       "    </tr>\n",
       "  </tbody>\n",
       "</table>\n",
       "<p>66806 rows × 2 columns</p>\n",
       "</div>"
      ],
      "text/plain": [
       "                 product                       consumer_complaint_narrative\n",
       "190126   Debt collection  XXXX has claimed I owe them {$27.00} for XXXX ...\n",
       "190135     Consumer Loan  Due to inconsistencies in the amount owed that...\n",
       "190155          Mortgage  In XX/XX/XXXX my wages that I earned at my job...\n",
       "190207          Mortgage  I have an open and current mortgage with Chase...\n",
       "190208          Mortgage  XXXX was submitted XX/XX/XXXX. At the time I s...\n",
       "...                  ...                                                ...\n",
       "553084  Credit reporting  XXXX XXXX is reporting incorrectly, payments h...\n",
       "553085  Credit reporting  Reflecting incorrect payment status. Have been...\n",
       "553086       Payday loan  I have been paying {$180.00} a month through d...\n",
       "553090          Mortgage  I recently became aware that Amerisave Mortgag...\n",
       "553096          Mortgage  Bank of America has demonstrated an on-going l...\n",
       "\n",
       "[66806 rows x 2 columns]"
      ]
     },
     "execution_count": 12,
     "metadata": {},
     "output_type": "execute_result"
    }
   ],
   "source": [
    "Data = df[['product','consumer_complaint_narrative']]\n",
    "Data = Data[pd.notnull(Data['consumer_complaint_narrative'])]\n",
    "Data"
   ]
  },
  {
   "cell_type": "code",
   "execution_count": 14,
   "metadata": {
    "scrolled": true
   },
   "outputs": [
    {
     "data": {
      "text/plain": [
       "product\n",
       "Bank account or service     5711\n",
       "Consumer Loan               3678\n",
       "Credit card                 7929\n",
       "Credit reporting           12526\n",
       "Debt collection            17552\n",
       "Money transfers              666\n",
       "Mortgage                   14919\n",
       "Other financial service      110\n",
       "Payday loan                  726\n",
       "Prepaid card                 861\n",
       "Student loan                2128\n",
       "Name: consumer_complaint_narrative, dtype: int64"
      ]
     },
     "execution_count": 14,
     "metadata": {},
     "output_type": "execute_result"
    }
   ],
   "source": [
    "# Data.rename(columns={'Consumer complaint narrative':'Consumer_complaint_narrative'},inplace=True)\n",
    "\n",
    "Data.groupby('product').consumer_complaint_narrative.count()\n"
   ]
  },
  {
   "cell_type": "code",
   "execution_count": 15,
   "metadata": {
    "scrolled": true
   },
   "outputs": [
    {
     "data": {
      "image/png": "[encoded data removed]",
      "text/plain": [
       "<Figure size 576x432 with 1 Axes>"
      ]
     },
     "metadata": {
      "needs_background": "light"
     },
     "output_type": "display_data"
    }
   ],
   "source": [
    "fig = plt.figure(figsize=(8,6))\n",
    "Data.groupby('product').consumer_complaint_narrative.count().plot.bar()\n",
    "plt.show()"
   ]
  },
  {
   "cell_type": "code",
   "execution_count": 16,
   "metadata": {},
   "outputs": [
    {
     "data": {
      "text/plain": [
       "<matplotlib.axes._subplots.AxesSubplot at 0x10fe4001a60>"
      ]
     },
     "execution_count": 16,
     "metadata": {},
     "output_type": "execute_result"
    },
    {
     "data": {
      "image/png": "[encoded data removed]",
      "text/plain": [
       "<Figure size 1296x432 with 1 Axes>"
      ]
     },
     "metadata": {
      "needs_background": "light"
     },
     "output_type": "display_data"
    }
   ],
   "source": [
    "fig,ax = plt.subplots(figsize=(18,6))\n",
    "sns.countplot(x='product',data=Data)"
   ]
  },
  {
   "cell_type": "code",
   "execution_count": 78,
   "metadata": {},
   "outputs": [],
   "source": [
    "# Data['Consumer_complaint_narrative']=Data['Consumer_complaint_narrative'].apply(lambda x: ' '.join([i.lower() for i in x.split()]))"
   ]
  },
  {
   "cell_type": "code",
   "execution_count": 17,
   "metadata": {},
   "outputs": [
    {
     "data": {
      "text/plain": [
       "528474    Both my auto loan holder CNAC XXXX, WI and my ...\n",
       "261497    In XXXX 2015 my loan was transferred to Bayvie...\n",
       "Name: consumer_complaint_narrative, dtype: object"
      ]
     },
     "execution_count": 17,
     "metadata": {},
     "output_type": "execute_result"
    }
   ],
   "source": [
    "Data['consumer_complaint_narrative'].sample(2)"
   ]
  },
  {
   "cell_type": "code",
   "execution_count": 18,
   "metadata": {},
   "outputs": [],
   "source": [
    "import re\n",
    "import nltk \n",
    "# nltk.download('stopwords')\n",
    "from nltk.corpus import stopwords\n",
    "Stopwords=set(stopwords.words('english'))\n",
    "from nltk.stem import WordNetLemmatizer\n",
    "lemmatizer = WordNetLemmatizer() \n"
   ]
  },
  {
   "cell_type": "code",
   "execution_count": 19,
   "metadata": {},
   "outputs": [],
   "source": [
    "def clean_text(text):\n",
    "    text=text.lower()\n",
    "    text=re.sub(r'[-()\\\"#/@;:<>{}=~|.?,]', \" \", text)\n",
    "    text = ' '.join(word for word in text.split() if word not in Stopwords)\n",
    "    \n",
    "    return text"
   ]
  },
  {
   "cell_type": "code",
   "execution_count": 21,
   "metadata": {},
   "outputs": [
    {
     "data": {
      "text/plain": [
       "pandas.core.series.Series"
      ]
     },
     "execution_count": 21,
     "metadata": {},
     "output_type": "execute_result"
    }
   ],
   "source": [
    "type(df['consumer_complaint_narrative'])"
   ]
  },
  {
   "cell_type": "code",
   "execution_count": 22,
   "metadata": {},
   "outputs": [],
   "source": [
    "Data['consumer_complaint_narrative']=Data['consumer_complaint_narrative'].astype(str).apply(clean_text)\n",
    "Data['consumer_complaint_narrative'] =Data['consumer_complaint_narrative'].apply(lambda x:' '.join([lemmatizer.lemmatize(i) for i in x.split()]))"
   ]
  },
  {
   "cell_type": "code",
   "execution_count": 128,
   "metadata": {},
   "outputs": [],
   "source": [
    "from sklearn.feature_extraction.text import TfidfVectorizer\n",
    "from sklearn.model_selection import train_test_split"
   ]
  },
  {
   "cell_type": "code",
   "execution_count": 107,
   "metadata": {},
   "outputs": [],
   "source": [
    "import torch\n",
    "import torch.nn as nn"
   ]
  },
  {
   "cell_type": "code",
   "execution_count": 1,
   "metadata": {},
   "outputs": [
    {
     "ename": "NameError",
     "evalue": "name 'train_test_split' is not defined",
     "output_type": "error",
     "traceback": [
      "\u001b[1;31m---------------------------------------------------------------------------\u001b[0m",
      "\u001b[1;31mNameError\u001b[0m                                 Traceback (most recent call last)",
      "\u001b[1;32m<ipython-input-1-8e61f0f30327>\u001b[0m in \u001b[0;36m<module>\u001b[1;34m\u001b[0m\n\u001b[1;32m----> 1\u001b[1;33m train_x, valid_x, train_y, valid_y = train_test_split(Data['consumer_complaint_narrative'], Data['product'],stratify=Data['Product'], \n\u001b[0m\u001b[0;32m      2\u001b[0m                                                     test_size=0.25)\n",
      "\u001b[1;31mNameError\u001b[0m: name 'train_test_split' is not defined"
     ]
    }
   ],
   "source": [
    "train_x, valid_x, train_y, valid_y = train_test_split(Data['consumer_complaint_narrative'], Data['product'],stratify=Data['Product'], \n",
    "                                                    test_size=0.25)"
   ]
  },
  {
   "cell_type": "code",
   "execution_count": 138,
   "metadata": {},
   "outputs": [
    {
     "data": {
      "text/plain": [
       "360630     previously disputed bankruptcy response verifi...\n",
       "63143      came attention there incorrect information acc...\n",
       "502713     received credit report three major credit repo...\n",
       "197901     family held approved fha loan xxxx credit repo...\n",
       "1663158    dear sir madam 've sent money $820 00 xxxx xxx...\n",
       "                                 ...                        \n",
       "705424     ordered pc xxxx pc severely damaged also came ...\n",
       "557708     multiple medical debt credit score xx xx xxxxa...\n",
       "1652763    xxxx payment xxxx never credited account calle...\n",
       "266863     checked credit report saw account xxxx opploan...\n",
       "1692352    modification loan granted xxxx citimortgage un...\n",
       "Name: Consumer_complaint_narrative, Length: 492825, dtype: object"
      ]
     },
     "execution_count": 138,
     "metadata": {},
     "output_type": "execute_result"
    }
   ],
   "source": [
    "train_x\n",
    "# nn.Embedding()"
   ]
  },
  {
   "cell_type": "code",
   "execution_count": 144,
   "metadata": {},
   "outputs": [],
   "source": [
    "########TFIDF#############\n",
    "tfidf=TfidfVectorizer()\n",
    "tfidf.fit(Data['Consumer_complaint_narrative'])\n",
    "xtrain_tfidf=tfidf.transform(train_x)\n",
    "ytrain_tfidf=tfidf.transform(train_y)"
   ]
  },
  {
   "cell_type": "code",
   "execution_count": 178,
   "metadata": {},
   "outputs": [
    {
     "name": "stdout",
     "output_type": "stream",
     "text": [
      "(492825, 141086)\n"
     ]
    }
   ],
   "source": [
    "print(ytrain_tfidf.shape)"
   ]
  },
  {
   "cell_type": "code",
   "execution_count": 161,
   "metadata": {},
   "outputs": [],
   "source": [
    "from sklearn.model_selection import GridSearchCV\n",
    "from lightgbm import LGBMClassifier\n"
   ]
  },
  {
   "cell_type": "code",
   "execution_count": 184,
   "metadata": {},
   "outputs": [],
   "source": [
    "# # clf=XGBClassifier()\n",
    "# xgb_model = XGBClassifier(max_depth=50, n_estimators=80, learning_rate=0.1, colsample_bytree=.7, gamma=0, reg_alpha=4, eta=0.3, silent=1, subsample=0.8)\n",
    "# xgb_model.fit(xtrain_tfidf, train_y)\n",
    "# model=LGBMClassifier()"
   ]
  },
  {
   "cell_type": "code",
   "execution_count": 166,
   "metadata": {},
   "outputs": [],
   "source": [
    "\n",
    "# # lightgbm\n",
    "# param_grid = {\n",
    "#     'n_estimators': [400, 700, 1000],\n",
    "#     'colsample_bytree': [0.7, 0.8],\n",
    "#     'max_depth': [15,20,25],\n",
    "#     'num_leaves': [50, 100, 200],\n",
    "#     'reg_alpha': [1.1, 1.2, 1.3],\n",
    "#     'reg_lambda': [1.1, 1.2, 1.3],\n",
    "#     'min_split_gain': [0.3, 0.4],\n",
    "#     'subsample': [0.7, 0.8, 0.9],\n",
    "#     'subsample_freq': [20]\n",
    "# }\n",
    "# !pip install lightgbm"
   ]
  },
  {
   "cell_type": "code",
   "execution_count": null,
   "metadata": {},
   "outputs": [],
   "source": [
    "#### Deep Learning Model"
   ]
  },
  {
   "cell_type": "code",
   "execution_count": 29,
   "metadata": {},
   "outputs": [],
   "source": [
    "import torch\n",
    "import torch.nn as nn \n",
    "import torch.optim as optim\n",
    "from torchtext import data    \n",
    "from torchtext.vocab import Vectors\n",
    "import spacy\n",
    "# !python -m spacy download en\n",
    "# !python -m spacy download en_core_web_sm\n",
    "# import en_core_web_sm\n",
    "# spacy.load('en_core_web_sm')\n",
    "device = torch.device(\"cuda\" if torch.cuda.is_available() else \"cpu\")"
   ]
  },
  {
   "cell_type": "code",
   "execution_count": 25,
   "metadata": {},
   "outputs": [
    {
     "name": "stdout",
     "output_type": "stream",
     "text": [
      "Found 400000 word vectors.\n"
     ]
    }
   ],
   "source": [
    "word2vec = {}\n",
    "with open('glove/glove.6B.200d.txt',encoding='utf-8') as vec_file:\n",
    "    for line in vec_file:\n",
    "        values=line.split()\n",
    "#         print(values)\n",
    "        words=values[0]\n",
    "        vec = np.asarray(values[1:], dtype='float32') \n",
    "        word2vec[words]=vec\n",
    "    print('Found %s word vectors.' % len(word2vec))\n",
    "        "
   ]
  },
  {
   "cell_type": "code",
   "execution_count": 17,
   "metadata": {},
   "outputs": [
    {
     "name": "stderr",
     "output_type": "stream",
     "text": [
      "[nltk_data] Downloading package omw-1.4 to\n",
      "[nltk_data]     C:\\Users\\HP\\AppData\\Roaming\\nltk_data...\n",
      "[nltk_data]   Unzipping corpora\\omw-1.4.zip.\n"
     ]
    },
    {
     "data": {
      "text/plain": [
       "True"
      ]
     },
     "execution_count": 17,
     "metadata": {},
     "output_type": "execute_result"
    }
   ],
   "source": [
    "####model creation\n",
    "# def model()\n",
    "import nltk\n",
    "from nltk.corpus import stopwords\n",
    "stop_words = stopwords.words('english') \n",
    "from nltk.stem import PorterStemmer\n",
    "from nltk.stem import WordNetLemmatizer\n",
    "nltk.download('omw-1.4')"
   ]
  },
  {
   "cell_type": "code",
   "execution_count": 20,
   "metadata": {},
   "outputs": [],
   "source": [
    "def tokenize(text):\n",
    "    text=text.lower()\n",
    "    tokens = [word for word in nltk.word_tokenize(text) ]\n",
    "    print(tokens)\n",
    "    lem=WordNetLemmatizer()    \n",
    "    stemmed_text = ' '.join([lem.lemmatize(item) for item in tokens if (item not in stop_words)]\n",
    "    return stemmed_text"
   ]
  },
  {
   "cell_type": "code",
   "execution_count": 21,
   "metadata": {},
   "outputs": [
    {
     "name": "stdout",
     "output_type": "stream",
     "text": [
      "['cont', \"'d\", 'attempts', 'collect', 'debt', 'not', 'owed']\n"
     ]
    },
    {
     "data": {
      "text/plain": [
       "\"cont 'd attempt collect debt owed\""
      ]
     },
     "execution_count": 21,
     "metadata": {},
     "output_type": "execute_result"
    }
   ],
   "source": [
    "t=\"Cont'd attempts collect debt not owed\"\n",
    "clean_text=tokenize(t)\n",
    "clean_text"
   ]
  },
  {
   "cell_type": "code",
   "execution_count": 25,
   "metadata": {},
   "outputs": [],
   "source": [
    "import pickle\n",
    "import re\n",
    "import nltk\n",
    "# from flask import Flask, jsonify, request, render_template\n",
    "from nltk.corpus import stopwords\n",
    "\n",
    "stop_words = stopwords.words('english')\n",
    "from nltk.stem import WordNetLemmatizer\n",
    "\n",
    "\n",
    "targets = {4: 'Debt collection ', 6: 'Mortgage', 3: 'Credit reporting', 2: 'Credit card', 0: 'Bank account or service ',\n",
    "           1: 'Consumer Loan ', 10: \"Student loan\", 9: 'Prepaid card ', 8: 'Payday loan ', 5: 'Money transfers',\n",
    "           7: 'Other financial service'}\n",
    "\n",
    "clf = pickle.load(open('model.pkl', 'rb'))\n",
    "loaded_vec = pickle.load(open(\"vectorizer.pkl\", \"rb\"))\n",
    "\n",
    "\n",
    "def pre_processing(text):\n",
    "    lemmatizer = WordNetLemmatizer()\n",
    "    text = text.lower()\n",
    "    text = re.sub('[0-9]+', 'num', text)\n",
    "    word_list = nltk.word_tokenize(text)\n",
    "    word_list = [lemmatizer.lemmatize(item) for item in word_list]\n",
    "    return ' '.join(word_list)\n",
    "\n",
    "\n",
    "def scorer(text):\n",
    "    encoded_text = loaded_vec.transform([text])\n",
    "    score = clf.predict(encoded_text)\n",
    "    return score\n",
    "\n",
    "\n",
    "\n",
    "\n",
    "def predict_fn():\n",
    "    # text = request.get_json()['text']\n",
    "    # print('input_text',text)\n",
    "    text1 = request.form.to_dict()\n",
    "    print(text1)\n",
    "    Data = pre_processing(text1['Data'])\n",
    "    print(Data)\n",
    "    predictions = scorer(Data)\n",
    "   \n",
    "    prediction = predictions.argmax(axis=0)[0]\n",
    "    return render_template('results.html', result=jsonify({'Category': targets.get(prediction)}))\n",
    "\n",
    "\n",
    "\n",
    "#     app.run(debug=True)\n",
    "\n",
    "    ## user(text)-->preprocessing()-->\n",
    "\n"
   ]
  },
  {
   "cell_type": "code",
   "execution_count": 33,
   "metadata": {},
   "outputs": [
    {
     "name": "stdout",
     "output_type": "stream",
     "text": [
      "we purchased our family home located at xxxx xxxx xxxx xxxx in xxxx xxxx in xxxx . we have resided in our home a our primary residence since that purchase . we fell behind when the business owned by xxxx xxxx went under in xxxx . the xxxx 's financial situation began to improve in xxxx and they have been working with xxxx bank a the servicer to bank of america , a note owner to pursue a loan modification that would allow them to retain their home- a full and complete loan modification package with all requisite financial information , documentation and form wa submitted to bank of america via it hlp ( hope loan port ) online submission system no later than xxxx/xxxx/xxxx . here is an email form that hlp system from xxxx/xxxx/xxxx . case comment : * * * welcome * * * hello , my name is xxxx xxxx and i will be your single point of contact for this file . i will provide you with timely update and request for document throughout the review process . please feel free to contact me through the hlp message if you have any question or concern . assistance is not guaranteed , however the borrower will be reviewed for all possible work out option . thank you , xxxx based upon that complete loan modification submission , in accordance with the cfpb rule , xxxx xxxx bank of america instructed it counsel , xxxx xxxx xxxx xxxx xxxx xxxx xxxx xxxx xxxx to file a motion to cancel the xxxx xxxx , xxxx sale date ( this wa xxxx sale date ) . that motion wa filed on xxxx/xxxx/xxxx but unfortunately , plaintiff failed to set it motion to cancel for hearing . however , that sale should have been cancelled by the court without the need for hearing based upon cfpb rule or the plaintiff could have simply , dismissed or stayed / suspended the action . ( see attached ) - thereafter , plaintiff 's counsel and defense counsel submitted an agreed order to the judge to cancel the sale based upon those cfpb rule but it wa denied . - following that denial ( with an agreed order ) , defendant 's counsel filed it own motion to cancel the xxxx/xxxx/xxxx sale date and have it heard on an emergency basis . the judge refused to allow it to be argued . we have sensed learned this same judge wa through many other similar proceeding and wrong doings wa removed from his position a a foreclosure judge in xxxx county the end of last year xxxx . - the sale went forward on xxxx/xxxx/xxxx in violation of those cfpb loss mitigation federal servicing requirement . the bank took it back at auction . there wa no numrd party purchaser . the loan modification wa in active review at the time of auction sale and had been active and complete for at least num day . - defense counsel then filed an objection to sale and motion to vacate sale based upon those cfpb violation . defense counsel request in writing on multiple occasion for plaintiff 's firm on behalf of bank of america xxxx xxxx xxxx to voluntarily vacate the auction sale which it had the power to do but they refused . the objection to sale / motion to vacate wa heard on xxxx/xxxx/xxxx and the judge denied . the sale date must have been cancelled because of the controlling consumer financial protection bureau rule . those rule state in pertinent part : plaintiff wa prohibited from conducting a foreclosure auction sale in accordance withregulation x of respa which state in pertinent part ; if a consumer submitted a complete loss mitigation application after plaintiff/servicer ha made the xxxx notice or filing for the foreclosure process but more than num day before a foreclosure sale , plaintiff/servicer must not move for foreclosure judgment or order of sale , or conduct a foreclosure sale , until xxxx of the following occurs : a ) servicer sends consumer a notice that the consumer is not eligible for any loss mitigation option and consumer ha exhausted the appeal process . ( this provision is not applicable to the instant action ) . b ) the consumer reject all loss mitigat\n",
      "[6]\n"
     ]
    }
   ],
   "source": [
    "text=\"We purchased our family home located at XXXX XXXX XXXX XXXX in XXXX XXXX in XXXX. We have resided in our home as our primary residence since that purchase. We fell behind when the business owned by XXXX XXXX went under in XXXX. The XXXX 's financial situation began to improve in XXXX and they have been working with XXXX Bank as the servicer to Bank of America, as note owner to pursue a loan modification that would allow them to retain their home- A Full and complete loan modification package with all requisite financial information, documentation and forms was submitted to Bank of America via its HLP ( Hope Loan Port ) online submission system no later than XXXX/XXXX/XXXX. Here is an email form that HLP system from XXXX/XXXX/XXXX. Case Comments : ***Welcome***Hello, My name is XXXX XXXX and I will be your single point of contact for this file. I will provide you with timely updates and requests for documents throughout the review process. Please feel free to contact me through the HLP messages if you have any questions or concerns. Assistance is not guaranteed, however the borrower will be reviewed for all possible work out options. Thank You, XXXX Based upon that complete loan modification submission, in accordance with the CFPB rules, XXXX XXXX Bank of America instructed its counsel, XXXX XXXX XXXX XXXX XXXX XXXX XXXX XXXX XXXX to file a Motion to Cancel the XXXX XXXX, XXXX Sale date ( this was XXXX sale date ). That motion was filed on XXXX/XXXX/XXXX but unfortunately, Plaintiff failed to set its Motion to Cancel for hearing. However, that sale should have been cancelled by the court without the need for hearing based upon CFPB rules or the Plaintiff could have simply, dismissed or stayed / suspended the action. ( see attached ) - Thereafter, Plaintiff 's counsel and Defense counsel submitted an agreed order to the Judge to cancel the sale based upon those CFPB rules but it was denied. - Following that denial ( with an agreed order ), Defendant 's counsel filed its own Motion to Cancel the XXXX/XXXX/XXXX sale date and have it heard on an emergency basis. The Judge refused to allow it to be argued. We have sensed learned this same Judge was through many other similar proceedings and wrong doings was removed from his position as a Foreclosure Judge in XXXX county the end of last year XXXX. - The sale went forward on XXXX/XXXX/XXXX in violation of those CFPB loss mitigation Federal servicing requirements. The bank took it back at auction. There was no 3rd party purchaser. The loan modification was in active review at the time of auction sale and had been active and complete for at least 60 days. - Defense counsel then filed an Objection to sale and motion to vacate sale based upon those CFPB violations. Defense counsel request in writing on multiple occasions for Plaintiff 's firm on behalf of Bank of America XXXX XXXX XXXX to voluntarily vacate the auction sale which it had the power to do but they refused. The Objection to sale / Motion to Vacate was heard on XXXX/XXXX/XXXX and the Judge denied. THE SALE DATE MUST HAVE BEEN CANCELLED BECAUSE OF THE CONTROLLING CONSUMER FINANCIAL PROTECTION BUREAU rules. Those rules state in pertinent part : Plaintiff was prohibited from conducting a foreclosure auction sale in accordance withRegulation X of RESPA which states in pertinent part ; If a consumer submitted a complete loss mitigation application after Plaintiff/Servicer has made the XXXX notice or filing for the foreclosure process but more than 37 days before a foreclosure sale, plaintiff/servicer MUST not move for foreclosure judgment or order of sale, or conduct a foreclosure sale, until XXXX of the following occurs : a ) Servicer sends consumer a notice that the consumer is not eligible for any loss mitigation option and consumer has exhausted the appeal process. ( This provision is not applicable to the instant action ). b ) The consumer rejects all loss mitigat \"\n",
    "\n",
    "\n",
    "pcl=pre_processing(text)\n",
    "print(pcl)\n",
    "\n",
    "encode=scorer(pcl)\n",
    "print(encode)\n",
    "\n",
    "# m=encode.argmax(axis=0)[0]\n",
    "# print(m)\n",
    "\n",
    "\n"
   ]
  },
  {
   "cell_type": "code",
   "execution_count": 36,
   "metadata": {},
   "outputs": [
    {
     "name": "stdout",
     "output_type": "stream",
     "text": [
      "Looking in indexes: https://pypi.org/simple, https://pypi.ngc.nvidia.com\n",
      "Collecting connexion==2.6.0\n",
      "  Downloading connexion-2.6.0-py2.py3-none-any.whl (76 kB)\n",
      "Requirement already satisfied: flask>=1.0.4 in c:\\users\\hp\\anaconda3\\lib\\site-packages (from connexion==2.6.0) (1.1.2)\n",
      "Requirement already satisfied: inflection>=0.3.1 in c:\\users\\hp\\anaconda3\\lib\\site-packages (from connexion==2.6.0) (0.5.1)\n",
      "Requirement already satisfied: PyYAML>=5.1 in c:\\users\\hp\\anaconda3\\lib\\site-packages (from connexion==2.6.0) (5.3.1)\n",
      "Requirement already satisfied: requests>=2.9.1 in c:\\users\\hp\\anaconda3\\lib\\site-packages (from connexion==2.6.0) (2.27.1)\n",
      "Requirement already satisfied: clickclick>=1.2 in c:\\users\\hp\\anaconda3\\lib\\site-packages (from connexion==2.6.0) (20.10.2)\n",
      "Requirement already satisfied: jsonschema>=2.5.1 in c:\\users\\hp\\anaconda3\\lib\\site-packages (from connexion==2.6.0) (3.2.0)\n",
      "Requirement already satisfied: openapi-spec-validator>=0.2.4 in c:\\users\\hp\\anaconda3\\lib\\site-packages (from connexion==2.6.0) (0.3.1)\n",
      "Requirement already satisfied: click>=4.0 in c:\\users\\hp\\anaconda3\\lib\\site-packages (from clickclick>=1.2->connexion==2.6.0) (7.1.2)\n",
      "Requirement already satisfied: Werkzeug>=0.15 in c:\\users\\hp\\anaconda3\\lib\\site-packages (from flask>=1.0.4->connexion==2.6.0) (2.1.1)\n",
      "Requirement already satisfied: itsdangerous>=0.24 in c:\\users\\hp\\anaconda3\\lib\\site-packages (from flask>=1.0.4->connexion==2.6.0) (1.1.0)\n",
      "Requirement already satisfied: Jinja2>=2.10.1 in c:\\users\\hp\\anaconda3\\lib\\site-packages (from flask>=1.0.4->connexion==2.6.0) (2.11.2)\n",
      "Requirement already satisfied: MarkupSafe>=0.23 in c:\\users\\hp\\anaconda3\\lib\\site-packages (from Jinja2>=2.10.1->flask>=1.0.4->connexion==2.6.0) (2.0.1)\n",
      "Requirement already satisfied: six>=1.11.0 in c:\\users\\hp\\anaconda3\\lib\\site-packages (from jsonschema>=2.5.1->connexion==2.6.0) (1.16.0)\n",
      "Requirement already satisfied: attrs>=17.4.0 in c:\\users\\hp\\anaconda3\\lib\\site-packages (from jsonschema>=2.5.1->connexion==2.6.0) (21.4.0)\n",
      "Requirement already satisfied: pyrsistent>=0.14.0 in c:\\users\\hp\\anaconda3\\lib\\site-packages (from jsonschema>=2.5.1->connexion==2.6.0) (0.16.0)\n",
      "Requirement already satisfied: setuptools in c:\\users\\hp\\anaconda3\\lib\\site-packages (from jsonschema>=2.5.1->connexion==2.6.0) (61.3.1)\n",
      "Requirement already satisfied: openapi-schema-validator in c:\\users\\hp\\anaconda3\\lib\\site-packages (from openapi-spec-validator>=0.2.4->connexion==2.6.0) (0.1.5)\n",
      "Requirement already satisfied: certifi>=2017.4.17 in c:\\users\\hp\\anaconda3\\lib\\site-packages (from requests>=2.9.1->connexion==2.6.0) (2021.10.8)\n",
      "Requirement already satisfied: idna<4,>=2.5 in c:\\users\\hp\\anaconda3\\lib\\site-packages (from requests>=2.9.1->connexion==2.6.0) (3.3)\n",
      "Requirement already satisfied: charset-normalizer~=2.0.0 in c:\\users\\hp\\anaconda3\\lib\\site-packages (from requests>=2.9.1->connexion==2.6.0) (2.0.12)\n",
      "Requirement already satisfied: urllib3<1.27,>=1.21.1 in c:\\users\\hp\\anaconda3\\lib\\site-packages (from requests>=2.9.1->connexion==2.6.0) (1.26.9)\n",
      "Requirement already satisfied: isodate in c:\\users\\hp\\anaconda3\\lib\\site-packages (from openapi-schema-validator->openapi-spec-validator>=0.2.4->connexion==2.6.0) (0.6.0)\n",
      "Installing collected packages: connexion\n",
      "  Attempting uninstall: connexion\n",
      "    Found existing installation: connexion 2.7.0\n",
      "    Uninstalling connexion-2.7.0:\n",
      "      Successfully uninstalled connexion-2.7.0\n",
      "Successfully installed connexion-2.6.0\n"
     ]
    },
    {
     "name": "stderr",
     "output_type": "stream",
     "text": [
      "WARNING: Ignoring invalid distribution -umpy (c:\\users\\hp\\anaconda3\\lib\\site-packages)\n",
      "WARNING: Ignoring invalid distribution -umpy (c:\\users\\hp\\anaconda3\\lib\\site-packages)\n",
      "WARNING: Ignoring invalid distribution -umpy (c:\\users\\hp\\anaconda3\\lib\\site-packages)\n",
      "    WARNING: Ignoring invalid distribution -umpy (c:\\users\\hp\\anaconda3\\lib\\site-packages)\n",
      "WARNING: Ignoring invalid distribution -umpy (c:\\users\\hp\\anaconda3\\lib\\site-packages)\n",
      "ERROR: pip's dependency resolver does not currently take into account all the packages that are installed. This behaviour is the source of the following dependency conflicts.\n",
      "apache-airflow 2.0.2 requires attrs<21.0,>=20.0, but you have attrs 21.4.0 which is incompatible.\n",
      "apache-airflow 2.0.2 requires importlib-metadata~=1.7; python_version < \"3.9\", but you have importlib-metadata 4.11.3 which is incompatible.\n",
      "apache-airflow 2.0.2 requires markupsafe<2.0,>=1.1.1, but you have markupsafe 2.0.1 which is incompatible.\n",
      "apache-airflow 2.0.2 requires sqlalchemy<1.4,>=1.3.18, but you have sqlalchemy 1.4.32 which is incompatible.\n",
      "apache-airflow 2.0.2 requires werkzeug>=1.0.1,~=1.0, but you have werkzeug 2.1.1 which is incompatible.\n",
      "WARNING: Ignoring invalid distribution -umpy (c:\\users\\hp\\anaconda3\\lib\\site-packages)\n",
      "WARNING: Ignoring invalid distribution -umpy (c:\\users\\hp\\anaconda3\\lib\\site-packages)\n",
      "WARNING: Ignoring invalid distribution -umpy (c:\\users\\hp\\anaconda3\\lib\\site-packages)\n",
      "WARNING: You are using pip version 21.3.1; however, version 22.1 is available.\n",
      "You should consider upgrading via the 'C:\\Users\\HP\\anaconda3\\python.exe -m pip install --upgrade pip' command.\n"
     ]
    },
    {
     "ename": "ImportError",
     "evalue": "cannot import name 'BaseResponse' from 'werkzeug.wrappers' (C:\\Users\\HP\\anaconda3\\lib\\site-packages\\werkzeug\\wrappers\\__init__.py)",
     "output_type": "error",
     "traceback": [
      "\u001b[1;31m---------------------------------------------------------------------------\u001b[0m",
      "\u001b[1;31mImportError\u001b[0m                               Traceback (most recent call last)",
      "\u001b[1;32m<ipython-input-36-46eba0193ae5>\u001b[0m in \u001b[0;36m<module>\u001b[1;34m\u001b[0m\n\u001b[0;32m      1\u001b[0m \u001b[0mget_ipython\u001b[0m\u001b[1;33m(\u001b[0m\u001b[1;33m)\u001b[0m\u001b[1;33m.\u001b[0m\u001b[0msystem\u001b[0m\u001b[1;33m(\u001b[0m\u001b[1;34m'pip install connexion==2.6.0'\u001b[0m\u001b[1;33m)\u001b[0m\u001b[1;33m\u001b[0m\u001b[1;33m\u001b[0m\u001b[0m\n\u001b[1;32m----> 2\u001b[1;33m \u001b[1;32mfrom\u001b[0m \u001b[0mflask\u001b[0m \u001b[1;32mimport\u001b[0m \u001b[0mjsonify\u001b[0m\u001b[1;33m\u001b[0m\u001b[1;33m\u001b[0m\u001b[0m\n\u001b[0m\u001b[0;32m      3\u001b[0m \u001b[0mjsonify\u001b[0m\u001b[1;33m(\u001b[0m\u001b[1;33m{\u001b[0m\u001b[1;34m'Category'\u001b[0m\u001b[1;33m:\u001b[0m \u001b[0mtargets\u001b[0m\u001b[1;33m.\u001b[0m\u001b[0mget\u001b[0m\u001b[1;33m(\u001b[0m\u001b[0mencode\u001b[0m\u001b[1;33m[\u001b[0m\u001b[1;36m0\u001b[0m\u001b[1;33m]\u001b[0m\u001b[1;33m)\u001b[0m\u001b[1;33m}\u001b[0m\u001b[1;33m)\u001b[0m\u001b[1;33m\u001b[0m\u001b[1;33m\u001b[0m\u001b[0m\n",
      "\u001b[1;32m~\\anaconda3\\lib\\site-packages\\flask\\__init__.py\u001b[0m in \u001b[0;36m<module>\u001b[1;34m\u001b[0m\n\u001b[0;32m     19\u001b[0m \u001b[1;32mfrom\u001b[0m \u001b[1;33m.\u001b[0m \u001b[1;32mimport\u001b[0m \u001b[0mjson\u001b[0m\u001b[1;33m\u001b[0m\u001b[1;33m\u001b[0m\u001b[0m\n\u001b[0;32m     20\u001b[0m \u001b[1;32mfrom\u001b[0m \u001b[1;33m.\u001b[0m\u001b[0m_compat\u001b[0m \u001b[1;32mimport\u001b[0m \u001b[0mjson_available\u001b[0m\u001b[1;33m\u001b[0m\u001b[1;33m\u001b[0m\u001b[0m\n\u001b[1;32m---> 21\u001b[1;33m \u001b[1;32mfrom\u001b[0m \u001b[1;33m.\u001b[0m\u001b[0mapp\u001b[0m \u001b[1;32mimport\u001b[0m \u001b[0mFlask\u001b[0m\u001b[1;33m\u001b[0m\u001b[1;33m\u001b[0m\u001b[0m\n\u001b[0m\u001b[0;32m     22\u001b[0m \u001b[1;32mfrom\u001b[0m \u001b[1;33m.\u001b[0m\u001b[0mapp\u001b[0m \u001b[1;32mimport\u001b[0m \u001b[0mRequest\u001b[0m\u001b[1;33m\u001b[0m\u001b[1;33m\u001b[0m\u001b[0m\n\u001b[0;32m     23\u001b[0m \u001b[1;32mfrom\u001b[0m \u001b[1;33m.\u001b[0m\u001b[0mapp\u001b[0m \u001b[1;32mimport\u001b[0m \u001b[0mResponse\u001b[0m\u001b[1;33m\u001b[0m\u001b[1;33m\u001b[0m\u001b[0m\n",
      "\u001b[1;32m~\\anaconda3\\lib\\site-packages\\flask\\app.py\u001b[0m in \u001b[0;36m<module>\u001b[1;34m\u001b[0m\n\u001b[0;32m     30\u001b[0m \u001b[1;32mfrom\u001b[0m \u001b[0mwerkzeug\u001b[0m\u001b[1;33m.\u001b[0m\u001b[0mrouting\u001b[0m \u001b[1;32mimport\u001b[0m \u001b[0mRoutingException\u001b[0m\u001b[1;33m\u001b[0m\u001b[1;33m\u001b[0m\u001b[0m\n\u001b[0;32m     31\u001b[0m \u001b[1;32mfrom\u001b[0m \u001b[0mwerkzeug\u001b[0m\u001b[1;33m.\u001b[0m\u001b[0mrouting\u001b[0m \u001b[1;32mimport\u001b[0m \u001b[0mRule\u001b[0m\u001b[1;33m\u001b[0m\u001b[1;33m\u001b[0m\u001b[0m\n\u001b[1;32m---> 32\u001b[1;33m \u001b[1;32mfrom\u001b[0m \u001b[0mwerkzeug\u001b[0m\u001b[1;33m.\u001b[0m\u001b[0mwrappers\u001b[0m \u001b[1;32mimport\u001b[0m \u001b[0mBaseResponse\u001b[0m\u001b[1;33m\u001b[0m\u001b[1;33m\u001b[0m\u001b[0m\n\u001b[0m\u001b[0;32m     33\u001b[0m \u001b[1;33m\u001b[0m\u001b[0m\n\u001b[0;32m     34\u001b[0m \u001b[1;32mfrom\u001b[0m \u001b[1;33m.\u001b[0m \u001b[1;32mimport\u001b[0m \u001b[0mcli\u001b[0m\u001b[1;33m\u001b[0m\u001b[1;33m\u001b[0m\u001b[0m\n",
      "\u001b[1;31mImportError\u001b[0m: cannot import name 'BaseResponse' from 'werkzeug.wrappers' (C:\\Users\\HP\\anaconda3\\lib\\site-packages\\werkzeug\\wrappers\\__init__.py)"
     ]
    }
   ],
   "source": [
    "# !pip install connexion==2.6.0\n",
    "from flask import jsonify\n",
    "jsonify({'Category': targets.get(encode[0])})"
   ]
  },
  {
   "cell_type": "code",
   "execution_count": null,
   "metadata": {},
   "outputs": [],
   "source": []
  }
 ],
 "metadata": {
  "kernelspec": {
   "display_name": "Python 3",
   "language": "python",
   "name": "python3"
  },
  "language_info": {
   "codemirror_mode": {
    "name": "ipython",
    "version": 3
   },
   "file_extension": ".py",
   "mimetype": "text/x-python",
   "name": "python",
   "nbconvert_exporter": "python",
   "pygments_lexer": "ipython3",
   "version": "3.8.3"
  }
 },
 "nbformat": 4,
 "nbformat_minor": 4
}

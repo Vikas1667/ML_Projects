{
 "cells": [
  {
   "cell_type": "code",
   "execution_count": 4,
   "metadata": {
    "id": "2o29e7c95boj"
   },
   "outputs": [],
   "source": [
    "import numpy as np\n",
    "import pandas as pd\n",
    "# from textblob import TextBlob\n",
    "# from wordcloud import WordCloud\n",
    "import re\n",
    "import matplotlib.pyplot as plt\n",
    "import string \n",
    "import nltk\n",
    "import warnings\n",
    "%matplotlib inline\n",
    "warnings.filterwarnings(\"ignore\")\n",
    "plt.style.use('fivethirtyeight')"
   ]
  },
  {
   "cell_type": "code",
   "execution_count": 2,
   "metadata": {},
   "outputs": [],
   "source": [
    "import numpy as np\n",
    "from sklearn.model_selection import train_test_split\n",
    "from sklearn.metrics import classification_report, precision_recall_curve\n",
    "\n",
    "\n",
    "import nltk\n",
    "from nltk.corpus import stopwords\n",
    "from nltk.stem import WordNetLemmatizer\n",
    "from spacy.lang.en import English\n",
    "from spacy.lang.en.stop_words import STOP_WORDS\n",
    "lemma = WordNetLemmatizer()\n",
    "\n",
    "from keras.preprocessing.text import Tokenizer\n",
    "from keras.preprocessing.sequence import pad_sequences\n",
    "from keras.models import Sequential\n",
    "from keras.layers import Dense, Bidirectional, LSTM, Dropout, BatchNormalization\n",
    "from keras.layers.embeddings import Embedding"
   ]
  },
  {
   "cell_type": "code",
   "execution_count": 5,
   "metadata": {
    "id": "1_Ys4IR95vrd"
   },
   "outputs": [
    {
     "data": {
      "text/html": [
       "<div>\n",
       "<style scoped>\n",
       "    .dataframe tbody tr th:only-of-type {\n",
       "        vertical-align: middle;\n",
       "    }\n",
       "\n",
       "    .dataframe tbody tr th {\n",
       "        vertical-align: top;\n",
       "    }\n",
       "\n",
       "    .dataframe thead th {\n",
       "        text-align: right;\n",
       "    }\n",
       "</style>\n",
       "<table border=\"1\" class=\"dataframe\">\n",
       "  <thead>\n",
       "    <tr style=\"text-align: right;\">\n",
       "      <th></th>\n",
       "      <th>ID</th>\n",
       "      <th>Flag</th>\n",
       "      <th>Final_Result</th>\n",
       "      <th>User Tweet</th>\n",
       "      <th>Username</th>\n",
       "      <th>Title</th>\n",
       "      <th>Scores</th>\n",
       "      <th>Created at</th>\n",
       "      <th>Description</th>\n",
       "      <th>Followers Count</th>\n",
       "      <th>Retweet</th>\n",
       "      <th>Location</th>\n",
       "      <th>Source</th>\n",
       "      <th>Image URL</th>\n",
       "      <th>Translated Tweet</th>\n",
       "      <th>Result</th>\n",
       "    </tr>\n",
       "  </thead>\n",
       "  <tbody>\n",
       "    <tr>\n",
       "      <th>0</th>\n",
       "      <td>1</td>\n",
       "      <td>1.0</td>\n",
       "      <td>@NiteshRPradhan @BSNLCorporate @BSNL_KOTD Dear...</td>\n",
       "      <td>@NiteshRPradhan @BSNLCorporate @BSNL_KOTD Dear...</td>\n",
       "      <td>Sikkimbsnl</td>\n",
       "      <td>1440663624318545934</td>\n",
       "      <td>0.500000</td>\n",
       "      <td>09/22/2021</td>\n",
       "      <td>Sikkim BSNL</td>\n",
       "      <td>34.0</td>\n",
       "      <td>0.0</td>\n",
       "      <td>Gangtok, India</td>\n",
       "      <td>NaN</td>\n",
       "      <td>NaN</td>\n",
       "      <td>NaN</td>\n",
       "      <td>@NiteshRPradhan @BSNLCorporate @BSNL_KOTD Dear...</td>\n",
       "    </tr>\n",
       "    <tr>\n",
       "      <th>1</th>\n",
       "      <td>2</td>\n",
       "      <td>1.0</td>\n",
       "      <td>hello %23BSNL</td>\n",
       "      <td>hello %23BSNL</td>\n",
       "      <td>PallaviUike</td>\n",
       "      <td>1440663660439883776</td>\n",
       "      <td>0.500000</td>\n",
       "      <td>09/22/2021</td>\n",
       "      <td>NaN</td>\n",
       "      <td>1.0</td>\n",
       "      <td>0.0</td>\n",
       "      <td>NaN</td>\n",
       "      <td>NaN</td>\n",
       "      <td>NaN</td>\n",
       "      <td>NaN</td>\n",
       "      <td>hello %23BSNL</td>\n",
       "    </tr>\n",
       "    <tr>\n",
       "      <th>2</th>\n",
       "      <td>3</td>\n",
       "      <td>1.0</td>\n",
       "      <td>@DoT_India @TRAI @BSNLCorporate\\nAs per new ru...</td>\n",
       "      <td>@DoT_India @TRAI @BSNLCorporate\\nAs per new ru...</td>\n",
       "      <td>SagarTa04526603</td>\n",
       "      <td>1440667266715058193</td>\n",
       "      <td>0.946512</td>\n",
       "      <td>09/22/2021</td>\n",
       "      <td>मुझे किसी भी  धर्म  से  कोई  मतलब  नहीं  हे  ल...</td>\n",
       "      <td>46.0</td>\n",
       "      <td>0.0</td>\n",
       "      <td>NaN</td>\n",
       "      <td>NaN</td>\n",
       "      <td>NaN</td>\n",
       "      <td>NaN</td>\n",
       "      <td>@DoT_India @TRAI @BSNLCorporate\\nAs per new ru...</td>\n",
       "    </tr>\n",
       "    <tr>\n",
       "      <th>3</th>\n",
       "      <td>4</td>\n",
       "      <td>1.0</td>\n",
       "      <td>RT @drharshvardhan: Modi govt simplified KYC p...</td>\n",
       "      <td>RT @drharshvardhan: मोदी सरकार ने सरल की दूरसं...</td>\n",
       "      <td>RobDehradun</td>\n",
       "      <td>1440664930689056768</td>\n",
       "      <td>0.500000</td>\n",
       "      <td>09/22/2021</td>\n",
       "      <td>official Twitter account प्रादेशिक लोक संपर्क ...</td>\n",
       "      <td>359.0</td>\n",
       "      <td>25.0</td>\n",
       "      <td>Dehradun, Uttarakhand</td>\n",
       "      <td>NaN</td>\n",
       "      <td>NaN</td>\n",
       "      <td>NaN</td>\n",
       "      <td>RT @drharshvardhan: Modi govt simplified KYC p...</td>\n",
       "    </tr>\n",
       "    <tr>\n",
       "      <th>4</th>\n",
       "      <td>5</td>\n",
       "      <td>1.0</td>\n",
       "      <td>RT @AshwiniVaishnaw: KYC process simplified fo...</td>\n",
       "      <td>RT @AshwiniVaishnaw: KYC process simplified fo...</td>\n",
       "      <td>MuskaanRoy4</td>\n",
       "      <td>1440666110924185611</td>\n",
       "      <td>0.995655</td>\n",
       "      <td>09/22/2021</td>\n",
       "      <td>Political and cooking</td>\n",
       "      <td>29.0</td>\n",
       "      <td>274.0</td>\n",
       "      <td>Teliamura Netajinagar</td>\n",
       "      <td>NaN</td>\n",
       "      <td>NaN</td>\n",
       "      <td>NaN</td>\n",
       "      <td>RT @AshwiniVaishnaw: KYC process simplified fo...</td>\n",
       "    </tr>\n",
       "  </tbody>\n",
       "</table>\n",
       "</div>"
      ],
      "text/plain": [
       "   ID  Flag                                       Final_Result  \\\n",
       "0   1   1.0  @NiteshRPradhan @BSNLCorporate @BSNL_KOTD Dear...   \n",
       "1   2   1.0                                      hello %23BSNL   \n",
       "2   3   1.0  @DoT_India @TRAI @BSNLCorporate\\nAs per new ru...   \n",
       "3   4   1.0  RT @drharshvardhan: Modi govt simplified KYC p...   \n",
       "4   5   1.0  RT @AshwiniVaishnaw: KYC process simplified fo...   \n",
       "\n",
       "                                          User Tweet         Username  \\\n",
       "0  @NiteshRPradhan @BSNLCorporate @BSNL_KOTD Dear...       Sikkimbsnl   \n",
       "1                                      hello %23BSNL      PallaviUike   \n",
       "2  @DoT_India @TRAI @BSNLCorporate\\nAs per new ru...  SagarTa04526603   \n",
       "3  RT @drharshvardhan: मोदी सरकार ने सरल की दूरसं...      RobDehradun   \n",
       "4  RT @AshwiniVaishnaw: KYC process simplified fo...      MuskaanRoy4   \n",
       "\n",
       "                 Title    Scores  Created at  \\\n",
       "0  1440663624318545934  0.500000  09/22/2021   \n",
       "1  1440663660439883776  0.500000  09/22/2021   \n",
       "2  1440667266715058193  0.946512  09/22/2021   \n",
       "3  1440664930689056768  0.500000  09/22/2021   \n",
       "4  1440666110924185611  0.995655  09/22/2021   \n",
       "\n",
       "                                         Description  Followers Count  \\\n",
       "0                                        Sikkim BSNL             34.0   \n",
       "1                                                NaN              1.0   \n",
       "2  मुझे किसी भी  धर्म  से  कोई  मतलब  नहीं  हे  ल...             46.0   \n",
       "3  official Twitter account प्रादेशिक लोक संपर्क ...            359.0   \n",
       "4                              Political and cooking             29.0   \n",
       "\n",
       "   Retweet                Location Source Image URL Translated Tweet  \\\n",
       "0      0.0          Gangtok, India    NaN       NaN              NaN   \n",
       "1      0.0                     NaN    NaN       NaN              NaN   \n",
       "2      0.0                     NaN    NaN       NaN              NaN   \n",
       "3     25.0  Dehradun, Uttarakhand     NaN       NaN              NaN   \n",
       "4    274.0  Teliamura Netajinagar     NaN       NaN              NaN   \n",
       "\n",
       "                                              Result  \n",
       "0  @NiteshRPradhan @BSNLCorporate @BSNL_KOTD Dear...  \n",
       "1                                      hello %23BSNL  \n",
       "2  @DoT_India @TRAI @BSNLCorporate\\nAs per new ru...  \n",
       "3  RT @drharshvardhan: Modi govt simplified KYC p...  \n",
       "4  RT @AshwiniVaishnaw: KYC process simplified fo...  "
      ]
     },
     "execution_count": 5,
     "metadata": {},
     "output_type": "execute_result"
    }
   ],
   "source": [
    "df=pd.read_csv(\"BSNL Twitter Sentiment analysis.csv\")\n",
    "df.head(5)"
   ]
  },
  {
   "cell_type": "code",
   "execution_count": 7,
   "metadata": {
    "id": "CEMm7cRw5wNJ"
   },
   "outputs": [],
   "source": [
    "#Clean User Tweet\n",
    "#Create function to clean tweet\n",
    "def cleanTxt(text):\n",
    "    text = re.sub(r'(?<=^|(?<=[^a-zA-Z0-9-_\\.]))@([A-Za-z]+[A-Za-z0-9-_]+)', '', text) #Removes @ mentions\n",
    "    text = re.sub(r'#', '', text) #removing hastags\n",
    "    text = re.sub(r'RT[\\s]+', '', text) #removing RT\n",
    "    text = re.sub(r\"(?i)\\b((?:https?://|www\\d{0,3}[.]|[a-z0-9.\\-]+[.][a-z]{2,4}/)(?:[^\\s()<>]+|\\(([^\\s()<>]+|(\\([^\\s()<>]+\\)))*\\))+(?:\\(([^\\s()<>]+|(\\([^\\s()<>]+\\)))*\\)|[^\\s`!()\\[\\]{};:'\\\".,<>?«»“”‘’]))\", '',text) #removing Hyperlink\n",
    "    text = re.sub(r'%23','' , text) \n",
    "    text = re.sub(r'\\n','' , text) \n",
    "    text = re.sub(r':','' , text) \n",
    "    return text\n",
    "df['User Tweet'] = df['User Tweet'].astype(str)\n",
    "\n",
    "df['Tweet']= df['User Tweet'].apply(cleanTxt)"
   ]
  },
  {
   "cell_type": "code",
   "execution_count": 8,
   "metadata": {
    "id": "aVoaFnaI5wQk"
   },
   "outputs": [
    {
     "data": {
      "text/plain": [
       "7             need your intervention here. I am facing ...\n",
       "8          We may lose our job due to this frequent fib...\n",
       "9         Thanks but it's been like more than 3 weeks i...\n",
       "10         Landline phone 02833-285711 is not working f...\n",
       "11       In a move to enable contactless customer-centr...\n",
       "                               ...                        \n",
       "11907    @1988Singhkomal Now MobileRecharge will have a...\n",
       "11908     04 Feb. 2022 , Jaipur || Today, Sh. Sandeep G...\n",
       "11909     Power your STAUPs with BSNL EB services.For i...\n",
       "11911     04 Feb. 2022 , Jaipur || Today, Sh. Sandeep G...\n",
       "11912                         Only BSNL can do this..BSNL \n",
       "Name: User_Tweet, Length: 7664, dtype: object"
      ]
     },
     "execution_count": 8,
     "metadata": {},
     "output_type": "execute_result"
    }
   ],
   "source": [
    "eng_tweets_df=df[df['Source']=='en']\n",
    "eng_tweets_df['User_Tweet']=eng_tweets_df['User Tweet'].apply(cleanTxt)\n",
    "eng_tweets_df['User_Tweet']"
   ]
  },
  {
   "cell_type": "code",
   "execution_count": 9,
   "metadata": {},
   "outputs": [
    {
     "data": {
      "text/html": [
       "<div>\n",
       "<style scoped>\n",
       "    .dataframe tbody tr th:only-of-type {\n",
       "        vertical-align: middle;\n",
       "    }\n",
       "\n",
       "    .dataframe tbody tr th {\n",
       "        vertical-align: top;\n",
       "    }\n",
       "\n",
       "    .dataframe thead th {\n",
       "        text-align: right;\n",
       "    }\n",
       "</style>\n",
       "<table border=\"1\" class=\"dataframe\">\n",
       "  <thead>\n",
       "    <tr style=\"text-align: right;\">\n",
       "      <th></th>\n",
       "      <th>ID</th>\n",
       "      <th>Flag</th>\n",
       "      <th>Final_Result</th>\n",
       "      <th>User Tweet</th>\n",
       "      <th>Username</th>\n",
       "      <th>Title</th>\n",
       "      <th>Scores</th>\n",
       "      <th>Created at</th>\n",
       "      <th>Description</th>\n",
       "      <th>Followers Count</th>\n",
       "      <th>Retweet</th>\n",
       "      <th>Location</th>\n",
       "      <th>Source</th>\n",
       "      <th>Image URL</th>\n",
       "      <th>Translated Tweet</th>\n",
       "      <th>Result</th>\n",
       "      <th>Tweet</th>\n",
       "      <th>User_Tweet</th>\n",
       "    </tr>\n",
       "  </thead>\n",
       "  <tbody>\n",
       "  </tbody>\n",
       "</table>\n",
       "</div>"
      ],
      "text/plain": [
       "Empty DataFrame\n",
       "Columns: [ID, Flag, Final_Result, User Tweet, Username, Title, Scores, Created at, Description, Followers Count, Retweet, Location, Source, Image URL, Translated Tweet, Result, Tweet, User_Tweet]\n",
       "Index: []"
      ]
     },
     "execution_count": 9,
     "metadata": {},
     "output_type": "execute_result"
    }
   ],
   "source": [
    "eng_tweets_df[eng_tweets_df['Scores'].isna()]"
   ]
  },
  {
   "cell_type": "code",
   "execution_count": 10,
   "metadata": {
    "id": "pkgwoUkH5wdo"
   },
   "outputs": [],
   "source": [
    "embeddings_index = dict()\n",
    "f = open('V:/ML_projects/InterviewTask/NLP_pipeline/pretrain_embeddings/glove.6B.50d.txt',encoding='utf8')\n",
    "for line in f:\n",
    "    values = line.split()\n",
    "    word = values[0]\n",
    "    coefs = np.asarray(values[1:], dtype='float32')\n",
    "    embeddings_index[word] = coefs\n",
    "f.close()"
   ]
  },
  {
   "cell_type": "code",
   "execution_count": 11,
   "metadata": {
    "id": "409amYEQ5wg1"
   },
   "outputs": [],
   "source": [
    "#Creating Embeddings for the titles\n",
    "\n",
    "max_len_title = eng_tweets_df.User_Tweet.apply(lambda x: len(x.split())).max()\n",
    "\n",
    "tok_title = Tokenizer()\n",
    "tok_title.fit_on_texts(eng_tweets_df.User_Tweet)\n",
    "\n",
    "vocab_size_title = len(tok_title.word_index) + 1\n",
    "\n",
    "encoded_title = tok_title.texts_to_sequences(eng_tweets_df.User_Tweet)\n",
    "\n",
    "padded_title = pad_sequences(encoded_title, maxlen=max_len_title, padding='post')\n",
    "\n",
    "vocab_size_title = len(tok_title.word_index) + 1\n",
    "\n",
    "title_embedding_matrix = np.zeros((vocab_size_title, 50))\n",
    "for word, i in tok_title.word_index.items():\n",
    "    t_embedding_vector = embeddings_index.get(word)\n",
    "    if t_embedding_vector is not None:\n",
    "        title_embedding_matrix[i] = t_embedding_vector"
   ]
  },
  {
   "cell_type": "code",
   "execution_count": 12,
   "metadata": {
    "id": "8U8IDdmO5wkM"
   },
   "outputs": [],
   "source": [
    "import math\n",
    "from math import exp\n",
    "import keras\n",
    "# import tensorflow as tf\n",
    "\n",
    "from keras import backend as K\n",
    "\n",
    "def mod_tanh(x):\n",
    "    return K.tanh(0.6*x)\n",
    "\n",
    "\n",
    "# config = tf.compat.v1.ConfigProto( device_count = {'GPU': 1 , 'CPU': 56} ) \n",
    "# sess = tf.compat.v1.Session(config=config) \n",
    "# tf.compat.v1.keras.backend.set_session(sess)\n",
    "\n",
    "from keras.models import Sequential\n",
    "from keras.layers import Dense\n",
    "from keras.layers import Flatten\n",
    "from keras.layers import Embedding\n",
    "from keras.layers.convolutional import Conv1D\n",
    "from keras.layers.convolutional import MaxPooling1D"
   ]
  },
  {
   "cell_type": "code",
   "execution_count": 13,
   "metadata": {},
   "outputs": [
    {
     "name": "stdout",
     "output_type": "stream",
     "text": [
      "Model: \"sequential\"\n",
      "_________________________________________________________________\n",
      "Layer (type)                 Output Shape              Param #   \n",
      "=================================================================\n",
      "embedding (Embedding)        (None, 55, 50)            486250    \n",
      "_________________________________________________________________\n",
      "conv1d (Conv1D)              (None, 48, 7)             2807      \n",
      "_________________________________________________________________\n",
      "max_pooling1d (MaxPooling1D) (None, 24, 7)             0         \n",
      "_________________________________________________________________\n",
      "flatten (Flatten)            (None, 168)               0         \n",
      "=================================================================\n",
      "Total params: 489,057\n",
      "Trainable params: 489,057\n",
      "Non-trainable params: 0\n",
      "_________________________________________________________________\n",
      "None\n",
      "Model: \"sequential\"\n",
      "_________________________________________________________________\n",
      "Layer (type)                 Output Shape              Param #   \n",
      "=================================================================\n",
      "embedding (Embedding)        (None, 55, 50)            486250    \n",
      "_________________________________________________________________\n",
      "conv1d (Conv1D)              (None, 48, 7)             2807      \n",
      "_________________________________________________________________\n",
      "max_pooling1d (MaxPooling1D) (None, 24, 7)             0         \n",
      "_________________________________________________________________\n",
      "flatten (Flatten)            (None, 168)               0         \n",
      "_________________________________________________________________\n",
      "dense (Dense)                (None, 8)                 1352      \n",
      "_________________________________________________________________\n",
      "dense_1 (Dense)              (None, 1)                 9         \n",
      "=================================================================\n",
      "Total params: 490,418\n",
      "Trainable params: 490,418\n",
      "Non-trainable params: 0\n",
      "_________________________________________________________________\n"
     ]
    }
   ],
   "source": [
    "\n",
    "title_model = Sequential()\n",
    "title_model.add(Embedding(vocab_size_title, 50, input_length=max_len_title, weights=[title_embedding_matrix], trainable=True))\n",
    "title_model.add(Conv1D(filters=7, kernel_size=8, activation='relu'))\n",
    "title_model.add(MaxPooling1D(pool_size=2))\n",
    "title_model.add(Flatten())\n",
    "print(title_model.summary())\n",
    "title_model.add(Dense(8, activation='relu'))\n",
    "title_model.add(Dense(1, activation=mod_tanh))\n",
    "title_model.compile(loss='mse', optimizer='adam', metrics=['mse', 'mae'])\n",
    "title_model.summary()"
   ]
  },
  {
   "cell_type": "code",
   "execution_count": 14,
   "metadata": {},
   "outputs": [
    {
     "name": "stdout",
     "output_type": "stream",
     "text": [
      "Epoch 1/10\n",
      "204/204 [==============================] - 16s 30ms/step - loss: 0.1171 - mse: 0.1171 - mae: 0.2699\n",
      "Epoch 2/10\n",
      "204/204 [==============================] - 3s 16ms/step - loss: 0.0432 - mse: 0.0432 - mae: 0.1515\n",
      "Epoch 3/10\n",
      "204/204 [==============================] - 4s 19ms/step - loss: 0.0276 - mse: 0.0276 - mae: 0.1120\n",
      "Epoch 4/10\n",
      "204/204 [==============================] - 3s 15ms/step - loss: 0.0176 - mse: 0.0176 - mae: 0.0856\n",
      "Epoch 5/10\n",
      "204/204 [==============================] - 3s 16ms/step - loss: 0.0109 - mse: 0.0109 - mae: 0.0656\n",
      "Epoch 6/10\n",
      "204/204 [==============================] - 3s 14ms/step - loss: 0.0077 - mse: 0.0077 - mae: 0.0527\n",
      "Epoch 7/10\n",
      "204/204 [==============================] - 3s 14ms/step - loss: 0.0056 - mse: 0.0056 - mae: 0.0446\n",
      "Epoch 8/10\n",
      "204/204 [==============================] - 3s 14ms/step - loss: 0.0046 - mse: 0.0046 - mae: 0.0413\n",
      "Epoch 9/10\n",
      "204/204 [==============================] - 3s 16ms/step - loss: 0.0041 - mse: 0.0041 - mae: 0.0399\n",
      "Epoch 10/10\n",
      "204/204 [==============================] - 3s 14ms/step - loss: 0.0035 - mse: 0.0035 - mae: 0.0364\n"
     ]
    },
    {
     "data": {
      "text/plain": [
       "<tensorflow.python.keras.callbacks.History at 0x1d2c476fa00>"
      ]
     },
     "execution_count": 14,
     "metadata": {},
     "output_type": "execute_result"
    }
   ],
   "source": [
    "\n",
    "X_train_title = eng_tweets_df.loc[:,'Tweet'].values\n",
    "y_train_title = eng_tweets_df.loc[:,['Scores']].values\n",
    "\n",
    "x_train_title, x_valid_title, Y_train_title, y_valid_title = train_test_split(padded_title, y_train_title, shuffle = True, test_size = 0.15)\n",
    "\n",
    "title_model.fit(x_train_title, Y_train_title, epochs = 10,verbose=1)"
   ]
  },
  {
   "cell_type": "code",
   "execution_count": null,
   "metadata": {},
   "outputs": [],
   "source": []
  }
 ],
 "metadata": {
  "colab": {
   "name": "Twitter_analysis.ipynb",
   "provenance": []
  },
  "kernelspec": {
   "display_name": "Python 3",
   "language": "python",
   "name": "python3"
  },
  "language_info": {
   "codemirror_mode": {
    "name": "ipython",
    "version": 3
   },
   "file_extension": ".py",
   "mimetype": "text/x-python",
   "name": "python",
   "nbconvert_exporter": "python",
   "pygments_lexer": "ipython3",
   "version": "3.8.5"
  }
 },
 "nbformat": 4,
 "nbformat_minor": 1
}

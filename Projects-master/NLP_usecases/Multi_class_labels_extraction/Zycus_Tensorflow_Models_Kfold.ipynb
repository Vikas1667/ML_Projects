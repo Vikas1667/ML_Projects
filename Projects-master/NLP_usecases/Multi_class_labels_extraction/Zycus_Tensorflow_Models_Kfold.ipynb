{
 "cells": [
  {
   "cell_type": "markdown",
   "metadata": {},
   "source": [
    "\n"
   ]
  },
  {
   "cell_type": "code",
   "execution_count": 1,
   "metadata": {},
   "outputs": [
    {
     "name": "stderr",
     "output_type": "stream",
     "text": [
      "C:\\Users\\HP\\anaconda3\\envs\\Pytorchgpu\\lib\\site-packages\\numpy\\_distributor_init.py:30: UserWarning: loaded more than 1 DLL from .libs:\n",
      "C:\\Users\\HP\\anaconda3\\envs\\Pytorchgpu\\lib\\site-packages\\numpy\\.libs\\libopenblas.GK7GX5KEQ4F6UYO3P26ULGBQYHGQO7J4.gfortran-win_amd64.dll\n",
      "C:\\Users\\HP\\anaconda3\\envs\\Pytorchgpu\\lib\\site-packages\\numpy\\.libs\\libopenblas.WCDJNK7YVMPZQ2ME2ZZHJJRJ3JIKNDB7.gfortran-win_amd64.dll\n",
      "  warnings.warn(\"loaded more than 1 DLL from .libs:\"\n"
     ]
    }
   ],
   "source": [
    "import numpy as np\n",
    "import pandas as pd\n",
    "\n",
    "from collections import Counter\n",
    "from sklearn.model_selection import train_test_split\n",
    "from sklearn.metrics import confusion_matrix,classification_report\n",
    "from sklearn import metrics\n",
    "\n",
    "import matplotlib.pyplot as plt"
   ]
  },
  {
   "cell_type": "code",
   "execution_count": 2,
   "metadata": {},
   "outputs": [
    {
     "name": "stderr",
     "output_type": "stream",
     "text": [
      "[nltk_data] Downloading package wordnet to\n",
      "[nltk_data]     C:\\Users\\HP\\AppData\\Roaming\\nltk_data...\n",
      "[nltk_data]   Package wordnet is already up-to-date!\n"
     ]
    }
   ],
   "source": [
    "import re\n",
    "from tqdm import tqdm\n",
    "from string import punctuation\n",
    "from nltk.corpus import stopwords\n",
    "from nltk import WordNetLemmatizer, word_tokenize\n",
    "from sklearn.feature_extraction.text import ENGLISH_STOP_WORDS\n",
    "import nltk\n",
    "nltk.download('wordnet')\n",
    "from gensim.models.fasttext import FastText\n",
    "lemma = WordNetLemmatizer()\n",
    "stop_words=stopwords.words('english')\n",
    "\n",
    "# stop_words.update(['.', ',', '\"', \"'\", ':', ';', '(', ')', '[', ']', '{', '}'])\n",
    "# from fasttext import load_model\n",
    "from nltk.tokenize import RegexpTokenizer \n",
    "from sklearn.preprocessing import MultiLabelBinarizer"
   ]
  },
  {
   "cell_type": "code",
   "execution_count": 3,
   "metadata": {},
   "outputs": [
    {
     "name": "stdout",
     "output_type": "stream",
     "text": [
      "[name: \"/device:CPU:0\"\n",
      "device_type: \"CPU\"\n",
      "memory_limit: 268435456\n",
      "locality {\n",
      "}\n",
      "incarnation: 6699302215586433560\n",
      "]\n"
     ]
    }
   ],
   "source": [
    "from gensim.models import Word2Vec\n",
    "import tensorflow as tf\n",
    "from tensorflow.keras import layers\n",
    "from tensorflow.keras import optimizers\n",
    "from tensorflow.keras import backend as K\n",
    "from tensorflow.keras import regularizers\n",
    "from tensorflow.keras.models import Sequential\n",
    "from tensorflow.keras.layers import Dense, Activation, Dropout, Flatten,SpatialDropout1D,LSTM,Bidirectional\n",
    "from tensorflow.keras.layers import Embedding, Conv1D, MaxPooling1D, GlobalMaxPooling1D \n",
    "from tensorflow.keras.utils import plot_model\n",
    "from tensorflow.keras.preprocessing import sequence\n",
    "from tensorflow.keras.preprocessing.text import Tokenizer\n",
    "from tensorflow.keras.callbacks import EarlyStopping\n",
    "from tensorflow.keras import utils as np_utils\n",
    "from tensorflow.python.client import device_lib \n",
    "\n",
    "print(device_lib.list_local_devices())\n",
    "from IPython.display import display, HTML"
   ]
  },
  {
   "cell_type": "code",
   "execution_count": 4,
   "metadata": {},
   "outputs": [],
   "source": [
    "train_df=pd.read_csv('./project/training_data.csv')\n",
    "test_df=pd.read_csv('./project/testing_data.csv')"
   ]
  },
  {
   "cell_type": "code",
   "execution_count": 5,
   "metadata": {},
   "outputs": [
    {
     "data": {
      "text/html": [
       "<div>\n",
       "<style scoped>\n",
       "    .dataframe tbody tr th:only-of-type {\n",
       "        vertical-align: middle;\n",
       "    }\n",
       "\n",
       "    .dataframe tbody tr th {\n",
       "        vertical-align: top;\n",
       "    }\n",
       "\n",
       "    .dataframe thead th {\n",
       "        text-align: right;\n",
       "    }\n",
       "</style>\n",
       "<table border=\"1\" class=\"dataframe\">\n",
       "  <thead>\n",
       "    <tr style=\"text-align: right;\">\n",
       "      <th></th>\n",
       "      <th>title</th>\n",
       "      <th>category</th>\n",
       "    </tr>\n",
       "  </thead>\n",
       "  <tbody>\n",
       "    <tr>\n",
       "      <th>0</th>\n",
       "      <td>The Three Amigos</td>\n",
       "      <td>None</td>\n",
       "    </tr>\n",
       "    <tr>\n",
       "      <th>1</th>\n",
       "      <td>Home Essentials Blue Floral Glass Vintage Styl...</td>\n",
       "      <td>Home &amp; Kitchen</td>\n",
       "    </tr>\n",
       "    <tr>\n",
       "      <th>2</th>\n",
       "      <td>Cooper Wiring Quiet Toggle Switch Single Pole ...</td>\n",
       "      <td>Tools &amp; Home Improvement</td>\n",
       "    </tr>\n",
       "    <tr>\n",
       "      <th>3</th>\n",
       "      <td>Baseboarders&amp;reg; Wall Brackets</td>\n",
       "      <td>Tools &amp; Home Improvement</td>\n",
       "    </tr>\n",
       "    <tr>\n",
       "      <th>4</th>\n",
       "      <td>The Great Wave Off Kanagawa Custom Rectangle M...</td>\n",
       "      <td>Office Products</td>\n",
       "    </tr>\n",
       "    <tr>\n",
       "      <th>...</th>\n",
       "      <td>...</td>\n",
       "      <td>...</td>\n",
       "    </tr>\n",
       "    <tr>\n",
       "      <th>20183</th>\n",
       "      <td>D0309-WML Leviton Decora Screwless Snap-On Wal...</td>\n",
       "      <td>None</td>\n",
       "    </tr>\n",
       "    <tr>\n",
       "      <th>20184</th>\n",
       "      <td>South Shore Axess Small 2-Door Storage Cabinet...</td>\n",
       "      <td>None</td>\n",
       "    </tr>\n",
       "    <tr>\n",
       "      <th>20185</th>\n",
       "      <td>Patriotic Flip Flop Ornament Assortment of 2</td>\n",
       "      <td>Home &amp; Kitchen</td>\n",
       "    </tr>\n",
       "    <tr>\n",
       "      <th>20186</th>\n",
       "      <td>Cybrtrayd Life of the Party A116 Horse Chocola...</td>\n",
       "      <td>None</td>\n",
       "    </tr>\n",
       "    <tr>\n",
       "      <th>20187</th>\n",
       "      <td>4 Light Track Lighting Wall &amp;amp; Ceiling Moun...</td>\n",
       "      <td>Tools &amp; Home Improvement</td>\n",
       "    </tr>\n",
       "  </tbody>\n",
       "</table>\n",
       "<p>20188 rows × 2 columns</p>\n",
       "</div>"
      ],
      "text/plain": [
       "                                                   title  \\\n",
       "0                                       The Three Amigos   \n",
       "1      Home Essentials Blue Floral Glass Vintage Styl...   \n",
       "2      Cooper Wiring Quiet Toggle Switch Single Pole ...   \n",
       "3                        Baseboarders&reg; Wall Brackets   \n",
       "4      The Great Wave Off Kanagawa Custom Rectangle M...   \n",
       "...                                                  ...   \n",
       "20183  D0309-WML Leviton Decora Screwless Snap-On Wal...   \n",
       "20184  South Shore Axess Small 2-Door Storage Cabinet...   \n",
       "20185       Patriotic Flip Flop Ornament Assortment of 2   \n",
       "20186  Cybrtrayd Life of the Party A116 Horse Chocola...   \n",
       "20187  4 Light Track Lighting Wall &amp; Ceiling Moun...   \n",
       "\n",
       "                       category  \n",
       "0                          None  \n",
       "1                Home & Kitchen  \n",
       "2      Tools & Home Improvement  \n",
       "3      Tools & Home Improvement  \n",
       "4               Office Products  \n",
       "...                         ...  \n",
       "20183                      None  \n",
       "20184                      None  \n",
       "20185            Home & Kitchen  \n",
       "20186                      None  \n",
       "20187  Tools & Home Improvement  \n",
       "\n",
       "[20188 rows x 2 columns]"
      ]
     },
     "execution_count": 5,
     "metadata": {},
     "output_type": "execute_result"
    }
   ],
   "source": [
    "train_df"
   ]
  },
  {
   "cell_type": "code",
   "execution_count": 6,
   "metadata": {
    "scrolled": true
   },
   "outputs": [
    {
     "name": "stdout",
     "output_type": "stream",
     "text": [
      "category:  ['Home & Kitchen' 'Tools & Home Improvement' 'Office Products'\n",
      " 'Grocery & Gourmet Food' 'Electronics' 'Industrial & Scientific']\n",
      "no of classes: 6\n"
     ]
    },
    {
     "name": "stderr",
     "output_type": "stream",
     "text": [
      "<ipython-input-6-76e12f3164d5>:4: SettingWithCopyWarning: \n",
      "A value is trying to be set on a copy of a slice from a DataFrame.\n",
      "Try using .loc[row_indexer,col_indexer] = value instead\n",
      "\n",
      "See the caveats in the documentation: https://pandas.pydata.org/pandas-docs/stable/user_guide/indexing.html#returning-a-view-versus-a-copy\n",
      "  label_df['category_label']=label_df['category'].factorize()[0]\n"
     ]
    }
   ],
   "source": [
    "# label encoding with maintaining dimension\n",
    "label_df=train_df[train_df['category']!='None']\n",
    "\n",
    "label_df['category_label']=label_df['category'].factorize()[0]\n",
    "unlabeled_df=train_df[train_df['category']=='None']\n",
    "\n",
    "print('category: ',label_df['category'].unique())\n",
    "\n",
    "\n",
    "category_id_df = label_df[['category', 'category_label']].drop_duplicates()\n",
    "category_id_df\n",
    "\n",
    "y=label_df['category_label']\n",
    "y = np_utils.to_categorical(y, num_classes=6)\n",
    "\n",
    "category_list=category_id_df['category'].tolist()\n",
    "num_classes = len(category_list)\n",
    "print('no of classes:', num_classes)"
   ]
  },
  {
   "cell_type": "markdown",
   "metadata": {},
   "source": [
    "## Text Preprocessing "
   ]
  },
  {
   "cell_type": "code",
   "execution_count": 7,
   "metadata": {},
   "outputs": [],
   "source": [
    "def text_normalize(text):\n",
    "    \n",
    "    # remove special characters\\whitespaces\n",
    "    clean_text = re.sub(r'[^a-zA-Z0-9\\s]', ' ', str(text), re.I | re.A)\n",
    "    # convert to lower \n",
    "    clean_text=text.lower()\n",
    "    \n",
    "    # Remove extra white space from text\n",
    "    clean_text = re.sub(r'\\s+', ' ', clean_text, flags=re.I)\n",
    "         \n",
    "    # Remove all the special characters from text\n",
    "    clean_text = re.sub(r'\\W', ' ', str(clean_text))\n",
    "    \n",
    "    clean_text = re.sub(r'\\d', ' ', str(clean_text))\n",
    "    \n",
    "    # Word tokenization       \n",
    "    tokens = clean_text.split()\n",
    "    \n",
    "    \n",
    "    stop_word = set(stopwords.words('english')) | set(punctuation)| set(ENGLISH_STOP_WORDS)\n",
    "    \n",
    "    # re-create text from filtered lemmatize tokens\n",
    "    cleaned_text = ' '.join(lemma.lemmatize(token) for token in tokens if token not in stop_word)\n",
    "    \n",
    "    return cleaned_text\n"
   ]
  },
  {
   "cell_type": "markdown",
   "metadata": {},
   "source": [
    "## Training Fasttext Model \n",
    "\n"
   ]
  },
  {
   "cell_type": "code",
   "execution_count": 8,
   "metadata": {},
   "outputs": [
    {
     "name": "stderr",
     "output_type": "stream",
     "text": [
      "100%|█████████████████████████████████████████████████████████████████████████| 20188/20188 [00:00<00:00, 71202.58it/s]\n"
     ]
    },
    {
     "name": "stdout",
     "output_type": "stream",
     "text": [
      "['home', 'essential', 'blue', 'floral', 'glass', 'vintage', 'style', 'water', 'goblet', 'set']\n"
     ]
    }
   ],
   "source": [
    "title_list=train_df['title'].tolist()\n",
    "clean_corpus = [text_normalize(sentence) for sentence in  title_list if sentence.strip() !='']\n",
    "word_tokenizer = nltk.WordPunctTokenizer()\n",
    "\n",
    "word_tokens = [word_tokenizer.tokenize(sent) for sent in tqdm(clean_corpus)]\n",
    "print(word_tokens[1])\n",
    "\n",
    "# Defining values for parameters\n",
    "embedding_size = 300\n",
    "window_size = 3\n",
    "min_word = 3\n",
    "down_sampling = 1e-2\n",
    " \n",
    "\n",
    "fast_Text_model = FastText(word_tokens,\n",
    "                      vector_size=embedding_size,\n",
    "                      window=window_size,\n",
    "                      min_count=min_word,\n",
    "                      sample=down_sampling,\n",
    "                      workers = 4,\n",
    "                      sg=1,epochs=10)\n",
    "\n",
    "# # Save fastText gensim model\n",
    "\n",
    "# fast_Text_model.save(\"./models/fasttext_train\")\n",
    "\n",
    "# # Load saved gensim fastText model\n",
    "fast_Text_model =FastText.load(\"models/fasttext_train\")\n"
   ]
  },
  {
   "cell_type": "code",
   "execution_count": null,
   "metadata": {},
   "outputs": [],
   "source": []
  },
  {
   "cell_type": "markdown",
   "metadata": {},
   "source": [
    "## Creating Embeddings\n"
   ]
  },
  {
   "cell_type": "code",
   "execution_count": 9,
   "metadata": {},
   "outputs": [],
   "source": [
    "def get_embedding(word):\n",
    "    try:\n",
    "        embedding=fast_Text_model.wv[word]\n",
    "    except:\n",
    "        pass\n",
    "#         embedding=np.zeros((300,)) \n",
    "        \n",
    "    return embedding"
   ]
  },
  {
   "cell_type": "code",
   "execution_count": 10,
   "metadata": {},
   "outputs": [],
   "source": [
    "embeddings_index = {}\n",
    "vocab_dict=fast_Text_model.wv.key_to_index\n",
    "\n",
    "for i in vocab_dict.keys():\n",
    "    embed=get_embedding(i)\n",
    "    embed=np.asarray(embed,dtype='float32')\n",
    "    embeddings_index[i]=embed"
   ]
  },
  {
   "cell_type": "code",
   "execution_count": 11,
   "metadata": {},
   "outputs": [],
   "source": [
    "# embeddings_index['home']"
   ]
  },
  {
   "cell_type": "markdown",
   "metadata": {},
   "source": [
    "## Data Preparation"
   ]
  },
  {
   "cell_type": "code",
   "execution_count": 36,
   "metadata": {
    "scrolled": true
   },
   "outputs": [
    {
     "name": "stdout",
     "output_type": "stream",
     "text": [
      "pre-processing train data...\n"
     ]
    },
    {
     "name": "stderr",
     "output_type": "stream",
     "text": [
      "100%|█████████████████████████████████████████████████████████████████████████| 10065/10065 [00:00<00:00, 15585.09it/s]\n"
     ]
    },
    {
     "name": "stdout",
     "output_type": "stream",
     "text": [
      "pre-processing test data...\n"
     ]
    },
    {
     "name": "stderr",
     "output_type": "stream",
     "text": [
      "100%|█████████████████████████████████████████████████████████████████████████| 10123/10123 [00:00<00:00, 37292.54it/s]\n"
     ]
    }
   ],
   "source": [
    "\n",
    "tokenizer = RegexpTokenizer(r'\\w+')\n",
    "raw_docs_train=label_df['title'].tolist()\n",
    "raw_docs_test=unlabeled_df['title'].tolist()\n",
    "\n",
    "\n",
    "\n",
    "######################################################################\n",
    "print(\"pre-processing train data...\")\n",
    "processed_docs_train = []\n",
    "for doc in tqdm(raw_docs_train):\n",
    "    tokens = tokenizer.tokenize(doc)\n",
    "    filtered = [lemma.lemmatize(word) for word in tokens if word not in stop_words]\n",
    "    processed_docs_train.append(\" \".join(filtered))\n",
    "\n",
    "print(\"pre-processing test data...\")\n",
    "processed_docs_test = []\n",
    "for doc in tqdm(raw_docs_test):\n",
    "    tokens = tokenizer.tokenize(doc)\n",
    "    filtered = [word for word in tokens if word not in stop_words]\n",
    "    processed_docs_test.append(\" \".join(filtered))\n"
   ]
  },
  {
   "cell_type": "code",
   "execution_count": 13,
   "metadata": {},
   "outputs": [],
   "source": [
    "MAX_NB_WORDS = 20000"
   ]
  },
  {
   "cell_type": "markdown",
   "metadata": {},
   "source": [
    "##  Creating sequence"
   ]
  },
  {
   "cell_type": "code",
   "execution_count": 37,
   "metadata": {},
   "outputs": [
    {
     "name": "stdout",
     "output_type": "stream",
     "text": [
      "tokenizing input data...\n",
      "dictionary size:  33095\n"
     ]
    },
    {
     "name": "stderr",
     "output_type": "stream",
     "text": [
      "<ipython-input-37-955a867e6e63>:10: SettingWithCopyWarning: \n",
      "A value is trying to be set on a copy of a slice from a DataFrame.\n",
      "Try using .loc[row_indexer,col_indexer] = value instead\n",
      "\n",
      "See the caveats in the documentation: https://pandas.pydata.org/pandas-docs/stable/user_guide/indexing.html#returning-a-view-versus-a-copy\n",
      "  label_df['doc_len'] = label_df['title'].apply(lambda words: len(words.split(\" \")))\n"
     ]
    }
   ],
   "source": [
    "print(\"tokenizing input data...\")\n",
    "tokenizer = Tokenizer(num_words=MAX_NB_WORDS, lower=True, char_level=False)\n",
    "\n",
    "tokenizer.fit_on_texts(processed_docs_train + processed_docs_test)\n",
    "\n",
    "word_seq_train = tokenizer.texts_to_sequences(processed_docs_train)\n",
    "word_seq_test = tokenizer.texts_to_sequences(processed_docs_test)\n",
    "\n",
    "\n",
    "label_df['doc_len'] = label_df['title'].apply(lambda words: len(words.split(\" \")))\n",
    "# max_seq_len = np.round(label_df['doc_len'].mean() + label_df['doc_len'].std()).astype(int)\n",
    "max_seq_len=300\n",
    "\n",
    "word_index = tokenizer.word_index\n",
    "print(\"dictionary size: \", len(word_index))\n",
    "\n",
    "#pad sequences\n",
    "word_seq_train = sequence.pad_sequences(word_seq_train, maxlen=max_seq_len)\n",
    "word_seq_test = sequence.pad_sequences(word_seq_test, maxlen=max_seq_len)"
   ]
  },
  {
   "cell_type": "code",
   "execution_count": 15,
   "metadata": {},
   "outputs": [
    {
     "data": {
      "text/plain": [
       "array([   0,    0,    0,    0,    0,    0,    0,    0,    0,    0,    0,\n",
       "          0,    0,    0,    0,    0,    0,    0,    0,    0,    0,    0,\n",
       "          0,    0,    0,    0,    0,    0,    0,    0,    0,    0,    0,\n",
       "          0,    0,    0,    0,    0,    0,    0,    0,    0,    0,    0,\n",
       "          0,    0,    0,    0,    0,    0,    0,    0,    0,    0,    0,\n",
       "          0,    0,    0,    0,    0,    0,    0,    0,    0,    0,    0,\n",
       "          0,    0,    0,    0,    0,    0,    0,    0,    0,    0,    0,\n",
       "          0,    0,    0,    0,    0,    0,    0,    0,    0,    0,    0,\n",
       "          0,    0,    0,    0,    0,    0,    0,    0,    0,    0,    0,\n",
       "          0,    0,    0,    0,    0,    0,    0,    0,    0,    0,    0,\n",
       "          0,    0,    0,    0,    0,    0,    0,    0,    0,    0,    0,\n",
       "          0,    0,    0,    0,    0,    0,    0,    0,    0,    0,    0,\n",
       "          0,    0,    0,    0,    0,    0,    0,    0,    0,    0,    0,\n",
       "          0,    0,    0,    0,    0,    0,    0,    0,    0,    0,    0,\n",
       "          0,    0,    0,    0,    0,    0,    0,    0,    0,    0,    0,\n",
       "          0,    0,    0,    0,    0,    0,    0,    0,    0,    0,    0,\n",
       "          0,    0,    0,    0,    0,    0,    0,    0,    0, 3393, 4474,\n",
       "       1699, 1044,  289,  101, 1245,  858,   68,   79,  560,  600,  376,\n",
       "       1143, 1363])"
      ]
     },
     "execution_count": 15,
     "metadata": {},
     "output_type": "execute_result"
    }
   ],
   "source": [
    "word_seq_train[1]"
   ]
  },
  {
   "cell_type": "markdown",
   "metadata": {},
   "source": [
    "### Fitting Embedding matrix to our data"
   ]
  },
  {
   "cell_type": "code",
   "execution_count": null,
   "metadata": {},
   "outputs": [],
   "source": []
  },
  {
   "cell_type": "code",
   "execution_count": 38,
   "metadata": {},
   "outputs": [
    {
     "name": "stdout",
     "output_type": "stream",
     "text": [
      "preparing embedding matrix...\n",
      "number of null word embeddings: 12838\n",
      "number of word embeddings: 7162\n",
      "sample words not found:  ['3xl' '1937' 'sentosa' 'dicksons' '179449' '3148' '10oz' '870'\n",
      " 'circulator' '70836']\n"
     ]
    }
   ],
   "source": [
    "# vars#model parameters\n",
    "embed_dim = 300 \n",
    "nb_words = min(MAX_NB_WORDS, len(word_index))\n",
    "\n",
    "print('preparing embedding matrix...')\n",
    "words_not_found = []\n",
    "nb_words = min(MAX_NB_WORDS, len(word_index))\n",
    "embedding_matrix = np.zeros((nb_words, embed_dim))\n",
    "for word, i in word_index.items():\n",
    "    if i >= nb_words:\n",
    "        continue\n",
    "    embedding_vector = embeddings_index.get(word)\n",
    "    if (embedding_vector is not None) and len(embedding_vector) > 0:\n",
    "        # words not found in embedding index will be all-zeros.\n",
    "#         print(embedding_vector)\n",
    "        embedding_matrix[i] = embedding_vector\n",
    "    else:\n",
    "        words_not_found.append(word)\n",
    "print('number of null word embeddings: %d' % np.sum(np.sum(embedding_matrix, axis=1) == 0))\n",
    "print('number of word embeddings: %d' % np.sum(np.sum(embedding_matrix, axis=1) != 0))\n",
    "print(\"sample words not found: \", np.random.choice(words_not_found, 10))"
   ]
  },
  {
   "cell_type": "code",
   "execution_count": 39,
   "metadata": {},
   "outputs": [
    {
     "name": "stdout",
     "output_type": "stream",
     "text": [
      "training data shape:  (10065, 300)\n",
      "training label shape:  (10065, 6)\n",
      "embedding matrix shape:  (20000, 300)\n"
     ]
    }
   ],
   "source": [
    "print('training data shape: ',np.shape(word_seq_train))\n",
    "print('training label shape: ',y.shape)\n",
    "print('embedding matrix shape: ',np.shape(embedding_matrix))"
   ]
  },
  {
   "cell_type": "markdown",
   "metadata": {},
   "source": [
    "## Training Various Architechtures\n",
    "\n",
    "--CNN \\\n",
    "--BiLSTM\n",
    "\n"
   ]
  },
  {
   "cell_type": "code",
   "execution_count": 122,
   "metadata": {},
   "outputs": [],
   "source": [
    "#training params\n",
    "batch_size = 128\n",
    "num_epochs = 10\n",
    "\n",
    "max_features = 1000\n",
    "maxlen = 250\n",
    "filters = 250\n",
    "kernel_size = 3\n",
    "hidden_dims = 250\n",
    "num_filters = 128\n",
    "weight_decay = 1e-4\n",
    "\n",
    "# print(max_seq_len)\n",
    "max_seq_len=300\n",
    "\n"
   ]
  },
  {
   "cell_type": "code",
   "execution_count": 123,
   "metadata": {},
   "outputs": [],
   "source": [
    "def history_plot(history):\n",
    "    \n",
    "    # list all data in history\n",
    "    print(history.history.keys())\n",
    "    # summarize history for accuracy\n",
    "    plt.plot(history.history['accuracy'])\n",
    "    plt.plot(history.history['val_accuracy'])\n",
    "    plt.title('model accuracy')\n",
    "    plt.ylabel('accuracy')\n",
    "    plt.xlabel('epoch')\n",
    "    plt.legend(['train', 'test'], loc='upper left')\n",
    "    plt.show()\n",
    "    # summarize history for loss\n",
    "    plt.plot(history.history['loss'])\n",
    "    plt.plot(history.history['val_loss'])\n",
    "    plt.title('model loss')\n",
    "    plt.ylabel('loss')\n",
    "    plt.xlabel('epoch')\n",
    "    plt.legend(['train', 'test'], loc='upper left')\n",
    "    "
   ]
  },
  {
   "cell_type": "code",
   "execution_count": 124,
   "metadata": {},
   "outputs": [],
   "source": [
    "def model_compile(model,X_train,y):\n",
    "    try:\n",
    "        with tf.device('/device:GPU:0'):\n",
    "            X_train = tf.convert_to_tensor(X_train, dtype=tf.int32)\n",
    "            Y_train = tf.convert_to_tensor(y, dtype=tf.float32)\n",
    "            model.compile(loss='categorical_crossentropy',\n",
    "                      optimizer='adam',\n",
    "                      metrics=['accuracy'])\n",
    "    except RuntimeError as e:\n",
    "            print(e)\n",
    "    return model,X_train,Y_train\n"
   ]
  },
  {
   "cell_type": "code",
   "execution_count": 125,
   "metadata": {},
   "outputs": [
    {
     "name": "stdout",
     "output_type": "stream",
     "text": [
      "Build model...\n",
      "Model: \"sequential_32\"\n",
      "_________________________________________________________________\n",
      "Layer (type)                 Output Shape              Param #   \n",
      "=================================================================\n",
      "embedding_32 (Embedding)     (None, 300, 300)          6000000   \n",
      "_________________________________________________________________\n",
      "dropout_61 (Dropout)         (None, 300, 300)          0         \n",
      "_________________________________________________________________\n",
      "conv1d_32 (Conv1D)           (None, 298, 250)          225250    \n",
      "_________________________________________________________________\n",
      "global_max_pooling1d_31 (Glo (None, 250)               0         \n",
      "_________________________________________________________________\n",
      "dense_63 (Dense)             (None, 250)               62750     \n",
      "_________________________________________________________________\n",
      "dropout_62 (Dropout)         (None, 250)               0         \n",
      "_________________________________________________________________\n",
      "activation_60 (Activation)   (None, 250)               0         \n",
      "_________________________________________________________________\n",
      "dense_64 (Dense)             (None, 6)                 1506      \n",
      "_________________________________________________________________\n",
      "activation_61 (Activation)   (None, 6)                 0         \n",
      "=================================================================\n",
      "Total params: 6,289,506\n",
      "Trainable params: 289,506\n",
      "Non-trainable params: 6,000,000\n",
      "_________________________________________________________________\n",
      "Epoch 1/10\n",
      "252/252 [==============================] - 26s 95ms/step - loss: 0.9905 - accuracy: 0.6367 - val_loss: 0.6869 - val_accuracy: 0.7541\n",
      "Epoch 2/10\n",
      "252/252 [==============================] - 23s 92ms/step - loss: 0.6304 - accuracy: 0.7732 - val_loss: 0.6140 - val_accuracy: 0.7774\n",
      "Epoch 3/10\n",
      "252/252 [==============================] - 23s 93ms/step - loss: 0.5603 - accuracy: 0.7963 - val_loss: 0.6299 - val_accuracy: 0.7715\n",
      "Epoch 4/10\n",
      "252/252 [==============================] - 23s 93ms/step - loss: 0.5176 - accuracy: 0.8091 - val_loss: 0.6007 - val_accuracy: 0.7799\n",
      "Epoch 5/10\n",
      "252/252 [==============================] - 24s 95ms/step - loss: 0.4609 - accuracy: 0.8334 - val_loss: 0.6376 - val_accuracy: 0.7740\n",
      "Epoch 6/10\n",
      "252/252 [==============================] - 24s 96ms/step - loss: 0.4158 - accuracy: 0.8475 - val_loss: 0.6347 - val_accuracy: 0.7859\n",
      "Epoch 7/10\n",
      "252/252 [==============================] - 24s 97ms/step - loss: 0.3771 - accuracy: 0.8658 - val_loss: 0.6592 - val_accuracy: 0.7730\n",
      "Epoch 8/10\n",
      "252/252 [==============================] - 24s 96ms/step - loss: 0.3440 - accuracy: 0.8776 - val_loss: 0.7038 - val_accuracy: 0.7720\n",
      "Epoch 9/10\n",
      "252/252 [==============================] - 24s 96ms/step - loss: 0.3087 - accuracy: 0.8932 - val_loss: 0.6797 - val_accuracy: 0.7819\n",
      "Epoch 10/10\n",
      "252/252 [==============================] - 24s 97ms/step - loss: 0.2784 - accuracy: 0.9031 - val_loss: 0.7674 - val_accuracy: 0.7839\n",
      "dict_keys(['loss', 'accuracy', 'val_loss', 'val_accuracy'])\n"
     ]
    },
    {
     "data": {
      "image/png": "[encoded data removed]",
      "text/plain": [
       "<Figure size 432x288 with 1 Axes>"
      ]
     },
     "metadata": {
      "needs_background": "light"
     },
     "output_type": "display_data"
    },
    {
     "data": {
      "image/png": "[encoded data removed]",
      "text/plain": [
       "<Figure size 432x288 with 1 Axes>"
      ]
     },
     "metadata": {
      "needs_background": "light"
     },
     "output_type": "display_data"
    }
   ],
   "source": [
    "num_epochs=10\n",
    "def cnn_model1():\n",
    "    # CNN with max pooling imeplementation \n",
    "    print('Build model...')\n",
    "    model = Sequential()\n",
    "    # we start off with an efficient embedding layer which maps\n",
    "    # our vocab indices into embedding_dims dimensions\n",
    "    model.add(Embedding(nb_words, embed_dim,weights=[embedding_matrix], input_length=max_seq_len, trainable=False))\n",
    "    model.add(Dropout(0.2))\n",
    "\n",
    "    # we add a Convolution1D, which will learn filters\n",
    "    # word group filters of size filter_length:\n",
    "    model.add(Conv1D(filters,\n",
    "                 kernel_size,\n",
    "                 padding='valid',\n",
    "                 activation='relu',\n",
    "                 strides=1))\n",
    "    # we use max pooling:\n",
    "    model.add(GlobalMaxPooling1D())\n",
    "\n",
    "    # We add a vanilla hidden layer:\n",
    "    model.add(Dense(hidden_dims))\n",
    "    model.add(Dropout(0.2))\n",
    "    model.add(Activation('relu'))\n",
    "\n",
    "    # We project onto a single unit output layer, and squash it with a sigmoid:\n",
    "    model.add(Dense(6))\n",
    "    model.add(Activation('softmax'))\n",
    "    model.summary()\n",
    "    return model\n",
    "\n",
    "cnn_model=cnn_model1()\n",
    "cnn_model_compiled,X_train,Y_train=model_compile(cnn_model,word_seq_train,y)\n",
    "history=cnn_model_compiled.fit(X_train,y,epochs=num_epochs,validation_split=0.20)\n",
    "history_plot(history)\n",
    "    "
   ]
  },
  {
   "cell_type": "markdown",
   "metadata": {},
   "source": [
    "##    Trying Hyperparameters"
   ]
  },
  {
   "cell_type": "code",
   "execution_count": 22,
   "metadata": {
    "scrolled": false
   },
   "outputs": [
    {
     "name": "stdout",
     "output_type": "stream",
     "text": [
      "Build model...\n",
      "Model: \"sequential_1\"\n",
      "_________________________________________________________________\n",
      "Layer (type)                 Output Shape              Param #   \n",
      "=================================================================\n",
      "embedding_1 (Embedding)      (None, 300, 300)          6000000   \n",
      "_________________________________________________________________\n",
      "dropout_2 (Dropout)          (None, 300, 300)          0         \n",
      "_________________________________________________________________\n",
      "conv1d_1 (Conv1D)            (None, 298, 250)          225250    \n",
      "_________________________________________________________________\n",
      "global_max_pooling1d_1 (Glob (None, 250)               0         \n",
      "_________________________________________________________________\n",
      "dense_2 (Dense)              (None, 250)               62750     \n",
      "_________________________________________________________________\n",
      "dropout_3 (Dropout)          (None, 250)               0         \n",
      "_________________________________________________________________\n",
      "activation_2 (Activation)    (None, 250)               0         \n",
      "_________________________________________________________________\n",
      "dense_3 (Dense)              (None, 6)                 1506      \n",
      "_________________________________________________________________\n",
      "activation_3 (Activation)    (None, 6)                 0         \n",
      "=================================================================\n",
      "Total params: 6,289,506\n",
      "Trainable params: 6,289,506\n",
      "Non-trainable params: 0\n",
      "_________________________________________________________________\n",
      "Epoch 1/10\n",
      "WARNING:tensorflow:Model was constructed with shape (None, 300) for input KerasTensor(type_spec=TensorSpec(shape=(None, 300), dtype=tf.float32, name='embedding_1_input'), name='embedding_1_input', description=\"created by layer 'embedding_1_input'\"), but it was called on an input with incompatible shape (None, 200).\n",
      "WARNING:tensorflow:Model was constructed with shape (None, 300) for input KerasTensor(type_spec=TensorSpec(shape=(None, 300), dtype=tf.float32, name='embedding_1_input'), name='embedding_1_input', description=\"created by layer 'embedding_1_input'\"), but it was called on an input with incompatible shape (None, 200).\n",
      "252/252 [==============================] - ETA: 0s - loss: 0.9378 - accuracy: 0.6579WARNING:tensorflow:Model was constructed with shape (None, 300) for input KerasTensor(type_spec=TensorSpec(shape=(None, 300), dtype=tf.float32, name='embedding_1_input'), name='embedding_1_input', description=\"created by layer 'embedding_1_input'\"), but it was called on an input with incompatible shape (None, 200).\n",
      "252/252 [==============================] - 39s 153ms/step - loss: 0.9371 - accuracy: 0.6581 - val_loss: 0.5920 - val_accuracy: 0.7919\n",
      "Epoch 2/10\n",
      "252/252 [==============================] - 36s 144ms/step - loss: 0.4427 - accuracy: 0.8482 - val_loss: 0.5701 - val_accuracy: 0.8043\n",
      "Epoch 3/10\n",
      "252/252 [==============================] - 36s 144ms/step - loss: 0.1921 - accuracy: 0.9355 - val_loss: 0.5809 - val_accuracy: 0.8241\n",
      "Epoch 4/10\n",
      "252/252 [==============================] - 37s 146ms/step - loss: 0.0525 - accuracy: 0.9853 - val_loss: 0.8786 - val_accuracy: 0.8063\n",
      "Epoch 5/10\n",
      "252/252 [==============================] - 39s 154ms/step - loss: 0.0152 - accuracy: 0.9973 - val_loss: 0.9111 - val_accuracy: 0.8028\n",
      "Epoch 6/10\n",
      "252/252 [==============================] - 37s 146ms/step - loss: 0.0106 - accuracy: 0.9973 - val_loss: 0.8580 - val_accuracy: 0.8246\n",
      "Epoch 7/10\n",
      "252/252 [==============================] - 37s 145ms/step - loss: 0.0037 - accuracy: 0.9996 - val_loss: 0.9582 - val_accuracy: 0.8112\n",
      "Epoch 8/10\n",
      "252/252 [==============================] - 37s 146ms/step - loss: 0.0174 - accuracy: 0.9940 - val_loss: 0.9599 - val_accuracy: 0.8142\n",
      "Epoch 9/10\n",
      "252/252 [==============================] - 40s 161ms/step - loss: 0.0042 - accuracy: 0.9993 - val_loss: 1.2577 - val_accuracy: 0.8048\n",
      "Epoch 10/10\n",
      "252/252 [==============================] - 38s 152ms/step - loss: 0.0056 - accuracy: 0.9977 - val_loss: 1.1014 - val_accuracy: 0.8182\n",
      "dict_keys(['loss', 'accuracy', 'val_loss', 'val_accuracy'])\n"
     ]
    },
    {
     "data": {
      "image/png": "[encoded data removed]",
      "text/plain": [
       "<Figure size 432x288 with 1 Axes>"
      ]
     },
     "metadata": {
      "needs_background": "light"
     },
     "output_type": "display_data"
    },
    {
     "data": {
      "image/png": "[encoded data removed]",
      "text/plain": [
       "<Figure size 432x288 with 1 Axes>"
      ]
     },
     "metadata": {
      "needs_background": "light"
     },
     "output_type": "display_data"
    }
   ],
   "source": [
    "def cnn_model2():\n",
    "    # CNN with max pooling imeplementation \n",
    "    print('Build model...')\n",
    "    model = Sequential()\n",
    "    # we start off with an efficient embedding layer which maps\n",
    "    # our vocab indices into embedding_dims dimensions\n",
    "    model.add(Embedding(nb_words, embed_dim,weights=[embedding_matrix], input_length=max_seq_len, trainable=True))\n",
    "    model.add(Dropout(0.2))\n",
    "\n",
    "    # we add a Convolution1D, which will learn filters\n",
    "    # word group filters of size filter_length:\n",
    "    model.add(Conv1D(filters,\n",
    "                 kernel_size,\n",
    "                 padding='valid',\n",
    "                 activation='relu',\n",
    "                 strides=1))\n",
    "    # we use max pooling:\n",
    "    model.add(GlobalMaxPooling1D())\n",
    "\n",
    "    # We add a vanilla hidden layer:\n",
    "    model.add(Dense(hidden_dims))\n",
    "    model.add(Dropout(0.2))\n",
    "    model.add(Activation('relu'))\n",
    "\n",
    "    # We project onto a single unit output layer, and squash it with a sigmoid:\n",
    "    model.add(Dense(6))\n",
    "    model.add(Activation('softmax'))\n",
    "    model.summary()\n",
    "    return model\n",
    "cnn_model21=cnn_model2()\n",
    "cnn_model2_compiled,X_train,Y_train=model_compile(cnn_model21,word_seq_train,y)\n",
    "history=cnn_model2_compiled.fit(X_train,y,epochs=num_epochs,validation_split=0.20)\n",
    "history_plot(history)\n"
   ]
  },
  {
   "cell_type": "markdown",
   "metadata": {},
   "source": [
    "## Another CNN Architecture"
   ]
  },
  {
   "cell_type": "markdown",
   "metadata": {},
   "source": [
    "## Adding Layer Normalization "
   ]
  },
  {
   "cell_type": "code",
   "execution_count": 23,
   "metadata": {
    "scrolled": true
   },
   "outputs": [
    {
     "name": "stdout",
     "output_type": "stream",
     "text": [
      "training CNN ...\n",
      "Model: \"sequential_2\"\n",
      "_________________________________________________________________\n",
      "Layer (type)                 Output Shape              Param #   \n",
      "=================================================================\n",
      "embedding_2 (Embedding)      (None, 300, 300)          6000000   \n",
      "_________________________________________________________________\n",
      "layer_normalization (LayerNo (None, 300, 300)          600       \n",
      "_________________________________________________________________\n",
      "conv1d_2 (Conv1D)            (None, 300, 64)           134464    \n",
      "_________________________________________________________________\n",
      "max_pooling1d (MaxPooling1D) (None, 150, 64)           0         \n",
      "_________________________________________________________________\n",
      "conv1d_3 (Conv1D)            (None, 150, 64)           28736     \n",
      "_________________________________________________________________\n",
      "global_max_pooling1d_2 (Glob (None, 64)                0         \n",
      "_________________________________________________________________\n",
      "dropout_4 (Dropout)          (None, 64)                0         \n",
      "_________________________________________________________________\n",
      "dense_4 (Dense)              (None, 32)                2080      \n",
      "_________________________________________________________________\n",
      "dense_5 (Dense)              (None, 6)                 198       \n",
      "=================================================================\n",
      "Total params: 6,166,078\n",
      "Trainable params: 6,166,078\n",
      "Non-trainable params: 0\n",
      "_________________________________________________________________\n",
      "Epoch 1/10\n",
      "WARNING:tensorflow:Model was constructed with shape (None, 300) for input KerasTensor(type_spec=TensorSpec(shape=(None, 300), dtype=tf.float32, name='embedding_2_input'), name='embedding_2_input', description=\"created by layer 'embedding_2_input'\"), but it was called on an input with incompatible shape (None, 200).\n",
      "WARNING:tensorflow:Model was constructed with shape (None, 300) for input KerasTensor(type_spec=TensorSpec(shape=(None, 300), dtype=tf.float32, name='embedding_2_input'), name='embedding_2_input', description=\"created by layer 'embedding_2_input'\"), but it was called on an input with incompatible shape (None, 200).\n",
      "252/252 [==============================] - ETA: 0s - loss: 1.2069 - accuracy: 0.5721WARNING:tensorflow:Model was constructed with shape (None, 300) for input KerasTensor(type_spec=TensorSpec(shape=(None, 300), dtype=tf.float32, name='embedding_2_input'), name='embedding_2_input', description=\"created by layer 'embedding_2_input'\"), but it was called on an input with incompatible shape (None, 200).\n",
      "252/252 [==============================] - 56s 214ms/step - loss: 1.2060 - accuracy: 0.5724 - val_loss: 0.7127 - val_accuracy: 0.7496\n",
      "Epoch 2/10\n",
      "252/252 [==============================] - 50s 198ms/step - loss: 0.5361 - accuracy: 0.8178 - val_loss: 0.6139 - val_accuracy: 0.7914\n",
      "Epoch 3/10\n",
      "252/252 [==============================] - 53s 211ms/step - loss: 0.2483 - accuracy: 0.9251 - val_loss: 0.7152 - val_accuracy: 0.7814\n",
      "Epoch 4/10\n",
      "252/252 [==============================] - 49s 196ms/step - loss: 0.1355 - accuracy: 0.9580 - val_loss: 0.7910 - val_accuracy: 0.7968\n",
      "Epoch 5/10\n",
      "252/252 [==============================] - 49s 193ms/step - loss: 0.0773 - accuracy: 0.9759 - val_loss: 0.9881 - val_accuracy: 0.8063\n",
      "Epoch 6/10\n",
      "252/252 [==============================] - 52s 207ms/step - loss: 0.0344 - accuracy: 0.9907 - val_loss: 1.0850 - val_accuracy: 0.7745\n",
      "Epoch 7/10\n",
      "252/252 [==============================] - 48s 190ms/step - loss: 0.0288 - accuracy: 0.9935 - val_loss: 1.1707 - val_accuracy: 0.7988\n",
      "Epoch 8/10\n",
      "252/252 [==============================] - 50s 196ms/step - loss: 0.0228 - accuracy: 0.9942 - val_loss: 1.1900 - val_accuracy: 0.7968\n",
      "Epoch 9/10\n",
      "252/252 [==============================] - 48s 189ms/step - loss: 0.0344 - accuracy: 0.9916 - val_loss: 1.1095 - val_accuracy: 0.7943\n",
      "Epoch 10/10\n",
      "252/252 [==============================] - 51s 202ms/step - loss: 0.0196 - accuracy: 0.9950 - val_loss: 1.3564 - val_accuracy: 0.7973\n",
      "dict_keys(['loss', 'accuracy', 'val_loss', 'val_accuracy'])\n"
     ]
    },
    {
     "data": {
      "image/png": "[encoded data removed]",
      "text/plain": [
       "<Figure size 432x288 with 1 Axes>"
      ]
     },
     "metadata": {
      "needs_background": "light"
     },
     "output_type": "display_data"
    },
    {
     "data": {
      "image/png": "[encoded data removed]",
      "text/plain": [
       "<Figure size 432x288 with 1 Axes>"
      ]
     },
     "metadata": {
      "needs_background": "light"
     },
     "output_type": "display_data"
    }
   ],
   "source": [
    "def cnn_model3():\n",
    "    \n",
    "    #CNN architecture\n",
    "    print(\"training CNN ...\")\n",
    "    model = Sequential()\n",
    "    model.add(Embedding(nb_words, embed_dim,\n",
    "          weights=[embedding_matrix], input_length=max_seq_len, trainable=True))\n",
    "    model.add(layers.LayerNormalization())\n",
    "    model.add(Conv1D(num_filters, 7, activation='relu', padding='same'))\n",
    "    model.add(MaxPooling1D(2))\n",
    "    model.add(Conv1D(num_filters, 7, activation='relu', padding='same'))\n",
    "    model.add(GlobalMaxPooling1D())\n",
    "    model.add(Dropout(0.5))\n",
    "    model.add(Dense(32, activation='relu', kernel_regularizer=regularizers.l2(weight_decay)))\n",
    "    model.add(Dense(6, activation='softmax'))  #multi-label (k-hot encoding)\n",
    "\n",
    "    adam = optimizers.Adam(lr=0.001, beta_1=0.9, beta_2=0.999, epsilon=1e-08, decay=0.0)\n",
    "    model.summary()\n",
    "    return model\n",
    "\n",
    "\n",
    "cnn_model3=cnn_model3()\n",
    "cnn_model3_compiled,X_train,Y_train=model_compile(cnn_model3,word_seq_train,y)\n",
    "\n",
    "history=cnn_model3_compiled.fit(X_train,y,epochs=num_epochs,validation_split=0.20)\n",
    "\n",
    "history_plot(history)\n"
   ]
  },
  {
   "cell_type": "markdown",
   "metadata": {},
   "source": [
    "### BiLSTM  model"
   ]
  },
  {
   "cell_type": "code",
   "execution_count": 126,
   "metadata": {},
   "outputs": [
    {
     "name": "stdout",
     "output_type": "stream",
     "text": [
      "Model: \"sequential_33\"\n",
      "_________________________________________________________________\n",
      "Layer (type)                 Output Shape              Param #   \n",
      "=================================================================\n",
      "embedding_33 (Embedding)     (None, 300, 300)          6000000   \n",
      "_________________________________________________________________\n",
      "layer_normalization_2 (Layer (None, 300, 300)          600       \n",
      "_________________________________________________________________\n",
      "spatial_dropout1d_1 (Spatial (None, 300, 300)          0         \n",
      "_________________________________________________________________\n",
      "bidirectional_1 (Bidirection (None, 128)               186880    \n",
      "_________________________________________________________________\n",
      "dense_65 (Dense)             (None, 6)                 774       \n",
      "=================================================================\n",
      "Total params: 6,188,254\n",
      "Trainable params: 6,188,254\n",
      "Non-trainable params: 0\n",
      "_________________________________________________________________\n",
      "dict_keys(['loss', 'accuracy', 'val_loss', 'val_accuracy'])\n"
     ]
    },
    {
     "data": {
      "image/png": "[encoded data removed]",
      "text/plain": [
       "<Figure size 432x288 with 1 Axes>"
      ]
     },
     "metadata": {
      "needs_background": "light"
     },
     "output_type": "display_data"
    },
    {
     "data": {
      "image/png": "[encoded data removed]",
      "text/plain": [
       "<Figure size 432x288 with 1 Axes>"
      ]
     },
     "metadata": {
      "needs_background": "light"
     },
     "output_type": "display_data"
    }
   ],
   "source": [
    "def bilstm_model1():\n",
    "    model = Sequential()\n",
    "\n",
    "    # we start off with an efficient embedding layer which maps\n",
    "    # our vocab indices into embedding_dims dimensions\n",
    "    model.add(Embedding(nb_words, embed_dim,weights=[embedding_matrix], input_length=max_seq_len, trainable=True))\n",
    "    model.add(layers.LayerNormalization())\n",
    "    model.add(SpatialDropout1D(0.9))\n",
    "    model.add(Bidirectional(LSTM(64, dropout=0.7, recurrent_dropout=0.7)))\n",
    "\n",
    "    model.add(Dense(6, activation='softmax'))\n",
    "    model.summary()\n",
    "    return model\n",
    "\n",
    "bilstm_model1=bilstm_model1()\n",
    "bilstm1_compiled,X_train,Y_train=model_compile(bilstm_model1,word_seq_train,y)\n",
    "# history=bilstm1_compiled.fit(X_train,y,epochs=5,validation_split=0.20)\n",
    "\n",
    "history_plot(history)\n",
    "# define callbacks\n",
    "# early_stopping = EarlyStopping(monitor='val_loss', min_delta=0.01, patience=4, verbose=1)\n",
    "# callbacks_list = [early_stopping]\n",
    "# history = model.fit(word_seq_train, y, epochs=epochs, batch_size=batch_size,validation_split=0.2,callbacks=[EarlyStopping(monitor='val_loss',patience=7, min_delta=0.0001)],verbose=1)"
   ]
  },
  {
   "cell_type": "code",
   "execution_count": null,
   "metadata": {},
   "outputs": [],
   "source": [
    "\n"
   ]
  },
  {
   "cell_type": "code",
   "execution_count": null,
   "metadata": {},
   "outputs": [],
   "source": []
  },
  {
   "cell_type": "code",
   "execution_count": null,
   "metadata": {},
   "outputs": [],
   "source": []
  },
  {
   "cell_type": "code",
   "execution_count": null,
   "metadata": {},
   "outputs": [],
   "source": []
  },
  {
   "cell_type": "code",
   "execution_count": null,
   "metadata": {},
   "outputs": [],
   "source": []
  },
  {
   "cell_type": "code",
   "execution_count": null,
   "metadata": {},
   "outputs": [],
   "source": []
  },
  {
   "cell_type": "markdown",
   "metadata": {},
   "source": [
    "## Kfold "
   ]
  },
  {
   "cell_type": "code",
   "execution_count": 25,
   "metadata": {},
   "outputs": [],
   "source": [
    "\n",
    "from sklearn.model_selection import KFold\n",
    "from keras.preprocessing.sequence import pad_sequences\n",
    "from nltk.tokenize import RegexpTokenizer \n",
    "from nltk.corpus import stopwords\n",
    "from nltk import WordNetLemmatizer, word_tokenize\n",
    "stop_words=stopwords.words('english')\n",
    "from tqdm import tqdm\n",
    "lemma = WordNetLemmatizer()\n",
    "from numpy import concatenate\n",
    "from sklearn.preprocessing import LabelEncoder"
   ]
  },
  {
   "cell_type": "code",
   "execution_count": 41,
   "metadata": {},
   "outputs": [
    {
     "name": "stdout",
     "output_type": "stream",
     "text": [
      "labels encoded shape (10065,)\n",
      "seq shape (10065, 300)\n",
      "unlabed(None)seq shape (10123, 300)\n",
      "labels shape -- y (10065, 6)\n",
      "training seq shape  --x_train: (8052, 300)\n",
      "testing seq shape -- x_test: (2013, 300)\n",
      "category train label shape -- y_train: (8052, 6)\n",
      "category test label shape -- y_test (2013, 6)\n"
     ]
    }
   ],
   "source": [
    "# max_seq_len=300\n",
    "\n",
    "# print('training word seq :\\n', word_seq_train[1],'\\n')\n",
    "\n",
    "le=LabelEncoder()\n",
    "y_encoded=le.fit_transform(label_df['category'].values)\n",
    "print('labels encoded shape',y_encoded.shape)\n",
    "\n",
    "x_train,x_test,y_train,y_test=train_test_split(word_seq_train,y,test_size=0.2)\n",
    "\n",
    "# X_pad = pad_sequences(x_train, maxlen=max_seq_len)\n",
    "# X_test_pad = pad_sequences(x_test, maxlen=max_seq_len)\n",
    "\n",
    "# print(' label train seq padded',X_pad[1])\n",
    "print('seq shape',word_seq_train.shape)\n",
    "print('unlabed(None)seq shape',word_seq_test.shape)\n",
    "print('labels shape -- y',y.shape)\n",
    "\n",
    "print('training seq shape  --x_train:',x_train.shape)\n",
    "print('testing seq shape -- x_test:',x_test.shape)\n",
    "\n",
    "print('category train label shape -- y_train:',y_train.shape)\n",
    "print('category test label shape -- y_test',y_test.shape)\n",
    "\n",
    "# print('padded train seq shape  -- X_pad: ',X_pad.shape)\n",
    "# print('padded unlabed test seq shape  -- X_pad: ',X_pad.shape)\n",
    "\n",
    "\n"
   ]
  },
  {
   "cell_type": "code",
   "execution_count": null,
   "metadata": {},
   "outputs": [],
   "source": []
  },
  {
   "cell_type": "code",
   "execution_count": 43,
   "metadata": {},
   "outputs": [],
   "source": []
  },
  {
   "cell_type": "code",
   "execution_count": 176,
   "metadata": {},
   "outputs": [
    {
     "name": "stdout",
     "output_type": "stream",
     "text": [
      "folded train data X_train1:  (2684, 300)\n",
      "folded train labels y_train1:  (2684, 6)\n"
     ]
    }
   ],
   "source": [
    "kf = KFold(n_splits=3, shuffle=True)\n",
    "\n",
    "X_fold = list()\n",
    "y_fold = list()\n",
    "\n",
    "for _, fold in kf.split(x_train):\n",
    "    \n",
    "    X_fold.append(x_train[fold])\n",
    "    y_fold.append(y_train[fold])\n",
    "    \n",
    "X_fold = np.array(X_fold)\n",
    "y_fold = np.array(y_fold)\n",
    "\n",
    "# The 0th fold will be our known labeled, the rest folds are assumed to be unlabeled\n",
    "X_train1 = X_fold[0]\n",
    "y_train1 = y_fold[0]\n",
    "print('folded train data X_train1: ', X_train1.shape)\n",
    "print('folded train labels y_train1: ', y_train1.shape)\n"
   ]
  },
  {
   "cell_type": "code",
   "execution_count": 149,
   "metadata": {},
   "outputs": [],
   "source": [
    "\n",
    "from keras.models import Sequential\n",
    "from keras.layers import LSTM, Dense, Embedding, Dropout\n",
    "\n",
    "def create_model():\n",
    "    # CNN with max pooling imeplementation \n",
    "    print('Build model...')\n",
    "    model = Sequential()\n",
    "    # we start off with an efficient embedding layer which maps\n",
    "    # our vocab indices into embedding_dims dimensions\n",
    "    model.add(Embedding(nb_words, embed_dim,weights=[embedding_matrix], input_length=max_seq_len, trainable=True))\n",
    "    model.add(Dropout(0.2))\n",
    "\n",
    "    # we add a Convolution1D, which will learn filters\n",
    "    # word group filters of size filter_length:\n",
    "    model.add(Conv1D(filters,\n",
    "                 kernel_size,\n",
    "                 padding='valid',\n",
    "                 activation='relu',\n",
    "                 strides=1))\n",
    "    # we use max pooling:\n",
    "    model.add(GlobalMaxPooling1D())\n",
    "\n",
    "    # We add a vanilla hidden layer:\n",
    "    model.add(Dense(hidden_dims))\n",
    "    model.add(Dropout(0.2))\n",
    "    model.add(Activation('relu'))\n",
    "\n",
    "    # We project onto a single unit output layer, and squash it with a sigmoid:\n",
    "    model.add(Dense(6))\n",
    "    model.add(Activation('softmax'))\n",
    "    model.summary()\n",
    "    \n",
    "    try:\n",
    "        with tf.device('/device:GPU:0'):\n",
    "            model.compile(loss='binary_crossentropy',optimizer='adam',metrics=['accuracy'])\n",
    "    except RuntimeError as e:\n",
    "          print(e)\n",
    "    return model"
   ]
  },
  {
   "cell_type": "code",
   "execution_count": 150,
   "metadata": {},
   "outputs": [
    {
     "name": "stdout",
     "output_type": "stream",
     "text": [
      "Build model...\n",
      "Model: \"sequential_36\"\n",
      "_________________________________________________________________\n",
      "Layer (type)                 Output Shape              Param #   \n",
      "=================================================================\n",
      "embedding_36 (Embedding)     (None, 300, 300)          6000000   \n",
      "_________________________________________________________________\n",
      "dropout_67 (Dropout)         (None, 300, 300)          0         \n",
      "_________________________________________________________________\n",
      "conv1d_35 (Conv1D)           (None, 298, 250)          225250    \n",
      "_________________________________________________________________\n",
      "global_max_pooling1d_34 (Glo (None, 250)               0         \n",
      "_________________________________________________________________\n",
      "dense_70 (Dense)             (None, 250)               62750     \n",
      "_________________________________________________________________\n",
      "dropout_68 (Dropout)         (None, 250)               0         \n",
      "_________________________________________________________________\n",
      "activation_66 (Activation)   (None, 250)               0         \n",
      "_________________________________________________________________\n",
      "dense_71 (Dense)             (None, 6)                 1506      \n",
      "_________________________________________________________________\n",
      "activation_67 (Activation)   (None, 6)                 0         \n",
      "=================================================================\n",
      "Total params: 6,289,506\n",
      "Trainable params: 6,289,506\n",
      "Non-trainable params: 0\n",
      "_________________________________________________________________\n"
     ]
    }
   ],
   "source": [
    "\n",
    "model = create_model()\n"
   ]
  },
  {
   "cell_type": "code",
   "execution_count": 177,
   "metadata": {},
   "outputs": [
    {
     "name": "stdout",
     "output_type": "stream",
     "text": [
      "X_train_shape before training (10065, 300)\n",
      "X_train1 shape b4 training (2684, 300)\n",
      "Y_train1.shape (2684, 6)\n",
      "Build model...\n",
      "Model: \"sequential_48\"\n",
      "_________________________________________________________________\n",
      "Layer (type)                 Output Shape              Param #   \n",
      "=================================================================\n",
      "embedding_48 (Embedding)     (None, 300, 300)          6000000   \n",
      "_________________________________________________________________\n",
      "dropout_91 (Dropout)         (None, 300, 300)          0         \n",
      "_________________________________________________________________\n",
      "conv1d_47 (Conv1D)           (None, 298, 250)          225250    \n",
      "_________________________________________________________________\n",
      "global_max_pooling1d_46 (Glo (None, 250)               0         \n",
      "_________________________________________________________________\n",
      "dense_94 (Dense)             (None, 250)               62750     \n",
      "_________________________________________________________________\n",
      "dropout_92 (Dropout)         (None, 250)               0         \n",
      "_________________________________________________________________\n",
      "activation_90 (Activation)   (None, 250)               0         \n",
      "_________________________________________________________________\n",
      "dense_95 (Dense)             (None, 6)                 1506      \n",
      "_________________________________________________________________\n",
      "activation_91 (Activation)   (None, 6)                 0         \n",
      "=================================================================\n",
      "Total params: 6,289,506\n",
      "Trainable params: 6,289,506\n",
      "Non-trainable params: 0\n",
      "_________________________________________________________________\n",
      "Epoch 1/10\n",
      "22/22 [==============================] - 5s 228ms/step - loss: 0.4406 - accuracy: 0.4972 - val_loss: 0.3145 - val_accuracy: 0.6280\n",
      "Epoch 2/10\n",
      "22/22 [==============================] - 5s 224ms/step - loss: 0.3053 - accuracy: 0.6440 - val_loss: 0.2730 - val_accuracy: 0.6390\n",
      "Epoch 3/10\n",
      "22/22 [==============================] - 5s 225ms/step - loss: 0.2332 - accuracy: 0.7101 - val_loss: 0.2538 - val_accuracy: 0.6690\n",
      "Epoch 4/10\n",
      "22/22 [==============================] - 5s 225ms/step - loss: 0.1935 - accuracy: 0.7690 - val_loss: 0.2243 - val_accuracy: 0.7080\n",
      "Epoch 5/10\n",
      "22/22 [==============================] - 5s 227ms/step - loss: 0.1414 - accuracy: 0.8432 - val_loss: 0.2144 - val_accuracy: 0.7420\n",
      "Epoch 6/10\n",
      "22/22 [==============================] - 5s 226ms/step - loss: 0.0956 - accuracy: 0.9368 - val_loss: 0.2122 - val_accuracy: 0.7430\n",
      "Epoch 7/10\n",
      "22/22 [==============================] - 5s 226ms/step - loss: 0.0699 - accuracy: 0.9546 - val_loss: 0.2187 - val_accuracy: 0.7535\n",
      "Epoch 8/10\n",
      "22/22 [==============================] - 5s 225ms/step - loss: 0.0532 - accuracy: 0.9805 - val_loss: 0.2295 - val_accuracy: 0.7455\n",
      "Epoch 9/10\n",
      "22/22 [==============================] - 5s 226ms/step - loss: 0.0304 - accuracy: 0.9864 - val_loss: 0.2424 - val_accuracy: 0.7405\n",
      "Epoch 10/10\n",
      "22/22 [==============================] - 5s 226ms/step - loss: 0.0194 - accuracy: 0.9986 - val_loss: 0.2519 - val_accuracy: 0.7510\n"
     ]
    },
    {
     "data": {
      "text/plain": [
       "<tensorflow.python.keras.callbacks.History at 0x227488e3b80>"
      ]
     },
     "execution_count": 177,
     "metadata": {},
     "output_type": "execute_result"
    }
   ],
   "source": [
    "print('X_train_shape before training',X_train.shape)\n",
    "print('X_train1 shape b4 training',X_train1.shape)\n",
    "print('Y_train1.shape',y_train1.shape)\n",
    "model= create_model()\n",
    "model.fit(X_train1[:-2000], y_train1[:-2000], epochs=10,validation_data=(X_train1[-2000:], y_train1[-2000:]), shuffle=True, verbose=1)\n",
    "\n"
   ]
  },
  {
   "cell_type": "code",
   "execution_count": 178,
   "metadata": {},
   "outputs": [
    {
     "name": "stdout",
     "output_type": "stream",
     "text": [
      "predictions [9.9763572e-01 3.1042429e-05 1.1241188e-04 2.2152339e-03 4.4081303e-06\n",
      " 1.1753170e-06]\n"
     ]
    }
   ],
   "source": [
    "predictions = model.predict(X_fold[1])\n",
    "print('predictions',predictions[1])\n"
   ]
  },
  {
   "cell_type": "code",
   "execution_count": 181,
   "metadata": {},
   "outputs": [],
   "source": [
    "def get_new_train_data(predictions, fold_n):\n",
    "    X_new = list()\n",
    "    y_new = list()\n",
    "    \n",
    "    for i, prediction in enumerate(predictions):\n",
    "#         print(prediction)\n",
    "        if (prediction.all() > 0.95 or prediction.all()<0.05):\n",
    "            X_new.append(X_fold[fold_n][i])\n",
    "            y_new.append(np.argmax(prediction))\n",
    "        \n",
    "    return np.array(X_new), np.array(y_new)\n",
    "\n"
   ]
  },
  {
   "cell_type": "code",
   "execution_count": 182,
   "metadata": {},
   "outputs": [
    {
     "name": "stdout",
     "output_type": "stream",
     "text": [
      "X_new shape before shuffle (2684, 300)\n",
      "y_new shape before shuffle (2684,)\n",
      "y_NEW\n",
      " [0 0 1 0 1 3 0 0 0 3]\n",
      "new train data after predictions (2684, 300) and labels (2684,)\n",
      "X_train1.shape (2684, 300)\n",
      "Y_train1 [[1. 0. 0. 0. 0. 0.]\n",
      " [0. 0. 0. 1. 0. 0.]\n",
      " [0. 0. 1. 0. 0. 0.]\n",
      " ...\n",
      " [1. 0. 0. 0. 0. 0.]\n",
      " [1. 0. 0. 0. 0. 0.]\n",
      " [0. 0. 0. 1. 0. 0.]]\n"
     ]
    }
   ],
   "source": [
    "X_new, y_new = get_new_train_data(predictions, 1)\n",
    "print('X_new shape before shuffle',X_new.shape)\n",
    "print('y_new shape before shuffle',y_new.shape)\n",
    "\n",
    "# print('X_new',X_new[:2])\n",
    "print('y_NEW\\n',y_new[:10])\n",
    "\n",
    "print('new train data after predictions {} and labels {}'.format(X_new.shape,y_new.shape))\n",
    "# print('X_train1',X_train1[1])\n",
    "print('X_train1.shape',X_train1.shape)\n",
    "print('Y_train1',y_train1)\n",
    "\n"
   ]
  },
  {
   "cell_type": "code",
   "execution_count": 183,
   "metadata": {},
   "outputs": [
    {
     "name": "stdout",
     "output_type": "stream",
     "text": [
      "(2684, 6)\n"
     ]
    }
   ],
   "source": [
    "print(y_new1.shape)"
   ]
  },
  {
   "cell_type": "code",
   "execution_count": 184,
   "metadata": {},
   "outputs": [],
   "source": [
    "def join_shuffle(X_train, y_train, X_new, y_new):\n",
    "    X_train = np.vstack((X_train, X_new))\n",
    "    \n",
    "    y_train = np.vstack((y_train, y_new))\n",
    "    print('y_train shape while shuffling',y_train.shape)\n",
    "    print(y_train)\n",
    "    indices = np.arange(X_train.shape[0])\n",
    "    np.random.shuffle(indices)\n",
    "\n",
    "    return X_train[indices], y_train[indices]"
   ]
  },
  {
   "cell_type": "code",
   "execution_count": 185,
   "metadata": {},
   "outputs": [
    {
     "name": "stdout",
     "output_type": "stream",
     "text": [
      "[1. 0. 0. 0. 0. 0.]\n",
      "y_new categorical [0 0 1 ... 0 0 0]\n",
      "(2684, 6)\n"
     ]
    }
   ],
   "source": [
    "print(y_train1[0])\n",
    "print('y_new categorical',y_new)\n",
    "\n",
    "y_new1=np_utils.to_categorical(y_new, num_classes=6)\n",
    "print(y_new1.shape)"
   ]
  },
  {
   "cell_type": "code",
   "execution_count": 186,
   "metadata": {},
   "outputs": [
    {
     "name": "stdout",
     "output_type": "stream",
     "text": [
      "y_train shape while shuffling (5368, 6)\n",
      "[[1. 0. 0. 0. 0. 0.]\n",
      " [0. 0. 0. 1. 0. 0.]\n",
      " [0. 0. 1. 0. 0. 0.]\n",
      " ...\n",
      " [1. 0. 0. 0. 0. 0.]\n",
      " [1. 0. 0. 0. 0. 0.]\n",
      " [1. 0. 0. 0. 0. 0.]]\n",
      "y_train2\n",
      " (5368, 6)\n"
     ]
    }
   ],
   "source": [
    "X_train2, y_train2 = join_shuffle(X_train1, y_train1, X_new, y_new1)\n",
    "print('y_train2\\n',y_train2.shape)\n"
   ]
  },
  {
   "cell_type": "code",
   "execution_count": 166,
   "metadata": {},
   "outputs": [
    {
     "name": "stdout",
     "output_type": "stream",
     "text": [
      "shuffled train data X_train2 (5368, 300)\n",
      "shuffled test data y_train2 (5368, 6)\n",
      "(5368, 6) y_train_shape\n"
     ]
    }
   ],
   "source": [
    "print('shuffled train data X_train2',X_train2.shape)\n",
    "print('shuffled test data y_train2',y_train2.shape)\n",
    "# y_train2=np_utils.to_categorical(y_train2, num_classes=6)\n",
    "print(y_train2.shape,'y_train_shape')\n"
   ]
  },
  {
   "cell_type": "code",
   "execution_count": 187,
   "metadata": {},
   "outputs": [
    {
     "name": "stdout",
     "output_type": "stream",
     "text": [
      "shuffle test data y_train2 categorizing (5368, 6)\n",
      "y_new 1\n",
      "y_train2\n",
      " [[0. 1. 0. 0. 0. 0.]\n",
      " [1. 0. 0. 0. 0. 0.]]\n",
      "Build model...\n",
      "Model: \"sequential_49\"\n",
      "_________________________________________________________________\n",
      "Layer (type)                 Output Shape              Param #   \n",
      "=================================================================\n",
      "embedding_49 (Embedding)     (None, 300, 300)          6000000   \n",
      "_________________________________________________________________\n",
      "dropout_93 (Dropout)         (None, 300, 300)          0         \n",
      "_________________________________________________________________\n",
      "conv1d_48 (Conv1D)           (None, 298, 250)          225250    \n",
      "_________________________________________________________________\n",
      "global_max_pooling1d_47 (Glo (None, 250)               0         \n",
      "_________________________________________________________________\n",
      "dense_96 (Dense)             (None, 250)               62750     \n",
      "_________________________________________________________________\n",
      "dropout_94 (Dropout)         (None, 250)               0         \n",
      "_________________________________________________________________\n",
      "activation_92 (Activation)   (None, 250)               0         \n",
      "_________________________________________________________________\n",
      "dense_97 (Dense)             (None, 6)                 1506      \n",
      "_________________________________________________________________\n",
      "activation_93 (Activation)   (None, 6)                 0         \n",
      "=================================================================\n",
      "Total params: 6,289,506\n",
      "Trainable params: 6,289,506\n",
      "Non-trainable params: 0\n",
      "_________________________________________________________________\n",
      "Epoch 1/10\n",
      "106/106 [==============================] - 19s 179ms/step - loss: 0.3355 - accuracy: 0.5953 - val_loss: 0.1903 - val_accuracy: 0.7670\n",
      "Epoch 2/10\n",
      "106/106 [==============================] - 19s 180ms/step - loss: 0.1441 - accuracy: 0.8416 - val_loss: 0.1627 - val_accuracy: 0.8095\n",
      "Epoch 3/10\n",
      "106/106 [==============================] - 20s 186ms/step - loss: 0.0897 - accuracy: 0.9074 - val_loss: 0.1663 - val_accuracy: 0.8105\n",
      "Epoch 4/10\n",
      "106/106 [==============================] - 19s 182ms/step - loss: 0.0453 - accuracy: 0.9605 - val_loss: 0.1712 - val_accuracy: 0.8215\n",
      "Epoch 5/10\n",
      "106/106 [==============================] - 19s 180ms/step - loss: 0.0196 - accuracy: 0.9901 - val_loss: 0.2027 - val_accuracy: 0.8060\n",
      "Epoch 6/10\n",
      "106/106 [==============================] - 19s 180ms/step - loss: 0.0089 - accuracy: 0.9967 - val_loss: 0.2411 - val_accuracy: 0.8085\n",
      "Epoch 7/10\n",
      "106/106 [==============================] - 19s 182ms/step - loss: 0.0048 - accuracy: 0.9991 - val_loss: 0.2455 - val_accuracy: 0.8140\n",
      "Epoch 8/10\n",
      "106/106 [==============================] - 19s 178ms/step - loss: 0.0019 - accuracy: 1.0000 - val_loss: 0.2669 - val_accuracy: 0.8145\n",
      "Epoch 9/10\n",
      "106/106 [==============================] - 19s 178ms/step - loss: 0.0013 - accuracy: 1.0000 - val_loss: 0.2744 - val_accuracy: 0.8125\n",
      "Epoch 10/10\n",
      "106/106 [==============================] - 19s 179ms/step - loss: 9.2762e-04 - accuracy: 1.0000 - val_loss: 0.2904 - val_accuracy: 0.8120\n"
     ]
    }
   ],
   "source": [
    "\n",
    "print('shuffle test data y_train2 categorizing',y_train2.shape)\n",
    "print('y_new',y_new[10])\n",
    "print('y_train2\\n',y_train2[:2])\n",
    "\n",
    "# print([category_list[i] for i in y_new[:1]])\n",
    "# \n",
    "\n",
    "model = create_model()\n",
    "model.fit(X_train2[:-2000], y_train2[:-2000], epochs=10, \n",
    "          validation_data=(X_train2[-2000:], y_train2[-2000:]))\n",
    "\n",
    "# Predict samples in fold 2\n",
    "predictions = model.predict(X_fold[2])\n",
    "\n"
   ]
  },
  {
   "cell_type": "code",
   "execution_count": 188,
   "metadata": {},
   "outputs": [
    {
     "name": "stdout",
     "output_type": "stream",
     "text": [
      "label_new_updated shape y_new (2684,)\n",
      "y_new [1 0 3 ... 1 3 1]\n",
      "y_train shape while shuffling (8052, 6)\n",
      "[[0. 1. 0. 0. 0. 0.]\n",
      " [1. 0. 0. 0. 0. 0.]\n",
      " [0. 0. 0. 1. 0. 0.]\n",
      " ...\n",
      " [0. 1. 0. 0. 0. 0.]\n",
      " [0. 0. 0. 1. 0. 0.]\n",
      " [0. 1. 0. 0. 0. 0.]]\n",
      "y_train3 [[0. 1. 0. 0. 0. 0.]\n",
      " [1. 0. 0. 0. 0. 0.]\n",
      " [1. 0. 0. 0. 0. 0.]\n",
      " ...\n",
      " [1. 0. 0. 0. 0. 0.]\n",
      " [1. 0. 0. 0. 0. 0.]\n",
      " [0. 0. 1. 0. 0. 0.]]\n",
      "[[1. 0. 0. 0. 0. 0.]\n",
      " [0. 0. 0. 0. 0. 1.]\n",
      " [1. 0. 0. 0. 0. 0.]\n",
      " [0. 1. 0. 0. 0. 0.]\n",
      " [1. 0. 0. 0. 0. 0.]\n",
      " [1. 0. 0. 0. 0. 0.]\n",
      " [0. 1. 0. 0. 0. 0.]\n",
      " [1. 0. 0. 0. 0. 0.]\n",
      " [0. 1. 0. 0. 0. 0.]\n",
      " [1. 0. 0. 0. 0. 0.]\n",
      " [1. 0. 0. 0. 0. 0.]\n",
      " [0. 0. 1. 0. 0. 0.]]\n"
     ]
    }
   ],
   "source": [
    "\n",
    "# Filter out samples in fold 2\n",
    "X_new, y_new = get_new_train_data(predictions, 2)\n",
    "print('label_new_updated shape y_new',y_new.shape)\n",
    "print('y_new',y_new)\n",
    "# Concatenate new data to X_train and y_train\n",
    "y_new=np_utils.to_categorical(y_new, num_classes=6)\n",
    "\n",
    "X_train3, y_train3 = join_shuffle(X_train2, y_train2, X_new, y_new)\n",
    "print('y_train3',y_train3)\n",
    "# y_train3=np_utils.to_categorical(y_train3, num_classes=6)\n",
    "print(y_train3[-12:])"
   ]
  },
  {
   "cell_type": "code",
   "execution_count": 189,
   "metadata": {},
   "outputs": [
    {
     "name": "stdout",
     "output_type": "stream",
     "text": [
      "Epoch 1/10\n",
      "252/252 [==============================] - 45s 178ms/step - loss: 0.0831 - accuracy: 0.9153 - val_loss: 0.2168 - val_accuracy: 0.7789\n",
      "Epoch 2/10\n",
      "252/252 [==============================] - 44s 174ms/step - loss: 0.0233 - accuracy: 0.9800 - val_loss: 0.2727 - val_accuracy: 0.7705\n",
      "Epoch 3/10\n",
      "252/252 [==============================] - 44s 173ms/step - loss: 0.0067 - accuracy: 0.9953 - val_loss: 0.3513 - val_accuracy: 0.7750\n",
      "Epoch 4/10\n",
      "252/252 [==============================] - 44s 176ms/step - loss: 0.0026 - accuracy: 0.9983 - val_loss: 0.3775 - val_accuracy: 0.7700\n",
      "Epoch 5/10\n",
      "252/252 [==============================] - 44s 175ms/step - loss: 0.0020 - accuracy: 0.9990 - val_loss: 0.4212 - val_accuracy: 0.7645\n",
      "Epoch 6/10\n",
      "252/252 [==============================] - 44s 177ms/step - loss: 8.8971e-04 - accuracy: 0.9996 - val_loss: 0.4678 - val_accuracy: 0.7620\n",
      "Epoch 7/10\n",
      "252/252 [==============================] - 50s 200ms/step - loss: 3.8311e-04 - accuracy: 0.9999 - val_loss: 0.4843 - val_accuracy: 0.7685\n",
      "Epoch 8/10\n",
      "252/252 [==============================] - 47s 186ms/step - loss: 2.7103e-04 - accuracy: 1.0000 - val_loss: 0.5106 - val_accuracy: 0.7670\n",
      "Epoch 9/10\n",
      "252/252 [==============================] - 46s 184ms/step - loss: 5.3579e-04 - accuracy: 0.9996 - val_loss: 0.5407 - val_accuracy: 0.7650\n",
      "Epoch 10/10\n",
      "252/252 [==============================] - 45s 177ms/step - loss: 1.3954e-04 - accuracy: 1.0000 - val_loss: 0.5391 - val_accuracy: 0.7670\n"
     ]
    },
    {
     "data": {
      "text/plain": [
       "<tensorflow.python.keras.callbacks.History at 0x2273cd36070>"
      ]
     },
     "execution_count": 189,
     "metadata": {},
     "output_type": "execute_result"
    }
   ],
   "source": [
    "\n",
    "model.fit(X_train3, y_train3, \n",
    "          validation_data=(x_test, y_test),epochs=10)"
   ]
  },
  {
   "cell_type": "markdown",
   "metadata": {},
   "source": [
    "## CNN model check "
   ]
  },
  {
   "cell_type": "code",
   "execution_count": null,
   "metadata": {},
   "outputs": [],
   "source": [
    "cnn_model2()"
   ]
  },
  {
   "cell_type": "code",
   "execution_count": 174,
   "metadata": {},
   "outputs": [
    {
     "name": "stdout",
     "output_type": "stream",
     "text": [
      "Build model...\n",
      "Model: \"sequential_45\"\n",
      "_________________________________________________________________\n",
      "Layer (type)                 Output Shape              Param #   \n",
      "=================================================================\n",
      "embedding_45 (Embedding)     (None, 300, 300)          6000000   \n",
      "_________________________________________________________________\n",
      "dropout_85 (Dropout)         (None, 300, 300)          0         \n",
      "_________________________________________________________________\n",
      "conv1d_44 (Conv1D)           (None, 298, 250)          225250    \n",
      "_________________________________________________________________\n",
      "global_max_pooling1d_43 (Glo (None, 250)               0         \n",
      "_________________________________________________________________\n",
      "dense_88 (Dense)             (None, 250)               62750     \n",
      "_________________________________________________________________\n",
      "dropout_86 (Dropout)         (None, 250)               0         \n",
      "_________________________________________________________________\n",
      "activation_84 (Activation)   (None, 250)               0         \n",
      "_________________________________________________________________\n",
      "dense_89 (Dense)             (None, 6)                 1506      \n",
      "_________________________________________________________________\n",
      "activation_85 (Activation)   (None, 6)                 0         \n",
      "=================================================================\n",
      "Total params: 6,289,506\n",
      "Trainable params: 6,289,506\n",
      "Non-trainable params: 0\n",
      "_________________________________________________________________\n"
     ]
    }
   ],
   "source": [
    "num_epochs=20\n",
    "cnn_model21=cnn_model2()\n"
   ]
  },
  {
   "cell_type": "code",
   "execution_count": 175,
   "metadata": {},
   "outputs": [
    {
     "name": "stdout",
     "output_type": "stream",
     "text": [
      "Build model...\n",
      "Model: \"sequential_46\"\n",
      "_________________________________________________________________\n",
      "Layer (type)                 Output Shape              Param #   \n",
      "=================================================================\n",
      "embedding_46 (Embedding)     (None, 300, 300)          6000000   \n",
      "_________________________________________________________________\n",
      "dropout_87 (Dropout)         (None, 300, 300)          0         \n",
      "_________________________________________________________________\n",
      "conv1d_45 (Conv1D)           (None, 298, 250)          225250    \n",
      "_________________________________________________________________\n",
      "global_max_pooling1d_44 (Glo (None, 250)               0         \n",
      "_________________________________________________________________\n",
      "dense_90 (Dense)             (None, 250)               62750     \n",
      "_________________________________________________________________\n",
      "dropout_88 (Dropout)         (None, 250)               0         \n",
      "_________________________________________________________________\n",
      "activation_86 (Activation)   (None, 250)               0         \n",
      "_________________________________________________________________\n",
      "dense_91 (Dense)             (None, 6)                 1506      \n",
      "_________________________________________________________________\n",
      "activation_87 (Activation)   (None, 6)                 0         \n",
      "=================================================================\n",
      "Total params: 6,289,506\n",
      "Trainable params: 6,289,506\n",
      "Non-trainable params: 0\n",
      "_________________________________________________________________\n",
      "Epoch 1/20\n",
      "53/53 [==============================] - 11s 190ms/step - loss: 1.3107 - accuracy: 0.5071 - val_loss: 0.7922 - val_accuracy: 0.7130\n",
      "Epoch 2/20\n",
      "53/53 [==============================] - 10s 182ms/step - loss: 0.7337 - accuracy: 0.7299 - val_loss: 0.7310 - val_accuracy: 0.7290\n",
      "Epoch 3/20\n",
      "53/53 [==============================] - 10s 184ms/step - loss: 0.5130 - accuracy: 0.8302 - val_loss: 0.6880 - val_accuracy: 0.7570\n",
      "Epoch 4/20\n",
      "53/53 [==============================] - 10s 183ms/step - loss: 0.3110 - accuracy: 0.8915 - val_loss: 0.6921 - val_accuracy: 0.7720\n",
      "Epoch 5/20\n",
      "53/53 [==============================] - 10s 184ms/step - loss: 0.1508 - accuracy: 0.9633 - val_loss: 0.7680 - val_accuracy: 0.7590\n",
      "Epoch 6/20\n",
      "53/53 [==============================] - 10s 181ms/step - loss: 0.0592 - accuracy: 0.9954 - val_loss: 0.7928 - val_accuracy: 0.7770\n",
      "Epoch 7/20\n",
      "53/53 [==============================] - 10s 187ms/step - loss: 0.0292 - accuracy: 0.9952 - val_loss: 0.8785 - val_accuracy: 0.7780\n",
      "Epoch 8/20\n",
      "53/53 [==============================] - 10s 185ms/step - loss: 0.0193 - accuracy: 0.9986 - val_loss: 0.9363 - val_accuracy: 0.7530\n",
      "Epoch 9/20\n",
      "53/53 [==============================] - 10s 186ms/step - loss: 0.0126 - accuracy: 0.9996 - val_loss: 0.8983 - val_accuracy: 0.7750\n",
      "Epoch 10/20\n",
      "53/53 [==============================] - 10s 193ms/step - loss: 0.0072 - accuracy: 0.9993 - val_loss: 0.9468 - val_accuracy: 0.7810\n",
      "Epoch 11/20\n",
      "53/53 [==============================] - 10s 185ms/step - loss: 0.0073 - accuracy: 0.9991 - val_loss: 0.9391 - val_accuracy: 0.7690\n",
      "Epoch 12/20\n",
      "53/53 [==============================] - 10s 180ms/step - loss: 0.0025 - accuracy: 0.9998 - val_loss: 0.9836 - val_accuracy: 0.7810\n",
      "Epoch 13/20\n",
      "53/53 [==============================] - 10s 181ms/step - loss: 0.0033 - accuracy: 0.9997 - val_loss: 1.0074 - val_accuracy: 0.7740\n",
      "Epoch 14/20\n",
      "53/53 [==============================] - 10s 181ms/step - loss: 0.0076 - accuracy: 0.9970 - val_loss: 1.0061 - val_accuracy: 0.7770\n",
      "Epoch 15/20\n",
      "53/53 [==============================] - 10s 185ms/step - loss: 0.0043 - accuracy: 0.9977 - val_loss: 1.0279 - val_accuracy: 0.7760\n",
      "Epoch 16/20\n",
      "53/53 [==============================] - 10s 189ms/step - loss: 0.0035 - accuracy: 0.9986 - val_loss: 1.0351 - val_accuracy: 0.7790\n",
      "Epoch 17/20\n",
      "53/53 [==============================] - 10s 180ms/step - loss: 0.0027 - accuracy: 0.9994 - val_loss: 1.0765 - val_accuracy: 0.7820\n",
      "Epoch 18/20\n",
      "53/53 [==============================] - 10s 186ms/step - loss: 0.0015 - accuracy: 0.9994 - val_loss: 1.0631 - val_accuracy: 0.7790\n",
      "Epoch 19/20\n",
      "53/53 [==============================] - 11s 200ms/step - loss: 0.0024 - accuracy: 0.9985 - val_loss: 1.0594 - val_accuracy: 0.7740\n",
      "Epoch 20/20\n",
      "53/53 [==============================] - 10s 184ms/step - loss: 0.0012 - accuracy: 0.9998 - val_loss: 1.0858 - val_accuracy: 0.7790\n",
      "predictions [[9.9777597e-01 1.0574590e-03 9.7359029e-05 1.3740715e-05 1.0529788e-03\n",
      "  2.4310377e-06]\n",
      " [5.5063697e-07 9.9997175e-01 7.5378836e-08 6.6354877e-10 2.6413480e-05\n",
      "  1.0904266e-06]\n",
      " [4.4847970e-04 9.9884868e-01 3.1607976e-06 4.3209138e-07 1.2685921e-05\n",
      "  6.8643509e-04]\n",
      " ...\n",
      " [4.2716373e-02 9.2925531e-01 1.4926532e-02 1.3291127e-04 3.2861084e-03\n",
      "  9.6828267e-03]\n",
      " [3.9425609e-01 6.0411251e-01 9.0970274e-04 1.6431559e-05 3.4880452e-04\n",
      "  3.5651421e-04]\n",
      " [9.9998045e-01 3.3558226e-07 2.0264949e-08 3.8796856e-08 1.9204035e-05\n",
      "  1.8925024e-09]]\n",
      "y_train shape while shuffling (5368, 6)\n",
      "[[1. 0. 0. 0. 0. 0.]\n",
      " [0. 0. 0. 1. 0. 0.]\n",
      " [0. 0. 0. 1. 0. 0.]\n",
      " ...\n",
      " [0. 1. 0. 0. 0. 0.]\n",
      " [0. 1. 0. 0. 0. 0.]\n",
      " [1. 0. 0. 0. 0. 0.]]\n",
      "new train data after predictions (2684, 300) and labels (2684, 6)\n",
      "shuffle train data X_train2 (5368, 300)\n",
      "shuffle test data y_train2 (5368, 6)\n",
      "shuffle test data y_train2 categorizing (5368, 6)\n",
      "Build model...\n",
      "Model: \"sequential_47\"\n",
      "_________________________________________________________________\n",
      "Layer (type)                 Output Shape              Param #   \n",
      "=================================================================\n",
      "embedding_47 (Embedding)     (None, 300, 300)          6000000   \n",
      "_________________________________________________________________\n",
      "dropout_89 (Dropout)         (None, 300, 300)          0         \n",
      "_________________________________________________________________\n",
      "conv1d_46 (Conv1D)           (None, 298, 250)          225250    \n",
      "_________________________________________________________________\n",
      "global_max_pooling1d_45 (Glo (None, 250)               0         \n",
      "_________________________________________________________________\n",
      "dense_92 (Dense)             (None, 250)               62750     \n",
      "_________________________________________________________________\n",
      "dropout_90 (Dropout)         (None, 250)               0         \n",
      "_________________________________________________________________\n",
      "activation_88 (Activation)   (None, 250)               0         \n",
      "_________________________________________________________________\n",
      "dense_93 (Dense)             (None, 6)                 1506      \n",
      "_________________________________________________________________\n",
      "activation_89 (Activation)   (None, 6)                 0         \n",
      "=================================================================\n",
      "Total params: 6,289,506\n",
      "Trainable params: 6,289,506\n",
      "Non-trainable params: 0\n",
      "_________________________________________________________________\n",
      "Epoch 1/20\n",
      "106/106 [==============================] - 20s 187ms/step - loss: 1.4102 - accuracy: 0.4856 - val_loss: 1.2779 - val_accuracy: 0.5200\n",
      "Epoch 2/20\n",
      "106/106 [==============================] - 20s 187ms/step - loss: 1.2117 - accuracy: 0.5565 - val_loss: 1.2736 - val_accuracy: 0.5295\n",
      "Epoch 3/20\n",
      "106/106 [==============================] - 19s 182ms/step - loss: 1.0535 - accuracy: 0.6313 - val_loss: 1.3128 - val_accuracy: 0.5345\n",
      "Epoch 4/20\n",
      "106/106 [==============================] - 19s 183ms/step - loss: 0.7417 - accuracy: 0.7486 - val_loss: 1.4888 - val_accuracy: 0.5030\n",
      "Epoch 5/20\n",
      "106/106 [==============================] - 19s 183ms/step - loss: 0.3600 - accuracy: 0.8860 - val_loss: 1.8666 - val_accuracy: 0.5070\n",
      "Epoch 6/20\n",
      "106/106 [==============================] - 20s 184ms/step - loss: 0.1510 - accuracy: 0.9581 - val_loss: 2.1129 - val_accuracy: 0.4665\n",
      "Epoch 7/20\n",
      "106/106 [==============================] - 20s 185ms/step - loss: 0.0648 - accuracy: 0.9878 - val_loss: 2.3976 - val_accuracy: 0.4720\n",
      "Epoch 8/20\n",
      "106/106 [==============================] - 19s 183ms/step - loss: 0.0277 - accuracy: 0.9931 - val_loss: 2.5000 - val_accuracy: 0.4660\n",
      "Epoch 9/20\n",
      "106/106 [==============================] - 23s 219ms/step - loss: 0.0173 - accuracy: 0.9975 - val_loss: 2.6278 - val_accuracy: 0.4695\n"
     ]
    },
    {
     "name": "stdout",
     "output_type": "stream",
     "text": [
      "Epoch 10/20\n",
      "106/106 [==============================] - 20s 187ms/step - loss: 0.0173 - accuracy: 0.9962 - val_loss: 2.6966 - val_accuracy: 0.4660\n",
      "Epoch 11/20\n",
      "106/106 [==============================] - 19s 184ms/step - loss: 0.0057 - accuracy: 0.9994 - val_loss: 2.8197 - val_accuracy: 0.4700\n",
      "Epoch 12/20\n",
      "106/106 [==============================] - 20s 189ms/step - loss: 0.0040 - accuracy: 0.9997 - val_loss: 2.9085 - val_accuracy: 0.4870\n",
      "Epoch 13/20\n",
      "106/106 [==============================] - 19s 182ms/step - loss: 0.0039 - accuracy: 0.9990 - val_loss: 3.0845 - val_accuracy: 0.4215\n",
      "Epoch 14/20\n",
      "106/106 [==============================] - 19s 183ms/step - loss: 0.0099 - accuracy: 0.9978 - val_loss: 3.1306 - val_accuracy: 0.4915\n",
      "Epoch 15/20\n",
      "106/106 [==============================] - 20s 191ms/step - loss: 0.0046 - accuracy: 0.9987 - val_loss: 3.0587 - val_accuracy: 0.4635\n",
      "Epoch 16/20\n",
      "106/106 [==============================] - 20s 190ms/step - loss: 0.0024 - accuracy: 0.9997 - val_loss: 3.1378 - val_accuracy: 0.4720\n",
      "Epoch 17/20\n",
      "106/106 [==============================] - 20s 186ms/step - loss: 0.0051 - accuracy: 0.9991 - val_loss: 3.2669 - val_accuracy: 0.4920\n",
      "Epoch 18/20\n",
      "106/106 [==============================] - 20s 185ms/step - loss: 0.0025 - accuracy: 0.9996 - val_loss: 3.1701 - val_accuracy: 0.4820\n",
      "Epoch 19/20\n",
      "106/106 [==============================] - 20s 185ms/step - loss: 0.0027 - accuracy: 0.9996 - val_loss: 3.2255 - val_accuracy: 0.4515\n",
      "Epoch 20/20\n",
      "106/106 [==============================] - 19s 184ms/step - loss: 0.0036 - accuracy: 0.9995 - val_loss: 3.3180 - val_accuracy: 0.4775\n"
     ]
    },
    {
     "ename": "IndexError",
     "evalue": "index 3 is out of bounds for axis 0 with size 3",
     "output_type": "error",
     "traceback": [
      "\u001b[1;31m---------------------------------------------------------------------------\u001b[0m",
      "\u001b[1;31mIndexError\u001b[0m                                Traceback (most recent call last)",
      "\u001b[1;32m<ipython-input-175-2f1a778266f6>\u001b[0m in \u001b[0;36m<module>\u001b[1;34m\u001b[0m\n\u001b[0;32m     45\u001b[0m \u001b[1;33m\u001b[0m\u001b[0m\n\u001b[0;32m     46\u001b[0m \u001b[1;33m\u001b[0m\u001b[0m\n\u001b[1;32m---> 47\u001b[1;33m \u001b[0mkfolded_model\u001b[0m\u001b[1;33m(\u001b[0m\u001b[0mX_train1\u001b[0m\u001b[1;33m,\u001b[0m\u001b[0my_train1\u001b[0m\u001b[1;33m,\u001b[0m\u001b[0mx_test\u001b[0m\u001b[1;33m,\u001b[0m\u001b[0my_test\u001b[0m\u001b[1;33m)\u001b[0m\u001b[1;33m\u001b[0m\u001b[1;33m\u001b[0m\u001b[0m\n\u001b[0m",
      "\u001b[1;32m<ipython-input-175-2f1a778266f6>\u001b[0m in \u001b[0;36mkfolded_model\u001b[1;34m(X_train1, y_train1, x_test, y_test)\u001b[0m\n\u001b[0;32m     30\u001b[0m \u001b[1;33m\u001b[0m\u001b[0m\n\u001b[0;32m     31\u001b[0m     \u001b[1;31m# Filter out samples in fold 2\u001b[0m\u001b[1;33m\u001b[0m\u001b[1;33m\u001b[0m\u001b[1;33m\u001b[0m\u001b[0m\n\u001b[1;32m---> 32\u001b[1;33m     \u001b[0mX_new\u001b[0m\u001b[1;33m,\u001b[0m \u001b[0my_new\u001b[0m \u001b[1;33m=\u001b[0m \u001b[0mget_new_train_data\u001b[0m\u001b[1;33m(\u001b[0m\u001b[0mcnn2_predictions2\u001b[0m\u001b[1;33m,\u001b[0m \u001b[1;36m3\u001b[0m\u001b[1;33m)\u001b[0m\u001b[1;33m\u001b[0m\u001b[1;33m\u001b[0m\u001b[0m\n\u001b[0m\u001b[0;32m     33\u001b[0m     \u001b[0mprint\u001b[0m\u001b[1;33m(\u001b[0m\u001b[1;34m'label_new_updated shape y_new'\u001b[0m\u001b[1;33m,\u001b[0m\u001b[0my_new\u001b[0m\u001b[1;33m.\u001b[0m\u001b[0mshape\u001b[0m\u001b[1;33m)\u001b[0m\u001b[1;33m\u001b[0m\u001b[1;33m\u001b[0m\u001b[0m\n\u001b[0;32m     34\u001b[0m     \u001b[0my_new\u001b[0m\u001b[1;33m=\u001b[0m\u001b[0mnp_utils\u001b[0m\u001b[1;33m.\u001b[0m\u001b[0mto_categorical\u001b[0m\u001b[1;33m(\u001b[0m\u001b[0my_new\u001b[0m\u001b[1;33m,\u001b[0m \u001b[0mnum_classes\u001b[0m\u001b[1;33m=\u001b[0m\u001b[1;36m6\u001b[0m\u001b[1;33m)\u001b[0m\u001b[1;33m\u001b[0m\u001b[1;33m\u001b[0m\u001b[0m\n",
      "\u001b[1;32m<ipython-input-153-89041be8541b>\u001b[0m in \u001b[0;36mget_new_train_data\u001b[1;34m(predictions, fold_n)\u001b[0m\n\u001b[0;32m      6\u001b[0m \u001b[1;31m#         print(prediction)\u001b[0m\u001b[1;33m\u001b[0m\u001b[1;33m\u001b[0m\u001b[1;33m\u001b[0m\u001b[0m\n\u001b[0;32m      7\u001b[0m         \u001b[1;32mif\u001b[0m \u001b[1;33m(\u001b[0m\u001b[0mprediction\u001b[0m\u001b[1;33m.\u001b[0m\u001b[0mall\u001b[0m\u001b[1;33m(\u001b[0m\u001b[1;33m)\u001b[0m \u001b[1;33m>\u001b[0m \u001b[1;36m0.95\u001b[0m \u001b[1;32mor\u001b[0m \u001b[0mprediction\u001b[0m\u001b[1;33m.\u001b[0m\u001b[0mall\u001b[0m\u001b[1;33m(\u001b[0m\u001b[1;33m)\u001b[0m\u001b[1;33m<\u001b[0m\u001b[1;36m0.05\u001b[0m\u001b[1;33m)\u001b[0m\u001b[1;33m:\u001b[0m\u001b[1;33m\u001b[0m\u001b[1;33m\u001b[0m\u001b[0m\n\u001b[1;32m----> 8\u001b[1;33m             \u001b[0mX_new\u001b[0m\u001b[1;33m.\u001b[0m\u001b[0mappend\u001b[0m\u001b[1;33m(\u001b[0m\u001b[0mX_fold\u001b[0m\u001b[1;33m[\u001b[0m\u001b[0mfold_n\u001b[0m\u001b[1;33m]\u001b[0m\u001b[1;33m[\u001b[0m\u001b[0mi\u001b[0m\u001b[1;33m]\u001b[0m\u001b[1;33m)\u001b[0m\u001b[1;33m\u001b[0m\u001b[1;33m\u001b[0m\u001b[0m\n\u001b[0m\u001b[0;32m      9\u001b[0m             \u001b[0my_new\u001b[0m\u001b[1;33m.\u001b[0m\u001b[0mappend\u001b[0m\u001b[1;33m(\u001b[0m\u001b[0mnp\u001b[0m\u001b[1;33m.\u001b[0m\u001b[0margmax\u001b[0m\u001b[1;33m(\u001b[0m\u001b[0mprediction\u001b[0m\u001b[1;33m)\u001b[0m\u001b[1;33m)\u001b[0m\u001b[1;33m\u001b[0m\u001b[1;33m\u001b[0m\u001b[0m\n\u001b[0;32m     10\u001b[0m \u001b[1;33m\u001b[0m\u001b[0m\n",
      "\u001b[1;31mIndexError\u001b[0m: index 3 is out of bounds for axis 0 with size 3"
     ]
    }
   ],
   "source": [
    "def kfolded_model(X_train1,y_train1,x_test,y_test):\n",
    "    \n",
    "    cnn_model21=cnn_model2()\n",
    "    cnn_model21_compiled,X_folded,y_folded=model_compile(cnn_model21,X_train1,y_train1)\n",
    "    \n",
    "    cnn_model21_compiled.fit(X_folded[:-1000], y_folded[:-1000], epochs=num_epochs,validation_data=(X_folded[-1000:], y_folded[-1000:]), shuffle=True, verbose=1)\n",
    "\n",
    "    cnn2_predictions1 = cnn_model21.predict(X_fold[1])\n",
    "    print('predictions',cnn2_predictions1)\n",
    "\n",
    "    X_new, y_new = get_new_train_data(cnn2_predictions1, 2)\n",
    "    y_new=np_utils.to_categorical(y_new, num_classes=6)\n",
    "    \n",
    "    \n",
    "    X_train2_shuffle, y_train2_shuffle = join_shuffle(X_folded, y_folded, X_new, y_new)\n",
    "    print('new train data after predictions {} and labels {}'.format(X_new.shape,y_new.shape))\n",
    "    print('shuffle train data X_train2',X_train2_shuffle.shape)\n",
    "    print('shuffle test data y_train2',y_train2_shuffle.shape)\n",
    "\n",
    "#     y_train2_shuffle=np_utils.to_categorical(y_train2_shuffle, num_classes=6)\n",
    "    print('shuffle test data y_train2 categorizing',y_train2_shuffle.shape)\n",
    "\n",
    "    \n",
    "    cnn_model21 = cnn_model2()\n",
    "    cnn_model21_compiled,X_train2_shuffle,y_train2_shuffle=model_compile(cnn_model21,X_train2_shuffle,y_train2_shuffle)\n",
    "    \n",
    "    cnn_model21.fit(X_train2_shuffle[:-2000], y_train2_shuffle[:-2000], epochs=num_epochs, \n",
    "          validation_data=(X_train2_shuffle[-2000:], y_train2_shuffle[-2000:]))\n",
    "\n",
    "    # Predict samples in fold 2\n",
    "    cnn2_predictions2= cnn_model21.predict(X_fold[1])\n",
    "    \n",
    "    # Filter out samples in fold 2\n",
    "    X_new, y_new = get_new_train_data(cnn2_predictions2, 3)\n",
    "    print('label_new_updated shape y_new',y_new.shape)\n",
    "    y_new=np_utils.to_categorical(y_new, num_classes=6)\n",
    "    \n",
    "    # Concatenate new data to X_train and y_train\n",
    "    X_train3_shuffle, y_train3_shuffle = join_shuffle(X_train2_shuffle, y_train2_shuffle, X_new, y_new)\n",
    "#     y_train3_shuffle=np_utils.to_categorical(y_train3_shuffle, num_classes=6)\n",
    "\n",
    "    cnn_model21=cnn_model2()\n",
    "    cnn_model2_compiled,X_train3_shuffle,y_train3_shuffle=model_compile(cnn_model21,X_train3_shuffle,y_train3_shuffle)\n",
    "            \n",
    "    history=cnn_model2_compiled.fit(X_train3_shuffle, y_train3_shuffle,validation_data=(x_test, y_test),epochs=num_epochs)\n",
    "    \n",
    "    history_plot(history)\n",
    "\n",
    "    \n",
    "kfolded_model(X_train1,y_train1,x_test,y_test)"
   ]
  },
  {
   "cell_type": "code",
   "execution_count": null,
   "metadata": {},
   "outputs": [],
   "source": []
  },
  {
   "cell_type": "code",
   "execution_count": null,
   "metadata": {},
   "outputs": [],
   "source": []
  },
  {
   "cell_type": "code",
   "execution_count": null,
   "metadata": {},
   "outputs": [],
   "source": []
  },
  {
   "cell_type": "markdown",
   "metadata": {},
   "source": [
    "# Overfitting Observed\n",
    "\n",
    "\n",
    "\n",
    "## Excluding Embedded weights\n",
    "### embed_dim,weights=[embedding_matrix] : but getting worst\n",
    "\n",
    "## Tryied L2 regularizer to add some penalty \n",
    "\n",
    "###  Checking with Different Folds\n",
    "###  CNN models is use with name change cnn_model2\n",
    "\n",
    "### Some Corrections and verifcation required while encoding labels from each steps\n"
   ]
  },
  {
   "cell_type": "code",
   "execution_count": null,
   "metadata": {},
   "outputs": [],
   "source": [
    "from keras.regularizers import l2,l1_l2"
   ]
  },
  {
   "cell_type": "code",
   "execution_count": null,
   "metadata": {},
   "outputs": [],
   "source": [
    "def get_new_train_data(predictions, fold_n):\n",
    "    X_new = list()\n",
    "    y_new = list()\n",
    "    \n",
    "    for i, prediction in enumerate(predictions):\n",
    "#         print(prediction)\n",
    "        if (prediction.all() > 0.85 or prediction.all()<0.05):\n",
    "            X_new.append(X_fold[fold_n][i])\n",
    "            y_new.append(np.argmax(prediction))\n",
    "        \n",
    "    return np.array(X_new), np.array(y_new)"
   ]
  },
  {
   "cell_type": "code",
   "execution_count": null,
   "metadata": {},
   "outputs": [],
   "source": [
    "num_classes=100\n",
    "def cnn_model2():\n",
    "    # CNN with max pooling imeplementation \n",
    "    print('Build model...')\n",
    "    model = Sequential()\n",
    "    # we start off with an efficient embedding layer which maps\n",
    "    # our vocab indices into embedding_dims dimensions\n",
    "    model.add(Embedding(nb_words, embed_dim,weights=[embedding_matrix], input_length=max_seq_len, trainable=False))\n",
    "    model.add(Dropout(0.2))\n",
    "\n",
    "    # we add a Convolution1D, which will learn filters\n",
    "    # word group filters of size filter_length:\n",
    "    model.add(Conv1D(filters,\n",
    "                 kernel_size,\n",
    "                 padding='valid',\n",
    "                 activation='relu',\n",
    "                 strides=1))\n",
    "    # we use max pooling:\n",
    "    model.add(GlobalMaxPooling1D())\n",
    "\n",
    "    # We add a vanilla hidden layer:\n",
    "    model.add(Dense(hidden_dims))\n",
    "    model.add(Dropout(0.2))\n",
    "    model.add(Activation('relu'))\n",
    "\n",
    "    # We project onto a single unit output layer, and squash it with a sigmoid:\n",
    "    model.add(Dense(6,kernel_regularizer='l2'))\n",
    "    model.add(Activation('softmax'))\n",
    "    model.summary()\n",
    "    return model\n"
   ]
  },
  {
   "cell_type": "code",
   "execution_count": null,
   "metadata": {},
   "outputs": [],
   "source": [
    "num_epochs=50"
   ]
  },
  {
   "cell_type": "code",
   "execution_count": null,
   "metadata": {},
   "outputs": [],
   "source": [
    "def kfolded_model(X_train1,y_train1,x_test,y_test):\n",
    "    cnn_model21=cnn_model2()\n",
    "    cnn_model21_compiled,X_folded,y_folded=model_compile(cnn_model21,X_train1,y_train1)\n",
    "    cnn_model21_compiled.fit(X_folded[:-1500], y_folded[:-1500], epochs=num_epochs,validation_data=(X_folded[-1500:], y_folded[-1500:]), shuffle=True, verbose=1)\n",
    "\n",
    "    cnn2_predictions1 = cnn_model21.predict(X_fold[2])\n",
    "    print('predictions',cnn2_predictions1)\n",
    "\n",
    "    X_new, y_new = get_new_train_data(cnn2_predictions1, 2)\n",
    "    X_train2_shuffle, y_train2_shuffle = join_shuffle(X_folded, y_folded, X_new, y_new)\n",
    "\n",
    "    print('new train data after predictions {} and labels {}'.format(X_new.shape,y_new.shape))\n",
    "    print('shuffle train data X_train2',X_train2_shuffle.shape)\n",
    "    print('shuffle test data y_train2',y_train2_shuffle.shape)\n",
    "\n",
    "    y_train2_shuffle=np_utils.to_categorical(y_train2_shuffle, num_classes=6)\n",
    "    print('shuffle test data y_train2 categorizing',y_train2_shuffle.shape)\n",
    "\n",
    "    \n",
    "    cnn_model21 = cnn_model2()\n",
    "    cnn_model21_compiled,X_train2_shuffle,y_train2_shuffle=model_compile(cnn_model21,X_train2_shuffle,y_train2_shuffle)\n",
    "    \n",
    "    cnn_model21.fit(X_train2_shuffle[:-1500], y_train2_shuffle[:-1500], epochs=num_epochs, \n",
    "          validation_data=(X_train2_shuffle[-1500:], y_train2_shuffle[-1500:]))\n",
    "\n",
    "    # Predict samples in fold 2\n",
    "    cnn2_predictions2= cnn_model21.predict(X_fold[2])\n",
    "\n",
    "    # Filter out samples in fold 2\n",
    "    X_new, y_new = get_new_train_data(cnn2_predictions2, 2)\n",
    "    print('label_new_updated shape y_new',y_new.shape)\n",
    "\n",
    "    # Concatenate new data to X_train and y_train\n",
    "    X_train3_shuffle, y_train3_shuffle = join_shuffle(X_train2_shuffle, y_train2_shuffle, X_new, y_new)\n",
    "    y_train3_shuffle=np_utils.to_categorical(y_train3_shuffle, num_classes=6)\n",
    "\n",
    "#     cnn_model21=cnn_model2()\n",
    "    cnn_model2_compiled,X_train3_shuffle,y_train3_shuffle=model_compile(cnn_model21,X_train3_shuffle,y_train3_shuffle)\n",
    "            \n",
    "    history=cnn_model2_compiled.fit(X_train3_shuffle, y_train3_shuffle,validation_data=(x_test, y_test),epochs=num_epochs)\n",
    "    \n",
    "    history_plot(history)\n",
    "\n",
    "    \n",
    "kfolded_model(X_train1,y_train1,x_test,y_test)"
   ]
  },
  {
   "cell_type": "code",
   "execution_count": null,
   "metadata": {},
   "outputs": [],
   "source": []
  }
 ],
 "metadata": {
  "kernelspec": {
   "display_name": "Python 3",
   "language": "python",
   "name": "python3"
  },
  "language_info": {
   "codemirror_mode": {
    "name": "ipython",
    "version": 3
   },
   "file_extension": ".py",
   "mimetype": "text/x-python",
   "name": "python",
   "nbconvert_exporter": "python",
   "pygments_lexer": "ipython3",
   "version": "3.8.5"
  }
 },
 "nbformat": 4,
 "nbformat_minor": 4
}

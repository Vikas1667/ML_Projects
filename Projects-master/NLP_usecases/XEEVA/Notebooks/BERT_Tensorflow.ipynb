{
 "cells": [
  {
   "cell_type": "code",
   "execution_count": 37,
   "metadata": {},
   "outputs": [],
   "source": [
    "import pandas as pd\n",
    "import numpy as np\n",
    "import string\n",
    "import re\n",
    "import regex\n",
    "from sklearn.model_selection import train_test_split\n",
    "from sklearn import preprocessing\n",
    "le = preprocessing.LabelEncoder()\n"
   ]
  },
  {
   "cell_type": "code",
   "execution_count": 38,
   "metadata": {},
   "outputs": [],
   "source": [
    "import tensorflow as tf\n",
    "from tensorflow import keras\n",
    "from tensorflow.keras.layers import Dense,Dropout, Input\n",
    "\n",
    "from tensorflow.keras import regularizers\n",
    "from transformers import *\n",
    "from transformers import BertTokenizer, TFBertModel, BertConfig,TFDistilBertModel,DistilBertTokenizer,DistilBertConfig\n"
   ]
  },
  {
   "cell_type": "code",
   "execution_count": 39,
   "metadata": {},
   "outputs": [
    {
     "data": {
      "text/html": [
       "<div>\n",
       "<style scoped>\n",
       "    .dataframe tbody tr th:only-of-type {\n",
       "        vertical-align: middle;\n",
       "    }\n",
       "\n",
       "    .dataframe tbody tr th {\n",
       "        vertical-align: top;\n",
       "    }\n",
       "\n",
       "    .dataframe thead th {\n",
       "        text-align: right;\n",
       "    }\n",
       "</style>\n",
       "<table border=\"1\" class=\"dataframe\">\n",
       "  <thead>\n",
       "    <tr style=\"text-align: right;\">\n",
       "      <th></th>\n",
       "      <th>ITEM_NAME</th>\n",
       "      <th>CATEGORY_ID</th>\n",
       "    </tr>\n",
       "  </thead>\n",
       "  <tbody>\n",
       "    <tr>\n",
       "      <th>0</th>\n",
       "      <td>CALIBRACION TRANSDUCER 75 nm</td>\n",
       "      <td>CAPITAL ASSEMBLY</td>\n",
       "    </tr>\n",
       "    <tr>\n",
       "      <th>1</th>\n",
       "      <td>for pusher whskey</td>\n",
       "      <td>CAPITAL ASSEMBLY</td>\n",
       "    </tr>\n",
       "    <tr>\n",
       "      <th>2</th>\n",
       "      <td>Stat 40B Press Head Cup to Carrier from Stati...</td>\n",
       "      <td>CAPITAL ASSEMBLY</td>\n",
       "    </tr>\n",
       "    <tr>\n",
       "      <th>3</th>\n",
       "      <td>TRANSD. Cable (4145097103) scrw</td>\n",
       "      <td>CAPITAL ASSEMBLY</td>\n",
       "    </tr>\n",
       "    <tr>\n",
       "      <th>4</th>\n",
       "      <td>ZT200 7,5BAR,13BAR60HZ NUMERO DE SERIE: AIF09...</td>\n",
       "      <td>CAPITAL ASSEMBLY</td>\n",
       "    </tr>\n",
       "    <tr>\n",
       "      <th>...</th>\n",
       "      <td>...</td>\n",
       "      <td>...</td>\n",
       "    </tr>\n",
       "    <tr>\n",
       "      <th>9995</th>\n",
       "      <td>Export Freight charges By Road</td>\n",
       "      <td>LOGISTICS SERVICE</td>\n",
       "    </tr>\n",
       "    <tr>\n",
       "      <th>9996</th>\n",
       "      <td>EXPORT PACKING</td>\n",
       "      <td>LOGISTICS SERVICE</td>\n",
       "    </tr>\n",
       "    <tr>\n",
       "      <th>9997</th>\n",
       "      <td>Express Delivery Charges</td>\n",
       "      <td>LOGISTICS SERVICE</td>\n",
       "    </tr>\n",
       "    <tr>\n",
       "      <th>9998</th>\n",
       "      <td>Express Delivery Charges for PMF to CHMF Despa...</td>\n",
       "      <td>LOGISTICS SERVICE</td>\n",
       "    </tr>\n",
       "    <tr>\n",
       "      <th>9999</th>\n",
       "      <td>Express Delivery Charges with Dubble Driver</td>\n",
       "      <td>LOGISTICS SERVICE</td>\n",
       "    </tr>\n",
       "  </tbody>\n",
       "</table>\n",
       "<p>10000 rows × 2 columns</p>\n",
       "</div>"
      ],
      "text/plain": [
       "                                              ITEM_NAME        CATEGORY_ID\n",
       "0                          CALIBRACION TRANSDUCER 75 nm   CAPITAL ASSEMBLY\n",
       "1                                     for pusher whskey   CAPITAL ASSEMBLY\n",
       "2      Stat 40B Press Head Cup to Carrier from Stati...   CAPITAL ASSEMBLY\n",
       "3                       TRANSD. Cable (4145097103) scrw   CAPITAL ASSEMBLY\n",
       "4      ZT200 7,5BAR,13BAR60HZ NUMERO DE SERIE: AIF09...   CAPITAL ASSEMBLY\n",
       "...                                                 ...                ...\n",
       "9995                     Export Freight charges By Road  LOGISTICS SERVICE\n",
       "9996                                     EXPORT PACKING  LOGISTICS SERVICE\n",
       "9997                           Express Delivery Charges  LOGISTICS SERVICE\n",
       "9998  Express Delivery Charges for PMF to CHMF Despa...  LOGISTICS SERVICE\n",
       "9999        Express Delivery Charges with Dubble Driver  LOGISTICS SERVICE\n",
       "\n",
       "[10000 rows x 2 columns]"
      ]
     },
     "execution_count": 39,
     "metadata": {},
     "output_type": "execute_result"
    }
   ],
   "source": [
    "train_df=pd.read_excel('bert_sample.xlsx')\n",
    "train_df"
   ]
  },
  {
   "cell_type": "code",
   "execution_count": 40,
   "metadata": {},
   "outputs": [
    {
     "data": {
      "text/plain": [
       "array(['CAPITAL ASSEMBLY', 'CHEMICALS', 'CUTTING TOOLS',\n",
       "       'LOGISTICS SERVICE'], dtype=object)"
      ]
     },
     "execution_count": 40,
     "metadata": {},
     "output_type": "execute_result"
    }
   ],
   "source": [
    "train_df['CATEGORY_ID'].unique()"
   ]
  },
  {
   "cell_type": "code",
   "execution_count": 41,
   "metadata": {
    "scrolled": true
   },
   "outputs": [],
   "source": [
    "PUNCT_TO_REMOVE = string.punctuation\n",
    "\n",
    "def lowercase(text):\n",
    "    text=text.lower()\n",
    "    return text\n",
    "# def tokenization(text):\n",
    "#     tokens=regexp_tokenize(text,pattern='\\s+',gaps=True) #https://towardsdatascience.com/benchmarking-python-nlp-tokenizers-3ac4735100c5\n",
    "#     return(tokens)\n",
    "def remove_punctuation(text):\n",
    "    \"\"\"custom function to remove the punctuation\"\"\"\n",
    "    return text.translate(str.maketrans('', '', PUNCT_TO_REMOVE))\n",
    "def remove_numbers(text):\n",
    "    return re.sub(\" \\d+\", \" \", text)\n",
    "\n",
    "def preprocess(text):\n",
    "    lower=lowercase(text)\n",
    "    punct_rem=remove_punctuation(lower)\n",
    "    num_rem=remove_numbers(punct_rem)\n",
    "    return num_rem\n"
   ]
  },
  {
   "cell_type": "code",
   "execution_count": 42,
   "metadata": {},
   "outputs": [],
   "source": [
    "train_df['Pre_process']=train_df['ITEM_NAME'].map(preprocess)"
   ]
  },
  {
   "cell_type": "code",
   "execution_count": 43,
   "metadata": {},
   "outputs": [
    {
     "data": {
      "text/html": [
       "<div>\n",
       "<style scoped>\n",
       "    .dataframe tbody tr th:only-of-type {\n",
       "        vertical-align: middle;\n",
       "    }\n",
       "\n",
       "    .dataframe tbody tr th {\n",
       "        vertical-align: top;\n",
       "    }\n",
       "\n",
       "    .dataframe thead th {\n",
       "        text-align: right;\n",
       "    }\n",
       "</style>\n",
       "<table border=\"1\" class=\"dataframe\">\n",
       "  <thead>\n",
       "    <tr style=\"text-align: right;\">\n",
       "      <th></th>\n",
       "      <th>ITEM_NAME</th>\n",
       "      <th>CATEGORY_ID</th>\n",
       "      <th>Pre_process</th>\n",
       "      <th>labels</th>\n",
       "    </tr>\n",
       "  </thead>\n",
       "  <tbody>\n",
       "    <tr>\n",
       "      <th>0</th>\n",
       "      <td>CALIBRACION TRANSDUCER 75 nm</td>\n",
       "      <td>CAPITAL ASSEMBLY</td>\n",
       "      <td>calibracion transducer  nm</td>\n",
       "      <td>0</td>\n",
       "    </tr>\n",
       "    <tr>\n",
       "      <th>1</th>\n",
       "      <td>for pusher whskey</td>\n",
       "      <td>CAPITAL ASSEMBLY</td>\n",
       "      <td>for pusher whskey</td>\n",
       "      <td>0</td>\n",
       "    </tr>\n",
       "    <tr>\n",
       "      <th>2</th>\n",
       "      <td>Stat 40B Press Head Cup to Carrier from Stati...</td>\n",
       "      <td>CAPITAL ASSEMBLY</td>\n",
       "      <td>stat b press head cup to carrier from station...</td>\n",
       "      <td>0</td>\n",
       "    </tr>\n",
       "    <tr>\n",
       "      <th>3</th>\n",
       "      <td>TRANSD. Cable (4145097103) scrw</td>\n",
       "      <td>CAPITAL ASSEMBLY</td>\n",
       "      <td>transd cable  scrw</td>\n",
       "      <td>0</td>\n",
       "    </tr>\n",
       "    <tr>\n",
       "      <th>4</th>\n",
       "      <td>ZT200 7,5BAR,13BAR60HZ NUMERO DE SERIE: AIF09...</td>\n",
       "      <td>CAPITAL ASSEMBLY</td>\n",
       "      <td>zt200 bar13bar60hz numero de serie aif094466 ...</td>\n",
       "      <td>0</td>\n",
       "    </tr>\n",
       "    <tr>\n",
       "      <th>...</th>\n",
       "      <td>...</td>\n",
       "      <td>...</td>\n",
       "      <td>...</td>\n",
       "      <td>...</td>\n",
       "    </tr>\n",
       "    <tr>\n",
       "      <th>9995</th>\n",
       "      <td>Export Freight charges By Road</td>\n",
       "      <td>LOGISTICS SERVICE</td>\n",
       "      <td>export freight charges by road</td>\n",
       "      <td>3</td>\n",
       "    </tr>\n",
       "    <tr>\n",
       "      <th>9996</th>\n",
       "      <td>EXPORT PACKING</td>\n",
       "      <td>LOGISTICS SERVICE</td>\n",
       "      <td>export packing</td>\n",
       "      <td>3</td>\n",
       "    </tr>\n",
       "    <tr>\n",
       "      <th>9997</th>\n",
       "      <td>Express Delivery Charges</td>\n",
       "      <td>LOGISTICS SERVICE</td>\n",
       "      <td>express delivery charges</td>\n",
       "      <td>3</td>\n",
       "    </tr>\n",
       "    <tr>\n",
       "      <th>9998</th>\n",
       "      <td>Express Delivery Charges for PMF to CHMF Despa...</td>\n",
       "      <td>LOGISTICS SERVICE</td>\n",
       "      <td>express delivery charges for pmf to chmf despa...</td>\n",
       "      <td>3</td>\n",
       "    </tr>\n",
       "    <tr>\n",
       "      <th>9999</th>\n",
       "      <td>Express Delivery Charges with Dubble Driver</td>\n",
       "      <td>LOGISTICS SERVICE</td>\n",
       "      <td>express delivery charges with dubble driver</td>\n",
       "      <td>3</td>\n",
       "    </tr>\n",
       "  </tbody>\n",
       "</table>\n",
       "<p>10000 rows × 4 columns</p>\n",
       "</div>"
      ],
      "text/plain": [
       "                                              ITEM_NAME        CATEGORY_ID  \\\n",
       "0                          CALIBRACION TRANSDUCER 75 nm   CAPITAL ASSEMBLY   \n",
       "1                                     for pusher whskey   CAPITAL ASSEMBLY   \n",
       "2      Stat 40B Press Head Cup to Carrier from Stati...   CAPITAL ASSEMBLY   \n",
       "3                       TRANSD. Cable (4145097103) scrw   CAPITAL ASSEMBLY   \n",
       "4      ZT200 7,5BAR,13BAR60HZ NUMERO DE SERIE: AIF09...   CAPITAL ASSEMBLY   \n",
       "...                                                 ...                ...   \n",
       "9995                     Export Freight charges By Road  LOGISTICS SERVICE   \n",
       "9996                                     EXPORT PACKING  LOGISTICS SERVICE   \n",
       "9997                           Express Delivery Charges  LOGISTICS SERVICE   \n",
       "9998  Express Delivery Charges for PMF to CHMF Despa...  LOGISTICS SERVICE   \n",
       "9999        Express Delivery Charges with Dubble Driver  LOGISTICS SERVICE   \n",
       "\n",
       "                                            Pre_process  labels  \n",
       "0                            calibracion transducer  nm       0  \n",
       "1                                     for pusher whskey       0  \n",
       "2      stat b press head cup to carrier from station...       0  \n",
       "3                                    transd cable  scrw       0  \n",
       "4      zt200 bar13bar60hz numero de serie aif094466 ...       0  \n",
       "...                                                 ...     ...  \n",
       "9995                     export freight charges by road       3  \n",
       "9996                                     export packing       3  \n",
       "9997                           express delivery charges       3  \n",
       "9998  express delivery charges for pmf to chmf despa...       3  \n",
       "9999        express delivery charges with dubble driver       3  \n",
       "\n",
       "[10000 rows x 4 columns]"
      ]
     },
     "execution_count": 43,
     "metadata": {},
     "output_type": "execute_result"
    }
   ],
   "source": [
    "train_df['labels']=le.fit_transform(train_df['CATEGORY_ID'])\n",
    "train_df"
   ]
  },
  {
   "cell_type": "code",
   "execution_count": 44,
   "metadata": {},
   "outputs": [],
   "source": [
    "from transformers import DistilBertTokenizer, DistilBertModel"
   ]
  },
  {
   "cell_type": "code",
   "execution_count": 45,
   "metadata": {},
   "outputs": [],
   "source": [
    "tokenizer = DistilBertTokenizer.from_pretrained('distilbert-base-uncased')"
   ]
  },
  {
   "cell_type": "code",
   "execution_count": 46,
   "metadata": {},
   "outputs": [
    {
     "name": "stderr",
     "output_type": "stream",
     "text": [
      "Some layers from the model checkpoint at distilbert-base-uncased were not used when initializing TFDistilBertModel: ['vocab_transform', 'vocab_projector', 'activation_13', 'vocab_layer_norm']\n",
      "- This IS expected if you are initializing TFDistilBertModel from the checkpoint of a model trained on another task or with another architecture (e.g. initializing a BertForSequenceClassification model from a BertForPreTraining model).\n",
      "- This IS NOT expected if you are initializing TFDistilBertModel from the checkpoint of a model that you expect to be exactly identical (initializing a BertForSequenceClassification model from a BertForSequenceClassification model).\n",
      "All the layers of TFDistilBertModel were initialized from the model checkpoint at distilbert-base-uncased.\n",
      "If your task is similar to the task the model of the checkpoint was trained on, you can already use TFDistilBertModel for predictions without further training.\n"
     ]
    }
   ],
   "source": [
    "# dist_bert_model = DistilBertModel.from_pretrained('distilbert-base-uncased')  error:AttributeError: 'KerasTensor' object has no attribute 'size'\n",
    "dist_bert_model = TFDistilBertModel.from_pretrained('distilbert-base-uncased')"
   ]
  },
  {
   "cell_type": "code",
   "execution_count": 47,
   "metadata": {
    "scrolled": true
   },
   "outputs": [
    {
     "data": {
      "text/plain": [
       "['cal', '##ib', '##rac', '##ion', 'trans', '##du', '##cer', 'nm']"
      ]
     },
     "execution_count": 47,
     "metadata": {},
     "output_type": "execute_result"
    }
   ],
   "source": [
    "tokenizer.tokenize(train_df['Pre_process'][0])"
   ]
  },
  {
   "cell_type": "code",
   "execution_count": 48,
   "metadata": {},
   "outputs": [
    {
     "data": {
      "text/plain": [
       "(10000, 10000)"
      ]
     },
     "execution_count": 48,
     "metadata": {},
     "output_type": "execute_result"
    }
   ],
   "source": [
    "### Preparing Data \n",
    "\n",
    "max_len=32\n",
    "sentences=train_df['Pre_process']\n",
    "labels=train_df['labels']\n",
    "len(sentences),len(labels)"
   ]
  },
  {
   "cell_type": "code",
   "execution_count": 49,
   "metadata": {},
   "outputs": [
    {
     "name": "stderr",
     "output_type": "stream",
     "text": [
      "The `pad_to_max_length` argument is deprecated and will be removed in a future version, use `padding=True` or `padding='longest'` to pad to the longest sequence in the batch, or use `padding='max_length'` to pad to a max length. In this case, you can give a specific length with `max_length` (e.g. `max_length=45`) or leave max_length to None to pad to the maximal input size of the model (e.g. 512 for Bert).\n"
     ]
    }
   ],
   "source": [
    "## Encoding\n",
    "#train_encoding=tokenizer(list(sentences.values),truncation=True,padding=True)\n",
    "#train_encoding['input_ids'][0]\n",
    "\n",
    "input_ids=[]\n",
    "attention_masks=[]\n",
    "for sent in sentences:\n",
    "    dbert_inps=tokenizer.encode_plus(sent,add_special_tokens = True,max_length =max_len,pad_to_max_length = True,return_attention_mask = True,truncation=True)\n",
    "    input_ids.append(dbert_inps['input_ids'])\n",
    "    attention_masks.append(dbert_inps['attention_mask'])\n",
    "\n",
    "    \n"
   ]
  },
  {
   "cell_type": "code",
   "execution_count": 50,
   "metadata": {},
   "outputs": [],
   "source": [
    "input_ids=np.asarray(input_ids)\n",
    "attention_masks=np.array(attention_masks)\n",
    "labels=np.array(labels)"
   ]
  },
  {
   "cell_type": "code",
   "execution_count": 51,
   "metadata": {},
   "outputs": [],
   "source": [
    "len(input_ids),len(attention_masks),len(labels)\n",
    "num_classes=len(train_df.labels.unique())\n"
   ]
  },
  {
   "cell_type": "code",
   "execution_count": 68,
   "metadata": {},
   "outputs": [],
   "source": [
    "def create_model():\n",
    "    inps = Input(shape = (max_len,), dtype='int64')\n",
    "    masks= Input(shape = (max_len,), dtype='int64')\n",
    "    dbert_layer = dist_bert_model(inps, attention_mask=masks)[0][:,0,:]\n",
    "    dense = Dense(64,activation='relu',kernel_regularizer=regularizers.l2(0.01))(dbert_layer)\n",
    "    dropout= Dropout(0.5)(dense)\n",
    "    pred = Dense(num_classes, activation='softmax',kernel_regularizer=regularizers.l2(0.01))(dropout)\n",
    "    model = tf.keras.Model(inputs=[inps,masks], outputs=pred)\n",
    "    print(model.summary())\n",
    "    return model"
   ]
  },
  {
   "cell_type": "code",
   "execution_count": 69,
   "metadata": {},
   "outputs": [
    {
     "name": "stdout",
     "output_type": "stream",
     "text": [
      "WARNING:tensorflow:The parameters `output_attentions`, `output_hidden_states` and `use_cache` cannot be updated when calling a model.They have to be set to True/False in the config object (i.e.: `config=XConfig.from_pretrained('name', output_attentions=True)`).\n",
      "WARNING:tensorflow:The parameter `return_dict` cannot be set in graph mode and will always be set to `True`.\n",
      "Model: \"model_2\"\n",
      "__________________________________________________________________________________________________\n",
      "Layer (type)                    Output Shape         Param #     Connected to                     \n",
      "==================================================================================================\n",
      "input_5 (InputLayer)            [(None, 32)]         0                                            \n",
      "__________________________________________________________________________________________________\n",
      "input_6 (InputLayer)            [(None, 32)]         0                                            \n",
      "__________________________________________________________________________________________________\n",
      "tf_distil_bert_model_1 (TFDisti TFBaseModelOutput(la 66362880    input_5[0][0]                    \n",
      "                                                                 input_6[0][0]                    \n",
      "__________________________________________________________________________________________________\n",
      "tf.__operators__.getitem_2 (Sli (None, 768)          0           tf_distil_bert_model_1[1][0]     \n",
      "__________________________________________________________________________________________________\n",
      "dense_4 (Dense)                 (None, 64)           49216       tf.__operators__.getitem_2[0][0] \n",
      "__________________________________________________________________________________________________\n",
      "dropout_40 (Dropout)            (None, 64)           0           dense_4[0][0]                    \n",
      "__________________________________________________________________________________________________\n",
      "dense_5 (Dense)                 (None, 4)            260         dropout_40[0][0]                 \n",
      "==================================================================================================\n",
      "Total params: 66,412,356\n",
      "Trainable params: 66,412,356\n",
      "Non-trainable params: 0\n",
      "__________________________________________________________________________________________________\n",
      "None\n"
     ]
    }
   ],
   "source": [
    "model=create_model()"
   ]
  },
  {
   "cell_type": "code",
   "execution_count": 85,
   "metadata": {},
   "outputs": [
    {
     "data": {
      "image/png": "[encoded data removed]",
      "text/plain": [
       "<IPython.core.display.Image object>"
      ]
     },
     "execution_count": 85,
     "metadata": {},
     "output_type": "execute_result"
    }
   ],
   "source": [
    "from keras.utils.vis_utils import plot_model\n",
    "plot_model(model, to_file='BERT_model_plot.png', show_shapes=True, show_layer_names=True)"
   ]
  },
  {
   "cell_type": "code",
   "execution_count": 70,
   "metadata": {},
   "outputs": [],
   "source": [
    "train_inp,val_inp,train_label,val_label,train_mask,val_mask=train_test_split(input_ids,labels,attention_masks,test_size=0.2)"
   ]
  },
  {
   "cell_type": "code",
   "execution_count": 74,
   "metadata": {},
   "outputs": [],
   "source": [
    "log_dir='distbert_model1'\n",
    "model_save_path='./distbert_model1.h5'\n",
    "\n",
    "callbacks = [tf.keras.callbacks.ModelCheckpoint(filepath=model_save_path,save_weights_only=True,monitor='val_loss',mode='min',save_best_only=True),keras.callbacks.TensorBoard(log_dir=log_dir)]\n",
    "\n",
    "loss = tf.keras.losses.SparseCategoricalCrossentropy(from_logits=True)\n",
    "metric = tf.keras.metrics.SparseCategoricalAccuracy('accuracy')\n",
    "optimizer = tf.keras.optimizers.Adam(learning_rate=3e-5)\n",
    "\n",
    "model.compile(loss=loss,optimizer=optimizer, metrics=[metric])"
   ]
  },
  {
   "cell_type": "code",
   "execution_count": 75,
   "metadata": {},
   "outputs": [
    {
     "name": "stdout",
     "output_type": "stream",
     "text": [
      "WARNING:tensorflow:Model failed to serialize as JSON. Ignoring... \n",
      "Epoch 1/5\n",
      "WARNING:tensorflow:The parameters `output_attentions`, `output_hidden_states` and `use_cache` cannot be updated when calling a model.They have to be set to True/False in the config object (i.e.: `config=XConfig.from_pretrained('name', output_attentions=True)`).\n",
      "WARNING:tensorflow:The parameter `return_dict` cannot be set in graph mode and will always be set to `True`.\n",
      "WARNING:tensorflow:The parameters `output_attentions`, `output_hidden_states` and `use_cache` cannot be updated when calling a model.They have to be set to True/False in the config object (i.e.: `config=XConfig.from_pretrained('name', output_attentions=True)`).\n",
      "WARNING:tensorflow:The parameter `return_dict` cannot be set in graph mode and will always be set to `True`.\n",
      "125/125 [==============================] - ETA: 0s - loss: 1.3372 - accuracy: 0.9556WARNING:tensorflow:The parameters `output_attentions`, `output_hidden_states` and `use_cache` cannot be updated when calling a model.They have to be set to True/False in the config object (i.e.: `config=XConfig.from_pretrained('name', output_attentions=True)`).\n",
      "WARNING:tensorflow:The parameter `return_dict` cannot be set in graph mode and will always be set to `True`.\n",
      "125/125 [==============================] - 497s 4s/step - loss: 1.3370 - accuracy: 0.9556 - val_loss: 1.3311 - val_accuracy: 0.9390\n",
      "Epoch 2/5\n",
      "125/125 [==============================] - 481s 4s/step - loss: 1.2173 - accuracy: 0.9695 - val_loss: 1.2809 - val_accuracy: 0.9315\n",
      "Epoch 3/5\n",
      "125/125 [==============================] - 482s 4s/step - loss: 1.1243 - accuracy: 0.9750 - val_loss: 1.2241 - val_accuracy: 0.9375\n",
      "Epoch 4/5\n",
      "125/125 [==============================] - 482s 4s/step - loss: 1.0230 - accuracy: 0.9861 - val_loss: 1.1845 - val_accuracy: 0.9370\n",
      "Epoch 5/5\n",
      "125/125 [==============================] - 481s 4s/step - loss: 0.9544 - accuracy: 0.9870 - val_loss: 1.1145 - val_accuracy: 0.9370\n"
     ]
    }
   ],
   "source": [
    "history=model.fit([train_inp,train_mask],train_label,batch_size=64,epochs=5,validation_data=([val_inp,val_mask],val_label),callbacks=callbacks)"
   ]
  },
  {
   "cell_type": "code",
   "execution_count": 84,
   "metadata": {},
   "outputs": [
    {
     "data": {
      "image/png": "[encoded data removed]",
      "text/plain": [
       "<Figure size 432x288 with 1 Axes>"
      ]
     },
     "metadata": {
      "needs_background": "light"
     },
     "output_type": "display_data"
    },
    {
     "data": {
      "image/png": "[encoded data removed]",
      "text/plain": [
       "<Figure size 432x288 with 1 Axes>"
      ]
     },
     "metadata": {
      "needs_background": "light"
     },
     "output_type": "display_data"
    }
   ],
   "source": [
    "from matplotlib import pyplot as plt\n",
    "plt.plot(history.history['accuracy'])\n",
    "plt.plot(history.history['val_accuracy'])\n",
    "plt.title('model accuracy')\n",
    "plt.ylabel('accuracy')\n",
    "plt.xlabel('epoch')\n",
    "plt.legend(['train', 'val'], loc='upper left')\n",
    "plt.show()\n",
    "# summarize history for loss\n",
    "plt.plot(history.history['loss'])\n",
    "plt.plot(history.history['val_loss'])\n",
    "plt.title('model loss')\n",
    "plt.ylabel('loss')\n",
    "plt.xlabel('epoch')\n",
    "plt.legend(['train', 'test'], loc='upper left')\n",
    "plt.show()"
   ]
  },
  {
   "cell_type": "code",
   "execution_count": 81,
   "metadata": {},
   "outputs": [],
   "source": []
  },
  {
   "cell_type": "code",
   "execution_count": null,
   "metadata": {},
   "outputs": [],
   "source": []
  },
  {
   "cell_type": "code",
   "execution_count": null,
   "metadata": {},
   "outputs": [],
   "source": []
  }
 ],
 "metadata": {
  "kernelspec": {
   "display_name": "Python 3",
   "language": "python",
   "name": "python3"
  },
  "language_info": {
   "codemirror_mode": {
    "name": "ipython",
    "version": 3
   },
   "file_extension": ".py",
   "mimetype": "text/x-python",
   "name": "python",
   "nbconvert_exporter": "python",
   "pygments_lexer": "ipython3",
   "version": "3.8.3"
  }
 },
 "nbformat": 4,
 "nbformat_minor": 4
}

{
 "cells": [
  {
   "cell_type": "code",
   "execution_count": 1,
   "metadata": {},
   "outputs": [],
   "source": [
    "import pytesseract"
   ]
  },
  {
   "cell_type": "code",
   "execution_count": 9,
   "metadata": {},
   "outputs": [
    {
     "name": "stdout",
     "output_type": "stream",
     "text": [
      "Sample Meeting Agenda\n",
      "\n",
      "Before starting the meeting, have everyone sign in and appoint a timekeeper who will keep each\n",
      "section running on time.*\n",
      "\n",
      "0:00-0:10 Host welcome and introduction\n",
      "+ Host of the meeting introduces themselves and welcomes attendees.\n",
      "\n",
      "‘+ Host shares why (s]he was inspired to organize the house meeting and the purpose of the\n",
      "meeting.\n",
      "\n",
      "0:10-0:25 Attendee introductions\n",
      "\n",
      "* Go around the room and ask each person to introduce themselves and share their reason for\n",
      "wanting to serve,\n",
      "\n",
      "0:25-0:45 Choose aproject\n",
      "+ Host introduces three or four project ideas and opens up the room for discussion.\n",
      "* Discuss what projects will work bestin your community\n",
      "+ Group votes on project choice.\n",
      "\n",
      "0:45-0:55 Set goals and identify leadership\n",
      "\n",
      "+ Ask which attendees are interested in being volunteer leaders - they should stay after the\n",
      "‘meeting for 15 minutes and commit to a weekly planning meeting beginning 2-3 months before\n",
      "the service project.\n",
      "\n",
      "+ Ask each attendeeto consider personal summer goals and make a realistic but ambitious service\n",
      "commitment.\n",
      "\n",
      "0:55-1:00 Conclusion\n",
      "+ At the end of the meeting the group should have:\n",
      "© Atleast one project to commit to.\n",
      "© Aleadership team.\n",
      "© Pledges from each attendee to participate.\n",
      "1:00-1:15 Leadership team meeting\n",
      "+ Meet with volunteer leaders to set weekly meeting and divide responsibilities\n",
      "\n",
      "+ Fillout attached worksheets\n",
      "\n"
     ]
    }
   ],
   "source": [
    "import cv2\n",
    "import pytesseract\n",
    "import os\n",
    "# os.chdir(r'C:\\Program Files\\Tesseract-OCR')\n",
    "pytesseract.pytesseract.tesseract_cmd = r'C:\\\\Program Files\\\\Tesseract-OCR\\\\tesseract.exe'\n",
    "\n",
    "img = cv2.imread('./meeting_agenda.png')\n",
    "text = pytesseract.image_to_string(img)\n",
    "# print(text)\n",
    "\n"
   ]
  },
  {
   "cell_type": "code",
   "execution_count": 11,
   "metadata": {},
   "outputs": [],
   "source": [
    "import re\n",
    "import csv\n",
    "if __name__ == \"__main__\":\n",
    "    pattern = \"(\\d:\\d\\d)-(\\d:\\d\\d) (.*\\n)\"\n",
    "with open('metadata.csv', 'w', newline='') as file:\n",
    "    writer = csv.writer(file)\n",
    "    writer.writerow([\"start_hour\",\"end_hour\",\"activity\"])\n",
    " \n",
    "    txt = open(\"./meeting_agenda_text.txt\", \"r\", encoding=\"ISO-8859–1\").read()\n",
    "    extracted_data = re.findall(pattern,txt)\n",
    "    for data in extracted_data:\n",
    "        moment = [data[0].strip(),data[1].strip(),data[2].strip()]\n",
    "        writer.writerow(moment)"
   ]
  },
  {
   "cell_type": "code",
   "execution_count": 9,
   "metadata": {},
   "outputs": [
    {
     "data": {
      "text/plain": [
       "datetime.datetime(2022, 5, 6, 0, 0)"
      ]
     },
     "execution_count": 9,
     "metadata": {},
     "output_type": "execute_result"
    }
   ],
   "source": [
    "import datetime\n",
    "nowTime = datetime.datetime(2022,5,6)\n",
    "nowTime"
   ]
  },
  {
   "cell_type": "markdown",
   "metadata": {},
   "source": [
    "https://airflow.apache.org/docs/apache-airflow/stable/concepts/index.html"
   ]
  },
  {
   "cell_type": "code",
   "execution_count": null,
   "metadata": {},
   "outputs": [],
   "source": []
  }
 ],
 "metadata": {
  "kernelspec": {
   "display_name": "Python 3",
   "language": "python",
   "name": "python3"
  },
  "language_info": {
   "codemirror_mode": {
    "name": "ipython",
    "version": 3
   },
   "file_extension": ".py",
   "mimetype": "text/x-python",
   "name": "python",
   "nbconvert_exporter": "python",
   "pygments_lexer": "ipython3",
   "version": "3.8.3"
  }
 },
 "nbformat": 4,
 "nbformat_minor": 5
}

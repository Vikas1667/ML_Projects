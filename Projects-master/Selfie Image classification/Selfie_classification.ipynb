{
 "cells": [
  {
   "cell_type": "code",
   "execution_count": 2,
   "metadata": {},
   "outputs": [
    {
     "name": "stderr",
     "output_type": "stream",
     "text": [
      "Using TensorFlow backend.\n"
     ]
    }
   ],
   "source": [
    "import keras \n",
    "from keras.models import Sequential\n",
    "from keras.layers import Convolution2D\n",
    "from keras.layers import MaxPooling2D\n",
    "from keras.preprocessing.image import ImageDataGenerator\n",
    "from keras.preprocessing import image\n",
    "from keras.layers import Input, Dense, Dropout, Flatten\n",
    "from keras.layers.convolutional import AveragePooling2D\n",
    "from keras.models import Model\n",
    "from keras.models import Sequential\n",
    "from keras.optimizers import Adam\n",
    "from keras.utils import to_categorical\n"
   ]
  },
  {
   "cell_type": "code",
   "execution_count": 3,
   "metadata": {},
   "outputs": [],
   "source": [
    "from IPython.display import display\n",
    "from  PIL import Image\n",
    "from cv2 import resize\n",
    "import matplotlib.pyplot as plt\n",
    "import cv2\n",
    "from glob import glob\n",
    "import os\n",
    "from sklearn.preprocessing import LabelBinarizer\n"
   ]
  },
  {
   "cell_type": "code",
   "execution_count": 6,
   "metadata": {},
   "outputs": [],
   "source": [
    "import numpy as np\n",
    "import pandas as pd"
   ]
  },
  {
   "cell_type": "code",
   "execution_count": 7,
   "metadata": {},
   "outputs": [],
   "source": [
    "train_data=[]\n",
    "labels=[]\n",
    "\n",
    "main = \"/home/vicky/Desktop/Projects/Selfie_Classification/Selfie-dataset/images1/\"\n",
    "selfie = glob(os.path.join(main, \"*.jpg\"))\n",
    "for path in selfie:\n",
    "    slices = cv2.imread(path) \n",
    "    resize_img=cv2.resize(slices,(64,64))\n",
    "    train_data.append(resize_img)\n",
    "    labels.append(1)\n",
    "  "
   ]
  },
  {
   "cell_type": "code",
   "execution_count": null,
   "metadata": {},
   "outputs": [],
   "source": []
  },
  {
   "cell_type": "code",
   "execution_count": 9,
   "metadata": {},
   "outputs": [],
   "source": [
    "main = \"/home/vicky/Desktop/Projects/Train_data/Selfie-dataset/images1/\"\n",
    "selfie = glob(os.path.join(main, \"*.jpg\"))\n",
    "for path in selfie:\n",
    "    slices = cv2.imread(path) \n",
    "    resize_img=cv2.resize(slices,(64,64))\n",
    "    train_data.append(resize_img)\n",
    "    labels.append(1)\n"
   ]
  },
  {
   "cell_type": "code",
   "execution_count": 10,
   "metadata": {},
   "outputs": [
    {
     "name": "stdout",
     "output_type": "stream",
     "text": [
      "[1, 1, 1, 1, 1, 1, 1, 1, 1, 1]\n"
     ]
    }
   ],
   "source": [
    "main = \"/home/vicky/Desktop/Projects/Train_data/Selfie-dataset/images2/\"\n",
    "selfie = glob(os.path.join(main, \"*.jpg\"))\n",
    "for path in selfie:\n",
    "    slices = cv2.imread(path) \n",
    "    resize_img=cv2.resize(slices,(64,64))\n",
    "    train_data.append(resize_img)\n",
    "    labels.append(1)\n",
    "#print(train_data[900])\n",
    "print(labels[:10])"
   ]
  },
  {
   "cell_type": "code",
   "execution_count": 73,
   "metadata": {},
   "outputs": [],
   "source": [
    "main = \"/home/vicky/Desktop/Projects/Train_data/Not_Selfie_TrainingData/\"\n",
    "Not_selfie = glob(os.path.join(main, \"*.jpg\"))\n",
    "\n",
    "for path in Not_selfie:\n",
    "    slices = cv2.imread(path)\n",
    "    resize_img=cv2.resize(slices,(64,64))\n",
    "    train_data.append(resize_img)\n",
    "    labels.append(0)\n"
   ]
  },
  {
   "cell_type": "code",
   "execution_count": 11,
   "metadata": {
    "scrolled": true
   },
   "outputs": [],
   "source": [
    "np.save('/home/vicky/Desktop/Projects/selfie_npy_array',train_data)\n",
    "np.save('/home/vicky/Desktop/Projects/labels_npy_array',labels)\n",
    "#train_data=np.load('/home/vicky/Desktop/Projects/selfie_npy_array.npy')\n",
    "#labels=np.load('/home/vicky/Desktop/Projects/labels_npy_array.npy')\n",
    "#print(labels)"
   ]
  },
  {
   "cell_type": "code",
   "execution_count": 12,
   "metadata": {},
   "outputs": [],
   "source": [
    "train_data=np.load('/home/vicky/Desktop/Projects/selfie_npy_array.npy')"
   ]
  },
  {
   "cell_type": "code",
   "execution_count": 13,
   "metadata": {},
   "outputs": [
    {
     "name": "stdout",
     "output_type": "stream",
     "text": [
      "(3663, 64, 64, 3)\n"
     ]
    }
   ],
   "source": [
    "print(np.shape(train_data))"
   ]
  },
  {
   "cell_type": "code",
   "execution_count": 14,
   "metadata": {},
   "outputs": [
    {
     "name": "stdout",
     "output_type": "stream",
     "text": [
      "(3663, 64, 64, 3)\n",
      "(3663,)\n"
     ]
    }
   ],
   "source": [
    "labels_array=np.array(labels)\n",
    "train_data_array=np.array(train_data)\n",
    "print(np.shape(train_data_array))\n",
    "print(np.shape(labels_array))"
   ]
  },
  {
   "cell_type": "code",
   "execution_count": 15,
   "metadata": {},
   "outputs": [
    {
     "name": "stdout",
     "output_type": "stream",
     "text": [
      "(3663, 2)\n"
     ]
    }
   ],
   "source": [
    "from keras.utils.np_utils import to_categorical\n",
    "cat_labels = to_categorical(labels_array)\n",
    "print(np.shape(cat_labels))"
   ]
  },
  {
   "cell_type": "code",
   "execution_count": 17,
   "metadata": {},
   "outputs": [],
   "source": [
    "def train_my_model():\n",
    "    input_shape=(64,64,3) \n",
    "    model=Sequential()\n",
    "    model.add(keras.layers.InputLayer(input_shape=input_shape))\n",
    "    \n",
    "    model.add(Convolution2D(32,\n",
    "                          kernel_size=(3,3),\n",
    "                          strides=(1,1),\n",
    "                          padding='same',\n",
    "                          activation='relu',\n",
    "                          name='Conv1'))\n",
    "    \n",
    "    \n",
    "    model.add(Dropout(0.2,name='Dropout1'))\n",
    "    model.add(MaxPooling2D(pool_size=(2,2),name='Pool1'))\n",
    "    \n",
    "    \n",
    "    \n",
    "    model.add(Convolution2D(64,\n",
    "                          kernel_size=(3,3),\n",
    "                          strides=(1,1),\n",
    "                          padding='same',\n",
    "                          activation='relu',\n",
    "                          name='Conv2'))\n",
    "                       \n",
    "    model.add(Dropout(0.2,name='Dropout2'))\n",
    "    model.add(MaxPooling2D(pool_size=(2,2),name='Pool2'))\n",
    "    \n",
    "    \n",
    "    \n",
    "    model.add(Convolution2D(128,\n",
    "                          kernel_size=(3,3),\n",
    "                          strides=(1,1),\n",
    "                          padding='same',\n",
    "                          activation='relu',\n",
    "                          name='Conv3'))\n",
    "                       \n",
    "    model.add(Dropout(0.2,name='Dropout3'))\n",
    "    model.add(MaxPooling2D(pool_size=(2,2),name='Pool3'))\n",
    "    \n",
    "    model.add(Convolution2D(256,\n",
    "                          kernel_size=(3,3),\n",
    "                          strides=(1,1),\n",
    "                          padding='same',\n",
    "                          activation='relu',\n",
    "                          name='Conv4'))\n",
    "                       \n",
    "    model.add(Dropout(0.2,name='Dropout4'))\n",
    "    model.add(MaxPooling2D(pool_size=(2,2),name='Pool4'))\n",
    "    \n",
    "    model.add(Convolution2D(512,\n",
    "                          kernel_size=(3,3),\n",
    "                          strides=(1,1),\n",
    "                          padding='same',\n",
    "                          activation='relu',\n",
    "                          name='Conv5'))\n",
    "                       \n",
    "    model.add(Dropout(0.2,name='Dropout5'))\n",
    "    model.add(MaxPooling2D(pool_size=(2,2),name='Pool5'))\n",
    "    \n",
    "    model.add(Convolution2D(256,\n",
    "                          kernel_size=(3,3),\n",
    "                          strides=(1,1),\n",
    "                          padding='same',\n",
    "                          activation='relu',\n",
    "                          name='Conv6'))\n",
    "                       \n",
    "    model.add(Dropout(0.2,name='Dropout6'))\n",
    "    model.add(MaxPooling2D(pool_size=(2,2),name='Pool6'))\n",
    "    \n",
    "    model.add(Flatten())\n",
    "    model.add(Dense(1, activation='sigmoid', name='Affine'))\n",
    "    \n",
    "    model.compile(optimizer='sgd',\n",
    "                  loss='binary_crossentropy',\n",
    "                  metrics=['accuracy'])\n",
    "    print(model.summary())\n",
    "    return model"
   ]
  },
  {
   "cell_type": "code",
   "execution_count": 18,
   "metadata": {},
   "outputs": [],
   "source": [
    "#from keras.preprocessing.image import ImageDataGenerator\n",
    "#aug_data_object=ImageDataGenerator()\n",
    "#train_data=aug_data_object.flow_from_directory(directory='/home/vicky/Desktop/Projects/Train_data/',target_size=(64,64),batch_size=32,classes=['Selfie_Training_Data','Not_selfie'])\n",
    "#aug_data_object.fit(train_data)\n",
    "#print(np.shape(aug_data_object))\n"
   ]
  },
  {
   "cell_type": "code",
   "execution_count": 20,
   "metadata": {},
   "outputs": [
    {
     "name": "stdout",
     "output_type": "stream",
     "text": [
      "_________________________________________________________________\n",
      "Layer (type)                 Output Shape              Param #   \n",
      "=================================================================\n",
      "Conv1 (Conv2D)               (None, 64, 64, 32)        896       \n",
      "_________________________________________________________________\n",
      "Dropout1 (Dropout)           (None, 64, 64, 32)        0         \n",
      "_________________________________________________________________\n",
      "Pool1 (MaxPooling2D)         (None, 32, 32, 32)        0         \n",
      "_________________________________________________________________\n",
      "Conv2 (Conv2D)               (None, 32, 32, 64)        18496     \n",
      "_________________________________________________________________\n",
      "Dropout2 (Dropout)           (None, 32, 32, 64)        0         \n",
      "_________________________________________________________________\n",
      "Pool2 (MaxPooling2D)         (None, 16, 16, 64)        0         \n",
      "_________________________________________________________________\n",
      "Conv3 (Conv2D)               (None, 16, 16, 128)       73856     \n",
      "_________________________________________________________________\n",
      "Dropout3 (Dropout)           (None, 16, 16, 128)       0         \n",
      "_________________________________________________________________\n",
      "Pool3 (MaxPooling2D)         (None, 8, 8, 128)         0         \n",
      "_________________________________________________________________\n",
      "Conv4 (Conv2D)               (None, 8, 8, 256)         295168    \n",
      "_________________________________________________________________\n",
      "Dropout4 (Dropout)           (None, 8, 8, 256)         0         \n",
      "_________________________________________________________________\n",
      "Pool4 (MaxPooling2D)         (None, 4, 4, 256)         0         \n",
      "_________________________________________________________________\n",
      "Conv5 (Conv2D)               (None, 4, 4, 512)         1180160   \n",
      "_________________________________________________________________\n",
      "Dropout5 (Dropout)           (None, 4, 4, 512)         0         \n",
      "_________________________________________________________________\n",
      "Pool5 (MaxPooling2D)         (None, 2, 2, 512)         0         \n",
      "_________________________________________________________________\n",
      "Conv6 (Conv2D)               (None, 2, 2, 256)         1179904   \n",
      "_________________________________________________________________\n",
      "Dropout6 (Dropout)           (None, 2, 2, 256)         0         \n",
      "_________________________________________________________________\n",
      "Pool6 (MaxPooling2D)         (None, 1, 1, 256)         0         \n",
      "_________________________________________________________________\n",
      "flatten_2 (Flatten)          (None, 256)               0         \n",
      "_________________________________________________________________\n",
      "Affine (Dense)               (None, 1)                 257       \n",
      "=================================================================\n",
      "Total params: 2,748,737\n",
      "Trainable params: 2,748,737\n",
      "Non-trainable params: 0\n",
      "_________________________________________________________________\n",
      "None\n",
      "Train on 2747 samples, validate on 916 samples\n",
      "Epoch 1/20\n",
      "2747/2747 [==============================] - 83s 30ms/step - loss: 0.1877 - acc: 0.9884 - val_loss: 1.1921e-07 - val_acc: 1.0000\n",
      "Epoch 2/20\n",
      "2747/2747 [==============================] - 97s 35ms/step - loss: 1.1921e-07 - acc: 1.0000 - val_loss: 1.1921e-07 - val_acc: 1.0000\n",
      "Epoch 3/20\n",
      "2747/2747 [==============================] - 86s 31ms/step - loss: 1.1921e-07 - acc: 1.0000 - val_loss: 1.1921e-07 - val_acc: 1.0000\n",
      "Epoch 4/20\n",
      "2747/2747 [==============================] - 103s 38ms/step - loss: 1.1921e-07 - acc: 1.0000 - val_loss: 1.1921e-07 - val_acc: 1.0000\n",
      "Epoch 5/20\n",
      "2747/2747 [==============================] - 107s 39ms/step - loss: 1.1921e-07 - acc: 1.0000 - val_loss: 1.1921e-07 - val_acc: 1.0000\n",
      "Epoch 6/20\n",
      "2747/2747 [==============================] - 97s 35ms/step - loss: 1.1921e-07 - acc: 1.0000 - val_loss: 1.1921e-07 - val_acc: 1.0000\n",
      "Epoch 7/20\n",
      "2747/2747 [==============================] - 104s 38ms/step - loss: 1.1921e-07 - acc: 1.0000 - val_loss: 1.1921e-07 - val_acc: 1.0000\n",
      "Epoch 8/20\n",
      "2747/2747 [==============================] - 110s 40ms/step - loss: 1.1921e-07 - acc: 1.0000 - val_loss: 1.1921e-07 - val_acc: 1.0000\n",
      "Epoch 9/20\n",
      "2747/2747 [==============================] - 97s 35ms/step - loss: 1.1921e-07 - acc: 1.0000 - val_loss: 1.1921e-07 - val_acc: 1.0000\n",
      "Epoch 10/20\n",
      "2747/2747 [==============================] - 73s 27ms/step - loss: 1.1921e-07 - acc: 1.0000 - val_loss: 1.1921e-07 - val_acc: 1.0000\n",
      "Epoch 11/20\n",
      "2747/2747 [==============================] - 72s 26ms/step - loss: 1.1921e-07 - acc: 1.0000 - val_loss: 1.1921e-07 - val_acc: 1.0000\n",
      "Epoch 12/20\n",
      "2747/2747 [==============================] - 93s 34ms/step - loss: 1.1921e-07 - acc: 1.0000 - val_loss: 1.1921e-07 - val_acc: 1.0000\n",
      "Epoch 13/20\n",
      "2747/2747 [==============================] - 87s 32ms/step - loss: 1.1921e-07 - acc: 1.0000 - val_loss: 1.1921e-07 - val_acc: 1.0000\n",
      "Epoch 14/20\n",
      "2747/2747 [==============================] - 84s 31ms/step - loss: 1.1921e-07 - acc: 1.0000 - val_loss: 1.1921e-07 - val_acc: 1.0000\n",
      "Epoch 15/20\n",
      "2747/2747 [==============================] - 84s 31ms/step - loss: 1.1921e-07 - acc: 1.0000 - val_loss: 1.1921e-07 - val_acc: 1.0000\n",
      "Epoch 16/20\n",
      "2747/2747 [==============================] - 85s 31ms/step - loss: 1.1921e-07 - acc: 1.0000 - val_loss: 1.1921e-07 - val_acc: 1.0000\n",
      "Epoch 17/20\n",
      "2747/2747 [==============================] - 86s 31ms/step - loss: 1.1921e-07 - acc: 1.0000 - val_loss: 1.1921e-07 - val_acc: 1.0000\n",
      "Epoch 18/20\n",
      "2747/2747 [==============================] - 78s 28ms/step - loss: 1.1921e-07 - acc: 1.0000 - val_loss: 1.1921e-07 - val_acc: 1.0000\n",
      "Epoch 19/20\n",
      "2747/2747 [==============================] - 73s 27ms/step - loss: 1.1921e-07 - acc: 1.0000 - val_loss: 1.1921e-07 - val_acc: 1.0000\n",
      "Epoch 20/20\n",
      "2747/2747 [==============================] - 74s 27ms/step - loss: 1.1921e-07 - acc: 1.0000 - val_loss: 1.1921e-07 - val_acc: 1.0000\n"
     ]
    },
    {
     "data": {
      "text/plain": [
       "<keras.callbacks.History at 0x7fd1fdfe02e8>"
      ]
     },
     "execution_count": 20,
     "metadata": {},
     "output_type": "execute_result"
    }
   ],
   "source": [
    "my_selfie_model=train_my_model()\n",
    "my_selfie_model.fit(train_data_array,labels,validation_split=0.25,epochs=20,verbose=1)\n"
   ]
  },
  {
   "cell_type": "code",
   "execution_count": 78,
   "metadata": {},
   "outputs": [],
   "source": [
    "from sklearn.model_selection import train_test_split"
   ]
  },
  {
   "cell_type": "code",
   "execution_count": 79,
   "metadata": {},
   "outputs": [],
   "source": [
    "X_train,X_test,y_train,y_test=train_test_split(train_data_array,labels_array)"
   ]
  },
  {
   "cell_type": "code",
   "execution_count": 80,
   "metadata": {},
   "outputs": [],
   "source": [
    "y_test_labels=to_categorical(y_test)"
   ]
  },
  {
   "cell_type": "code",
   "execution_count": 89,
   "metadata": {},
   "outputs": [
    {
     "name": "stdout",
     "output_type": "stream",
     "text": [
      "713/713 [==============================] - 4s 6ms/step\n"
     ]
    },
    {
     "data": {
      "text/plain": [
       "[0.17986252071230965, 0.9887798036465638]"
      ]
     },
     "execution_count": 89,
     "metadata": {},
     "output_type": "execute_result"
    }
   ],
   "source": [
    "my_selfie_model.evaluate(X_test,y_test_labels)"
   ]
  },
  {
   "cell_type": "code",
   "execution_count": null,
   "metadata": {},
   "outputs": [],
   "source": []
  }
 ],
 "metadata": {
  "kernelspec": {
   "display_name": "Python 3",
   "language": "python",
   "name": "python3"
  },
  "language_info": {
   "codemirror_mode": {
    "name": "ipython",
    "version": 3
   },
   "file_extension": ".py",
   "mimetype": "text/x-python",
   "name": "python",
   "nbconvert_exporter": "python",
   "pygments_lexer": "ipython3",
   "version": "3.5.2"
  }
 },
 "nbformat": 4,
 "nbformat_minor": 2
}

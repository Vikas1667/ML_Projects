{
 "cells": [
  {
   "cell_type": "code",
   "execution_count": 56,
   "metadata": {},
   "outputs": [],
   "source": [
    "import piexif\n",
    "from PIL import Image\n",
    "import glob\n",
    "from geopy.distance import vincenty\n",
    "from itertools import groupby\n",
    "import csv"
   ]
  },
  {
   "cell_type": "code",
   "execution_count": 57,
   "metadata": {},
   "outputs": [],
   "source": [
    "def dms_to_dd(gps_data):\n",
    "    \n",
    "    ##GPS data is in Deg min sec to be converted in Degrees\n",
    "    Degrees = float(gps_data[0][0]) / float(gps_data[0][1])\n",
    "\n",
    "    Minutes = float(gps_data[1][0]) / float(gps_data[1][1])\n",
    "\n",
    "    Seconds = float(gps_data[2][0]) / float(gps_data[2][1])\n",
    "\n",
    "    return Degrees + (Minutes / 60.0) + (Seconds / 3600.0)\n",
    "\n",
    "    \n",
    "    "
   ]
  },
  {
   "cell_type": "code",
   "execution_count": 58,
   "metadata": {},
   "outputs": [],
   "source": [
    "def calculate_distance_on_earth(strt_lat_dec_deg,strt_long_dec_deg,stp_lat_dec_deg,stp_long_dec_deg):\n",
    "    #Enter the start and stop lattitude and Longitude in Decimal Degrees \n",
    "    start=(strt_lat_dec_deg,strt_long_dec_deg)\n",
    "    stop=(stp_lat_dec_deg,stp_long_dec_deg)\n",
    "    dist_in_meters=vincenty(start,stop).meters\n",
    "    return dist_in_meters \n",
    "\n"
   ]
  },
  {
   "cell_type": "code",
   "execution_count": 59,
   "metadata": {},
   "outputs": [],
   "source": [
    "def get_gps_data_from_images():\n",
    "    imagesData = {}\n",
    "\n",
    "    \n",
    "    for img in glob.glob('/home/vicky/Desktop/Skylark_Drones/images/*.JPG'):\n",
    "        \n",
    "        img_dict = piexif.load(img)\n",
    "        GPS_data =img_dict.get('GPS')\n",
    "        try:\n",
    "            GPS_latitude  = GPS_data[2]\n",
    "            GPS_longitude = GPS_data[4]\n",
    "        except:\n",
    "            print(\"Key 2 is not found\")\n",
    "        latitude=dms_to_dd(GPS_latitude)\n",
    "        longitude=dms_to_dd(GPS_longitude)\n",
    "        imagesData[img[20:]]= [longitude, latitude]\n",
    "    return imagesData"
   ]
  },
  {
   "cell_type": "code",
   "execution_count": 60,
   "metadata": {},
   "outputs": [],
   "source": [
    "def get_images(images_data, longitude, latitude, req_distance):\n",
    "    \"\"\"\n",
    "    Retrieves images lying within the radius of a \n",
    "    frame location using haversine formulae.\n",
    "    \"\"\"\n",
    "\n",
    "    image_list = []\n",
    "    \n",
    "    for image_name, image_data in images_data.items():\n",
    "        longitude1, latitude1= map(float, image_data)\n",
    "\n",
    "        distance = calculate_distance_on_earth(longitude, latitude, longitude1, latitude1)\n",
    "\n",
    "          \n",
    "        if distance < req_distance:\n",
    "            image_list.append(image_name)\n",
    "\n",
    "    return image_list\n"
   ]
  },
  {
   "cell_type": "code",
   "execution_count": 61,
   "metadata": {},
   "outputs": [],
   "source": [
    "def check_frames(frames, images_data):\n",
    "    \"\"\"Get the images from 35meters\"\"\"\n",
    "    for frame in frames:\n",
    "        lon2, lat2, alt2 = frame[2].strip('\\n').split(',')\n",
    "        image_list = get_images(images_data, lon2, lat2, 35)\n",
    "        csv_file(frame[1].split('-->')[0], image_list)\n"
   ]
  },
  {
   "cell_type": "code",
   "execution_count": 62,
   "metadata": {},
   "outputs": [],
   "source": [
    "def srt():\n",
    "       \n",
    "    with open('/home/vicky/Desktop/Skylark_Drones/videos/DJI_0301.SRT') as file:\n",
    "        results = [list(f)\n",
    "               for t, f in groupby(file, lambda x: bool(x.strip())) if t]\n",
    "\n",
    "    return results"
   ]
  },
  {
   "cell_type": "code",
   "execution_count": 63,
   "metadata": {},
   "outputs": [],
   "source": [
    "def csv_file(frame_no, image_list):\n",
    "    \n",
    "    with open('/home/vicky/Desktop/Skylark_Drones/video.csv', 'a') as outfile:\n",
    "        outfile.write(frame_no.replace(',', '.'))\n",
    "        outfile.write(',')\n",
    "        outfile.write(':'.join(image_list))\n",
    "        outfile.write('\\n')\n"
   ]
  },
  {
   "cell_type": "code",
   "execution_count": 69,
   "metadata": {},
   "outputs": [
    {
     "name": "stdout",
     "output_type": "stream",
     "text": [
      "Key 2 is not found\n",
      "Key 2 is not found\n",
      "Key 2 is not found\n",
      "Key 2 is not found\n"
     ]
    }
   ],
   "source": [
    "frames=srt()\n",
    "images_data=get_gps_data_from_images()\n",
    "check_frames(frames, images_data)"
   ]
  },
  {
   "cell_type": "code",
   "execution_count": 67,
   "metadata": {},
   "outputs": [],
   "source": [
    "def check_poi(filename, images_data):\n",
    "    \"\"\"\n",
    "    Adds all images lying 50m near to Point of interests. \n",
    "    \"\"\"\n",
    "\n",
    "    with open(filename, 'r') as rfile, open('/home/vicky/Desktop/Skylark_Drones/spread_sheet.csv', 'w') as wfile:\n",
    "\n",
    "        reader = csv.DictReader(rfile)\n",
    "\n",
    "        fieldnames = ['asset_name', 'longitude', 'latitude', 'image_names']\n",
    "        writer = csv.DictWriter(wfile, fieldnames=fieldnames)\n",
    "\n",
    "        writer.writeheader()\n",
    "\n",
    "        for row in reader:\n",
    "            lon2 = row['longitude']\n",
    "            lat2 = row['latitude']\n",
    "            image_list = get_images(images_data, lon2, lat2, 50)\n",
    "\n",
    "            row['image_names'] = ':'.join(image_list)\n",
    "            writer.writerow(row)\n",
    "\n"
   ]
  },
  {
   "cell_type": "code",
   "execution_count": 68,
   "metadata": {},
   "outputs": [],
   "source": [
    "check_poi('/home/vicky/Desktop/Skylark_Drones/assets.csv', images_data)\n",
    "\n",
    "    "
   ]
  },
  {
   "cell_type": "code",
   "execution_count": 635,
   "metadata": {},
   "outputs": [],
   "source": []
  },
  {
   "cell_type": "code",
   "execution_count": null,
   "metadata": {},
   "outputs": [],
   "source": []
  }
 ],
 "metadata": {
  "kernelspec": {
   "display_name": "Python 3",
   "language": "python",
   "name": "python3"
  },
  "language_info": {
   "codemirror_mode": {
    "name": "ipython",
    "version": 3
   },
   "file_extension": ".py",
   "mimetype": "text/x-python",
   "name": "python",
   "nbconvert_exporter": "python",
   "pygments_lexer": "ipython3",
   "version": "3.6.7"
  }
 },
 "nbformat": 4,
 "nbformat_minor": 2
}

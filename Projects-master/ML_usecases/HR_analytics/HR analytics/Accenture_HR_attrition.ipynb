{
 "cells": [
  {
   "cell_type": "markdown",
   "metadata": {},
   "source": [
    "https://www.linkedin.com/pulse/analyzing-employee-attrition-mike-west/`\n",
    "https://blog.perceptyx.com/employee-attrition-analytics/    \n",
    "HR Analytics; Attrition; Calculation of attrition: Voluntary attrition; Involuntary attrition; Function-specific attrition; Level-specific attrition; Tenure-specific attrition; Early attrition; Department-specific attrition; Pearson Correlation Coefficient\n",
    "    "
   ]
  }
 ],
 "metadata": {
  "kernelspec": {
   "display_name": "Python 3",
   "language": "python",
   "name": "python3"
  },
  "language_info": {
   "codemirror_mode": {
    "name": "ipython",
    "version": 3
   },
   "file_extension": ".py",
   "mimetype": "text/x-python",
   "name": "python",
   "nbconvert_exporter": "python",
   "pygments_lexer": "ipython3",
   "version": "3.8.3"
  }
 },
 "nbformat": 4,
 "nbformat_minor": 4
}

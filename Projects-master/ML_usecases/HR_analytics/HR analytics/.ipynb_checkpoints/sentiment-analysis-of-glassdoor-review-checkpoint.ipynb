{
 "cells": [
  {
   "cell_type": "markdown",
   "metadata": {},
   "source": [
    "# Importing python packages"
   ]
  },
  {
   "cell_type": "code",
   "execution_count": 5,
   "metadata": {
    "_cell_guid": "b1076dfc-b9ad-4769-8c92-a6c4dae69d19",
    "_uuid": "8f2839f25d086af736a60e9eeb907d3b93b6e0e5"
   },
   "outputs": [
    {
     "name": "stdout",
     "output_type": "stream",
     "text": [
      "Collecting textblob\n",
      "  Using cached textblob-0.15.3-py2.py3-none-any.whl (636 kB)\n",
      "Requirement already satisfied: nltk>=3.1 in c:\\users\\hp\\anaconda3\\lib\\site-packages (from textblob) (3.3)\n",
      "Requirement already satisfied: six in c:\\users\\hp\\anaconda3\\lib\\site-packages (from nltk>=3.1->textblob) (1.15.0)\n",
      "Installing collected packages: textblob\n",
      "Successfully installed textblob-0.15.3\n"
     ]
    }
   ],
   "source": [
    "#Data processing packages\n",
    "import pandas as pd\n",
    "import numpy as np\n",
    "pd.set_option('display.max_colwidth', 300)\n",
    "\n",
    "#Visualization packages\n",
    "import matplotlib.pyplot as plt\n",
    "import seaborn as sns\n",
    "\n",
    "#NLP packages\n",
    "!pip install textblob\n",
    "from textblob import TextBlob\n",
    "\n",
    "import warnings\n",
    "warnings.filterwarnings(\"ignore\")"
   ]
  },
  {
   "cell_type": "markdown",
   "metadata": {},
   "source": [
    "# Testing Sentiment Analysis (sample)"
   ]
  },
  {
   "cell_type": "markdown",
   "metadata": {},
   "source": [
    "# Importing comments data"
   ]
  },
  {
   "cell_type": "code",
   "execution_count": 6,
   "metadata": {},
   "outputs": [],
   "source": [
    "#Importing YouTube comments data\n",
    "#data = pd.read_csv('../input/glassdoorreviews.csv',encoding='utf8',error_bad_lines=False);#opening the file UScomments\n",
    "data = pd.read_csv('./Accenture_glassdoor_review.csv',encoding = 'unicode_escape');#opening the file UScomments"
   ]
  },
  {
   "cell_type": "code",
   "execution_count": 7,
   "metadata": {},
   "outputs": [],
   "source": [
    "from wordcloud import WordCloud\n",
    "\n",
    "def wc(data,bgcolor,title):\n",
    "    plt.figure(figsize = (50,50))\n",
    "    wc = WordCloud(background_color = bgcolor, max_words = 2000, random_state=42, max_font_size = 50)\n",
    "    wc.generate(' '.join(data))\n",
    "    plt.imshow(wc)\n",
    "    plt.axis('off')"
   ]
  },
  {
   "cell_type": "markdown",
   "metadata": {},
   "source": [
    "# Displaying first 5 rows of data"
   ]
  },
  {
   "cell_type": "code",
   "execution_count": 8,
   "metadata": {},
   "outputs": [
    {
     "data": {
      "text/html": [
       "<div>\n",
       "<style scoped>\n",
       "    .dataframe tbody tr th:only-of-type {\n",
       "        vertical-align: middle;\n",
       "    }\n",
       "\n",
       "    .dataframe tbody tr th {\n",
       "        vertical-align: top;\n",
       "    }\n",
       "\n",
       "    .dataframe thead th {\n",
       "        text-align: right;\n",
       "    }\n",
       "</style>\n",
       "<table border=\"1\" class=\"dataframe\">\n",
       "  <thead>\n",
       "    <tr style=\"text-align: right;\">\n",
       "      <th></th>\n",
       "      <th>Sr.No</th>\n",
       "      <th>review_title</th>\n",
       "      <th>overall_rating</th>\n",
       "      <th>review_text</th>\n",
       "      <th>recommends</th>\n",
       "      <th>pros</th>\n",
       "      <th>cons</th>\n",
       "    </tr>\n",
       "  </thead>\n",
       "  <tbody>\n",
       "    <tr>\n",
       "      <th>0</th>\n",
       "      <td>0</td>\n",
       "      <td>Excellent employer</td>\n",
       "      <td>Recommends</td>\n",
       "      <td>Positive Outlook</td>\n",
       "      <td>I have been working at Accenture full-time for more than 3 years</td>\n",
       "      <td>I've only had good experiences with Accenture so far at 4 years.</td>\n",
       "      <td>Requires a lot of time management administration.</td>\n",
       "    </tr>\n",
       "    <tr>\n",
       "      <th>1</th>\n",
       "      <td>1</td>\n",
       "      <td>Great experience.</td>\n",
       "      <td>Recommends</td>\n",
       "      <td>Positive Outlook</td>\n",
       "      <td>I have been working at Accenture full-time for more than 3 years</td>\n",
       "      <td>Healthy work and learning environment</td>\n",
       "      <td>Transport facilities given are sometime worst.</td>\n",
       "    </tr>\n",
       "    <tr>\n",
       "      <th>2</th>\n",
       "      <td>2</td>\n",
       "      <td>Balanced Company</td>\n",
       "      <td>Recommends</td>\n",
       "      <td>Neutral Outlook</td>\n",
       "      <td>I have been working at Accenture full-time for more than 3 years</td>\n",
       "      <td>Good Company\\r\\nFree Transport\\r\\nTImely Promotion if you do shoe police nicely to your manager\\r\\nYear end Hikes ranging from 10% to 16% average</td>\n",
       "      <td>Stupid merciless/heartless manager who always like to screw resources.\\r\\nDumb TL's who dont have power at all. They will never support Resources.They always polish manager's shoes and listen to what he says.</td>\n",
       "    </tr>\n",
       "    <tr>\n",
       "      <th>3</th>\n",
       "      <td>3</td>\n",
       "      <td>Good Company</td>\n",
       "      <td>Recommends</td>\n",
       "      <td>Approves of CEO</td>\n",
       "      <td>I have been working at Accenture full-time for more than 3 years</td>\n",
       "      <td>Good Company. Although it depends on the Project also. Some projects are really busy with lots of work load and some are very chilled out. you will not be asked to stretch or work on weekend until it is very much necessary.</td>\n",
       "      <td>It has 10 hrs of work timing. Sometimes you feel being a senior employee the work that you are doing is not upto your level. any new comer can also work on your belalf. Although they have an extensive learning portal but learning on project level is quite less sometimes when you are the only res...</td>\n",
       "    </tr>\n",
       "    <tr>\n",
       "      <th>4</th>\n",
       "      <td>4</td>\n",
       "      <td>Working environment</td>\n",
       "      <td>Recommends</td>\n",
       "      <td>Positive Outlook</td>\n",
       "      <td>I have been working at Accenture full-time for more than 3 years</td>\n",
       "      <td>If you are looking for a career in IT services itâs one of those companies to start with however, down the years you might not get what you are expecting so its definitely smart to switch within a year or two.\\r\\nIts an enterprise where there are many employees so that lower strata of employee...</td>\n",
       "      <td>There are no cons as such. I found Accenture experience totally subjected to an employeeâs nature. If you are introvert and donât ask for work proactively, you might feel like a tiny fish in a vast ocean, and probably become an unidentified robo in the crowd.\\r\\n\\r\\nOn the other hand, if you...</td>\n",
       "    </tr>\n",
       "  </tbody>\n",
       "</table>\n",
       "</div>"
      ],
      "text/plain": [
       "   Sr.No         review_title overall_rating       review_text  \\\n",
       "0      0   Excellent employer     Recommends  Positive Outlook   \n",
       "1      1    Great experience.     Recommends  Positive Outlook   \n",
       "2      2     Balanced Company     Recommends   Neutral Outlook   \n",
       "3      3         Good Company     Recommends   Approves of CEO   \n",
       "4      4  Working environment     Recommends  Positive Outlook   \n",
       "\n",
       "                                                         recommends  \\\n",
       "0  I have been working at Accenture full-time for more than 3 years   \n",
       "1  I have been working at Accenture full-time for more than 3 years   \n",
       "2  I have been working at Accenture full-time for more than 3 years   \n",
       "3  I have been working at Accenture full-time for more than 3 years   \n",
       "4  I have been working at Accenture full-time for more than 3 years   \n",
       "\n",
       "                                                                                                                                                                                                                                                                                                          pros  \\\n",
       "0                                                                                                                                                                                                                                             I've only had good experiences with Accenture so far at 4 years.   \n",
       "1                                                                                                                                                                                                                                                                        Healthy work and learning environment   \n",
       "2                                                                                                                                                            Good Company\\r\\nFree Transport\\r\\nTImely Promotion if you do shoe police nicely to your manager\\r\\nYear end Hikes ranging from 10% to 16% average   \n",
       "3                                                                              Good Company. Although it depends on the Project also. Some projects are really busy with lots of work load and some are very chilled out. you will not be asked to stretch or work on weekend until it is very much necessary.   \n",
       "4  If you are looking for a career in IT services itâs one of those companies to start with however, down the years you might not get what you are expecting so its definitely smart to switch within a year or two.\\r\\nIts an enterprise where there are many employees so that lower strata of employee...   \n",
       "\n",
       "                                                                                                                                                                                                                                                                                                          cons  \n",
       "0                                                                                                                                                                                                                                                            Requires a lot of time management administration.  \n",
       "1                                                                                                                                                                                                                                                               Transport facilities given are sometime worst.  \n",
       "2                                                                                             Stupid merciless/heartless manager who always like to screw resources.\\r\\nDumb TL's who dont have power at all. They will never support Resources.They always polish manager's shoes and listen to what he says.  \n",
       "3  It has 10 hrs of work timing. Sometimes you feel being a senior employee the work that you are doing is not upto your level. any new comer can also work on your belalf. Although they have an extensive learning portal but learning on project level is quite less sometimes when you are the only res...  \n",
       "4  There are no cons as such. I found Accenture experience totally subjected to an employeeâs nature. If you are introvert and donât ask for work proactively, you might feel like a tiny fish in a vast ocean, and probably become an unidentified robo in the crowd.\\r\\n\\r\\nOn the other hand, if you...  "
      ]
     },
     "execution_count": 8,
     "metadata": {},
     "output_type": "execute_result"
    }
   ],
   "source": [
    "#Displaying the first 5 rows of the data\n",
    "data.head()"
   ]
  },
  {
   "cell_type": "code",
   "execution_count": 9,
   "metadata": {},
   "outputs": [
    {
     "data": {
      "text/plain": [
       "(90, 7)"
      ]
     },
     "execution_count": 9,
     "metadata": {},
     "output_type": "execute_result"
    }
   ],
   "source": [
    "#Finding the size of the data\n",
    "data.shape"
   ]
  },
  {
   "cell_type": "markdown",
   "metadata": {},
   "source": [
    "# Extracting 1000 random samples from the data"
   ]
  },
  {
   "cell_type": "code",
   "execution_count": 10,
   "metadata": {},
   "outputs": [],
   "source": [
    "comm = data"
   ]
  },
  {
   "cell_type": "markdown",
   "metadata": {},
   "source": [
    "# Calculating Sentiment polarity for each comment"
   ]
  },
  {
   "cell_type": "code",
   "execution_count": 11,
   "metadata": {},
   "outputs": [],
   "source": [
    "#Calculating the Sentiment Polarity\n",
    "polarity=[] # list which will contain the polarity of the comments\n",
    "subjectivity=[] # list which will contain the subjectivity of the comments\n",
    "for i in comm['pros'].values:\n",
    "    try:\n",
    "        analysis =TextBlob(i)\n",
    "        polarity.append(analysis.sentiment.polarity)\n",
    "        subjectivity.append(analysis.sentiment.subjectivity)\n",
    "        \n",
    "    except:\n",
    "        polarity.append(0)\n",
    "        subjectivity.append(0)"
   ]
  },
  {
   "cell_type": "markdown",
   "metadata": {},
   "source": [
    "# Adding the Sentiment Polarity & Subjectivity columns to the data"
   ]
  },
  {
   "cell_type": "code",
   "execution_count": 12,
   "metadata": {},
   "outputs": [],
   "source": [
    "#Adding the Sentiment Polarity column to the data\n",
    "comm['polarity']=polarity\n",
    "comm['subjectivity']=subjectivity"
   ]
  },
  {
   "cell_type": "markdown",
   "metadata": {},
   "source": [
    "# Displaying the reviews with Polarity & Subjectivity"
   ]
  },
  {
   "cell_type": "code",
   "execution_count": 14,
   "metadata": {},
   "outputs": [
    {
     "data": {
      "text/html": [
       "<div>\n",
       "<style scoped>\n",
       "    .dataframe tbody tr th:only-of-type {\n",
       "        vertical-align: middle;\n",
       "    }\n",
       "\n",
       "    .dataframe tbody tr th {\n",
       "        vertical-align: top;\n",
       "    }\n",
       "\n",
       "    .dataframe thead th {\n",
       "        text-align: right;\n",
       "    }\n",
       "</style>\n",
       "<table border=\"1\" class=\"dataframe\">\n",
       "  <thead>\n",
       "    <tr style=\"text-align: right;\">\n",
       "      <th></th>\n",
       "      <th>review_title</th>\n",
       "      <th>pros</th>\n",
       "      <th>polarity</th>\n",
       "      <th>subjectivity</th>\n",
       "    </tr>\n",
       "  </thead>\n",
       "  <tbody>\n",
       "    <tr>\n",
       "      <th>0</th>\n",
       "      <td>Excellent employer</td>\n",
       "      <td>I've only had good experiences with Accenture so far at 4 years.</td>\n",
       "      <td>0.266667</td>\n",
       "      <td>0.866667</td>\n",
       "    </tr>\n",
       "    <tr>\n",
       "      <th>1</th>\n",
       "      <td>Great experience.</td>\n",
       "      <td>Healthy work and learning environment</td>\n",
       "      <td>0.500000</td>\n",
       "      <td>0.500000</td>\n",
       "    </tr>\n",
       "    <tr>\n",
       "      <th>2</th>\n",
       "      <td>Balanced Company</td>\n",
       "      <td>Good Company\\r\\nFree Transport\\r\\nTImely Promotion if you do shoe police nicely to your manager\\r\\nYear end Hikes ranging from 10% to 16% average</td>\n",
       "      <td>0.387500</td>\n",
       "      <td>0.700000</td>\n",
       "    </tr>\n",
       "    <tr>\n",
       "      <th>3</th>\n",
       "      <td>Good Company</td>\n",
       "      <td>Good Company. Although it depends on the Project also. Some projects are really busy with lots of work load and some are very chilled out. you will not be asked to stretch or work on weekend until it is very much necessary.</td>\n",
       "      <td>0.250000</td>\n",
       "      <td>0.550000</td>\n",
       "    </tr>\n",
       "    <tr>\n",
       "      <th>4</th>\n",
       "      <td>Working environment</td>\n",
       "      <td>If you are looking for a career in IT services itâs one of those companies to start with however, down the years you might not get what you are expecting so its definitely smart to switch within a year or two.\\r\\nIts an enterprise where there are many employees so that lower strata of employee...</td>\n",
       "      <td>0.152822</td>\n",
       "      <td>0.449824</td>\n",
       "    </tr>\n",
       "    <tr>\n",
       "      <th>5</th>\n",
       "      <td>Best company to work for but</td>\n",
       "      <td>We get very good salary hikes and bonus\\r\\nGood work environment</td>\n",
       "      <td>0.805000</td>\n",
       "      <td>0.690000</td>\n",
       "    </tr>\n",
       "    <tr>\n",
       "      <th>6</th>\n",
       "      <td>Good for freshers</td>\n",
       "      <td>Good for freshers.\\r\\nAccenture doesnot just remove people in bench.\\r\\nMany internal trainings available.</td>\n",
       "      <td>0.400000</td>\n",
       "      <td>0.375000</td>\n",
       "    </tr>\n",
       "    <tr>\n",
       "      <th>7</th>\n",
       "      <td>Appraisal system is slowing down the company</td>\n",
       "      <td>1)lots of things to learn at management level. Especially on presentation skills and building relationships with clients \\r\\n2) There is a growth path as people at every level are constantly being fired\\r\\n3) salary is good at senior levels</td>\n",
       "      <td>0.233333</td>\n",
       "      <td>0.644444</td>\n",
       "    </tr>\n",
       "    <tr>\n",
       "      <th>8</th>\n",
       "      <td>I am working with Accenture from last 4 years</td>\n",
       "      <td>WFH provided to all employees in the start of pandemic itself, training and sessions were conducted remotely for new comers in project. Got opportunity to work on multiple skills like sql, shell scripting,performance testing</td>\n",
       "      <td>0.012121</td>\n",
       "      <td>0.218182</td>\n",
       "    </tr>\n",
       "    <tr>\n",
       "      <th>9</th>\n",
       "      <td>Great company to work for</td>\n",
       "      <td>1. Amazing work culture\\r\\n2. Salary is good\\r\\n3. Flexible working hours\\r\\n4. Good bonus\\r\\n5. Management is good</td>\n",
       "      <td>0.675000</td>\n",
       "      <td>0.675000</td>\n",
       "    </tr>\n",
       "  </tbody>\n",
       "</table>\n",
       "</div>"
      ],
      "text/plain": [
       "                                    review_title  \\\n",
       "0                             Excellent employer   \n",
       "1                              Great experience.   \n",
       "2                               Balanced Company   \n",
       "3                                   Good Company   \n",
       "4                            Working environment   \n",
       "5                   Best company to work for but   \n",
       "6                              Good for freshers   \n",
       "7   Appraisal system is slowing down the company   \n",
       "8  I am working with Accenture from last 4 years   \n",
       "9                      Great company to work for   \n",
       "\n",
       "                                                                                                                                                                                                                                                                                                          pros  \\\n",
       "0                                                                                                                                                                                                                                             I've only had good experiences with Accenture so far at 4 years.   \n",
       "1                                                                                                                                                                                                                                                                        Healthy work and learning environment   \n",
       "2                                                                                                                                                            Good Company\\r\\nFree Transport\\r\\nTImely Promotion if you do shoe police nicely to your manager\\r\\nYear end Hikes ranging from 10% to 16% average   \n",
       "3                                                                              Good Company. Although it depends on the Project also. Some projects are really busy with lots of work load and some are very chilled out. you will not be asked to stretch or work on weekend until it is very much necessary.   \n",
       "4  If you are looking for a career in IT services itâs one of those companies to start with however, down the years you might not get what you are expecting so its definitely smart to switch within a year or two.\\r\\nIts an enterprise where there are many employees so that lower strata of employee...   \n",
       "5                                                                                                                                                                                                                                             We get very good salary hikes and bonus\\r\\nGood work environment   \n",
       "6                                                                                                                                                                                                   Good for freshers.\\r\\nAccenture doesnot just remove people in bench.\\r\\nMany internal trainings available.   \n",
       "7                                                             1)lots of things to learn at management level. Especially on presentation skills and building relationships with clients \\r\\n2) There is a growth path as people at every level are constantly being fired\\r\\n3) salary is good at senior levels   \n",
       "8                                                                             WFH provided to all employees in the start of pandemic itself, training and sessions were conducted remotely for new comers in project. Got opportunity to work on multiple skills like sql, shell scripting,performance testing   \n",
       "9                                                                                                                                                                                          1. Amazing work culture\\r\\n2. Salary is good\\r\\n3. Flexible working hours\\r\\n4. Good bonus\\r\\n5. Management is good   \n",
       "\n",
       "   polarity  subjectivity  \n",
       "0  0.266667      0.866667  \n",
       "1  0.500000      0.500000  \n",
       "2  0.387500      0.700000  \n",
       "3  0.250000      0.550000  \n",
       "4  0.152822      0.449824  \n",
       "5  0.805000      0.690000  \n",
       "6  0.400000      0.375000  \n",
       "7  0.233333      0.644444  \n",
       "8  0.012121      0.218182  \n",
       "9  0.675000      0.675000  "
      ]
     },
     "execution_count": 14,
     "metadata": {},
     "output_type": "execute_result"
    }
   ],
   "source": [
    "comm[['review_title','pros','polarity','subjectivity']].head(10)"
   ]
  },
  {
   "cell_type": "markdown",
   "metadata": {},
   "source": [
    "# Displaying Positive comments"
   ]
  },
  {
   "cell_type": "code",
   "execution_count": 15,
   "metadata": {},
   "outputs": [
    {
     "data": {
      "text/html": [
       "<div>\n",
       "<style scoped>\n",
       "    .dataframe tbody tr th:only-of-type {\n",
       "        vertical-align: middle;\n",
       "    }\n",
       "\n",
       "    .dataframe tbody tr th {\n",
       "        vertical-align: top;\n",
       "    }\n",
       "\n",
       "    .dataframe thead th {\n",
       "        text-align: right;\n",
       "    }\n",
       "</style>\n",
       "<table border=\"1\" class=\"dataframe\">\n",
       "  <thead>\n",
       "    <tr style=\"text-align: right;\">\n",
       "      <th></th>\n",
       "      <th>review_title</th>\n",
       "      <th>pros</th>\n",
       "      <th>polarity</th>\n",
       "      <th>subjectivity</th>\n",
       "    </tr>\n",
       "  </thead>\n",
       "  <tbody>\n",
       "    <tr>\n",
       "      <th>0</th>\n",
       "      <td>Excellent employer</td>\n",
       "      <td>I've only had good experiences with Accenture so far at 4 years.</td>\n",
       "      <td>0.266667</td>\n",
       "      <td>0.866667</td>\n",
       "    </tr>\n",
       "    <tr>\n",
       "      <th>1</th>\n",
       "      <td>Great experience.</td>\n",
       "      <td>Healthy work and learning environment</td>\n",
       "      <td>0.500000</td>\n",
       "      <td>0.500000</td>\n",
       "    </tr>\n",
       "    <tr>\n",
       "      <th>2</th>\n",
       "      <td>Balanced Company</td>\n",
       "      <td>Good Company\\r\\nFree Transport\\r\\nTImely Promotion if you do shoe police nicely to your manager\\r\\nYear end Hikes ranging from 10% to 16% average</td>\n",
       "      <td>0.387500</td>\n",
       "      <td>0.700000</td>\n",
       "    </tr>\n",
       "    <tr>\n",
       "      <th>3</th>\n",
       "      <td>Good Company</td>\n",
       "      <td>Good Company. Although it depends on the Project also. Some projects are really busy with lots of work load and some are very chilled out. you will not be asked to stretch or work on weekend until it is very much necessary.</td>\n",
       "      <td>0.250000</td>\n",
       "      <td>0.550000</td>\n",
       "    </tr>\n",
       "    <tr>\n",
       "      <th>4</th>\n",
       "      <td>Working environment</td>\n",
       "      <td>If you are looking for a career in IT services itâs one of those companies to start with however, down the years you might not get what you are expecting so its definitely smart to switch within a year or two.\\r\\nIts an enterprise where there are many employees so that lower strata of employee...</td>\n",
       "      <td>0.152822</td>\n",
       "      <td>0.449824</td>\n",
       "    </tr>\n",
       "    <tr>\n",
       "      <th>5</th>\n",
       "      <td>Best company to work for but</td>\n",
       "      <td>We get very good salary hikes and bonus\\r\\nGood work environment</td>\n",
       "      <td>0.805000</td>\n",
       "      <td>0.690000</td>\n",
       "    </tr>\n",
       "    <tr>\n",
       "      <th>6</th>\n",
       "      <td>Good for freshers</td>\n",
       "      <td>Good for freshers.\\r\\nAccenture doesnot just remove people in bench.\\r\\nMany internal trainings available.</td>\n",
       "      <td>0.400000</td>\n",
       "      <td>0.375000</td>\n",
       "    </tr>\n",
       "    <tr>\n",
       "      <th>7</th>\n",
       "      <td>Appraisal system is slowing down the company</td>\n",
       "      <td>1)lots of things to learn at management level. Especially on presentation skills and building relationships with clients \\r\\n2) There is a growth path as people at every level are constantly being fired\\r\\n3) salary is good at senior levels</td>\n",
       "      <td>0.233333</td>\n",
       "      <td>0.644444</td>\n",
       "    </tr>\n",
       "    <tr>\n",
       "      <th>8</th>\n",
       "      <td>I am working with Accenture from last 4 years</td>\n",
       "      <td>WFH provided to all employees in the start of pandemic itself, training and sessions were conducted remotely for new comers in project. Got opportunity to work on multiple skills like sql, shell scripting,performance testing</td>\n",
       "      <td>0.012121</td>\n",
       "      <td>0.218182</td>\n",
       "    </tr>\n",
       "    <tr>\n",
       "      <th>9</th>\n",
       "      <td>Great company to work for</td>\n",
       "      <td>1. Amazing work culture\\r\\n2. Salary is good\\r\\n3. Flexible working hours\\r\\n4. Good bonus\\r\\n5. Management is good</td>\n",
       "      <td>0.675000</td>\n",
       "      <td>0.675000</td>\n",
       "    </tr>\n",
       "  </tbody>\n",
       "</table>\n",
       "</div>"
      ],
      "text/plain": [
       "                                    review_title  \\\n",
       "0                             Excellent employer   \n",
       "1                              Great experience.   \n",
       "2                               Balanced Company   \n",
       "3                                   Good Company   \n",
       "4                            Working environment   \n",
       "5                   Best company to work for but   \n",
       "6                              Good for freshers   \n",
       "7   Appraisal system is slowing down the company   \n",
       "8  I am working with Accenture from last 4 years   \n",
       "9                      Great company to work for   \n",
       "\n",
       "                                                                                                                                                                                                                                                                                                          pros  \\\n",
       "0                                                                                                                                                                                                                                             I've only had good experiences with Accenture so far at 4 years.   \n",
       "1                                                                                                                                                                                                                                                                        Healthy work and learning environment   \n",
       "2                                                                                                                                                            Good Company\\r\\nFree Transport\\r\\nTImely Promotion if you do shoe police nicely to your manager\\r\\nYear end Hikes ranging from 10% to 16% average   \n",
       "3                                                                              Good Company. Although it depends on the Project also. Some projects are really busy with lots of work load and some are very chilled out. you will not be asked to stretch or work on weekend until it is very much necessary.   \n",
       "4  If you are looking for a career in IT services itâs one of those companies to start with however, down the years you might not get what you are expecting so its definitely smart to switch within a year or two.\\r\\nIts an enterprise where there are many employees so that lower strata of employee...   \n",
       "5                                                                                                                                                                                                                                             We get very good salary hikes and bonus\\r\\nGood work environment   \n",
       "6                                                                                                                                                                                                   Good for freshers.\\r\\nAccenture doesnot just remove people in bench.\\r\\nMany internal trainings available.   \n",
       "7                                                             1)lots of things to learn at management level. Especially on presentation skills and building relationships with clients \\r\\n2) There is a growth path as people at every level are constantly being fired\\r\\n3) salary is good at senior levels   \n",
       "8                                                                             WFH provided to all employees in the start of pandemic itself, training and sessions were conducted remotely for new comers in project. Got opportunity to work on multiple skills like sql, shell scripting,performance testing   \n",
       "9                                                                                                                                                                                          1. Amazing work culture\\r\\n2. Salary is good\\r\\n3. Flexible working hours\\r\\n4. Good bonus\\r\\n5. Management is good   \n",
       "\n",
       "   polarity  subjectivity  \n",
       "0  0.266667      0.866667  \n",
       "1  0.500000      0.500000  \n",
       "2  0.387500      0.700000  \n",
       "3  0.250000      0.550000  \n",
       "4  0.152822      0.449824  \n",
       "5  0.805000      0.690000  \n",
       "6  0.400000      0.375000  \n",
       "7  0.233333      0.644444  \n",
       "8  0.012121      0.218182  \n",
       "9  0.675000      0.675000  "
      ]
     },
     "execution_count": 15,
     "metadata": {},
     "output_type": "execute_result"
    }
   ],
   "source": [
    "#Displaying the POSITIVE comments\n",
    "comm[['review_title','pros','polarity','subjectivity']][comm.polarity>0].head(10)"
   ]
  },
  {
   "cell_type": "markdown",
   "metadata": {},
   "source": [
    "# Displaying Negative comments"
   ]
  },
  {
   "cell_type": "code",
   "execution_count": 16,
   "metadata": {},
   "outputs": [
    {
     "data": {
      "text/html": [
       "<div>\n",
       "<style scoped>\n",
       "    .dataframe tbody tr th:only-of-type {\n",
       "        vertical-align: middle;\n",
       "    }\n",
       "\n",
       "    .dataframe tbody tr th {\n",
       "        vertical-align: top;\n",
       "    }\n",
       "\n",
       "    .dataframe thead th {\n",
       "        text-align: right;\n",
       "    }\n",
       "</style>\n",
       "<table border=\"1\" class=\"dataframe\">\n",
       "  <thead>\n",
       "    <tr style=\"text-align: right;\">\n",
       "      <th></th>\n",
       "      <th>review_title</th>\n",
       "      <th>pros</th>\n",
       "      <th>polarity</th>\n",
       "      <th>subjectivity</th>\n",
       "    </tr>\n",
       "  </thead>\n",
       "  <tbody>\n",
       "  </tbody>\n",
       "</table>\n",
       "</div>"
      ],
      "text/plain": [
       "Empty DataFrame\n",
       "Columns: [review_title, pros, polarity, subjectivity]\n",
       "Index: []"
      ]
     },
     "execution_count": 16,
     "metadata": {},
     "output_type": "execute_result"
    }
   ],
   "source": [
    "#Displaying the NEGATIVE comments\n",
    "comm[['review_title','pros','polarity','subjectivity']][comm.polarity<0].head(10)"
   ]
  },
  {
   "cell_type": "markdown",
   "metadata": {},
   "source": [
    "# Displaying highly positive reviews"
   ]
  },
  {
   "cell_type": "code",
   "execution_count": 18,
   "metadata": {},
   "outputs": [
    {
     "data": {
      "text/html": [
       "<div>\n",
       "<style scoped>\n",
       "    .dataframe tbody tr th:only-of-type {\n",
       "        vertical-align: middle;\n",
       "    }\n",
       "\n",
       "    .dataframe tbody tr th {\n",
       "        vertical-align: top;\n",
       "    }\n",
       "\n",
       "    .dataframe thead th {\n",
       "        text-align: right;\n",
       "    }\n",
       "</style>\n",
       "<table border=\"1\" class=\"dataframe\">\n",
       "  <thead>\n",
       "    <tr style=\"text-align: right;\">\n",
       "      <th></th>\n",
       "      <th>review_title</th>\n",
       "      <th>pros</th>\n",
       "      <th>polarity</th>\n",
       "      <th>subjectivity</th>\n",
       "    </tr>\n",
       "  </thead>\n",
       "  <tbody>\n",
       "    <tr>\n",
       "      <th>5</th>\n",
       "      <td>Best company to work for but</td>\n",
       "      <td>We get very good salary hikes and bonus\\r\\nGood work environment</td>\n",
       "      <td>0.805</td>\n",
       "      <td>0.69</td>\n",
       "    </tr>\n",
       "    <tr>\n",
       "      <th>16</th>\n",
       "      <td>Best company to work for but</td>\n",
       "      <td>We get very good salary hikes and bonus\\r\\nGood work environment</td>\n",
       "      <td>0.805</td>\n",
       "      <td>0.69</td>\n",
       "    </tr>\n",
       "    <tr>\n",
       "      <th>25</th>\n",
       "      <td>Best company to work for but</td>\n",
       "      <td>We get very good salary hikes and bonus\\r\\nGood work environment</td>\n",
       "      <td>0.805</td>\n",
       "      <td>0.69</td>\n",
       "    </tr>\n",
       "    <tr>\n",
       "      <th>36</th>\n",
       "      <td>Best company to work for but</td>\n",
       "      <td>We get very good salary hikes and bonus\\r\\nGood work environment</td>\n",
       "      <td>0.805</td>\n",
       "      <td>0.69</td>\n",
       "    </tr>\n",
       "    <tr>\n",
       "      <th>46</th>\n",
       "      <td>Best company to work for but</td>\n",
       "      <td>We get very good salary hikes and bonus\\r\\nGood work environment</td>\n",
       "      <td>0.805</td>\n",
       "      <td>0.69</td>\n",
       "    </tr>\n",
       "    <tr>\n",
       "      <th>56</th>\n",
       "      <td>Best company to work for but</td>\n",
       "      <td>We get very good salary hikes and bonus\\r\\nGood work environment</td>\n",
       "      <td>0.805</td>\n",
       "      <td>0.69</td>\n",
       "    </tr>\n",
       "    <tr>\n",
       "      <th>65</th>\n",
       "      <td>Best company to work for but</td>\n",
       "      <td>We get very good salary hikes and bonus\\r\\nGood work environment</td>\n",
       "      <td>0.805</td>\n",
       "      <td>0.69</td>\n",
       "    </tr>\n",
       "    <tr>\n",
       "      <th>76</th>\n",
       "      <td>Best company to work for but</td>\n",
       "      <td>We get very good salary hikes and bonus\\r\\nGood work environment</td>\n",
       "      <td>0.805</td>\n",
       "      <td>0.69</td>\n",
       "    </tr>\n",
       "    <tr>\n",
       "      <th>86</th>\n",
       "      <td>Best company to work for but</td>\n",
       "      <td>We get very good salary hikes and bonus\\r\\nGood work environment</td>\n",
       "      <td>0.805</td>\n",
       "      <td>0.69</td>\n",
       "    </tr>\n",
       "  </tbody>\n",
       "</table>\n",
       "</div>"
      ],
      "text/plain": [
       "                    review_title  \\\n",
       "5   Best company to work for but   \n",
       "16  Best company to work for but   \n",
       "25  Best company to work for but   \n",
       "36  Best company to work for but   \n",
       "46  Best company to work for but   \n",
       "56  Best company to work for but   \n",
       "65  Best company to work for but   \n",
       "76  Best company to work for but   \n",
       "86  Best company to work for but   \n",
       "\n",
       "                                                                pros  \\\n",
       "5   We get very good salary hikes and bonus\\r\\nGood work environment   \n",
       "16  We get very good salary hikes and bonus\\r\\nGood work environment   \n",
       "25  We get very good salary hikes and bonus\\r\\nGood work environment   \n",
       "36  We get very good salary hikes and bonus\\r\\nGood work environment   \n",
       "46  We get very good salary hikes and bonus\\r\\nGood work environment   \n",
       "56  We get very good salary hikes and bonus\\r\\nGood work environment   \n",
       "65  We get very good salary hikes and bonus\\r\\nGood work environment   \n",
       "76  We get very good salary hikes and bonus\\r\\nGood work environment   \n",
       "86  We get very good salary hikes and bonus\\r\\nGood work environment   \n",
       "\n",
       "    polarity  subjectivity  \n",
       "5      0.805          0.69  \n",
       "16     0.805          0.69  \n",
       "25     0.805          0.69  \n",
       "36     0.805          0.69  \n",
       "46     0.805          0.69  \n",
       "56     0.805          0.69  \n",
       "65     0.805          0.69  \n",
       "76     0.805          0.69  \n",
       "86     0.805          0.69  "
      ]
     },
     "execution_count": 18,
     "metadata": {},
     "output_type": "execute_result"
    }
   ],
   "source": [
    "#Displaying highly positive reviews\n",
    "comm[['review_title','pros','polarity','subjectivity']][comm.polarity>0.8].head(10)"
   ]
  },
  {
   "cell_type": "code",
   "execution_count": 19,
   "metadata": {},
   "outputs": [
    {
     "data": {
      "image/png": "[encoded data removed]",
      "text/plain": [
       "<Figure size 3600x3600 with 1 Axes>"
      ]
     },
     "metadata": {
      "needs_background": "light"
     },
     "output_type": "display_data"
    }
   ],
   "source": [
    "wc(comm['pros'][comm.polarity>0.8],'black','Common Words' )"
   ]
  },
  {
   "cell_type": "markdown",
   "metadata": {},
   "source": [
    "# Displaying highly negative reviews"
   ]
  },
  {
   "cell_type": "code",
   "execution_count": 20,
   "metadata": {},
   "outputs": [
    {
     "data": {
      "text/html": [
       "<div>\n",
       "<style scoped>\n",
       "    .dataframe tbody tr th:only-of-type {\n",
       "        vertical-align: middle;\n",
       "    }\n",
       "\n",
       "    .dataframe tbody tr th {\n",
       "        vertical-align: top;\n",
       "    }\n",
       "\n",
       "    .dataframe thead th {\n",
       "        text-align: right;\n",
       "    }\n",
       "</style>\n",
       "<table border=\"1\" class=\"dataframe\">\n",
       "  <thead>\n",
       "    <tr style=\"text-align: right;\">\n",
       "      <th></th>\n",
       "      <th>review_title</th>\n",
       "      <th>pros</th>\n",
       "      <th>polarity</th>\n",
       "      <th>subjectivity</th>\n",
       "    </tr>\n",
       "  </thead>\n",
       "  <tbody>\n",
       "  </tbody>\n",
       "</table>\n",
       "</div>"
      ],
      "text/plain": [
       "Empty DataFrame\n",
       "Columns: [review_title, pros, polarity, subjectivity]\n",
       "Index: []"
      ]
     },
     "execution_count": 20,
     "metadata": {},
     "output_type": "execute_result"
    }
   ],
   "source": [
    "#Displaying highly negative reviews\n",
    "comm[['review_title','pros','polarity','subjectivity']][comm.polarity<-0.25].head(10)"
   ]
  },
  {
   "cell_type": "markdown",
   "metadata": {},
   "source": [
    "# Distribution of Polarity"
   ]
  },
  {
   "cell_type": "code",
   "execution_count": 1,
   "metadata": {},
   "outputs": [],
   "source": [
    "# wc(comm['pros'][comm.polarity<-0.4],'black','Common Words' )"
   ]
  },
  {
   "cell_type": "code",
   "execution_count": 22,
   "metadata": {},
   "outputs": [
    {
     "data": {
      "text/plain": [
       "<matplotlib.axes._subplots.AxesSubplot at 0x1d99ddf2a90>"
      ]
     },
     "execution_count": 22,
     "metadata": {},
     "output_type": "execute_result"
    },
    {
     "data": {
      "image/png": "[encoded data removed]",
      "text/plain": [
       "<Figure size 432x288 with 1 Axes>"
      ]
     },
     "metadata": {
      "needs_background": "light"
     },
     "output_type": "display_data"
    }
   ],
   "source": [
    "comm.polarity.hist(bins=50)"
   ]
  },
  {
   "cell_type": "markdown",
   "metadata": {},
   "source": [
    "# Distribution of Subjectivity"
   ]
  },
  {
   "cell_type": "code",
   "execution_count": 23,
   "metadata": {},
   "outputs": [
    {
     "data": {
      "text/plain": [
       "<matplotlib.axes._subplots.AxesSubplot at 0x1d99deaa580>"
      ]
     },
     "execution_count": 23,
     "metadata": {},
     "output_type": "execute_result"
    },
    {
     "data": {
      "image/png": "[encoded data removed]",
      "text/plain": [
       "<Figure size 432x288 with 1 Axes>"
      ]
     },
     "metadata": {
      "needs_background": "light"
     },
     "output_type": "display_data"
    }
   ],
   "source": [
    "comm.subjectivity.hist(bins=50)"
   ]
  },
  {
   "cell_type": "markdown",
   "metadata": {},
   "source": [
    "# Converting the polarity values from continuous to categorical"
   ]
  },
  {
   "cell_type": "code",
   "execution_count": 24,
   "metadata": {},
   "outputs": [],
   "source": [
    "#Converting the polarity values from continuous to categorical\n",
    "comm['polarity'][comm.polarity==0]= 0\n",
    "comm['polarity'][comm.polarity > 0]= 1\n",
    "comm['polarity'][comm.polarity < 0]= -1"
   ]
  },
  {
   "cell_type": "markdown",
   "metadata": {},
   "source": [
    "# Calculating the count of Positive, Negative & Neutral comments"
   ]
  },
  {
   "cell_type": "code",
   "execution_count": 25,
   "metadata": {},
   "outputs": [
    {
     "data": {
      "text/plain": [
       "1.0    90\n",
       "Name: polarity, dtype: int64"
      ]
     },
     "execution_count": 25,
     "metadata": {},
     "output_type": "execute_result"
    },
    {
     "data": {
      "image/png": "[encoded data removed]",
      "text/plain": [
       "<Figure size 432x288 with 1 Axes>"
      ]
     },
     "metadata": {
      "needs_background": "light"
     },
     "output_type": "display_data"
    }
   ],
   "source": [
    "comm.polarity.value_counts().plot.bar()\n",
    "comm.polarity.value_counts()"
   ]
  },
  {
   "cell_type": "code",
   "execution_count": 26,
   "metadata": {},
   "outputs": [],
   "source": [
    "#Calculating the Sentiment Polarity\n",
    "comm = data\n",
    "polarity=[] # list which will contain the polarity of the comments\n",
    "subjectivity=[] # list which will contain the subjectivity of the comments\n",
    "for i in comm['cons'].values:\n",
    "    try:\n",
    "        analysis =TextBlob(i)\n",
    "        polarity.append(analysis.sentiment.polarity)\n",
    "        subjectivity.append(analysis.sentiment.subjectivity)\n",
    "        \n",
    "    except:\n",
    "        polarity.append(0)\n",
    "        subjectivity.append(0)"
   ]
  },
  {
   "cell_type": "code",
   "execution_count": 27,
   "metadata": {},
   "outputs": [],
   "source": [
    "#Adding the Sentiment Polarity column to the data\n",
    "comm['polarity']=polarity\n",
    "comm['subjectivity']=subjectivity"
   ]
  },
  {
   "cell_type": "code",
   "execution_count": 28,
   "metadata": {},
   "outputs": [
    {
     "data": {
      "text/html": [
       "<div>\n",
       "<style scoped>\n",
       "    .dataframe tbody tr th:only-of-type {\n",
       "        vertical-align: middle;\n",
       "    }\n",
       "\n",
       "    .dataframe tbody tr th {\n",
       "        vertical-align: top;\n",
       "    }\n",
       "\n",
       "    .dataframe thead th {\n",
       "        text-align: right;\n",
       "    }\n",
       "</style>\n",
       "<table border=\"1\" class=\"dataframe\">\n",
       "  <thead>\n",
       "    <tr style=\"text-align: right;\">\n",
       "      <th></th>\n",
       "      <th>review_title</th>\n",
       "      <th>pros</th>\n",
       "      <th>polarity</th>\n",
       "      <th>subjectivity</th>\n",
       "    </tr>\n",
       "  </thead>\n",
       "  <tbody>\n",
       "    <tr>\n",
       "      <th>3</th>\n",
       "      <td>Good Company</td>\n",
       "      <td>Good Company. Although it depends on the Project also. Some projects are really busy with lots of work load and some are very chilled out. you will not be asked to stretch or work on weekend until it is very much necessary.</td>\n",
       "      <td>0.046212</td>\n",
       "      <td>0.422443</td>\n",
       "    </tr>\n",
       "    <tr>\n",
       "      <th>4</th>\n",
       "      <td>Working environment</td>\n",
       "      <td>If you are looking for a career in IT services itâs one of those companies to start with however, down the years you might not get what you are expecting so its definitely smart to switch within a year or two.\\r\\nIts an enterprise where there are many employees so that lower strata of employee...</td>\n",
       "      <td>0.025000</td>\n",
       "      <td>0.535714</td>\n",
       "    </tr>\n",
       "    <tr>\n",
       "      <th>5</th>\n",
       "      <td>Best company to work for but</td>\n",
       "      <td>We get very good salary hikes and bonus\\r\\nGood work environment</td>\n",
       "      <td>0.206842</td>\n",
       "      <td>0.488947</td>\n",
       "    </tr>\n",
       "    <tr>\n",
       "      <th>6</th>\n",
       "      <td>Good for freshers</td>\n",
       "      <td>Good for freshers.\\r\\nAccenture doesnot just remove people in bench.\\r\\nMany internal trainings available.</td>\n",
       "      <td>0.152381</td>\n",
       "      <td>0.533333</td>\n",
       "    </tr>\n",
       "    <tr>\n",
       "      <th>9</th>\n",
       "      <td>Great company to work for</td>\n",
       "      <td>1. Amazing work culture\\r\\n2. Salary is good\\r\\n3. Flexible working hours\\r\\n4. Good bonus\\r\\n5. Management is good</td>\n",
       "      <td>0.100000</td>\n",
       "      <td>0.100000</td>\n",
       "    </tr>\n",
       "    <tr>\n",
       "      <th>13</th>\n",
       "      <td>Good Company</td>\n",
       "      <td>Good Company. Although it depends on the Project also. Some projects are really busy with lots of work load and some are very chilled out. you will not be asked to stretch or work on weekend until it is very much necessary.</td>\n",
       "      <td>0.046212</td>\n",
       "      <td>0.422443</td>\n",
       "    </tr>\n",
       "    <tr>\n",
       "      <th>14</th>\n",
       "      <td>Good place to start your career</td>\n",
       "      <td>If you want to get into IT, its one of the best places. Good focus on training employees on various technologies. You get to learn a lot whoch will be useful in your career ahead in or out of Accenture</td>\n",
       "      <td>0.300000</td>\n",
       "      <td>0.750000</td>\n",
       "    </tr>\n",
       "    <tr>\n",
       "      <th>15</th>\n",
       "      <td>Working environment</td>\n",
       "      <td>If you are looking for a career in IT services itâs one of those companies to start with however, down the years you might not get what you are expecting so its definitely smart to switch within a year or two.\\r\\nIts an enterprise where there are many employees so that lower strata of employee...</td>\n",
       "      <td>0.025000</td>\n",
       "      <td>0.535714</td>\n",
       "    </tr>\n",
       "    <tr>\n",
       "      <th>16</th>\n",
       "      <td>Best company to work for but</td>\n",
       "      <td>We get very good salary hikes and bonus\\r\\nGood work environment</td>\n",
       "      <td>0.206842</td>\n",
       "      <td>0.488947</td>\n",
       "    </tr>\n",
       "    <tr>\n",
       "      <th>17</th>\n",
       "      <td>Good for freshers</td>\n",
       "      <td>Good for freshers.\\r\\nAccenture doesnot just remove people in bench.\\r\\nMany internal trainings available.</td>\n",
       "      <td>0.152381</td>\n",
       "      <td>0.533333</td>\n",
       "    </tr>\n",
       "  </tbody>\n",
       "</table>\n",
       "</div>"
      ],
      "text/plain": [
       "                       review_title  \\\n",
       "3                      Good Company   \n",
       "4               Working environment   \n",
       "5      Best company to work for but   \n",
       "6                 Good for freshers   \n",
       "9         Great company to work for   \n",
       "13                     Good Company   \n",
       "14  Good place to start your career   \n",
       "15              Working environment   \n",
       "16     Best company to work for but   \n",
       "17                Good for freshers   \n",
       "\n",
       "                                                                                                                                                                                                                                                                                                           pros  \\\n",
       "3                                                                               Good Company. Although it depends on the Project also. Some projects are really busy with lots of work load and some are very chilled out. you will not be asked to stretch or work on weekend until it is very much necessary.   \n",
       "4   If you are looking for a career in IT services itâs one of those companies to start with however, down the years you might not get what you are expecting so its definitely smart to switch within a year or two.\\r\\nIts an enterprise where there are many employees so that lower strata of employee...   \n",
       "5                                                                                                                                                                                                                                              We get very good salary hikes and bonus\\r\\nGood work environment   \n",
       "6                                                                                                                                                                                                    Good for freshers.\\r\\nAccenture doesnot just remove people in bench.\\r\\nMany internal trainings available.   \n",
       "9                                                                                                                                                                                           1. Amazing work culture\\r\\n2. Salary is good\\r\\n3. Flexible working hours\\r\\n4. Good bonus\\r\\n5. Management is good   \n",
       "13                                                                              Good Company. Although it depends on the Project also. Some projects are really busy with lots of work load and some are very chilled out. you will not be asked to stretch or work on weekend until it is very much necessary.   \n",
       "14                                                                                                    If you want to get into IT, its one of the best places. Good focus on training employees on various technologies. You get to learn a lot whoch will be useful in your career ahead in or out of Accenture   \n",
       "15  If you are looking for a career in IT services itâs one of those companies to start with however, down the years you might not get what you are expecting so its definitely smart to switch within a year or two.\\r\\nIts an enterprise where there are many employees so that lower strata of employee...   \n",
       "16                                                                                                                                                                                                                                             We get very good salary hikes and bonus\\r\\nGood work environment   \n",
       "17                                                                                                                                                                                                   Good for freshers.\\r\\nAccenture doesnot just remove people in bench.\\r\\nMany internal trainings available.   \n",
       "\n",
       "    polarity  subjectivity  \n",
       "3   0.046212      0.422443  \n",
       "4   0.025000      0.535714  \n",
       "5   0.206842      0.488947  \n",
       "6   0.152381      0.533333  \n",
       "9   0.100000      0.100000  \n",
       "13  0.046212      0.422443  \n",
       "14  0.300000      0.750000  \n",
       "15  0.025000      0.535714  \n",
       "16  0.206842      0.488947  \n",
       "17  0.152381      0.533333  "
      ]
     },
     "execution_count": 28,
     "metadata": {},
     "output_type": "execute_result"
    }
   ],
   "source": [
    "comm[['review_title','pros','polarity','subjectivity']][comm.polarity>0].head(10)"
   ]
  },
  {
   "cell_type": "code",
   "execution_count": 29,
   "metadata": {},
   "outputs": [
    {
     "data": {
      "text/html": [
       "<div>\n",
       "<style scoped>\n",
       "    .dataframe tbody tr th:only-of-type {\n",
       "        vertical-align: middle;\n",
       "    }\n",
       "\n",
       "    .dataframe tbody tr th {\n",
       "        vertical-align: top;\n",
       "    }\n",
       "\n",
       "    .dataframe thead th {\n",
       "        text-align: right;\n",
       "    }\n",
       "</style>\n",
       "<table border=\"1\" class=\"dataframe\">\n",
       "  <thead>\n",
       "    <tr style=\"text-align: right;\">\n",
       "      <th></th>\n",
       "      <th>review_title</th>\n",
       "      <th>pros</th>\n",
       "      <th>polarity</th>\n",
       "      <th>subjectivity</th>\n",
       "    </tr>\n",
       "  </thead>\n",
       "  <tbody>\n",
       "    <tr>\n",
       "      <th>1</th>\n",
       "      <td>Great experience.</td>\n",
       "      <td>Healthy work and learning environment</td>\n",
       "      <td>-1.000000</td>\n",
       "      <td>1.000000</td>\n",
       "    </tr>\n",
       "    <tr>\n",
       "      <th>2</th>\n",
       "      <td>Balanced Company</td>\n",
       "      <td>Good Company\\r\\nFree Transport\\r\\nTImely Promotion if you do shoe police nicely to your manager\\r\\nYear end Hikes ranging from 10% to 16% average</td>\n",
       "      <td>-0.587500</td>\n",
       "      <td>0.750000</td>\n",
       "    </tr>\n",
       "    <tr>\n",
       "      <th>7</th>\n",
       "      <td>Appraisal system is slowing down the company</td>\n",
       "      <td>1)lots of things to learn at management level. Especially on presentation skills and building relationships with clients \\r\\n2) There is a growth path as people at every level are constantly being fired\\r\\n3) salary is good at senior levels</td>\n",
       "      <td>-0.012222</td>\n",
       "      <td>0.428704</td>\n",
       "    </tr>\n",
       "    <tr>\n",
       "      <th>8</th>\n",
       "      <td>I am working with Accenture from last 4 years</td>\n",
       "      <td>WFH provided to all employees in the start of pandemic itself, training and sessions were conducted remotely for new comers in project. Got opportunity to work on multiple skills like sql, shell scripting,performance testing</td>\n",
       "      <td>-0.229167</td>\n",
       "      <td>0.441667</td>\n",
       "    </tr>\n",
       "    <tr>\n",
       "      <th>12</th>\n",
       "      <td>Balanced Company</td>\n",
       "      <td>Good Company\\r\\nFree Transport\\r\\nTImely Promotion if you do shoe police nicely to your manager\\r\\nYear end Hikes ranging from 10% to 16% average</td>\n",
       "      <td>-0.587500</td>\n",
       "      <td>0.750000</td>\n",
       "    </tr>\n",
       "    <tr>\n",
       "      <th>18</th>\n",
       "      <td>Appraisal system is slowing down the company</td>\n",
       "      <td>1)lots of things to learn at management level. Especially on presentation skills and building relationships with clients \\r\\n2) There is a growth path as people at every level are constantly being fired\\r\\n3) salary is good at senior levels</td>\n",
       "      <td>-0.012222</td>\n",
       "      <td>0.428704</td>\n",
       "    </tr>\n",
       "    <tr>\n",
       "      <th>19</th>\n",
       "      <td>I am working with Accenture from last 4 years</td>\n",
       "      <td>WFH provided to all employees in the start of pandemic itself, training and sessions were conducted remotely for new comers in project. Got opportunity to work on multiple skills like sql, shell scripting,performance testing</td>\n",
       "      <td>-0.229167</td>\n",
       "      <td>0.441667</td>\n",
       "    </tr>\n",
       "    <tr>\n",
       "      <th>21</th>\n",
       "      <td>Great experience.</td>\n",
       "      <td>Healthy work and learning environment</td>\n",
       "      <td>-1.000000</td>\n",
       "      <td>1.000000</td>\n",
       "    </tr>\n",
       "    <tr>\n",
       "      <th>22</th>\n",
       "      <td>Balanced Company</td>\n",
       "      <td>Good Company\\r\\nFree Transport\\r\\nTImely Promotion if you do shoe police nicely to your manager\\r\\nYear end Hikes ranging from 10% to 16% average</td>\n",
       "      <td>-0.587500</td>\n",
       "      <td>0.750000</td>\n",
       "    </tr>\n",
       "    <tr>\n",
       "      <th>27</th>\n",
       "      <td>Appraisal system is slowing down the company</td>\n",
       "      <td>1)lots of things to learn at management level. Especially on presentation skills and building relationships with clients \\r\\n2) There is a growth path as people at every level are constantly being fired\\r\\n3) salary is good at senior levels</td>\n",
       "      <td>-0.012222</td>\n",
       "      <td>0.428704</td>\n",
       "    </tr>\n",
       "  </tbody>\n",
       "</table>\n",
       "</div>"
      ],
      "text/plain": [
       "                                     review_title  \\\n",
       "1                               Great experience.   \n",
       "2                                Balanced Company   \n",
       "7    Appraisal system is slowing down the company   \n",
       "8   I am working with Accenture from last 4 years   \n",
       "12                               Balanced Company   \n",
       "18   Appraisal system is slowing down the company   \n",
       "19  I am working with Accenture from last 4 years   \n",
       "21                              Great experience.   \n",
       "22                               Balanced Company   \n",
       "27   Appraisal system is slowing down the company   \n",
       "\n",
       "                                                                                                                                                                                                                                                pros  \\\n",
       "1                                                                                                                                                                                                              Healthy work and learning environment   \n",
       "2                                                                                                  Good Company\\r\\nFree Transport\\r\\nTImely Promotion if you do shoe police nicely to your manager\\r\\nYear end Hikes ranging from 10% to 16% average   \n",
       "7   1)lots of things to learn at management level. Especially on presentation skills and building relationships with clients \\r\\n2) There is a growth path as people at every level are constantly being fired\\r\\n3) salary is good at senior levels   \n",
       "8                   WFH provided to all employees in the start of pandemic itself, training and sessions were conducted remotely for new comers in project. Got opportunity to work on multiple skills like sql, shell scripting,performance testing   \n",
       "12                                                                                                 Good Company\\r\\nFree Transport\\r\\nTImely Promotion if you do shoe police nicely to your manager\\r\\nYear end Hikes ranging from 10% to 16% average   \n",
       "18  1)lots of things to learn at management level. Especially on presentation skills and building relationships with clients \\r\\n2) There is a growth path as people at every level are constantly being fired\\r\\n3) salary is good at senior levels   \n",
       "19                  WFH provided to all employees in the start of pandemic itself, training and sessions were conducted remotely for new comers in project. Got opportunity to work on multiple skills like sql, shell scripting,performance testing   \n",
       "21                                                                                                                                                                                                             Healthy work and learning environment   \n",
       "22                                                                                                 Good Company\\r\\nFree Transport\\r\\nTImely Promotion if you do shoe police nicely to your manager\\r\\nYear end Hikes ranging from 10% to 16% average   \n",
       "27  1)lots of things to learn at management level. Especially on presentation skills and building relationships with clients \\r\\n2) There is a growth path as people at every level are constantly being fired\\r\\n3) salary is good at senior levels   \n",
       "\n",
       "    polarity  subjectivity  \n",
       "1  -1.000000      1.000000  \n",
       "2  -0.587500      0.750000  \n",
       "7  -0.012222      0.428704  \n",
       "8  -0.229167      0.441667  \n",
       "12 -0.587500      0.750000  \n",
       "18 -0.012222      0.428704  \n",
       "19 -0.229167      0.441667  \n",
       "21 -1.000000      1.000000  \n",
       "22 -0.587500      0.750000  \n",
       "27 -0.012222      0.428704  "
      ]
     },
     "execution_count": 29,
     "metadata": {},
     "output_type": "execute_result"
    }
   ],
   "source": [
    "comm[['review_title','pros','polarity','subjectivity']][comm.polarity<0].head(10)"
   ]
  },
  {
   "cell_type": "code",
   "execution_count": 30,
   "metadata": {},
   "outputs": [
    {
     "data": {
      "text/html": [
       "<div>\n",
       "<style scoped>\n",
       "    .dataframe tbody tr th:only-of-type {\n",
       "        vertical-align: middle;\n",
       "    }\n",
       "\n",
       "    .dataframe tbody tr th {\n",
       "        vertical-align: top;\n",
       "    }\n",
       "\n",
       "    .dataframe thead th {\n",
       "        text-align: right;\n",
       "    }\n",
       "</style>\n",
       "<table border=\"1\" class=\"dataframe\">\n",
       "  <thead>\n",
       "    <tr style=\"text-align: right;\">\n",
       "      <th></th>\n",
       "      <th>review_title</th>\n",
       "      <th>pros</th>\n",
       "      <th>polarity</th>\n",
       "      <th>subjectivity</th>\n",
       "    </tr>\n",
       "  </thead>\n",
       "  <tbody>\n",
       "  </tbody>\n",
       "</table>\n",
       "</div>"
      ],
      "text/plain": [
       "Empty DataFrame\n",
       "Columns: [review_title, pros, polarity, subjectivity]\n",
       "Index: []"
      ]
     },
     "execution_count": 30,
     "metadata": {},
     "output_type": "execute_result"
    }
   ],
   "source": [
    "comm[['review_title','pros','polarity','subjectivity']][comm.polarity>0.8].head(10)"
   ]
  },
  {
   "cell_type": "code",
   "execution_count": 31,
   "metadata": {},
   "outputs": [
    {
     "data": {
      "text/html": [
       "<div>\n",
       "<style scoped>\n",
       "    .dataframe tbody tr th:only-of-type {\n",
       "        vertical-align: middle;\n",
       "    }\n",
       "\n",
       "    .dataframe tbody tr th {\n",
       "        vertical-align: top;\n",
       "    }\n",
       "\n",
       "    .dataframe thead th {\n",
       "        text-align: right;\n",
       "    }\n",
       "</style>\n",
       "<table border=\"1\" class=\"dataframe\">\n",
       "  <thead>\n",
       "    <tr style=\"text-align: right;\">\n",
       "      <th></th>\n",
       "      <th>review_title</th>\n",
       "      <th>pros</th>\n",
       "      <th>polarity</th>\n",
       "      <th>subjectivity</th>\n",
       "    </tr>\n",
       "  </thead>\n",
       "  <tbody>\n",
       "    <tr>\n",
       "      <th>1</th>\n",
       "      <td>Great experience.</td>\n",
       "      <td>Healthy work and learning environment</td>\n",
       "      <td>-1.0000</td>\n",
       "      <td>1.00</td>\n",
       "    </tr>\n",
       "    <tr>\n",
       "      <th>2</th>\n",
       "      <td>Balanced Company</td>\n",
       "      <td>Good Company\\r\\nFree Transport\\r\\nTImely Promotion if you do shoe police nicely to your manager\\r\\nYear end Hikes ranging from 10% to 16% average</td>\n",
       "      <td>-0.5875</td>\n",
       "      <td>0.75</td>\n",
       "    </tr>\n",
       "    <tr>\n",
       "      <th>12</th>\n",
       "      <td>Balanced Company</td>\n",
       "      <td>Good Company\\r\\nFree Transport\\r\\nTImely Promotion if you do shoe police nicely to your manager\\r\\nYear end Hikes ranging from 10% to 16% average</td>\n",
       "      <td>-0.5875</td>\n",
       "      <td>0.75</td>\n",
       "    </tr>\n",
       "    <tr>\n",
       "      <th>21</th>\n",
       "      <td>Great experience.</td>\n",
       "      <td>Healthy work and learning environment</td>\n",
       "      <td>-1.0000</td>\n",
       "      <td>1.00</td>\n",
       "    </tr>\n",
       "    <tr>\n",
       "      <th>22</th>\n",
       "      <td>Balanced Company</td>\n",
       "      <td>Good Company\\r\\nFree Transport\\r\\nTImely Promotion if you do shoe police nicely to your manager\\r\\nYear end Hikes ranging from 10% to 16% average</td>\n",
       "      <td>-0.5875</td>\n",
       "      <td>0.75</td>\n",
       "    </tr>\n",
       "    <tr>\n",
       "      <th>32</th>\n",
       "      <td>Balanced Company</td>\n",
       "      <td>Good Company\\r\\nFree Transport\\r\\nTImely Promotion if you do shoe police nicely to your manager\\r\\nYear end Hikes ranging from 10% to 16% average</td>\n",
       "      <td>-0.5875</td>\n",
       "      <td>0.75</td>\n",
       "    </tr>\n",
       "    <tr>\n",
       "      <th>42</th>\n",
       "      <td>Balanced Company</td>\n",
       "      <td>Good Company\\r\\nFree Transport\\r\\nTImely Promotion if you do shoe police nicely to your manager\\r\\nYear end Hikes ranging from 10% to 16% average</td>\n",
       "      <td>-0.5875</td>\n",
       "      <td>0.75</td>\n",
       "    </tr>\n",
       "    <tr>\n",
       "      <th>52</th>\n",
       "      <td>Balanced Company</td>\n",
       "      <td>Good Company\\r\\nFree Transport\\r\\nTImely Promotion if you do shoe police nicely to your manager\\r\\nYear end Hikes ranging from 10% to 16% average</td>\n",
       "      <td>-0.5875</td>\n",
       "      <td>0.75</td>\n",
       "    </tr>\n",
       "    <tr>\n",
       "      <th>61</th>\n",
       "      <td>Great experience.</td>\n",
       "      <td>Healthy work and learning environment</td>\n",
       "      <td>-1.0000</td>\n",
       "      <td>1.00</td>\n",
       "    </tr>\n",
       "    <tr>\n",
       "      <th>62</th>\n",
       "      <td>Balanced Company</td>\n",
       "      <td>Good Company\\r\\nFree Transport\\r\\nTImely Promotion if you do shoe police nicely to your manager\\r\\nYear end Hikes ranging from 10% to 16% average</td>\n",
       "      <td>-0.5875</td>\n",
       "      <td>0.75</td>\n",
       "    </tr>\n",
       "  </tbody>\n",
       "</table>\n",
       "</div>"
      ],
      "text/plain": [
       "         review_title  \\\n",
       "1   Great experience.   \n",
       "2    Balanced Company   \n",
       "12   Balanced Company   \n",
       "21  Great experience.   \n",
       "22   Balanced Company   \n",
       "32   Balanced Company   \n",
       "42   Balanced Company   \n",
       "52   Balanced Company   \n",
       "61  Great experience.   \n",
       "62   Balanced Company   \n",
       "\n",
       "                                                                                                                                                 pros  \\\n",
       "1                                                                                                               Healthy work and learning environment   \n",
       "2   Good Company\\r\\nFree Transport\\r\\nTImely Promotion if you do shoe police nicely to your manager\\r\\nYear end Hikes ranging from 10% to 16% average   \n",
       "12  Good Company\\r\\nFree Transport\\r\\nTImely Promotion if you do shoe police nicely to your manager\\r\\nYear end Hikes ranging from 10% to 16% average   \n",
       "21                                                                                                              Healthy work and learning environment   \n",
       "22  Good Company\\r\\nFree Transport\\r\\nTImely Promotion if you do shoe police nicely to your manager\\r\\nYear end Hikes ranging from 10% to 16% average   \n",
       "32  Good Company\\r\\nFree Transport\\r\\nTImely Promotion if you do shoe police nicely to your manager\\r\\nYear end Hikes ranging from 10% to 16% average   \n",
       "42  Good Company\\r\\nFree Transport\\r\\nTImely Promotion if you do shoe police nicely to your manager\\r\\nYear end Hikes ranging from 10% to 16% average   \n",
       "52  Good Company\\r\\nFree Transport\\r\\nTImely Promotion if you do shoe police nicely to your manager\\r\\nYear end Hikes ranging from 10% to 16% average   \n",
       "61                                                                                                              Healthy work and learning environment   \n",
       "62  Good Company\\r\\nFree Transport\\r\\nTImely Promotion if you do shoe police nicely to your manager\\r\\nYear end Hikes ranging from 10% to 16% average   \n",
       "\n",
       "    polarity  subjectivity  \n",
       "1    -1.0000          1.00  \n",
       "2    -0.5875          0.75  \n",
       "12   -0.5875          0.75  \n",
       "21   -1.0000          1.00  \n",
       "22   -0.5875          0.75  \n",
       "32   -0.5875          0.75  \n",
       "42   -0.5875          0.75  \n",
       "52   -0.5875          0.75  \n",
       "61   -1.0000          1.00  \n",
       "62   -0.5875          0.75  "
      ]
     },
     "execution_count": 31,
     "metadata": {},
     "output_type": "execute_result"
    }
   ],
   "source": [
    "comm[['review_title','pros','polarity','subjectivity']][comm.polarity<-0.25].head(10)"
   ]
  },
  {
   "cell_type": "code",
   "execution_count": 2,
   "metadata": {},
   "outputs": [],
   "source": [
    "# wc(comm['cons'][comm.polarity>0.7],'black','Common Words' )"
   ]
  },
  {
   "cell_type": "code",
   "execution_count": 33,
   "metadata": {},
   "outputs": [
    {
     "data": {
      "image/png": "[encoded data removed]",
      "text/plain": [
       "<Figure size 3600x3600 with 1 Axes>"
      ]
     },
     "metadata": {
      "needs_background": "light"
     },
     "output_type": "display_data"
    }
   ],
   "source": [
    "wc(comm['cons'][comm.polarity<-0.25],'black','Common Words' )"
   ]
  },
  {
   "cell_type": "code",
   "execution_count": 34,
   "metadata": {},
   "outputs": [],
   "source": [
    "#Converting the polarity values from continuous to categorical\n",
    "comm['polarity'][comm.polarity==0]= 0\n",
    "comm['polarity'][comm.polarity > 0]= 1\n",
    "comm['polarity'][comm.polarity < 0]= -1"
   ]
  },
  {
   "cell_type": "code",
   "execution_count": 35,
   "metadata": {},
   "outputs": [
    {
     "data": {
      "text/plain": [
       " 1.0    46\n",
       "-1.0    30\n",
       " 0.0    14\n",
       "Name: polarity, dtype: int64"
      ]
     },
     "execution_count": 35,
     "metadata": {},
     "output_type": "execute_result"
    },
    {
     "data": {
      "image/png": "[encoded data removed]",
      "text/plain": [
       "<Figure size 432x288 with 1 Axes>"
      ]
     },
     "metadata": {
      "needs_background": "light"
     },
     "output_type": "display_data"
    }
   ],
   "source": [
    "comm.polarity.value_counts().plot.bar()\n",
    "comm.polarity.value_counts()"
   ]
  },
  {
   "cell_type": "code",
   "execution_count": null,
   "metadata": {},
   "outputs": [],
   "source": []
  },
  {
   "cell_type": "code",
   "execution_count": null,
   "metadata": {},
   "outputs": [],
   "source": []
  }
 ],
 "metadata": {
  "kernelspec": {
   "display_name": "Python 3",
   "language": "python",
   "name": "python3"
  },
  "language_info": {
   "codemirror_mode": {
    "name": "ipython",
    "version": 3
   },
   "file_extension": ".py",
   "mimetype": "text/x-python",
   "name": "python",
   "nbconvert_exporter": "python",
   "pygments_lexer": "ipython3",
   "version": "3.8.3"
  }
 },
 "nbformat": 4,
 "nbformat_minor": 4
}

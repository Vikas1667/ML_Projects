{
 "cells": [
  {
   "cell_type": "code",
   "execution_count": null,
   "metadata": {},
   "outputs": [],
   "source": [
    "import requests\n",
    "from bs4 import BeautifulSoup as bs\n",
    "import json\n",
    "API_KEY = \"9446fd13127051ca7343c2018204779d8007\"\n",
    "keyword = \"covid19\"\n",
    "esearch = \"https://eutils.ncbi.nlm.nih.gov/entrez/eutils/esearch.fcgi?db=pubmed&term=\"\n",
    "#covid19&usehistory=true&webenv=true&retmax=10&api_key=9446fd13127051ca7343c2018204779d8007\"\n",
    "search_resp = requests.get(esearch+keyword+\"&usehistory=true&webenv=true\"+\"api_key=\"+API_KEY)\n",
    "search_soup = bs(search_resp.content,features=\"lxml\")\n",
    "webenv = search_soup.find(\"webenv\").text\n",
    "#count = search_soup.find(\"count\").text\n",
    "count =10\n",
    "batch_size = 5\n",
    "batches = []\n"
   ]
  },
  {
   "cell_type": "code",
   "execution_count": null,
   "metadata": {},
   "outputs": [],
   "source": [
    "for batch in range(0,int(count),5):\n",
    "    efetch = \"https://eutils.ncbi.nlm.nih.gov/entrez/eutils/efetch.fcgi?db=pubmed&query_key=1&webenv=\"    \n",
    "    fetch_resp = requests.get(efetch+webenv+\"&rettype=xml&api_key=\"+API_KEY+\"&retmode=xml&retmax=2000&retstart=\"+str(batch))\n",
    "    fetch_soup = bs(fetch_resp.content,features=\"lxml\")\n",
    "    articles_list = []\n",
    "    PubmedArticleSet = fetch_soup.find(\"pubmedarticleset\")\n",
    "    articles = PubmedArticleSet.find_all(\"pubmedarticle\")\n",
    "    for article in articles:\n",
    "        article_dict = {}\n",
    "        title = article.find(\"articletitle\").text        \n",
    "        pmid = article.find(\"pmid\").text    \n",
    "        authors =  article.find(\"authorlist\")\n",
    "        author_list = []\n",
    "        try:\n",
    "            author_l = authors.find_all(\"author\")\n",
    "        except AttributeError:\n",
    "            break        \n",
    "        for auth in author_l:\n",
    "            author_dict = {}\n",
    "            try:\n",
    "                first_name = auth.find(\"forename\").text            \n",
    "            except:\n",
    "                first_name = \"\"            \n",
    "            try:\n",
    "                second_name = auth.find(\"lastname\").text            \n",
    "            except:\n",
    "                second_name = \"\"           \n",
    "            try:\n",
    "                initials = auth.find(\"initials\").text           \n",
    "            except:\n",
    "                initials = \"\"            \n",
    "            author_name = initials+\" \" +first_name +\" \"+second_name            \n",
    "            try:\n",
    "                affiliation = auth.find(\"affiliation\").text            \n",
    "            except:\n",
    "                affiliation = \"\"            \n",
    "            author_dict[\"author_name\"] = author_name            \n",
    "            author_dict[\"affiliation\"] = affiliation            \n",
    "            author_list.append(author_dict)\n",
    "        article_dict[\"title\"] = title        \n",
    "        article_dict[\"pmid\"] = pmid        \n",
    "        article_dict[\"author\"] = author_list    \n",
    "    batches.append(article_dict)\n",
    "    print(batches)\n",
    "    print(\"<------------------------------------------------------------------------------------------------>\")\n",
    "    \n"
   ]
  }
 ],
 "metadata": {
  "kernelspec": {
   "display_name": "Python 3",
   "language": "python",
   "name": "python3"
  },
  "language_info": {
   "codemirror_mode": {
    "name": "ipython",
    "version": 3
   },
   "file_extension": ".py",
   "mimetype": "text/x-python",
   "name": "python",
   "nbconvert_exporter": "python",
   "pygments_lexer": "ipython3",
   "version": "3.8.3"
  }
 },
 "nbformat": 4,
 "nbformat_minor": 4
}

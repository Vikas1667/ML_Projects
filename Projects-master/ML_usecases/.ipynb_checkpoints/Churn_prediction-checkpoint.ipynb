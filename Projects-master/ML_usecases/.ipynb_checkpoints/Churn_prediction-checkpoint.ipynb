{
 "cells": [
  {
   "cell_type": "markdown",
   "metadata": {},
   "source": [
    "Churn prediction is common use case to detect churn means leaving company or service from customer\n",
    "\n",
    "Reference\n",
    "https://towardsdatascience.com/churn-prediction-with-machine-learning-ca955d52bd8c\n",
    "\n",
    "https://www.analyticsvidhya.com/blog/2021/08/churn-prediction-commercial-use-of-data-science/\n",
    "\n",
    "\n"
   ]
  },
  {
   "cell_type": "code",
   "execution_count": null,
   "metadata": {},
   "outputs": [],
   "source": []
  }
 ],
 "metadata": {
  "kernelspec": {
   "display_name": "Python 3",
   "language": "python",
   "name": "python3"
  },
  "language_info": {
   "codemirror_mode": {
    "name": "ipython",
    "version": 3
   },
   "file_extension": ".py",
   "mimetype": "text/x-python",
   "name": "python",
   "nbconvert_exporter": "python",
   "pygments_lexer": "ipython3",
   "version": "3.8.5"
  }
 },
 "nbformat": 4,
 "nbformat_minor": 4
}

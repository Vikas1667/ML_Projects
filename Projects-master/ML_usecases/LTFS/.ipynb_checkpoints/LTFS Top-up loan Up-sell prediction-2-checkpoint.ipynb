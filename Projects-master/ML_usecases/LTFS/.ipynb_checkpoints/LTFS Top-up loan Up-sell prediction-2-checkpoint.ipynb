{
 "cells": [
  {
   "cell_type": "markdown",
   "metadata": {},
   "source": [
    "### Arrears \n",
    "Arrears is a financial and legal term that refers to the status of payments in relation to their due dates. The word is most commonly used to describe an obligation or liability that has not received payment by its due date. Therefore, the term arrears applies to an overdue payment. If one or more payments have been missed where regular payments are contractually required, such as mortgage or rent payments and utility or telephone bills, the account is in arrears. Payments that are made at the end of a period are also said to be in arrears. In this case, payment is expected to be made after a service is provided or completed—not before.\n",
    "\n"
   ]
  },
  {
   "cell_type": "code",
   "execution_count": null,
   "metadata": {},
   "outputs": [],
   "source": []
  },
  {
   "cell_type": "code",
   "execution_count": null,
   "metadata": {
    "scrolled": true
   },
   "outputs": [],
   "source": []
  },
  {
   "cell_type": "code",
   "execution_count": 133,
   "metadata": {},
   "outputs": [],
   "source": [
    "import numpy as np \n",
    "import pandas as pd\n",
    "import seaborn as sns"
   ]
  },
  {
   "cell_type": "code",
   "execution_count": 134,
   "metadata": {},
   "outputs": [],
   "source": [
    "import matplotlib.pyplot as plt \n",
    "from sklearn.preprocessing import LabelEncoder\n"
   ]
  },
  {
   "cell_type": "code",
   "execution_count": 158,
   "metadata": {},
   "outputs": [],
   "source": [
    "traindf=pd.read_excel('./data/Train/train_Data.xlsx')\n",
    "testdf=pd.read_excel('./data/Test_data/test_Data.xlsx')"
   ]
  },
  {
   "cell_type": "code",
   "execution_count": 185,
   "metadata": {},
   "outputs": [
    {
     "data": {
      "text/plain": [
       "ID                          int64\n",
       "Frequency                  object\n",
       "InstlmentMode               int32\n",
       "LoanStatus                 object\n",
       "PaymentMode                object\n",
       "BranchID                    int64\n",
       "Area                       object\n",
       "Tenure                      int64\n",
       "AssetCost                   int64\n",
       "AmountFinance             float64\n",
       "DisbursalAmount           float64\n",
       "EMI                       float64\n",
       "DisbursalDate      datetime64[ns]\n",
       "MaturityDAte       datetime64[ns]\n",
       "AuthDate           datetime64[ns]\n",
       "AssetID                     int64\n",
       "ManufacturerID              int64\n",
       "SupplierID                  int64\n",
       "LTV                       float64\n",
       "SEX                         int32\n",
       "AGE                       float64\n",
       "MonthlyIncome             float64\n",
       "City                       object\n",
       "State                      object\n",
       "ZiPCODE                   float64\n",
       "Top-up Month               object\n",
       "dtype: object"
      ]
     },
     "execution_count": 185,
     "metadata": {},
     "output_type": "execute_result"
    }
   ],
   "source": [
    "train_df.dtypes"
   ]
  },
  {
   "cell_type": "code",
   "execution_count": 191,
   "metadata": {
    "scrolled": false
   },
   "outputs": [
    {
     "name": "stdout",
     "output_type": "stream",
     "text": [
      "['Frequency']\n",
      "['InstlmentMode']\n",
      "['LoanStatus']\n",
      "['PaymentMode']\n",
      "['Area']\n",
      "['SEX']\n",
      "['City']\n",
      "['State']\n",
      "['Top-up Month']\n"
     ]
    }
   ],
   "source": [
    "for col in traindf.columns:\n",
    "#     if(type(col)=='object'):\n",
    "#         print(col)\n",
    "    if traindf[col].dtypes=='object':\n",
    "        print([col])"
   ]
  },
  {
   "cell_type": "code",
   "execution_count": 193,
   "metadata": {},
   "outputs": [
    {
     "data": {
      "text/plain": [
       "4539"
      ]
     },
     "execution_count": 193,
     "metadata": {},
     "output_type": "execute_result"
    }
   ],
   "source": [
    "len(traindf['SupplierID'].unique())"
   ]
  },
  {
   "cell_type": "code",
   "execution_count": 168,
   "metadata": {},
   "outputs": [
    {
     "name": "stdout",
     "output_type": "stream",
     "text": [
      "NAN values count\n",
      " ID                     0\n",
      "Frequency              0\n",
      "InstlmentMode          0\n",
      "LoanStatus             0\n",
      "PaymentMode            0\n",
      "BranchID               0\n",
      "Area               11653\n",
      "Tenure                 0\n",
      "AssetCost              0\n",
      "AmountFinance          0\n",
      "DisbursalAmount        0\n",
      "EMI                    0\n",
      "DisbursalDate          0\n",
      "MaturityDAte           1\n",
      "AuthDate               0\n",
      "AssetID                0\n",
      "ManufacturerID         0\n",
      "SupplierID             0\n",
      "LTV                    0\n",
      "SEX                   59\n",
      "AGE                   59\n",
      "MonthlyIncome        234\n",
      "City               11256\n",
      "State                  0\n",
      "ZiPCODE              372\n",
      "Top-up Month           0\n",
      "dtype: int64 \n",
      "\n",
      "\n",
      "Zero values Count\n",
      " ID                  0\n",
      "Frequency           0\n",
      "InstlmentMode       0\n",
      "LoanStatus          0\n",
      "PaymentMode         0\n",
      "BranchID            0\n",
      "Area                0\n",
      "Tenure              0\n",
      "AssetCost           0\n",
      "AmountFinance       0\n",
      "DisbursalAmount     0\n",
      "EMI                 1\n",
      "DisbursalDate       0\n",
      "MaturityDAte        0\n",
      "AuthDate            0\n",
      "AssetID             0\n",
      "ManufacturerID      0\n",
      "SupplierID          0\n",
      "LTV                 1\n",
      "SEX                 0\n",
      "AGE                 0\n",
      "MonthlyIncome      27\n",
      "City                0\n",
      "State               0\n",
      "ZiPCODE             0\n",
      "Top-up Month        0\n",
      "dtype: int64\n"
     ]
    }
   ],
   "source": [
    "print(\"NAN values count\\n\",traindf.isnull().sum(),'\\n\\n')\n",
    "print(\"Zero values Count\\n\",traindf[traindf == 0].count(axis=0))"
   ]
  },
  {
   "cell_type": "code",
   "execution_count": 208,
   "metadata": {},
   "outputs": [],
   "source": [
    "class  encoding_missing_values:\n",
    "    def __init__(self):\n",
    "        pass\n",
    "    def binary_categorical_maping(self,dataset):\n",
    "        self.dataset=dataset.copy()\n",
    "        binary_dict={'SEX':{'M':1,'F':0},'InstlmentMode':{'Advance':1,'Arrear':0},'Loan_Status':{'Closed':1,'Active':0}}\n",
    "        for col in self.dataset.columns:\n",
    "            if col in binary_dict.keys():\n",
    "                self.dataset[col]=self.dataset[col].fillna(self.dataset[col].mode()[0])\n",
    "                self.dataset[col]=self.dataset[col].map(binary_dict[col]).astype(np.int)      \n",
    "        return self.dataset\n",
    "    def missing_label_encoding(self,train_dataset,test_dataset):\n",
    "        self.train_dataset=train_dataset\n",
    "        self.test_dataset=test_dataset\n",
    "        categorical_dict={'Frequency','PaymentMode'}\n",
    "        for col in self.train_dataset.columns:\n",
    "            if col in categorical_dict:\n",
    "                union=np.union1d(np.array(self.train_dataset[col].unique()),np.array(self.test_dataset[col].unique()))\n",
    "                le=LabelEncoder()\n",
    "                le.fit(union)\n",
    "                self.train_dataset[col]=le.transform(self.train_dataset[col])\n",
    "                self.test_dataset[col]=le.transform(self.test_dataset[col])\n",
    "        return self.train_dataset,self.test_dataset\n",
    "        "
   ]
  },
  {
   "cell_type": "code",
   "execution_count": 203,
   "metadata": {},
   "outputs": [
    {
     "data": {
      "text/plain": [
       "0         0\n",
       "1         1\n",
       "2         0\n",
       "3         1\n",
       "4         0\n",
       "         ..\n",
       "128650    0\n",
       "128651    0\n",
       "128652    0\n",
       "128653    0\n",
       "128654    0\n",
       "Name: InstlmentMode, Length: 128655, dtype: int32"
      ]
     },
     "execution_count": 203,
     "metadata": {},
     "output_type": "execute_result"
    }
   ],
   "source": [
    "train_df=encoding_missing_values().binary_categorical_maping(traindf)\n",
    "# train_df\n",
    "\n",
    "train_df['InstlmentMode']\n"
   ]
  },
  {
   "cell_type": "code",
   "execution_count": 210,
   "metadata": {},
   "outputs": [],
   "source": [
    "train_df,test_df=encoding_missing_values().missing_label_encoding(traindf,testdf)"
   ]
  },
  {
   "cell_type": "code",
   "execution_count": 36,
   "metadata": {},
   "outputs": [
    {
     "name": "stdout",
     "output_type": "stream",
     "text": [
      "SEX:\t ['M' nan 'F']\n",
      "Installment_mode:\t ['Arrear' 'Advance']\n",
      "Loan Status:\t ['Closed' 'Active']\n"
     ]
    }
   ],
   "source": [
    "print('SEX:\\t',train_df['SEX'].unique())\n",
    "print('Installment_mode:\\t',train_df['InstlmentMode'].unique())\n",
    "print('Loan Status:\\t',train_df['LoanStatus'].unique())\n",
    "\n",
    "\n",
    "train_df['SEX']=train_df['SEX'].fillna(train_df['SEX'].mode()[0])\n",
    "\n",
    "train_df.SEX=train_df.SEX.map({'M':1,'F':0}).astype(np.int)\n",
    "train_df.InstlmentMode=train_df.InstlmentMode.map({'Advance':1,'Arrear':0}).astype(np.int)\n",
    "train_df.LoanStatus=train_df.LoanStatus.map({'Closed':1,'Active':0}).astype(np.int)\n",
    "\n",
    "print(train_df['SEX'].unique())\n",
    "\n",
    "print(train_df['SEX'].unique())\n",
    "print(train_df['InstlmentMode'].unique())\n",
    "print(train_df['LoanStatus'].unique())\n"
   ]
  },
  {
   "cell_type": "code",
   "execution_count": null,
   "metadata": {},
   "outputs": [],
   "source": [
    "train_df['ZiPCODE']=train_df.groupby('BranchID')['ZiPCODE'].transform(lambda x:x.fillna(x.mode()[0]))\n",
    "test_df['ZiPCODE']=test_df.groupby('BranchID')['ZiPCODE'].transform(lambda x:x.fillna(x.mode()[0]))"
   ]
  },
  {
   "cell_type": "code",
   "execution_count": null,
   "metadata": {},
   "outputs": [],
   "source": [
    "train_df['AGE']=train_df['AGE'].fillna(train_df['AGE'].median())\n",
    "data['State'] = LE.fit_transform(train_df['State'])"
   ]
  },
  {
   "cell_type": "code",
   "execution_count": 157,
   "metadata": {},
   "outputs": [
    {
     "data": {
      "text/plain": [
       "Index(['ID', 'Frequency', 'InstlmentMode', 'LoanStatus', 'PaymentMode',\n",
       "       'BranchID', 'Area', 'Tenure', 'AssetCost', 'AmountFinance',\n",
       "       'DisbursalAmount', 'EMI', 'DisbursalDate', 'MaturityDAte', 'AuthDate',\n",
       "       'AssetID', 'ManufacturerID', 'SupplierID', 'LTV', 'SEX', 'AGE',\n",
       "       'MonthlyIncome', 'City', 'State', 'ZiPCODE', 'Top-up Month'],\n",
       "      dtype='object')"
      ]
     },
     "execution_count": 157,
     "metadata": {},
     "output_type": "execute_result"
    }
   ],
   "source": [
    "train_df.columns"
   ]
  },
  {
   "cell_type": "code",
   "execution_count": 160,
   "metadata": {},
   "outputs": [
    {
     "data": {
      "text/plain": [
       "11653"
      ]
     },
     "execution_count": 160,
     "metadata": {},
     "output_type": "execute_result"
    }
   ],
   "source": [
    "train_df['Area'].isnull().sum()"
   ]
  },
  {
   "cell_type": "code",
   "execution_count": null,
   "metadata": {},
   "outputs": [],
   "source": [
    "# def label_encoding(traindf,testdf):\n",
    "#     union=np.union1d(np.array(traindf.unique()),np.array(testdf.unique()))\n",
    "#     le=LabelEncoder()\n",
    "#     le.fit(union)\n",
    "#     traindf=le.transform(traindf)\n",
    "#     testdf=le.transform(testdf)\n",
    "#     return traindf,testdf\n",
    "# train_df['BranchID']=label_encoding(train_df['BranchID'],test_df['BranchID'])\n",
    "# categorical_dict={'Frequency','PaymentMode'}\n",
    "# for col in train_df.columns:\n",
    "#     if col in categorical_dict:\n",
    "#         print([col])\n",
    "        "
   ]
  }
 ],
 "metadata": {
  "kernelspec": {
   "display_name": "Python 3",
   "language": "python",
   "name": "python3"
  },
  "language_info": {
   "codemirror_mode": {
    "name": "ipython",
    "version": 3
   },
   "file_extension": ".py",
   "mimetype": "text/x-python",
   "name": "python",
   "nbconvert_exporter": "python",
   "pygments_lexer": "ipython3",
   "version": "3.8.3"
  }
 },
 "nbformat": 4,
 "nbformat_minor": 4
}

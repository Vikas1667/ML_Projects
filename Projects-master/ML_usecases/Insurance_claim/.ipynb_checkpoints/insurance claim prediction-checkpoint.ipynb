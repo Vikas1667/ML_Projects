{
 "cells": [
  {
   "cell_type": "code",
   "execution_count": 4,
   "metadata": {},
   "outputs": [],
   "source": [
    "# !pip install matplotlib\n",
    "# !pip install seaborn\n",
    "# !pip install smogn\n",
    "\n",
    "%config Completer.use_jedi = False\n",
    "import pandas as pd\n",
    "import numpy as np\n",
    "import matplotlib.pyplot as plt\n",
    "import seaborn as sns\n",
    "from sklearn.preprocessing import MinMaxScaler\n",
    "import smogn"
   ]
  },
  {
   "cell_type": "code",
   "execution_count": 7,
   "metadata": {},
   "outputs": [],
   "source": [
    "train_data=pd.read_csv('./data/traindata.csv')\n",
    "test_df=pd.read_csv('./data/testdata.csv')\n"
   ]
  },
  {
   "cell_type": "code",
   "execution_count": 11,
   "metadata": {
    "scrolled": false
   },
   "outputs": [
    {
     "data": {
      "text/html": [
       "<div>\n",
       "<style scoped>\n",
       "    .dataframe tbody tr th:only-of-type {\n",
       "        vertical-align: middle;\n",
       "    }\n",
       "\n",
       "    .dataframe tbody tr th {\n",
       "        vertical-align: top;\n",
       "    }\n",
       "\n",
       "    .dataframe thead th {\n",
       "        text-align: right;\n",
       "    }\n",
       "</style>\n",
       "<table border=\"1\" class=\"dataframe\">\n",
       "  <thead>\n",
       "    <tr style=\"text-align: right;\">\n",
       "      <th></th>\n",
       "      <th>ID</th>\n",
       "      <th>var3</th>\n",
       "      <th>var15</th>\n",
       "      <th>imp_ent_var16_ult1</th>\n",
       "      <th>imp_op_var39_comer_ult1</th>\n",
       "      <th>imp_op_var39_comer_ult3</th>\n",
       "      <th>imp_op_var40_comer_ult1</th>\n",
       "      <th>imp_op_var40_ult1</th>\n",
       "      <th>imp_op_var41_comer_ult1</th>\n",
       "      <th>imp_op_var41_comer_ult3</th>\n",
       "      <th>...</th>\n",
       "      <th>saldo_medio_var13_medio_ult1</th>\n",
       "      <th>saldo_medio_var17_ult3</th>\n",
       "      <th>saldo_medio_var29_hace2</th>\n",
       "      <th>saldo_medio_var29_hace3</th>\n",
       "      <th>saldo_medio_var29_ult1</th>\n",
       "      <th>saldo_medio_var33_hace3</th>\n",
       "      <th>saldo_medio_var33_ult3</th>\n",
       "      <th>saldo_medio_var44_hace3</th>\n",
       "      <th>var38</th>\n",
       "      <th>TARGET</th>\n",
       "    </tr>\n",
       "  </thead>\n",
       "  <tbody>\n",
       "    <tr>\n",
       "      <th>0</th>\n",
       "      <td>142882</td>\n",
       "      <td>2</td>\n",
       "      <td>55</td>\n",
       "      <td>30.0</td>\n",
       "      <td>17.73</td>\n",
       "      <td>17.73</td>\n",
       "      <td>0.00</td>\n",
       "      <td>0.0</td>\n",
       "      <td>17.73</td>\n",
       "      <td>17.73</td>\n",
       "      <td>...</td>\n",
       "      <td>0</td>\n",
       "      <td>0.0</td>\n",
       "      <td>0.0</td>\n",
       "      <td>0.0</td>\n",
       "      <td>0.0</td>\n",
       "      <td>0.0</td>\n",
       "      <td>0.0</td>\n",
       "      <td>0.0</td>\n",
       "      <td>59375.97</td>\n",
       "      <td>2807855.303</td>\n",
       "    </tr>\n",
       "    <tr>\n",
       "      <th>1</th>\n",
       "      <td>116073</td>\n",
       "      <td>2</td>\n",
       "      <td>26</td>\n",
       "      <td>0.0</td>\n",
       "      <td>0.00</td>\n",
       "      <td>0.00</td>\n",
       "      <td>0.00</td>\n",
       "      <td>0.0</td>\n",
       "      <td>0.00</td>\n",
       "      <td>0.00</td>\n",
       "      <td>...</td>\n",
       "      <td>0</td>\n",
       "      <td>0.0</td>\n",
       "      <td>0.0</td>\n",
       "      <td>0.0</td>\n",
       "      <td>0.0</td>\n",
       "      <td>0.0</td>\n",
       "      <td>0.0</td>\n",
       "      <td>0.0</td>\n",
       "      <td>117951.42</td>\n",
       "      <td>0.000</td>\n",
       "    </tr>\n",
       "    <tr>\n",
       "      <th>2</th>\n",
       "      <td>40727</td>\n",
       "      <td>2</td>\n",
       "      <td>31</td>\n",
       "      <td>180.0</td>\n",
       "      <td>1051.86</td>\n",
       "      <td>1145.91</td>\n",
       "      <td>0.00</td>\n",
       "      <td>0.0</td>\n",
       "      <td>1051.86</td>\n",
       "      <td>1145.91</td>\n",
       "      <td>...</td>\n",
       "      <td>0</td>\n",
       "      <td>0.0</td>\n",
       "      <td>0.0</td>\n",
       "      <td>0.0</td>\n",
       "      <td>0.0</td>\n",
       "      <td>0.0</td>\n",
       "      <td>0.0</td>\n",
       "      <td>0.0</td>\n",
       "      <td>81164.61</td>\n",
       "      <td>0.000</td>\n",
       "    </tr>\n",
       "    <tr>\n",
       "      <th>3</th>\n",
       "      <td>96753</td>\n",
       "      <td>89</td>\n",
       "      <td>55</td>\n",
       "      <td>0.0</td>\n",
       "      <td>1353.03</td>\n",
       "      <td>1998.81</td>\n",
       "      <td>990.75</td>\n",
       "      <td>0.0</td>\n",
       "      <td>362.28</td>\n",
       "      <td>362.28</td>\n",
       "      <td>...</td>\n",
       "      <td>0</td>\n",
       "      <td>0.0</td>\n",
       "      <td>0.0</td>\n",
       "      <td>0.0</td>\n",
       "      <td>0.0</td>\n",
       "      <td>0.0</td>\n",
       "      <td>0.0</td>\n",
       "      <td>0.0</td>\n",
       "      <td>137912.85</td>\n",
       "      <td>0.000</td>\n",
       "    </tr>\n",
       "    <tr>\n",
       "      <th>4</th>\n",
       "      <td>105319</td>\n",
       "      <td>2</td>\n",
       "      <td>24</td>\n",
       "      <td>0.0</td>\n",
       "      <td>0.00</td>\n",
       "      <td>0.00</td>\n",
       "      <td>0.00</td>\n",
       "      <td>0.0</td>\n",
       "      <td>0.00</td>\n",
       "      <td>0.00</td>\n",
       "      <td>...</td>\n",
       "      <td>0</td>\n",
       "      <td>0.0</td>\n",
       "      <td>0.0</td>\n",
       "      <td>0.0</td>\n",
       "      <td>0.0</td>\n",
       "      <td>0.0</td>\n",
       "      <td>0.0</td>\n",
       "      <td>0.0</td>\n",
       "      <td>40407.66</td>\n",
       "      <td>0.000</td>\n",
       "    </tr>\n",
       "    <tr>\n",
       "      <th>...</th>\n",
       "      <td>...</td>\n",
       "      <td>...</td>\n",
       "      <td>...</td>\n",
       "      <td>...</td>\n",
       "      <td>...</td>\n",
       "      <td>...</td>\n",
       "      <td>...</td>\n",
       "      <td>...</td>\n",
       "      <td>...</td>\n",
       "      <td>...</td>\n",
       "      <td>...</td>\n",
       "      <td>...</td>\n",
       "      <td>...</td>\n",
       "      <td>...</td>\n",
       "      <td>...</td>\n",
       "      <td>...</td>\n",
       "      <td>...</td>\n",
       "      <td>...</td>\n",
       "      <td>...</td>\n",
       "      <td>...</td>\n",
       "      <td>...</td>\n",
       "    </tr>\n",
       "    <tr>\n",
       "      <th>13994</th>\n",
       "      <td>30124</td>\n",
       "      <td>2</td>\n",
       "      <td>28</td>\n",
       "      <td>0.0</td>\n",
       "      <td>0.00</td>\n",
       "      <td>0.00</td>\n",
       "      <td>0.00</td>\n",
       "      <td>0.0</td>\n",
       "      <td>0.00</td>\n",
       "      <td>0.00</td>\n",
       "      <td>...</td>\n",
       "      <td>0</td>\n",
       "      <td>0.0</td>\n",
       "      <td>0.0</td>\n",
       "      <td>0.0</td>\n",
       "      <td>0.0</td>\n",
       "      <td>0.0</td>\n",
       "      <td>0.0</td>\n",
       "      <td>0.0</td>\n",
       "      <td>197302.95</td>\n",
       "      <td>0.000</td>\n",
       "    </tr>\n",
       "    <tr>\n",
       "      <th>13995</th>\n",
       "      <td>77621</td>\n",
       "      <td>2</td>\n",
       "      <td>24</td>\n",
       "      <td>0.0</td>\n",
       "      <td>0.00</td>\n",
       "      <td>0.00</td>\n",
       "      <td>0.00</td>\n",
       "      <td>0.0</td>\n",
       "      <td>0.00</td>\n",
       "      <td>0.00</td>\n",
       "      <td>...</td>\n",
       "      <td>0</td>\n",
       "      <td>0.0</td>\n",
       "      <td>0.0</td>\n",
       "      <td>0.0</td>\n",
       "      <td>0.0</td>\n",
       "      <td>0.0</td>\n",
       "      <td>0.0</td>\n",
       "      <td>0.0</td>\n",
       "      <td>119817.09</td>\n",
       "      <td>0.000</td>\n",
       "    </tr>\n",
       "    <tr>\n",
       "      <th>13996</th>\n",
       "      <td>84866</td>\n",
       "      <td>2</td>\n",
       "      <td>23</td>\n",
       "      <td>0.0</td>\n",
       "      <td>0.00</td>\n",
       "      <td>0.00</td>\n",
       "      <td>0.00</td>\n",
       "      <td>0.0</td>\n",
       "      <td>0.00</td>\n",
       "      <td>0.00</td>\n",
       "      <td>...</td>\n",
       "      <td>0</td>\n",
       "      <td>0.0</td>\n",
       "      <td>0.0</td>\n",
       "      <td>0.0</td>\n",
       "      <td>0.0</td>\n",
       "      <td>0.0</td>\n",
       "      <td>0.0</td>\n",
       "      <td>0.0</td>\n",
       "      <td>116681.34</td>\n",
       "      <td>0.000</td>\n",
       "    </tr>\n",
       "    <tr>\n",
       "      <th>13997</th>\n",
       "      <td>80860</td>\n",
       "      <td>2</td>\n",
       "      <td>9</td>\n",
       "      <td>0.0</td>\n",
       "      <td>0.00</td>\n",
       "      <td>0.00</td>\n",
       "      <td>0.00</td>\n",
       "      <td>0.0</td>\n",
       "      <td>0.00</td>\n",
       "      <td>0.00</td>\n",
       "      <td>...</td>\n",
       "      <td>0</td>\n",
       "      <td>0.0</td>\n",
       "      <td>0.0</td>\n",
       "      <td>0.0</td>\n",
       "      <td>0.0</td>\n",
       "      <td>0.0</td>\n",
       "      <td>0.0</td>\n",
       "      <td>0.0</td>\n",
       "      <td>184301.91</td>\n",
       "      <td>0.000</td>\n",
       "    </tr>\n",
       "    <tr>\n",
       "      <th>13998</th>\n",
       "      <td>9460</td>\n",
       "      <td>2</td>\n",
       "      <td>25</td>\n",
       "      <td>0.0</td>\n",
       "      <td>0.00</td>\n",
       "      <td>0.00</td>\n",
       "      <td>0.00</td>\n",
       "      <td>0.0</td>\n",
       "      <td>0.00</td>\n",
       "      <td>0.00</td>\n",
       "      <td>...</td>\n",
       "      <td>0</td>\n",
       "      <td>0.0</td>\n",
       "      <td>0.0</td>\n",
       "      <td>0.0</td>\n",
       "      <td>0.0</td>\n",
       "      <td>0.0</td>\n",
       "      <td>0.0</td>\n",
       "      <td>0.0</td>\n",
       "      <td>67896.00</td>\n",
       "      <td>0.000</td>\n",
       "    </tr>\n",
       "  </tbody>\n",
       "</table>\n",
       "<p>13999 rows × 215 columns</p>\n",
       "</div>"
      ],
      "text/plain": [
       "           ID  var3  var15  imp_ent_var16_ult1  imp_op_var39_comer_ult1  \\\n",
       "0      142882     2     55                30.0                    17.73   \n",
       "1      116073     2     26                 0.0                     0.00   \n",
       "2       40727     2     31               180.0                  1051.86   \n",
       "3       96753    89     55                 0.0                  1353.03   \n",
       "4      105319     2     24                 0.0                     0.00   \n",
       "...       ...   ...    ...                 ...                      ...   \n",
       "13994   30124     2     28                 0.0                     0.00   \n",
       "13995   77621     2     24                 0.0                     0.00   \n",
       "13996   84866     2     23                 0.0                     0.00   \n",
       "13997   80860     2      9                 0.0                     0.00   \n",
       "13998    9460     2     25                 0.0                     0.00   \n",
       "\n",
       "       imp_op_var39_comer_ult3  imp_op_var40_comer_ult1  imp_op_var40_ult1  \\\n",
       "0                        17.73                     0.00                0.0   \n",
       "1                         0.00                     0.00                0.0   \n",
       "2                      1145.91                     0.00                0.0   \n",
       "3                      1998.81                   990.75                0.0   \n",
       "4                         0.00                     0.00                0.0   \n",
       "...                        ...                      ...                ...   \n",
       "13994                     0.00                     0.00                0.0   \n",
       "13995                     0.00                     0.00                0.0   \n",
       "13996                     0.00                     0.00                0.0   \n",
       "13997                     0.00                     0.00                0.0   \n",
       "13998                     0.00                     0.00                0.0   \n",
       "\n",
       "       imp_op_var41_comer_ult1  imp_op_var41_comer_ult3  ...  \\\n",
       "0                        17.73                    17.73  ...   \n",
       "1                         0.00                     0.00  ...   \n",
       "2                      1051.86                  1145.91  ...   \n",
       "3                       362.28                   362.28  ...   \n",
       "4                         0.00                     0.00  ...   \n",
       "...                        ...                      ...  ...   \n",
       "13994                     0.00                     0.00  ...   \n",
       "13995                     0.00                     0.00  ...   \n",
       "13996                     0.00                     0.00  ...   \n",
       "13997                     0.00                     0.00  ...   \n",
       "13998                     0.00                     0.00  ...   \n",
       "\n",
       "       saldo_medio_var13_medio_ult1  saldo_medio_var17_ult3  \\\n",
       "0                                 0                     0.0   \n",
       "1                                 0                     0.0   \n",
       "2                                 0                     0.0   \n",
       "3                                 0                     0.0   \n",
       "4                                 0                     0.0   \n",
       "...                             ...                     ...   \n",
       "13994                             0                     0.0   \n",
       "13995                             0                     0.0   \n",
       "13996                             0                     0.0   \n",
       "13997                             0                     0.0   \n",
       "13998                             0                     0.0   \n",
       "\n",
       "       saldo_medio_var29_hace2  saldo_medio_var29_hace3  \\\n",
       "0                          0.0                      0.0   \n",
       "1                          0.0                      0.0   \n",
       "2                          0.0                      0.0   \n",
       "3                          0.0                      0.0   \n",
       "4                          0.0                      0.0   \n",
       "...                        ...                      ...   \n",
       "13994                      0.0                      0.0   \n",
       "13995                      0.0                      0.0   \n",
       "13996                      0.0                      0.0   \n",
       "13997                      0.0                      0.0   \n",
       "13998                      0.0                      0.0   \n",
       "\n",
       "       saldo_medio_var29_ult1  saldo_medio_var33_hace3  \\\n",
       "0                         0.0                      0.0   \n",
       "1                         0.0                      0.0   \n",
       "2                         0.0                      0.0   \n",
       "3                         0.0                      0.0   \n",
       "4                         0.0                      0.0   \n",
       "...                       ...                      ...   \n",
       "13994                     0.0                      0.0   \n",
       "13995                     0.0                      0.0   \n",
       "13996                     0.0                      0.0   \n",
       "13997                     0.0                      0.0   \n",
       "13998                     0.0                      0.0   \n",
       "\n",
       "       saldo_medio_var33_ult3  saldo_medio_var44_hace3      var38       TARGET  \n",
       "0                         0.0                      0.0   59375.97  2807855.303  \n",
       "1                         0.0                      0.0  117951.42        0.000  \n",
       "2                         0.0                      0.0   81164.61        0.000  \n",
       "3                         0.0                      0.0  137912.85        0.000  \n",
       "4                         0.0                      0.0   40407.66        0.000  \n",
       "...                       ...                      ...        ...          ...  \n",
       "13994                     0.0                      0.0  197302.95        0.000  \n",
       "13995                     0.0                      0.0  119817.09        0.000  \n",
       "13996                     0.0                      0.0  116681.34        0.000  \n",
       "13997                     0.0                      0.0  184301.91        0.000  \n",
       "13998                     0.0                      0.0   67896.00        0.000  \n",
       "\n",
       "[13999 rows x 215 columns]"
      ]
     },
     "execution_count": 11,
     "metadata": {},
     "output_type": "execute_result"
    }
   ],
   "source": [
    "train_data\n",
    "   "
   ]
  },
  {
   "cell_type": "code",
   "execution_count": 9,
   "metadata": {},
   "outputs": [
    {
     "data": {
      "text/plain": [
       "<matplotlib.axes._subplots.AxesSubplot at 0x24ec1c771c0>"
      ]
     },
     "execution_count": 9,
     "metadata": {},
     "output_type": "execute_result"
    },
    {
     "data": {
      "image/png": "[encoded data removed]",
      "text/plain": [
       "<Figure size 1008x360 with 1 Axes>"
      ]
     },
     "metadata": {
      "needs_background": "light"
     },
     "output_type": "display_data"
    }
   ],
   "source": [
    "train_data.describe()\n",
    "zero_count=(train_data == 0).astype(int).sum(axis=0)\n",
    "zero_count.plot(figsize=(14,5),kind='bar')\n"
   ]
  },
  {
   "cell_type": "code",
   "execution_count": 10,
   "metadata": {
    "scrolled": false
   },
   "outputs": [
    {
     "name": "stdout",
     "output_type": "stream",
     "text": [
      "<class 'pandas.core.frame.DataFrame'>\n",
      "RangeIndex: 13999 entries, 0 to 13998\n",
      "Columns: 215 entries, ID to TARGET\n",
      "dtypes: float64(60), int64(155)\n",
      "memory usage: 23.0 MB\n"
     ]
    }
   ],
   "source": [
    "train_data.info()\n"
   ]
  },
  {
   "cell_type": "code",
   "execution_count": null,
   "metadata": {
    "scrolled": true
   },
   "outputs": [],
   "source": [
    "def remove_dot_zeros_from_df(df):\n",
    "    df=df.astype(object)\n",
    "#     df=df.loc[:, (train_data != 0).any(axis=0)]  ### to remove columns containing all zeros\n",
    "    df = train_data.loc[:, (train_data==0).mean() < .7]   #Drop columns with more than 70% zeros\n",
    "    return df    \n",
    "\n",
    "train_df=remove_dot_zeros_from_df(train_data)"
   ]
  },
  {
   "cell_type": "code",
   "execution_count": null,
   "metadata": {},
   "outputs": [],
   "source": [
    "train_df['TARGET']=train_data['TARGET']\n"
   ]
  },
  {
   "cell_type": "code",
   "execution_count": null,
   "metadata": {},
   "outputs": [],
   "source": [
    "train_df"
   ]
  },
  {
   "cell_type": "code",
   "execution_count": null,
   "metadata": {
    "scrolled": true
   },
   "outputs": [],
   "source": [
    "print('Non_zero values\\n',train_df.astype(bool).sum(axis=0),'\\n')\n",
    "print('Zero\\n',(train_df == 0).astype(int).sum(axis=0),'\\n')\n"
   ]
  },
  {
   "cell_type": "code",
   "execution_count": null,
   "metadata": {
    "scrolled": true
   },
   "outputs": [],
   "source": [
    "# from IPython.display import IFrame\n",
    "# wiki=IFrame('https://en.wikipedia.org/wiki/Pearson_correlation_coefficient',width=1000,height=400)\n",
    "# display(wiki)\n",
    "# features_df = train_data.loc[:, (train_data==0).mean() < .7]   #Drop columns with more than 70% zeros\n",
    "# features_df['TARGET']=train_df['TARGET']\n",
    "# features_df=features_df.astype(object)\n",
    "# features_df\n"
   ]
  },
  {
   "cell_type": "code",
   "execution_count": null,
   "metadata": {},
   "outputs": [],
   "source": [
    "plt.figure(figsize=(25,15)) \n",
    "sns.heatmap(train_df.corr(), annot=True,cmap=\"YlGnBu\")\n",
    "# sns.pairplot(features_df,height=1.3)"
   ]
  },
  {
   "cell_type": "code",
   "execution_count": null,
   "metadata": {},
   "outputs": [],
   "source": [
    "X_wo_smogn=train_df.iloc[:,:-1]\n",
    "y_wo_smogn=train_df.iloc[:,-1]\n",
    "\n"
   ]
  },
  {
   "cell_type": "code",
   "execution_count": null,
   "metadata": {},
   "outputs": [],
   "source": [
    "from sklearn.ensemble import RandomForestRegressor\n",
    "regressor = RandomForestRegressor(n_estimators = 200, random_state = 0)\n",
    "regressor.fit(X_wo_smogn, y_wo_smogn)\n"
   ]
  },
  {
   "cell_type": "code",
   "execution_count": null,
   "metadata": {},
   "outputs": [],
   "source": [
    "intersection_columns=X_wo_smogn.columns & test_df.columns\n",
    "X_test_data=test_df[intersection_columns]\n",
    "\n",
    "# print('features_Test_samples',X_test_data.shape)\n",
    "\n",
    "y_pred = regressor.predict(X_test_data)\n",
    "regressor.score(X_wo_smogn,y_wo_smogn)"
   ]
  },
  {
   "cell_type": "code",
   "execution_count": null,
   "metadata": {},
   "outputs": [],
   "source": [
    "def mean_absolute_percentage_error(y_true, y_pred): \n",
    "    y_true, y_pred = np.array(y_true), np.array(y_pred)\n",
    "    return np.mean(np.abs((y_true - y_pred) / y_true)) * 100\n",
    "# mean_absolute_percentage_error(y_wo_smogn,y_pred)"
   ]
  },
  {
   "cell_type": "code",
   "execution_count": null,
   "metadata": {
    "scrolled": true
   },
   "outputs": [],
   "source": [
    "# print(train_df['TARGET'].value_counts())\n",
    "# # tf=train_df.cumsum()\n",
    "# train_df['TARGET'].plot(kind='line')\n",
    "# train_df[train_df['TARGET'].min(axis=0) > 0.03].loc[:, COL_HOME].min(axis=1)\n"
   ]
  },
  {
   "cell_type": "markdown",
   "metadata": {},
   "source": [
    "### Synthetic Minority Over-Sampling Technique for Regression with Gaussian Noise(SMOGN)\n",
    "A Python implementation of Synthetic Minority Over-Sampling Technique for Regression with Gaussian Noise (SMOGN). Conducts the Synthetic Minority Over-Sampling Technique for Regression (SMOTER) with traditional interpolation, as well as with the introduction of Gaussian Noise (SMOTER-GN). Selects between the two over-sampling techniques by the KNN distances underlying a given observation. If the distance is close enough, SMOTER is applied. If too far away, SMOTER-GN is applied. Useful for prediction problems where regression is applicable, but the values in the interest of predicting are rare or uncommon. This can also serve as a useful alternative to log transforming a skewed response variable, especially if generating synthetic data is also of interest."
   ]
  },
  {
   "cell_type": "code",
   "execution_count": null,
   "metadata": {},
   "outputs": [],
   "source": [
    "rg_mtrx_1 = [\n",
    "    [4000000,  1, 0],  ## over-sample (\"minority\")\n",
    "    [8000000, 0, 0],  ## under-sample (\"majority\")\n",
    "    [1200000, 0, 0],  ## under-sample\n",
    "    [2500000, 0, 0],  ## under-sample\n",
    "]\n",
    "train_df_smogn_1=smogn.smoter(train_df,y='TARGET',k=7,samp_method='balance',pert=0.04,rel_thres = 0.10,rel_method = 'manual',rel_ctrl_pts_rg = rg_mtrx_1)"
   ]
  },
  {
   "cell_type": "code",
   "execution_count": null,
   "metadata": {
    "scrolled": true
   },
   "outputs": [],
   "source": [
    "# print(list((train_df == 0).astype(int).sum(axis=0)))\n",
    "# train_df_smogn_1=train_df_smogn_1.astype(object)\n",
    "# print('Zero\\n',(train_df == 0).astype(int).sum(axis=0),'\\n')\n",
    "# print('Zero\\n',(train_df_smogn_1 == 0).astype(int).sum(axis=0),'\\n')\n",
    "\n",
    "zero_count=(train_df == 0).astype(int).sum(axis=0)\n",
    "zero_count.plot(figsize=(14,5),kind='bar')\n",
    "zero_cnt=(train_df_smogn_1 == 0).astype(int).sum(axis=0)\n",
    "zero_cnt.plot(figsize=(14,5),kind='bar')\n"
   ]
  },
  {
   "cell_type": "code",
   "execution_count": null,
   "metadata": {},
   "outputs": [],
   "source": [
    "# train_df_masked=train_df.mask(train_df==0).fillna(train_df.median())\n",
    "# train_df_masked.head()\n",
    "train_df_smogn_1.shape"
   ]
  },
  {
   "cell_type": "code",
   "execution_count": null,
   "metadata": {},
   "outputs": [],
   "source": [
    "X=train_df_smogn_1.iloc[:,:-1]\n",
    "y=train_df_smogn_1.iloc[:,-1]\n"
   ]
  },
  {
   "cell_type": "code",
   "execution_count": null,
   "metadata": {},
   "outputs": [],
   "source": [
    "from sklearn.ensemble import RandomForestRegressor\n",
    "from sklearn.model_selection import train_test_split\n",
    "from sklearn.preprocessing import StandardScaler"
   ]
  },
  {
   "cell_type": "code",
   "execution_count": null,
   "metadata": {},
   "outputs": [],
   "source": [
    "regressor = RandomForestRegressor(n_estimators = 200, random_state = 0)\n",
    "regressor.fit(X, y)\n",
    "regressor.score(X,y)"
   ]
  },
  {
   "cell_type": "code",
   "execution_count": null,
   "metadata": {},
   "outputs": [],
   "source": [
    "# Predicting a new result\n",
    "y_pred = regressor.predict(X_test_data)\n",
    "print('Predicted_score',y_pred.shape)\n",
    "\n"
   ]
  },
  {
   "cell_type": "code",
   "execution_count": null,
   "metadata": {},
   "outputs": [],
   "source": [
    "\n",
    "# !pip install sklearn\n",
    "X_train, X_test, y_train, y_test = train_test_split(X, y, test_size = 0.2, random_state = 30)\n",
    "# creating a standard scaler\n",
    "sc = StandardScaler()\n",
    "\n",
    "# feeding independents sets into the standard scaler\n",
    "X_train = sc.fit_transform(X_train)\n",
    "X_test = sc.fit_transform(X_test)\n",
    "regressor = RandomForestRegressor(n_estimators = 200)\n",
    "regressor.fit(X_train, y_train)\n",
    "y_pred = regressor.predict(X_test)\n",
    "regressor.score(X_train,y_train)"
   ]
  },
  {
   "cell_type": "code",
   "execution_count": null,
   "metadata": {},
   "outputs": [],
   "source": [
    "predicted_values=regressor.predict(X_test_data)\n",
    "predicted_values"
   ]
  },
  {
   "cell_type": "code",
   "execution_count": null,
   "metadata": {},
   "outputs": [],
   "source": [
    "test_df['Predicted_Amount']=predicted_values"
   ]
  },
  {
   "cell_type": "code",
   "execution_count": null,
   "metadata": {},
   "outputs": [],
   "source": [
    "test_df.to_csv('../Datasets/Predicted_amount.csv')"
   ]
  },
  {
   "cell_type": "code",
   "execution_count": null,
   "metadata": {},
   "outputs": [],
   "source": []
  }
 ],
 "metadata": {
  "kernelspec": {
   "display_name": "Python 3",
   "language": "python",
   "name": "python3"
  },
  "language_info": {
   "codemirror_mode": {
    "name": "ipython",
    "version": 3
   },
   "file_extension": ".py",
   "mimetype": "text/x-python",
   "name": "python",
   "nbconvert_exporter": "python",
   "pygments_lexer": "ipython3",
   "version": "3.8.3"
  }
 },
 "nbformat": 4,
 "nbformat_minor": 4
}

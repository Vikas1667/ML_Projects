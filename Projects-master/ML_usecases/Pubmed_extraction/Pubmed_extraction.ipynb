{
 "cells": [
  {
   "cell_type": "code",
   "execution_count": 13,
   "metadata": {},
   "outputs": [],
   "source": [
    "from tqdm import tqdm"
   ]
  },
  {
   "cell_type": "code",
   "execution_count": 16,
   "metadata": {},
   "outputs": [],
   "source": [
    "import requests\n",
    "from bs4 import BeautifulSoup as bs\n",
    "import json\n",
    "API_KEY = \"9446fd13127051ca7343c2018204779d8007\"\n",
    "keyword = \"covid19\"\n",
    "esearch = \"https://eutils.ncbi.nlm.nih.gov/entrez/eutils/esearch.fcgi?db=pubmed&term=\"\n",
    "#covid19&usehistory=true&webenv=true&retmax=10&api_key=9446fd13127051ca7343c2018204779d8007\"\n",
    "search_resp = requests.get(esearch+keyword+\"&usehistory=true&webenv=true\"+\"api_key=\"+API_KEY)\n",
    "search_soup = bs(search_resp.content,features=\"lxml\")\n",
    "webenv = search_soup.find(\"webenv\").text\n",
    "#count = search_soup.find(\"count\").text\n",
    "count =10\n",
    "batch_size = 2\n",
    "batches = []\n"
   ]
  },
  {
   "cell_type": "code",
   "execution_count": 18,
   "metadata": {},
   "outputs": [
    {
     "name": "stderr",
     "output_type": "stream",
     "text": [
      "  0%|                                                                                            | 0/5 [00:00<?, ?it/s]\n",
      "  0%|                                                                                         | 0/2000 [00:00<?, ?it/s]\u001b[A\n",
      "  8%|█████▉                                                                       | 153/2000 [00:00<00:01, 1529.65it/s]\u001b[A\n",
      " 15%|███████████▊                                                                 | 308/2000 [00:00<00:01, 1531.22it/s]\u001b[A\n",
      " 24%|██████████████████▌                                                          | 482/2000 [00:00<00:00, 1584.02it/s]\u001b[A\n",
      " 31%|███████████████████████▌                                                     | 611/2000 [00:00<00:00, 1482.64it/s]\u001b[A\n",
      " 38%|█████████████████████████████▏                                               | 759/2000 [00:00<00:00, 1477.46it/s]\u001b[A\n",
      " 51%|██████████████████████████████████████▊                                     | 1023/2000 [00:00<00:00, 1543.00it/s]\u001b[A\n",
      " 20%|████████████████▊                                                                   | 1/5 [00:45<03:01, 45.49s/it]"
     ]
    },
    {
     "name": "stdout",
     "output_type": "stream",
     "text": [
      "[{}, {}, {}]\n",
      "<------------------------------------------------------------------------------------------------>\n"
     ]
    },
    {
     "name": "stderr",
     "output_type": "stream",
     "text": [
      "\n",
      "  0%|                                                                                         | 0/2000 [00:00<?, ?it/s]\u001b[A\n",
      "  8%|█████▊                                                                       | 150/2000 [00:00<00:01, 1487.43it/s]\u001b[A\n",
      " 16%|████████████▏                                                                | 318/2000 [00:00<00:01, 1538.63it/s]\u001b[A\n",
      " 24%|██████████████████▏                                                          | 474/2000 [00:00<00:00, 1543.76it/s]\u001b[A\n",
      " 30%|███████████████████████▎                                                     | 604/2000 [00:00<00:00, 1456.07it/s]\u001b[A\n",
      " 38%|█████████████████████████████                                                | 754/2000 [00:00<00:00, 1464.74it/s]\u001b[A\n",
      " 51%|██████████████████████████████████████▊                                     | 1021/2000 [00:00<00:00, 1522.15it/s]\u001b[A\n",
      " 40%|█████████████████████████████████▌                                                  | 2/5 [01:36<02:21, 47.16s/it]"
     ]
    },
    {
     "name": "stdout",
     "output_type": "stream",
     "text": [
      "[{}, {}, {}, {}]\n",
      "<------------------------------------------------------------------------------------------------>\n"
     ]
    },
    {
     "name": "stderr",
     "output_type": "stream",
     "text": [
      "\n",
      "  0%|                                                                                         | 0/2000 [00:00<?, ?it/s]\u001b[A\n",
      "  8%|█████▉                                                                       | 155/2000 [00:00<00:01, 1519.36it/s]\u001b[A\n",
      " 16%|████████████▎                                                                | 319/2000 [00:00<00:01, 1549.34it/s]\u001b[A\n",
      " 24%|██████████████████▋                                                          | 484/2000 [00:00<00:00, 1575.77it/s]\u001b[A\n",
      " 31%|███████████████████████▋                                                     | 614/2000 [00:00<00:00, 1476.44it/s]\u001b[A\n",
      " 38%|█████████████████████████████▍                                               | 766/2000 [00:00<00:00, 1489.22it/s]\u001b[A\n",
      " 51%|██████████████████████████████████████▋                                     | 1019/2000 [00:00<00:00, 1535.70it/s]\u001b[A\n",
      " 60%|██████████████████████████████████████████████████▍                                 | 3/5 [02:18<01:31, 45.57s/it]"
     ]
    },
    {
     "name": "stdout",
     "output_type": "stream",
     "text": [
      "[{}, {}, {}, {}, {}]\n",
      "<------------------------------------------------------------------------------------------------>\n"
     ]
    },
    {
     "name": "stderr",
     "output_type": "stream",
     "text": [
      "\n",
      "  0%|                                                                                         | 0/2000 [00:00<?, ?it/s]\u001b[A\n",
      "  7%|█████▋                                                                       | 148/2000 [00:00<00:01, 1479.38it/s]\u001b[A\n",
      " 16%|███████████▉                                                                 | 310/2000 [00:00<00:01, 1518.80it/s]\u001b[A\n",
      " 24%|██████████████████▍                                                          | 478/2000 [00:00<00:00, 1563.72it/s]\u001b[A\n",
      " 30%|███████████████████████▏                                                     | 603/2000 [00:00<00:00, 1454.02it/s]\u001b[A\n",
      " 38%|████████████████████████████▉                                                | 750/2000 [00:00<00:00, 1458.53it/s]\u001b[A\n",
      " 51%|██████████████████████████████████████▋                                     | 1017/2000 [00:00<00:00, 1528.72it/s]\u001b[A\n",
      " 80%|███████████████████████████████████████████████████████████████████▏                | 4/5 [03:01<00:44, 44.85s/it]"
     ]
    },
    {
     "name": "stdout",
     "output_type": "stream",
     "text": [
      "[{}, {}, {}, {}, {}, {}]\n",
      "<------------------------------------------------------------------------------------------------>\n"
     ]
    },
    {
     "name": "stderr",
     "output_type": "stream",
     "text": [
      "\n",
      "  0%|                                                                                         | 0/2000 [00:00<?, ?it/s]\u001b[A\n",
      "  8%|█████▊                                                                       | 151/2000 [00:00<00:01, 1495.15it/s]\u001b[A\n",
      " 16%|████████████▎                                                                | 320/2000 [00:00<00:01, 1548.71it/s]\u001b[A\n",
      " 24%|██████████████████▌                                                          | 481/2000 [00:00<00:00, 1566.51it/s]\u001b[A\n",
      " 30%|███████████████████████▍                                                     | 610/2000 [00:00<00:00, 1466.95it/s]\u001b[A\n",
      " 38%|█████████████████████████████▎                                               | 761/2000 [00:00<00:00, 1475.27it/s]\u001b[A\n",
      " 51%|██████████████████████████████████████▌                                     | 1015/2000 [00:00<00:00, 1529.83it/s]\u001b[A\n",
      "100%|████████████████████████████████████████████████████████████████████████████████████| 5/5 [03:44<00:00, 44.95s/it]"
     ]
    },
    {
     "name": "stdout",
     "output_type": "stream",
     "text": [
      "[{}, {}, {}, {}, {}, {}, {}]\n",
      "<------------------------------------------------------------------------------------------------>\n"
     ]
    },
    {
     "name": "stderr",
     "output_type": "stream",
     "text": [
      "\n"
     ]
    }
   ],
   "source": [
    "for batch in tqdm(range(0,int(count),2)):\n",
    "    efetch = \"https://eutils.ncbi.nlm.nih.gov/entrez/eutils/efetch.fcgi?db=pubmed&query_key=1&webenv=\"    \n",
    "    fetch_resp = requests.get(efetch+webenv+\"&rettype=xml&api_key=\"+API_KEY+\"&retmode=xml&retmax=2000&retstart=\"+str(batch))\n",
    "    fetch_soup = bs(fetch_resp.content,features=\"lxml\")\n",
    "    articles_list = []\n",
    "    PubmedArticleSet = fetch_soup.find(\"pubmedarticleset\")\n",
    "    articles = PubmedArticleSet.find_all(\"pubmedarticle\")\n",
    "    for article in tqdm(articles):\n",
    "        article_dict = {}\n",
    "        title = article.find(\"articletitle\").text        \n",
    "        pmid = article.find(\"pmid\").text    \n",
    "        authors =  article.find(\"authorlist\")\n",
    "        \n",
    "        author_list = []\n",
    "        try:\n",
    "            author_l = authors.find_all(\"author\")\n",
    "        except AttributeError:\n",
    "            break        \n",
    "        for auth in author_l:\n",
    "            author_dict = {}\n",
    "            try:\n",
    "                first_name = auth.find(\"forename\").text            \n",
    "            except:\n",
    "                first_name = \"\"            \n",
    "            try:\n",
    "                second_name = auth.find(\"lastname\").text            \n",
    "            except:\n",
    "                second_name = \"\"           \n",
    "            try:\n",
    "                initials = auth.find(\"initials\").text           \n",
    "            except:\n",
    "                initials = \"\"            \n",
    "            author_name = initials+\" \" +first_name +\" \"+second_name            \n",
    "            try:\n",
    "                affiliation = auth.find(\"affiliation\").text            \n",
    "            except:\n",
    "                affiliation = \"\"            \n",
    "            author_dict[\"author_name\"] = author_name            \n",
    "            author_dict[\"affiliation\"] = affiliation            \n",
    "            author_list.append(author_dict)\n",
    "        article_dict[\"title\"] = title        \n",
    "        article_dict[\"pmid\"] = pmid        \n",
    "        article_dict[\"author\"] = author_list    \n",
    "    batches.append(article_dict)\n",
    "    print(batches)\n",
    "    print(\"<------------------------------------------------------------------------------------------------>\")\n",
    "    "
   ]
  },
  {
   "cell_type": "code",
   "execution_count": 15,
   "metadata": {},
   "outputs": [
    {
     "name": "stdout",
     "output_type": "stream",
     "text": [
      "[{}]\n"
     ]
    }
   ],
   "source": [
    "print(batches)"
   ]
  },
  {
   "cell_type": "code",
   "execution_count": null,
   "metadata": {},
   "outputs": [],
   "source": []
  }
 ],
 "metadata": {
  "kernelspec": {
   "display_name": "Python 3",
   "language": "python",
   "name": "python3"
  },
  "language_info": {
   "codemirror_mode": {
    "name": "ipython",
    "version": 3
   },
   "file_extension": ".py",
   "mimetype": "text/x-python",
   "name": "python",
   "nbconvert_exporter": "python",
   "pygments_lexer": "ipython3",
   "version": "3.8.3"
  }
 },
 "nbformat": 4,
 "nbformat_minor": 4
}

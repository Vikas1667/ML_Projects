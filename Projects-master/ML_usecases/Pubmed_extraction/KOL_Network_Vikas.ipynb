{
 "cells": [
  {
   "cell_type": "markdown",
   "id": "c3318aad",
   "metadata": {},
   "source": [
    "# Author_Coauthor_Network\n"
   ]
  },
  {
   "cell_type": "markdown",
   "id": "7923b006",
   "metadata": {},
   "source": [
    "# The code contain three module\n",
    " 1. Extraction of PubMed Data from NCBI's PubMed DB\n",
    " 2. Calculat the Weight of the network\n",
    " 3. Vizulaization of the coauthor Network\n",
    " "
   ]
  },
  {
   "cell_type": "markdown",
   "id": "6e86cdf1",
   "metadata": {},
   "source": [
    "## Extraction Process"
   ]
  },
  {
   "cell_type": "code",
   "execution_count": null,
   "id": "3065c7ee",
   "metadata": {},
   "outputs": [],
   "source": [
    "import requests\n",
    "from bs4 import BeautifulSoup as bs\n",
    "import json\n",
    "\n",
    "API_KEY = \"9446fd13127051ca7343c2018204779d8007\"\n",
    "keyword = \"covid19\"\n",
    "\n",
    "\n",
    "esearch = \"https://eutils.ncbi.nlm.nih.gov/entrez/eutils/esearch.fcgi?db=pubmed&term=\"\n",
    "#covid19&usehistory=true&webenv=true&retmax=10&api_key=9446fd13127051ca7343c2018204779d8007\"\n",
    "\n",
    "search_resp = requests.get(esearch+keyword+\"&usehistory=true&webenv=true\"+\"api_key=\"+API_KEY)\n",
    "search_soup = bs(search_resp.content,features=\"lxml\")\n",
    "webenv = search_soup.find(\"webenv\").text\n",
    "#count = search_soup.find(\"count\").text\n",
    "count =100\n",
    "batch_size = 5\n",
    "batches = []\n",
    "for batch in range(0,int(count),5):\n",
    "    efetch = \"https://eutils.ncbi.nlm.nih.gov/entrez/eutils/efetch.fcgi?db=pubmed&query_key=1&webenv=\"    \n",
    "    fetch_resp = requests.get(efetch+webenv+\"&rettype=xml&api_key=\"+API_KEY+\"&retmode=xml&retmax=2000&retstart=\"+str(batch))\n",
    "    fetch_soup = bs(fetch_resp.content,features=\"lxml\")\n",
    "    articles_list = []\n",
    "    PubmedArticleSet = fetch_soup.find(\"pubmedarticleset\")\n",
    "    articles = PubmedArticleSet.find_all(\"pubmedarticle\")\n",
    "    for article in articles:\n",
    "        article_dict = {}\n",
    "        title = article.find(\"articletitle\").text        \n",
    "        pmid = article.find(\"pmid\").text    \n",
    "        \n",
    "        authors =  article.find(\"authorlist\")\n",
    "        author_list = []\n",
    "        try:\n",
    "            author_l = authors.find_all(\"author\")\n",
    "        except AttributeError:\n",
    "            break        \n",
    "            \n",
    "        for auth in author_l:\n",
    "            author_dict = {}\n",
    "            try:\n",
    "                first_name = auth.find(\"forename\").text            \n",
    "            except:\n",
    "                first_name = \"\"            \n",
    "            try:\n",
    "                second_name = auth.find(\"lastname\").text            \n",
    "            except:\n",
    "                second_name = \"\"           \n",
    "            try:\n",
    "                initials = auth.find(\"initials\").text           \n",
    "            except:\n",
    "                initials = \"\"            \n",
    "                \n",
    "            author_name = initials+\" \" +first_name +\" \"+second_name            \n",
    "            try:\n",
    "                affiliation = auth.find(\"affiliation\").text            \n",
    "            except:\n",
    "                affiliation = \"\"            \n",
    "            author_dict[\"author_name\"] = author_name            \n",
    "            author_dict[\"affiliation\"] = affiliation            \n",
    "            author_list.append(author_dict)\n",
    "        article_dict[\"title\"] = title        \n",
    "        article_dict[\"pmid\"] = pmid        \n",
    "        article_dict[\"author\"] = author_list    \n",
    "    batches.append(article_dict)\n",
    "    print(batches)\n",
    "    print(\"<------------------------------------------------------------------------------------------------>\")"
   ]
  },
  {
   "cell_type": "markdown",
   "id": "646ebfe7",
   "metadata": {},
   "source": [
    "## Weight Calulation"
   ]
  },
  {
   "cell_type": "code",
   "execution_count": null,
   "id": "4d724680",
   "metadata": {},
   "outputs": [],
   "source": [
    "import pandas as pd\n",
    "df = pd.DataFrame(batches)\n",
    "df.columns = ['title', 'pmid', 'author']\n",
    "df"
   ]
  },
  {
   "cell_type": "code",
   "execution_count": null,
   "id": "3ba79180",
   "metadata": {},
   "outputs": [],
   "source": [
    "#ref:https://stackoverflow.com/questions/63875682/pandas-dataframe-splitting-a-column-with-dict-values-into-columns\n",
    "#  explode the list\n",
    "df = df.explode('author').reset_index(drop=True)\n",
    "\n",
    "# now fill the NaN with an empty dict\n",
    "df.author = df.author.fillna({i: {} for i in df.index})\n",
    "\n",
    "# then normalize the column\n",
    "df = df.join(pd.json_normalize(df.author))\n",
    "\n",
    "# drop the column\n",
    "df.drop(columns=['author'], inplace=True)\n",
    "df"
   ]
  },
  {
   "cell_type": "code",
   "execution_count": null,
   "id": "1d4d9d6b",
   "metadata": {},
   "outputs": [],
   "source": [
    "def sort():\n",
    "    b,n,k,l=[],[],[],[]\n",
    "    x=0\n",
    "    for i in range(0,5):\n",
    "        if x==0:\n",
    "            b.append(df['author_name'][i])\n",
    "            n.append(df['affiliation'][i])\n",
    "            t=df['pmid'][i]\n",
    "            x+=1\n",
    "        #print(x,t)\n",
    "        elif x!=0 and t==df['pmid'][i]:\n",
    "            k.append(df['author_name'][i])\n",
    "            l.append(df['affiliation'][i])\n",
    "        \n",
    "    return b,n,k,l\n",
    "b,n,k,l=sort()"
   ]
  },
  {
   "cell_type": "code",
   "execution_count": null,
   "id": "f9bd4758",
   "metadata": {},
   "outputs": [],
   "source": [
    "pm = df['pmid']\n",
    "c = pd.DataFrame(b, columns=['First_Author'])\n",
    "s = pd.DataFrame(n, columns=['First_Author\\'s Affiliation'])\n",
    "u = pd.DataFrame(k, columns=['Co-Author'])\n",
    "q = pd.DataFrame(l, columns=['Co_Author\\'s Affiliation'])\n",
    "sep_author =pd.concat([pm,c,s,u,q],axis=1, join='inner')"
   ]
  },
  {
   "cell_type": "code",
   "execution_count": null,
   "id": "8a549da3",
   "metadata": {},
   "outputs": [],
   "source": [
    "sep_author"
   ]
  }
 ],
 "metadata": {
  "kernelspec": {
   "display_name": "Python 3",
   "language": "python",
   "name": "python3"
  },
  "language_info": {
   "codemirror_mode": {
    "name": "ipython",
    "version": 3
   },
   "file_extension": ".py",
   "mimetype": "text/x-python",
   "name": "python",
   "nbconvert_exporter": "python",
   "pygments_lexer": "ipython3",
   "version": "3.8.8"
  }
 },
 "nbformat": 4,
 "nbformat_minor": 5
}

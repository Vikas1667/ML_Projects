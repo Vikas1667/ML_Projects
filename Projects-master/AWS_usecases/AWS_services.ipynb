{
 "cells": [
  {
   "cell_type": "markdown",
   "metadata": {},
   "source": [
    "### AWS Lambda\n",
    "https://www.youtube.com/watch?v=EBSdyoO3goc\n",
    "\n",
    "4 guildine\n",
    "1. no server for provision and maintainence\n",
    "2. scale with usage\n",
    "3. pay for value\n",
    "4. availability and fault tolerence\n"
   ]
  },
  {
   "cell_type": "markdown",
   "metadata": {},
   "source": [
    "https://www.repustate.com/banking-sentiment-analysis-and-text-analytics/#:~:text=Sentiment%20analysis%20consists%20of%20the,is%20positive%2C%20negative%20or%20neutral."
   ]
  }
 ],
 "metadata": {
  "kernelspec": {
   "display_name": "Python 3",
   "language": "python",
   "name": "python3"
  },
  "language_info": {
   "codemirror_mode": {
    "name": "ipython",
    "version": 3
   },
   "file_extension": ".py",
   "mimetype": "text/x-python",
   "name": "python",
   "nbconvert_exporter": "python",
   "pygments_lexer": "ipython3",
   "version": "3.8.3"
  }
 },
 "nbformat": 4,
 "nbformat_minor": 4
}

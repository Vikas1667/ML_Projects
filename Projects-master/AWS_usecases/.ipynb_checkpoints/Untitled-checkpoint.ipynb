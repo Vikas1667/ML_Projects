{
 "cells": [
  {
   "cell_type": "markdown",
   "metadata": {},
   "source": []
  },
  {
   "cell_type": "markdown",
   "metadata": {},
   "source": [
    "#### Amazon EC2 features\n",
    "https://aws.amazon.com/ec2/features/\n",
    "\n",
    "#### iFood Implements AI Area to Enhance Client and Restaurants Experience Using AWS\n",
    "#### Food & Beverage Data Set\n",
    "https://aws.amazon.com/marketplace/pp/prodview-swd4cmvolle2s#overview\n",
    "https://aws.amazon.com/solutions/case-studies/ifood/\n",
    "\n",
    "https://aws.amazon.com/travel-and-hospitality/restaurants/\n",
    "\n",
    "https://aws.amazon.com/blogs/industries/restaurants-are-hungry-for-data-insights-as-food-delivery-analytics-gains-traction/"
   ]
  },
  {
   "cell_type": "markdown",
   "metadata": {},
   "source": [
    "#### Available Deep Learning Containers Images\n",
    "https://github.com/aws/deep-learning-containers/blob/master/available_images.md\n",
    "\n",
    "##### Text Classification\n",
    "https://aws.amazon.com/blogs/machine-learning/how-kustomer-utilizes-custom-docker-images-amazon-sagemaker-to-build-a-text-classification-pipeline/?nc1=b_rp\n"
   ]
  },
  {
   "cell_type": "markdown",
   "metadata": {},
   "source": [
    "#### Genome Editing\n",
    "https://aws.amazon.com/blogs/storage/a-gene-editing-prediction-engine-with-iterative-learning-cycles-built-on-aws/?nc1=b_rp"
   ]
  },
  {
   "cell_type": "markdown",
   "metadata": {},
   "source": [
    "#### Hugging Face in AWS \n",
    "https://huggingface.co/docs/sagemaker/main\n",
    "\n",
    "### Deploy a Hugging Face Transformers Model from S3 to Amazon SageMaker\n",
    "https://www.youtube.com/watch?v=pfBGgSGnYLs\n"
   ]
  },
  {
   "cell_type": "code",
   "execution_count": null,
   "metadata": {},
   "outputs": [],
   "source": []
  }
 ],
 "metadata": {
  "kernelspec": {
   "display_name": "Python 3",
   "language": "python",
   "name": "python3"
  },
  "language_info": {
   "codemirror_mode": {
    "name": "ipython",
    "version": 3
   },
   "file_extension": ".py",
   "mimetype": "text/x-python",
   "name": "python",
   "nbconvert_exporter": "python",
   "pygments_lexer": "ipython3",
   "version": "3.8.5"
  }
 },
 "nbformat": 4,
 "nbformat_minor": 4
}

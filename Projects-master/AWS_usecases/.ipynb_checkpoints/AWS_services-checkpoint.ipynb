{
 "cells": [
  {
   "cell_type": "markdown",
   "metadata": {},
   "source": [
    "### AWS Lambda\n",
    "https://www.youtube.com/watch?v=EBSdyoO3goc\n",
    "\n",
    "4 guildine\n",
    "1. no server for provision and maintainence\n",
    "2. scale with usage\n",
    "3. pay for value\n",
    "4. availability and fault tolerence\n",
    "\n",
    "\n",
    "\n",
    "\n",
    "#### AWS Lambda\n",
    "\n",
    "AWS Lambda is a serverless computing service provided by Amazon Web Services (AWS). Users of AWS Lambda create functions, self-contained applications written in one of the supported languages and runtimes, and upload them to AWS Lambda, which executes those functions in an efficient and flexible manner clearly explained [official here](https://docs.aws.amazon.com/lambda/latest/dg/welcome.html) and also define [here](https://www.serverless.com/aws-lambda)   \n",
    "for python implementation mention [here](https://docs.aws.amazon.com/lambda/latest/dg/welcome.html)\n",
    "and [lambda handler](https://docs.aws.amazon.com/lambda/latest/dg/python-handler.html)\n",
    "\n",
    "\n",
    "##### Calling Sagemaker endpoint using AWS API gateway and Lambda\n",
    "The following diagram shows how the deployed model is called using serverless architecture. Starting from the client side, a client script calls an Amazon API Gateway API action and passes parameter values. API Gateway is a layer that provides the API to the client. In addition, it seals the backend so that AWS Lambda stays and runs in a protected private network. API Gateway passes the parameter values to the Lambda function. The Lambda function parses the value and sends it to the SageMaker model endpoint. The model performs the prediction and returns the predicted value to Lambda. The Lambda function parses the returned value and sends it back to API Gateway. \n",
    "API Gateway responds to the client with that value.\n",
    "\n",
    "[Calling Sagemaker endpoint using AWS API gateway and Lambda](https://aws.amazon.com/blogs/machine-learning/call-an-amazon-sagemaker-model-endpoint-using-amazon-api-gateway-and-aws-lambda/)\n",
    "\n",
    "![AWS serverless](./predictive_maintainence/images/serverless_architecture.jpg)\n",
    "\n",
    "\n",
    "\n",
    "##### Lambda function for processing input data\n",
    "\n",
    "Creae Batch transformer function \\\n",
    "https://docs.aws.amazon.com/sagemaker/latest/dg/batch-transform-data-processing.html\n",
    "\n",
    "[preprocessing using Lambda](https://docs.aws.amazon.com/kinesisanalytics/latest/dev/lambda-preprocessing.html)\n",
    "\n",
    "https://docs.aws.amazon.com/kinesisanalytics/latest/dev/lambda-preprocessing-functions.html\n"
   ]
  },
  {
   "cell_type": "code",
   "execution_count": null,
   "metadata": {},
   "outputs": [],
   "source": [
    "#### Amazon EC2 features\n",
    "https://aws.amazon.com/ec2/features/"
   ]
  },
  {
   "cell_type": "markdown",
   "metadata": {},
   "source": []
  }
 ],
 "metadata": {
  "kernelspec": {
   "display_name": "Python 3",
   "language": "python",
   "name": "python3"
  },
  "language_info": {
   "codemirror_mode": {
    "name": "ipython",
    "version": 3
   },
   "file_extension": ".py",
   "mimetype": "text/x-python",
   "name": "python",
   "nbconvert_exporter": "python",
   "pygments_lexer": "ipython3",
   "version": "3.8.5"
  }
 },
 "nbformat": 4,
 "nbformat_minor": 4
}

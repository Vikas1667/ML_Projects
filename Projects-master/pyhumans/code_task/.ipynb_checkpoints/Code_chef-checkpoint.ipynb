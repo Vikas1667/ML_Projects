{
 "cells": [
  {
   "cell_type": "code",
   "execution_count": null,
   "metadata": {},
   "outputs": [],
   "source": [
    "# Aashish is collecting the population data of the state of each town and city individually now he is required to analyse it and present it to his senior officer for that he wants to arrange it in a non descending order, help Aashish to do the same,\n",
    "\n",
    "# INPUT\n",
    "# First line contains a integer T I.e number of test cases\n",
    "# The first line of each test case contains an integer N denoting the size of the list (ie. The number of integers in the list ).\n",
    "# Second line contains N space separated integers\n",
    "# OUTPUT\n",
    "# Print the list in non descending order.\n",
    "# CONSTRAINTS\n",
    "# 0≤T≤106\n",
    "# N≤106\n",
    "# 0≤Ni≤106\n",
    "# SAMPLE INPUT\n",
    "# 4\n",
    "# 5\n",
    "# 1002 398 389738 98738 29\n",
    "# 3\n",
    "# 387 3498 3486\n",
    "# 6\n",
    "# 29837 3487 23930 2397 234876 4237592\n",
    "# 7\n",
    "# 237863 487346 43877634 87634 3487643 4876 65\n",
    "# SAMPLE OUTPUT\n",
    "# 29 398 1002 98738 389738\n",
    "\n",
    "# 387  3486 3498\n",
    "\n",
    "# 2397 3487 23930 29837 234876 4237592 \n",
    "\n",
    "# 65 4876 87634 237863 487346 3487643 43877634"
   ]
  },
  {
   "cell_type": "code",
   "execution_count": null,
   "metadata": {},
   "outputs": [],
   "source": []
  },
  {
   "cell_type": "code",
   "execution_count": null,
   "metadata": {},
   "outputs": [],
   "source": []
  },
  {
   "cell_type": "code",
   "execution_count": 10,
   "metadata": {},
   "outputs": [
    {
     "name": "stdout",
     "output_type": "stream",
     "text": [
      "3\n"
     ]
    }
   ],
   "source": [
    "# cook your dish here\n",
    "# 4\n",
    "# 5\n",
    "# 1002 398 389738 98738 29\n",
    "# 3\n",
    "# 387 3498 3486\n",
    "# 6\n",
    "# 29837 3487 23930 2397 234876 4237592\n",
    "# 7\n",
    "# 237863 487346 43877634 87634 3487643 4876 65\n",
    "\n",
    "### output \n",
    "\n",
    "# SAMPLE OUTPUT\n",
    "# 29 398 1002 98738 389738\n",
    "\n",
    "# 387  3486 3498\n",
    "\n",
    "# 2397 3487 23930 29837 234876 4237592 \n",
    "\n",
    "# 65 4876 87634 237863 487346 3487643 43877634"
   ]
  },
  {
   "cell_type": "code",
   "execution_count": 42,
   "metadata": {},
   "outputs": [
    {
     "name": "stdout",
     "output_type": "stream",
     "text": [
      "2 \n",
      "3 44 55\n",
      "66\n"
     ]
    }
   ],
   "source": [
    "### my solution\n",
    "n=int(input())\n",
    "for i in range(n):\n",
    "    p=list(map(int,input().split()))\n",
    "    p.sort()\n",
    "    "
   ]
  },
  {
   "cell_type": "code",
   "execution_count": 46,
   "metadata": {},
   "outputs": [
    {
     "name": "stdout",
     "output_type": "stream",
     "text": [
      "2\n",
      "3 \n",
      "1 2 3\n",
      "1 2 3 4 \n",
      "3\n",
      "3 "
     ]
    }
   ],
   "source": [
    "## solved solution\n",
    "for _ in range(int(input())):\n",
    "    n=int(input())\n",
    "    arr=list(map(int,input().split()))\n",
    "    arr.sort()\n",
    "    for i in arr:\n",
    "        print(i,end=\" \")\n",
    "    print()"
   ]
  },
  {
   "cell_type": "markdown",
   "metadata": {},
   "source": [
    "Total Expenses\n",
    "While purchasing certain items, a discount of 10% is offered if the quantity purchased is more than 1000. If the quantity and price per item are input, write a program to calculate the total expenses.\n",
    "\n",
    "####  INPUT\n",
    "The first line contains an integer T, Total number of test cases.\n",
    "Then follow T lines, each line contains two integers q and p.\n",
    "#### OUTPUT\n",
    "For each test case, output the total expenses while purchasing items, in a new line.\n",
    "#### CONSTRAINTS\n",
    "<br>1 ≤ T ≤ 1000 <br>\n",
    "<br>1 ≤ q,p ≤ 10^6<br>\n",
    "<br>SAMPLE INPUT<br>\n",
    "<br>3<br>\n",
    "<br>100 120<br>\n",
    "<br>10 20<br>\n",
    "<br>1200 20<br>\n",
    "<br>SAMPLE OUTPUT<br>\n",
    "<br>12000<br>\n",
    "<br>200<br>\n",
    "<br>21600<br>"
   ]
  },
  {
   "cell_type": "code",
   "execution_count": 48,
   "metadata": {},
   "outputs": [
    {
     "name": "stdout",
     "output_type": "stream",
     "text": [
      "2 \n",
      "344 1\n",
      "344\n",
      "2000 22\n",
      "39600\n"
     ]
    }
   ],
   "source": [
    "### solved Solutions\n",
    "t=int(input())\n",
    "for i in range(1,t+1):\n",
    "    q,p=map(int,input().split())\n",
    "    s=p*q\n",
    "    if q>1000:\n",
    "        print(int(s-(10/100)*s))\n",
    "    else:\n",
    "        print(s)"
   ]
  },
  {
   "cell_type": "code",
   "execution_count": null,
   "metadata": {},
   "outputs": [],
   "source": [
    "#### First and Last digit\n",
    "\n",
    "# For a given integer N . Write a program to obtain the sum of the first and last digits of this number.\n",
    "\n",
    "# INPUT:\n",
    "# The first line contains an integer T, the total number of test cases. Then follow T lines,\n",
    "# Each line contains an integer N.\n",
    "# OUTPUT:\n",
    "# For each test case, display the sum of first and last digits of N in a new line.\n",
    "# CONSTRAINTS:\n",
    "# 1≤T≤1000\n",
    "# 1≤N≤106\n",
    "# SAMPLE INPUT:\n",
    "# 3 \n",
    "# 1234\n",
    "# 124899\n",
    "# 242322\n",
    "# SAMPLE OUTPUT:\n",
    "# 5\n",
    "# 10\n",
    "# 4"
   ]
  },
  {
   "cell_type": "code",
   "execution_count": 50,
   "metadata": {},
   "outputs": [],
   "source": [
    "# Bheem’s Brother \n",
    "\n",
    "# Bheem is teaching his little brother about Vowels and consonants so for that he came up with an idea of to write consonants in capitalize manner for a given string so that his brother can easily identify them! you are required to write a program which capitalize the consonants in given string S and print them\n",
    "\n",
    "# INPUT\n",
    "# First line contains a single integerT i.e. number of test cases\n",
    "# Each input contains a single string S.\n",
    "# OUTPUT\n",
    "# Print the whole string with capitalize consonants\n",
    "# CONSTRAINTS\n",
    "# 0≤T≤1000\n",
    "# 0≤S≤1000\n",
    "# SAMPLE INPUT\n",
    "# speaker\n",
    "# keyboard\n",
    "# SAMPLE OUTPUT\n",
    "# SPeaKeR\n",
    "# KeYBoaRD"
   ]
  },
  {
   "cell_type": "code",
   "execution_count": null,
   "metadata": {},
   "outputs": [],
   "source": [
    "# solved \n",
    "for _ in range(int(input())):\n",
    "    string=input()\n",
    "    vow=['a','e','i','o','u']\n",
    "    ans=\"\"\n",
    "    for i in string:\n",
    "        if(i in vow):\n",
    "            ans+=i\n",
    "        else:\n",
    "            ans+=i.upper()\n",
    "\n",
    "    print(ans)"
   ]
  },
  {
   "cell_type": "code",
   "execution_count": null,
   "metadata": {},
   "outputs": [],
   "source": []
  },
  {
   "cell_type": "code",
   "execution_count": null,
   "metadata": {},
   "outputs": [],
   "source": [
    "# Birthday Party Problem Code: BP35\n",
    "\n",
    " \n",
    "# Adam went shopping for his son’s birthday party. He wants to buy the most expensive candles, balloons and cake under his budget. Print the amount left after buying all three things. If not possible to buy all the items, print -1.\n",
    "\n",
    "# Input:\n",
    "# The first line contains 4 space-separated integers a,x,y,z where a = budget.\n",
    "# The second line contains x space-separated integers , the price of each candle.\n",
    "# The third line contains y space-separated integers , the price of each balloon.\n",
    "# The fourth line contains z space-separated integers , the price of each cake.\n",
    "# Output:\n",
    "# The output will be a single integer.\n",
    "\n",
    "# Constraints\n",
    "# 1≤a≤105\n",
    "# 1≤x,y,z≤1000\n",
    "# The price of each each object is in the range [1, 10^6]\n",
    "# Sample Input:\n",
    "# 80 3 6 5\n",
    "# 16 12 33\n",
    "# 13 29 35 78 25 46\n",
    "# 44 52 40 13 8\n",
    "# Sample Output:\n",
    "# 3\n",
    "# EXPLANATION:\n",
    "# Adam would buy 12+25+40=77. So the amount left will be 80-77 = 3."
   ]
  },
  {
   "cell_type": "markdown",
   "metadata": {},
   "source": [
    "\t\n",
    "#### Fill the Bucket\n",
    "\n",
    "Chef has a bucket having a capacity of K liters. It is already filled with X liters of water.\n",
    "\n",
    "Find the maximum amount of extra water in liters that Chef can fill in the bucket without overflowing.\n",
    "\n",
    "Input Format\n",
    "The first line will contain T - the number of test cases. Then the test cases follow.\n",
    "The first and only line of each test case contains two space separated integers K and X - as mentioned in the problem.\n",
    "Output Format\n",
    "For each test case, output in a single line, the amount of extra water in liters that Chef can fill in the bucket without overflowing.\n",
    "\n",
    "Constraints\n",
    "1≤T≤100\n",
    "1≤X<K≤1000\n",
    "Sample Input 1 \n",
    "2\n",
    "5 4\n",
    "15 6\n",
    "Sample Output 1 \n",
    "1\n",
    "9\n",
    "Explanation\n",
    "Test Case 1: The capacity of the bucket is 5 liters but it is already filled with 4 liters of water. Adding 1 more liter of water to the bucket fills it to (4+1)=5 liters. If we try to fill more water, it will overflow.\n",
    "\n",
    "Test Case 2: The capacity of the bucket is 15 liters but it is already filled with 6 liters of water. Adding 9 more liters of water to the bucket fills it to (6+9)=15 liters. If we try to fill more water, it will overflow."
   ]
  },
  {
   "cell_type": "code",
   "execution_count": 2,
   "metadata": {},
   "outputs": [
    {
     "name": "stdout",
     "output_type": "stream",
     "text": [
      "1\n",
      "2 3\n",
      "1\n"
     ]
    }
   ],
   "source": [
    "#### solution\n",
    "# cook your dish here\n",
    "t=int(input())\n",
    "for i in range(t):\n",
    "    x,k=map(int,input().split())\n",
    "\n",
    "    print(abs(x-k))\n",
    "    "
   ]
  },
  {
   "cell_type": "code",
   "execution_count": null,
   "metadata": {},
   "outputs": [],
   "source": [
    "Tyre problem Problem Code: TYRE\n",
    "Add problem to Todo list\n",
    "Submit\n",
    "There are N bikes and M cars on the road.\n",
    "\n",
    "Each bike has 2 tyres.\n",
    "Each car has 4 tyres.\n",
    "Find the total number of tyres on the road.\n",
    "\n",
    "Input Format\n",
    "The first line will contain T - the number of test cases. Then the test cases follow.\n",
    "The first and only line of each test case contains two integers N,M.\n",
    "Output Format\n",
    "For each test case, output in a single line, the total number of tyres on the road.\n",
    "\n",
    "Constraints\n",
    "1≤T≤1000\n",
    "0≤N,M≤100\n",
    "Sample Input 1 \n",
    "2\n",
    "2 1\n",
    "3 0\n",
    "Sample Output 1 \n",
    "8\n",
    "6\n",
    "Explanation\n",
    "Test Case 1: There are 2 bikes and 1 car. Each bike has 2 tyres, so there are 2⋅2=4 bike tyres. Similarly, each car has 4 tyres, so there are 1⋅4=4 car tyres. Adding the tyres of all vehicles, we get 4+4=8 tyres in total.\n",
    "\n",
    "Test Case 2: There are 3 bikes and 0 cars. Each bike has 2 tyres, so there are 3⋅2=6 bike tyres. There are no cars, so there are 0⋅4=0 car tyres. Adding the tyres of all vehicles, we get 6+0=6 tyres in total.\n",
    "\n"
   ]
  },
  {
   "cell_type": "code",
   "execution_count": null,
   "metadata": {},
   "outputs": [],
   "source": [
    "# cook your dish here\n",
    "t=int(input())\n",
    "for i in range(t):\n",
    "    n,m=map(int,input().split())\n",
    "    print(n*2+m*4)"
   ]
  },
  {
   "cell_type": "markdown",
   "metadata": {},
   "source": [
    "Chef and Instant Noodles Problem Code: INSTNOODLE\n",
    "Add problem to Todo list\n",
    "Submit\n",
    "Chef has invented 1-minute Instant Noodles. As the name suggests, each packet takes exactly 1 minute to cook.\n",
    "\n",
    "Chef's restaurant has X stoves and only 1 packet can be cooked in a single pan.\n",
    "\n",
    "How many customers can Chef serve in Y minutes if each customer orders exactly 1 packet of noodles?\n",
    "\n",
    "Input Format\n",
    "The first and only line of input contains two space-separated integers X and Y — the number of stoves and the number of minutes, respectively.\n",
    "\n",
    "Output Format\n",
    "Print a single integer, the maximum number of customers Chef can serve in Y minutes\n",
    "Constraints\n",
    "1≤X,Y≤1000\n",
    "\n",
    "Sample Input 1 \n",
    "3 7\n",
    "\n",
    "Sample Output 1 \n",
    "21\n",
    "\n",
    "Explanation\n",
    "Chef cooks for Y=7 minutes and can cook X=3 packets per minute, one on each stove.\n",
    "\n",
    "So, the total number of packets that can be cooked is X⋅Y=3⋅7=21.\n",
    "\n",
    "Each person orders one packet, so the maximum number of customers that can be served is 21.\n",
    "\n",
    "Sample Input 2 \n",
    "7 8\n",
    "Sample Output 2 \n",
    "56\n",
    "\n",
    "Explanation\n",
    "Chef cooks for Y=8 minutes and can cook X=7 packets per minute, one on each stove.\n",
    "\n",
    "So, the total number of packets that can be cooked is X⋅Y=7⋅8=56.\n",
    "\n",
    "Each person orders one packet, so the maximum number of customers that can be served is 56."
   ]
  },
  {
   "cell_type": "code",
   "execution_count": 6,
   "metadata": {},
   "outputs": [
    {
     "name": "stdout",
     "output_type": "stream",
     "text": [
      "1 2\n",
      "2\n"
     ]
    }
   ],
   "source": [
    "n,m=map(int,input().split())\n",
    "print(n*m)"
   ]
  },
  {
   "cell_type": "markdown",
   "metadata": {},
   "source": [
    "## Battery Low \n",
    "\n",
    "Chef's phone shows a Battery Low notification if the battery level is 15% or less.\n",
    "\n",
    "Given that the battery level of Chef's phone is X%, determine whether it would show a Battery low notification.\n",
    "\n",
    "Input Format\n",
    "First line will contain T, number of test cases. Then the test cases follow.\n",
    "Each test case contains a single line of input, an integer X, denoting the battery level of the phone.\n",
    "Output Format\n",
    "For each test case, output in a single line Yes, if the battery level is 15% or below. Otherwise, print No.\n",
    "\n",
    "You may print each character of Yes and No in uppercase or lowercase (for example, YeS, YES, yes will be considered identical).\n",
    "\n",
    "Constraints\n",
    "1≤T≤100\n",
    "1≤X≤100\n",
    "Subtasks\n",
    "Subtask #1 (100 points): original constraints\n",
    "\n",
    "Sample Input 1 \n",
    "3\n",
    "15\n",
    "3\n",
    "65\n",
    "Sample Output 1 \n",
    "Yes\n",
    "Yes\n",
    "No\n",
    "Explanation\n",
    "Test Case 1: The battery level is 15. Thus, it would show a battery low notification.\n",
    "\n",
    "Test Case 2: The battery level is 3, which is less than 15. Thus, it would show a battery low notification.\n",
    "\n",
    "Test Case 3: The battery level is 65, which is greater than 15. Thus, it would not show a battery low notification."
   ]
  },
  {
   "cell_type": "code",
   "execution_count": 3,
   "metadata": {},
   "outputs": [
    {
     "name": "stdout",
     "output_type": "stream",
     "text": [
      "1\n",
      "2\n",
      "Yes\n"
     ]
    }
   ],
   "source": [
    "# cook your dish he\n",
    "Test=int(input())\n",
    "for i in range(Test):\n",
    "   X=int(input())\n",
    "   if X<=15:\n",
    "    print(\"Yes\")\n",
    "   else:\n",
    "    print(\"No\")"
   ]
  },
  {
   "cell_type": "markdown",
   "metadata": {},
   "source": [
    "### "
   ]
  }
 ],
 "metadata": {
  "kernelspec": {
   "display_name": "Python 3",
   "language": "python",
   "name": "python3"
  },
  "language_info": {
   "codemirror_mode": {
    "name": "ipython",
    "version": 3
   },
   "file_extension": ".py",
   "mimetype": "text/x-python",
   "name": "python",
   "nbconvert_exporter": "python",
   "pygments_lexer": "ipython3",
   "version": "3.8.5"
  }
 },
 "nbformat": 4,
 "nbformat_minor": 4
}

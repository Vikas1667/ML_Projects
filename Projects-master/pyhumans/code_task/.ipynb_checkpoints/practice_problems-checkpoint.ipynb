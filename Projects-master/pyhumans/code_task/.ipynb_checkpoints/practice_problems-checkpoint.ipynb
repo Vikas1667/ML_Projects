{
 "cells": [
  {
   "cell_type": "markdown",
   "metadata": {},
   "source": [
    "### Degree of array\n",
    "\n",
    "Problem Description\n",
    "Example 1 :\n",
    "\n",
    "Input: [1, 2, 2, 3, 1] Output: 2 Explanation: The input array has a degree of 2 because both elements 1 and 2 appear twice. Of the subarrays that have the same degree: [1, 2, 2, 3, 1], [1, 2, 2, 3], [2, 2, 3, 1], [1, 2, 2], [2, 2, 3], [2, 2] The shortest length is 2. So return 2.\n",
    "\n",
    "Example 2 :\n",
    "\n",
    "Input: [1,2,2,3,1,4,2] Output: 6\n",
    "\n",
    "Note :\n",
    "\n",
    "func findShortestSubArray(nums []i ....\n",
    "\n",
    "You can find the full details of the problem [Degree of an Array](https://leetcode.com/problems/degree-of-an-array/) at LeetCode\n",
    "\n",
    "\n"
   ]
  },
  {
   "cell_type": "code",
   "execution_count": 1,
   "metadata": {},
   "outputs": [],
   "source": [
    "# Time:  O(n)\n",
    "# Space: O(n)\n",
    "\n",
    "import collections\n",
    "\n",
    "\n",
    "class Solution(object):\n",
    "    def findShortestSubArray(self, nums):\n",
    "        \"\"\"\n",
    "        :type nums: List[int]\n",
    "        :rtype: int\n",
    "        \"\"\"\n",
    "        counts = collections.Counter(nums)\n",
    "        left, right = {}, {}\n",
    "        for i, num in enumerate(nums):\n",
    "            left.setdefault(num, i)\n",
    "            right[num] = i\n",
    "        degree = max(counts.values())\n",
    "        return min(right[num]-left[num]+1 \\\n",
    "                   for num in counts.keys() \\\n",
    "                   if counts[num] == degree)"
   ]
  },
  {
   "cell_type": "markdown",
   "metadata": {},
   "source": [
    "Calculate score of a string consisting of balanced parentheses\n",
    "Problem link (https://leetcode.com/problems/score-of-parentheses/)\n",
    "\n",
    "link of solution(https://www.geeksforgeeks.org/calculate-score-of-a-string-consisting-of-balanced-parentheses/)\n",
    "Input: str = “()()”\n",
    "Output: 2\n",
    "Explanation: There are are two individual pairs of balanced parenthesis “() ()”. Therefore, score = score of “()” + score of “()” = 1 + 1 = 2\n",
    "\n",
    "Input: str = “(())”\n",
    "Output: 2\n",
    "Explanation: Since the input is of the form “(x)”, the total score = 2 * score of “()” = 2 * 1 = 2"
   ]
  }
 ],
 "metadata": {
  "kernelspec": {
   "display_name": "Python 3",
   "language": "python",
   "name": "python3"
  },
  "language_info": {
   "codemirror_mode": {
    "name": "ipython",
    "version": 3
   },
   "file_extension": ".py",
   "mimetype": "text/x-python",
   "name": "python",
   "nbconvert_exporter": "python",
   "pygments_lexer": "ipython3",
   "version": "3.8.5"
  }
 },
 "nbformat": 4,
 "nbformat_minor": 4
}

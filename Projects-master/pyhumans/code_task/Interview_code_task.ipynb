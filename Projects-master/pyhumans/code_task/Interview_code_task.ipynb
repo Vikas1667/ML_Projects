{
 "cells": [
  {
   "cell_type": "markdown",
   "metadata": {},
   "source": [
    "### Reverse the string\n",
    "https://www.geeksforgeeks.org/reverse-string-python-5-different-ways/\n",
    "\n",
    "### Count frequencies of all elements in array in Python\n",
    "https://www.tutorialspoint.com/count-frequencies-of-all-elements-in-array-in-python\n",
    "\n",
    "### Sorting Algorithms\n",
    "https://realpython.com/sorting-algorithms-python/\n",
    "\n",
    "### Duplicates\n",
    "https://stackoverflow.com/questions/9835762/how-do-i-find-the-duplicates-in-a-list-and-create-another-list-with-them\n",
    "\n",
    "https://www.geeksforgeeks.org/python-program-print-duplicates-list-integers/\n",
    "\n",
    "\n",
    "### LSTM  \n",
    "https://jamesmccaffrey.wordpress.com/2018/04/18/implementing-an-lstm-cell-using-python/\n",
    "\n",
    "https://towardsdatascience.com/building-a-lstm-by-hand-on-pytorch-59c02a4ec091"
   ]
  },
  {
   "cell_type": "markdown",
   "metadata": {},
   "source": [
    "A fibonacci sequence is a series of whole numbers in which each number is the sum of the two preceding numbers. Here are the first 5 terms in the sequence: 0, 1, 1, 2, 3.\n",
    "Write a python function that uses recursion to return the Nth fibonacci number."
   ]
  },
  {
   "cell_type": "code",
   "execution_count": 89,
   "metadata": {},
   "outputs": [],
   "source": [
    "def fib(n):\n",
    "    if(n==0):\n",
    "        return 0\n",
    "    elif(n==1 or n==2):\n",
    "        return 1\n",
    "    else:\n",
    "        return fib(n-1)+ fib(n-2)\n",
    "    "
   ]
  },
  {
   "cell_type": "code",
   "execution_count": 92,
   "metadata": {},
   "outputs": [],
   "source": [
    "def Fibonacci(n):\n",
    "   \n",
    "    # Check if input is 0 then it will\n",
    "    # print incorrect input\n",
    "    if n < 0:\n",
    "        print(\"Incorrect input\")\n",
    " \n",
    "    # Check if n is 0\n",
    "    # then it will return 0\n",
    "    elif n == 0:\n",
    "        return 0\n",
    " \n",
    "    # Check if n is 1,2\n",
    "    # it will return 1\n",
    "    elif n == 1 or n == 2:\n",
    "        return 1\n",
    " \n",
    "    else:\n",
    "        return Fibonacci(n-1) + Fibonacci(n-2)\n",
    " "
   ]
  },
  {
   "cell_type": "code",
   "execution_count": 96,
   "metadata": {},
   "outputs": [],
   "source": [
    "# print(Fibonacci(90))"
   ]
  },
  {
   "cell_type": "code",
   "execution_count": 97,
   "metadata": {},
   "outputs": [],
   "source": [
    "def fib(n, computed = {0: 0, 1: 1}):\n",
    "    if n not in computed:\n",
    "        computed[n] = fib(n-1, computed) + fib(n-2, computed)\n",
    "    return computed[n]"
   ]
  },
  {
   "cell_type": "code",
   "execution_count": 98,
   "metadata": {},
   "outputs": [
    {
     "name": "stdout",
     "output_type": "stream",
     "text": [
      "12586269025\n"
     ]
    }
   ],
   "source": [
    "print(fib(50))"
   ]
  },
  {
   "cell_type": "code",
   "execution_count": null,
   "metadata": {},
   "outputs": [],
   "source": [
    "fib(5)-->fib(4)+fib(3)"
   ]
  },
  {
   "cell_type": "code",
   "execution_count": 32,
   "metadata": {},
   "outputs": [],
   "source": [
    "fib(4)--fib(3)+fib(2)\n",
    "fib(3)-->fib(2)+fib(1)\n",
    "fib(2)-->fib(1)+fib(0)\n"
   ]
  },
  {
   "cell_type": "code",
   "execution_count": null,
   "metadata": {},
   "outputs": [],
   "source": [
    "# Python program to display the Fibonacci sequence\n",
    "\n",
    "def recur_fibo(n):\n",
    "    if n <= 1:\n",
    "        return n\n",
    "    else:\n",
    "        return(recur_fibo(n-1) + recur_fibo(n-2))\n",
    "\n",
    "nterms = 10\n",
    "\n",
    "# check if the number of terms is valid\n",
    "if nterms <= 0:\n",
    "    print(\"Plese enter a positive integer\")\n",
    "else:\n",
    "    print(\"Fibonacci sequence:\")\n",
    "    for i in range(nterms):\n",
    "        print(recur_fibo(i))"
   ]
  },
  {
   "cell_type": "markdown",
   "metadata": {},
   "source": [
    "Warehouse Inventory log\n",
    "\n",
    "We have a warehouse with shipments coming in and going out. The shipments are recorded in a transaction log with the item-id and the corresponding quantity being brought in or shipped out. \n",
    "An example log is shown below:\n",
    "\n",
    "transaction_log = \"\"\"\n",
    "Item1   10  \n",
    "Item2 \t  1    \n",
    "Item1         -5          \n",
    "Item3     40        \n",
    "Item2    -1      \n",
    "\"\"\"\n",
    "\n",
    "What do you think should be the inventory for the above example ? \n",
    "\n",
    "Write a python function that prints a summary report on the warehouse*"
   ]
  },
  {
   "cell_type": "code",
   "execution_count": 35,
   "metadata": {},
   "outputs": [],
   "source": [
    "transaction_log = \"\"\"\n",
    "Item1   10  \n",
    "Item2 \t  1    \n",
    "Item1         -5          \n",
    "Item3     40        \n",
    "Item2    -1      \n",
    "\"\"\""
   ]
  },
  {
   "cell_type": "code",
   "execution_count": 79,
   "metadata": {},
   "outputs": [
    {
     "data": {
      "text/plain": [
       "['Item1', '10', 'Item2', '1', 'Item1', '-5', 'Item3', '40', 'Item2', '-1']"
      ]
     },
     "execution_count": 79,
     "metadata": {},
     "output_type": "execute_result"
    }
   ],
   "source": [
    "import re\n",
    "s=transaction_log.split()\n",
    "s\n",
    "l=transaction_log.splitlines()\n",
    "\n",
    "s"
   ]
  },
  {
   "cell_type": "code",
   "execution_count": 105,
   "metadata": {},
   "outputs": [
    {
     "data": {
      "text/plain": [
       "{'Item1': '-5', 'Item2': '-1', 'Item3': '40'}"
      ]
     },
     "execution_count": 105,
     "metadata": {},
     "output_type": "execute_result"
    }
   ],
   "source": [
    "a={s[i]:s[i+1] for i in range(0,len(l),2)}   \n",
    "\n",
    "it=iter(s)\n",
    "dict(zip(it,it))\n",
    "# res_dict=dict(zip(it,it))\n",
    "# res_dict\n",
    "a  \n"
   ]
  },
  {
   "cell_type": "code",
   "execution_count": 104,
   "metadata": {},
   "outputs": [
    {
     "data": {
      "text/plain": [
       "{'Item1': '-5', '10': 'Item2', 'Item2': '1', '1': 'Item1', '-5': 'Item3'}"
      ]
     },
     "execution_count": 104,
     "metadata": {},
     "output_type": "execute_result"
    }
   ],
   "source": [
    "a='wwwwaaadexxxxxx'\n",
    "# “w4a3d1e1x6”\n",
    "#  c=0\n",
    "\n",
    "aw=list(iter(a.split()))\n",
    "print(aw)\n"
   ]
  },
  {
   "cell_type": "code",
   "execution_count": 2,
   "metadata": {},
   "outputs": [],
   "source": [
    "n=[1,2,3]\n",
    "sq=[i*i for i in n]\n",
    "sq\n"
   ]
  },
  {
   "cell_type": "code",
   "execution_count": 6,
   "metadata": {},
   "outputs": [
    {
     "data": {
      "text/html": [
       "<div>\n",
       "<style scoped>\n",
       "    .dataframe tbody tr th:only-of-type {\n",
       "        vertical-align: middle;\n",
       "    }\n",
       "\n",
       "    .dataframe tbody tr th {\n",
       "        vertical-align: top;\n",
       "    }\n",
       "\n",
       "    .dataframe thead th {\n",
       "        text-align: right;\n",
       "    }\n",
       "</style>\n",
       "<table border=\"1\" class=\"dataframe\">\n",
       "  <thead>\n",
       "    <tr style=\"text-align: right;\">\n",
       "      <th></th>\n",
       "      <th>a</th>\n",
       "      <th>square</th>\n",
       "    </tr>\n",
       "  </thead>\n",
       "  <tbody>\n",
       "    <tr>\n",
       "      <th>0</th>\n",
       "      <td>1</td>\n",
       "      <td>1</td>\n",
       "    </tr>\n",
       "    <tr>\n",
       "      <th>1</th>\n",
       "      <td>2</td>\n",
       "      <td>4</td>\n",
       "    </tr>\n",
       "    <tr>\n",
       "      <th>2</th>\n",
       "      <td>3</td>\n",
       "      <td>9</td>\n",
       "    </tr>\n",
       "  </tbody>\n",
       "</table>\n",
       "</div>"
      ],
      "text/plain": [
       "   a  square\n",
       "0  1       1\n",
       "1  2       4\n",
       "2  3       9"
      ]
     },
     "execution_count": 6,
     "metadata": {},
     "output_type": "execute_result"
    }
   ],
   "source": [
    "import pandas as pd\n",
    "pd.DataFrame({'a':n,'square':sq})"
   ]
  },
  {
   "cell_type": "code",
   "execution_count": 2,
   "metadata": {},
   "outputs": [],
   "source": [
    "import numpy as np\n",
    "A = np.random.randn(4,3)\n",
    "B = np.sum(A, axis = 1, keepdims = True)\n",
    "A\n",
    "# B"
   ]
  },
  {
   "cell_type": "markdown",
   "metadata": {},
   "source": [
    "#### Reverse the string"
   ]
  },
  {
   "cell_type": "code",
   "execution_count": 1,
   "metadata": {},
   "outputs": [
    {
     "name": "stdout",
     "output_type": "stream",
     "text": [
      "V\n",
      "iV\n",
      "kiV\n",
      "akiV\n",
      "sakiV\n"
     ]
    },
    {
     "data": {
      "text/plain": [
       "'ikas'"
      ]
     },
     "execution_count": 1,
     "metadata": {},
     "output_type": "execute_result"
    }
   ],
   "source": [
    "def reverse(s): \n",
    "    str = \"\" \n",
    "    for i in s: \n",
    "        str = i + str\n",
    "        print(str)\n",
    "    return str\n",
    "def rreverse(s):\n",
    "    if s == \"\":\n",
    "        return s\n",
    "    else:\n",
    "        return rreverse(s[1:]) + s[0]\n",
    "    \n",
    "def reverse_rec(s):\n",
    "    if len(s)==0:\n",
    "        return s\n",
    "    else:\n",
    "        return reverse_rec(s[1:])+s[0]\n",
    "\n",
    "Name='Vikas'\n",
    "# stack_rev(Name)\n",
    "reverse(Name)\n",
    "Name[1:]\n",
    "reverse_rec(Name)\n",
    "\n",
    "name='VIkas'\n",
    "name_list=list(name)\n"
   ]
  },
  {
   "cell_type": "code",
   "execution_count": null,
   "metadata": {},
   "outputs": [],
   "source": []
  },
  {
   "cell_type": "code",
   "execution_count": null,
   "metadata": {},
   "outputs": [],
   "source": []
  },
  {
   "cell_type": "code",
   "execution_count": null,
   "metadata": {},
   "outputs": [],
   "source": []
  },
  {
   "cell_type": "code",
   "execution_count": null,
   "metadata": {},
   "outputs": [],
   "source": []
  }
 ],
 "metadata": {
  "kernelspec": {
   "display_name": "Python 3",
   "language": "python",
   "name": "python3"
  },
  "language_info": {
   "codemirror_mode": {
    "name": "ipython",
    "version": 3
   },
   "file_extension": ".py",
   "mimetype": "text/x-python",
   "name": "python",
   "nbconvert_exporter": "python",
   "pygments_lexer": "ipython3",
   "version": "3.8.5"
  }
 },
 "nbformat": 4,
 "nbformat_minor": 4
}
